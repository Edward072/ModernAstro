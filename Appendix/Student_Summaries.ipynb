{
 "cells": [
  {
   "attachments": {},
   "cell_type": "markdown",
   "metadata": {},
   "source": [
    "# Student Participation (Spring 2024)\n",
    "Students will work in pairs to produce summaries of each class meeting.  These summaries should list the main topics discussed and emphasized ideas/examples during the respective lecture.  Students are encouraged to be as detailed as possible without being overly verbose.  The summaries should be submitted as a [pull request](https://docs.github.com/en/codespaces/the-githubdev-web-based-editor) from **your forked repository** before the next class meeting.\n"
   ]
  },
  {
   "attachments": {},
   "cell_type": "markdown",
   "metadata": {},
   "source": [
    "## Jan 8\n",
    "\n",
    "## Class Overview \n",
    "  - This class uses the first half of An **Introduction to Modern Astrophysics** by Carroll & Ostlie (2007)\n",
    "    - *Cosmology covers the latter half*\n",
    "\n",
    "  - Class calender shows all expected exams and assighments due, and can be found here.\n",
    "    - [Course Schedule](https://calendar.google.com/calendar/u/0?cid=ZDQ4ZDMxZGYxYmVjNTY5YzZiOWQ0OWFkN2Y1NmZmZTFiMDQ4MzUyMzYzOGQ2MmQ2MWQwMWI0YzI5NzEyYTY2NEBncm91cC5jYWxlbmRhci5nb29nbGUuY29t)\n",
    "  \n",
    "**Syllabus**\n",
    "\n",
    "- Course includes  **2 presentations** and **3 exams**.\n",
    "- follows this grading split\n",
    "  - Relative Weights\n",
    "    - Teaching Pres. 10%\n",
    "    - Review Pres. 20%\n",
    "    - Exams 15% (each)\n",
    "    - Participation 10%\n",
    "    - Homework 15%\n",
    "\n",
    "\n",
    "- Exams\n",
    "  - **Two closed-book exams and one take-home**\n",
    "  - exams will be a mixture of multiple choice and free repsonse questions\n",
    "    - should resemble some homework questions\n",
    "\n",
    "- Course Presentations\n",
    "    1. requires the student to teach a data analysis or modeling skill\n",
    "using an open-source python package to the instructor and other students.\n",
    "  - uses Astropy \n",
    "  - **10 minutes long**\n",
    "    2. Pairs of students will also present a full review of a topic within astrophysics.\n",
    "  -  **20 minutes long** with a **5 min** period for questions.\n",
    "\n",
    "- Grading Scale\n",
    "  - A 88 -- 100%\n",
    "  - B 77 -- 87%\n",
    "  - C 66 -- 76%\n",
    "  - D 55 -- 65%\n",
    "  - F <54%\n",
    "\n",
    "- Office hours\n",
    "  - 11am – 12 pm, MWF,\n",
    "  - 10:00 – 11:00am TR,\n",
    "\n",
    "**Course website**\n",
    "- all the course website can be viewed in the **code version** of the website \n",
    "  - useful for seeing how billy took certain notes \n",
    "\n",
    "---\n",
    "**GitHub accounts**\n",
    "\n",
    "- to have a personal version of the raw version of the notes, you must **fork** the orignal repository\n",
    "  - https://github.com/saturnaxis/ModernAstro\n",
    "\n",
    "- to submit notes\n",
    "  1. in word or collab, write the notes\n",
    "  2. in the **forked** repository go to the **appendix** file and open the **Student_Summaries.ipynb** file\n",
    "  3. click the pencil icon to edit the file in **github.dev**  \n",
    "  4. then copy your written notes into the github.dev version of the code\n",
    "  5. If you didnt write your notes in collab, you can instead write the notes in the github.dev version of the notes\n",
    "  6. Once you are done writing the notes, click the **Source Control** icon to commit & push the updated version of code to youre forked repository \n",
    "  8. Look to see if the notes look correct, if they do, submit a **pull request** to get it added to main repository\n",
    "  9. Billy will get an email and push the request if the notes looks passable\n",
    "  10. Done\n",
    "\n",
    "- *tip when wirting notes collaborative*\n",
    "  - *it is much easier to have one google collab and then share it with the person you are paired to, rather than using word or anything else*"
   ]
  },
  {
   "attachments": {},
   "cell_type": "markdown",
   "metadata": {},
   "source": [
    "## Jan 10 \n",
    "### Continuous Spectrum of Light Part I\n",
    "\n",
    "- **1.1 Stellar Parallax** \n",
    "\n",
    "    - **Trigonometric parallax**: measurement of angular displacement of an object from two different vantage points creating a known baseline distance $B$ between observers. $d = B/tan(p)$. $tan(p)$ comes from small angle approximations, so we can use $p\"$ (\" standing for arcseconds) for angle values smaller than $1$ arcsecond.\n",
    "\n",
    "- **1.2 The Magnitude Scale** \n",
    "    - **1.2.1 Apparent Magnitude**\n",
    "\n",
    "\n",
    "\n",
    "    - **1.2.2 Flus, Luminosity, and the Inverse Square Law** \n",
    "\n",
    "\n",
    "    - **1.2.3 Flux Ratios and Apparent Magnitude** \n",
    "\n",
    "    - **1.2.4 Absolute Magnitude and the Distance Modulus** \n",
    "\n",
    "- **1.3 The Wave Nature of Light**\n",
    "\n",
    "    - **1.3.1 The Speed of Light**\n",
    "\n",
    "    - **1.3.2 Young's Double-Slit Experiment**\n",
    "\n",
    "    - **1.3.3 Maxwell's Electromagnetic Wave Theory**\n",
    "\n",
    "    - **1.3.4 The Poynting Vector and Radiation Pressure**"
   ]
  },
  {
   "cell_type": "markdown",
   "metadata": {},
   "source": [
    "## Jan 15 (MLK Day)\n",
    "### No Class"
   ]
  },
  {
   "cell_type": "markdown",
   "metadata": {},
   "source": [
    "## Jan 17\n",
    "### Continuous Spectrum of Light Part II"
   ]
  },
  {
   "cell_type": "markdown",
   "metadata": {},
   "source": [
    "## Jan 22\n",
    "### Interaction of Matter and Light Part I"
   ]
  },
  {
   "cell_type": "markdown",
   "metadata": {},
   "source": [
    "## Jan 24\n",
    "### Interaction of Matter and Light Part II"
   ]
  },
  {
   "cell_type": "markdown",
   "metadata": {},
   "source": [
    "## Jan 29\n",
    "### Telescopes Part I"
   ]
  },
  {
   "cell_type": "markdown",
   "metadata": {},
   "source": [
    "## Jan 31\n",
    "### Telescopes Part II"
   ]
  },
  {
   "cell_type": "markdown",
   "metadata": {},
   "source": [
    "## Feb 5\n",
    "### Classification of Stellar Spectra Part I"
   ]
  },
  {
   "cell_type": "markdown",
   "metadata": {},
   "source": [
    "## Feb 7\n",
    "### Classification of Stellar Spectra Part II"
   ]
  },
  {
   "cell_type": "markdown",
   "metadata": {},
   "source": [
    "## Feb 12 (Exam I)\n",
    "### Exam I"
   ]
  },
  {
   "cell_type": "markdown",
   "metadata": {},
   "source": [
    "## Feb 14\n",
    "### Stellar Atmospheres Part I"
   ]
  },
  {
   "cell_type": "markdown",
   "metadata": {},
   "source": [
    "## Feb 19\n",
    "### Stellar Atmospheres Part II"
   ]
  },
  {
   "cell_type": "markdown",
   "metadata": {},
   "source": [
    "## Feb 21\n",
    "### Stellar Atmospheres Part III"
   ]
  },
  {
   "cell_type": "markdown",
   "metadata": {},
   "source": [
    "## Feb 26 \n",
    "### The Sun Part I"
   ]
  },
  {
   "cell_type": "markdown",
   "metadata": {},
   "source": [
    "## Feb 28 \n",
    "### The Sun Part II"
   ]
  },
  {
   "cell_type": "markdown",
   "metadata": {},
   "source": [
    "## Mar 4\n",
    "### The Interiors of Stars Part I\n",
    "### Teaching Presentations"
   ]
  },
  {
   "cell_type": "markdown",
   "metadata": {},
   "source": [
    "## Mar 6\n",
    "### The Interiors of Stars Part II\n",
    "### Teaching Presentations"
   ]
  },
  {
   "cell_type": "markdown",
   "metadata": {},
   "source": [
    "## Mar 11 \\& 13 (Spring Break)\n",
    "### No Class"
   ]
  },
  {
   "cell_type": "markdown",
   "metadata": {},
   "source": [
    "## Mar 18\n",
    "### The Interiors of Stars Part III\n",
    "### Teaching Presentations"
   ]
  },
  {
   "cell_type": "markdown",
   "metadata": {},
   "source": [
    "## Mar 20\n",
    "### The Interiors of Stars Part IV\n",
    "### Teaching Presentations"
   ]
  },
  {
   "cell_type": "markdown",
   "metadata": {},
   "source": [
    "## Mar 25 \n",
    "### The Interstellar Medium and Star Formation Part I"
   ]
  },
  {
   "cell_type": "markdown",
   "metadata": {},
   "source": [
    "## Mar 27 (Exam II take-home)\n",
    "### The Interstellar Medium and Star Formation Part II"
   ]
  },
  {
   "cell_type": "markdown",
   "metadata": {},
   "source": [
    "## Apr 1\n",
    "### Main-Sequence and Post-Main-Sequence Stellar Evolution Part I"
   ]
  },
  {
   "cell_type": "markdown",
   "metadata": {},
   "source": [
    "## Apr 3\n",
    "### Main-Sequence and Post-Main-Sequence Stellar Evolution Part II"
   ]
  },
  {
   "cell_type": "markdown",
   "metadata": {},
   "source": [
    "## Apr 8\n",
    "### Stellar Pulsation "
   ]
  },
  {
   "cell_type": "markdown",
   "metadata": {},
   "source": [
    "## Apr 10\n",
    "### The Fate of Massive Stars Part I "
   ]
  },
  {
   "cell_type": "markdown",
   "metadata": {},
   "source": [
    "## Apr 15\n",
    "### The Fate of Massive Stars Part II"
   ]
  },
  {
   "cell_type": "markdown",
   "metadata": {},
   "source": [
    "## Apr 17\n",
    "### The Degenerate Remnants of Stars Part I"
   ]
  },
  {
   "cell_type": "markdown",
   "metadata": {},
   "source": [
    "## Apr 22\n",
    "### The Degenerate Remnants of Stars Part II"
   ]
  },
  {
   "cell_type": "markdown",
   "metadata": {},
   "source": [
    "## Apr 24\n",
    "### Review Paper Presentations"
   ]
  },
  {
   "cell_type": "markdown",
   "metadata": {},
   "source": [
    "## Apr 29\n",
    "### Review Paper Presentations"
   ]
  },
  {
   "cell_type": "markdown",
   "metadata": {},
   "source": [
    "## May 2 (Final Exam)\n",
    "### Final Exam (2:45 pm – 4:45 pm)"
   ]
  }
 ],
 "metadata": {
  "kernelspec": {
   "display_name": "base",
   "language": "python",
   "name": "python3"
  },
  "language_info": {
   "codemirror_mode": {
    "name": "ipython",
    "version": 3
   },
   "file_extension": ".py",
   "mimetype": "text/x-python",
   "name": "python",
   "nbconvert_exporter": "python",
   "pygments_lexer": "ipython3",
   "version": "3.8.8"
  },
  "orig_nbformat": 4,
  "vscode": {
   "interpreter": {
    "hash": "b46b6cd7437fccd56f9d889ab8b597852de90099948480230438ac6eaaa10679"
   }
  }
 },
 "nbformat": 4,
 "nbformat_minor": 2
}
