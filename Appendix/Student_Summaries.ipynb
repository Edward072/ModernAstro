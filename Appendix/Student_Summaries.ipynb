{
 "cells": [
  {
   "attachments": {},
   "cell_type": "markdown",
   "metadata": {},
   "source": [
    "# Student Participation (Spring 2024)\n",
    "Students will work in pairs to produce summaries of each class meeting.  These summaries should list the main topics discussed and emphasized ideas/examples during the respective lecture.  Students are encouraged to be as detailed as possible without being overly verbose.  The summaries should be submitted as a [pull request](https://docs.github.com/en/codespaces/the-githubdev-web-based-editor) from **your forked repository** before the next class meeting.\n"
   ]
  },
  {
   "attachments": {},
   "cell_type": "markdown",
   "metadata": {},
   "source": [
    "## Jan 8\n",
    "### Class Overview\n",
    "- **Introductions**\n",
    "  - Add detail using bullets\n",
    "- **Syllabus**\n",
    "\n",
    "- **Course website**\n",
    "\n",
    "- **GitHub accounts**\n",
    "\n"
   ]
  },
  {
   "attachments": {},
   "cell_type": "markdown",
   "metadata": {},
   "source": [
    "## Jan 10 \n",
    "### Continuous Spectrum of Light Part I\n",
    "\n",
    "- **1.1 Stellar Parallax** \n",
    "\n",
    "    - Add detail using bullets\n",
    "\n",
    "\n",
    "- **1.2 The Magnitude Scale** \n",
    "    - **1.2.1 Apparent Magnitude**\n",
    "\n",
    "\n",
    "\n",
    "    - **1.2.2 Flus, Luminosity, and the Inverse Square Law** \n",
    "\n",
    "\n",
    "    - **1.2.3 Flux Ratios and Apparent Magnitude** \n",
    "\n",
    "    - **1.2.4 Absolute Magnitude and the Distance Modulus** \n",
    "\n",
    "- **1.3 The Wave Nature of Light**\n",
    "\n",
    "    - **1.3.1 The Speed of Light**\n",
    "\n",
    "    - **1.3.2 Young's Double-Slit Experiment**\n",
    "\n",
    "    - **1.3.3 Maxwell's Electromagnetic Wave Theory**\n",
    "\n",
    "    - **1.3.4 The Poynting Vector and Radiation Pressure**"
   ]
  },
  {
   "cell_type": "markdown",
   "metadata": {},
   "source": [
    "## Jan 15 (MLK Day)\n",
    "### No Class"
   ]
  },
  {
   "cell_type": "markdown",
   "metadata": {},
   "source": [
    "## Jan 17\n",
    "### Continuous Spectrum of Light Part II"
   ]
  },
  {
   "cell_type": "markdown",
   "metadata": {},
   "source": [
    "## Jan 22\n",
    "### Interaction of Matter and Light Part I"
   ]
  },
  {
   "cell_type": "markdown",
   "metadata": {},
   "source": [
    "## Jan 24\n",
    "### Interaction of Matter and Light Part II"
   ]
  },
  {
   "cell_type": "markdown",
   "metadata": {},
   "source": [
    "## Jan 29\n",
    "### Telescopes Part I\n",
    "\n",
    "\n",
    "# Telescopes\n",
    "\n",
    "## 3.1 Basic Optics\n",
    "### 3.1.1 Refraction and Reflection\n",
    "\n",
    "First telescope developed by Hans Lippershey in 1608 and Gallileo Gallilei was first to use one for astronomical viewing in 1609. In 1671, Isaax Newton make reflecting telescope which helps remove chromatic aberration common with lenses.\n",
    "\n",
    "Two types are reflecting and refracting.\n",
    "\n",
    "\n",
    "**Reflecting Telescope** uses a mirror to reflect light.\n",
    "\n",
    "**Refracting Telescope** uses lens to refract light.\n",
    "\n",
    "Both of these methods bend light to form an image.\n",
    "\n",
    "Refraction works by Snell's law described by\n",
    "\n",
    "$$n_1\\sin\\theta_1 = n_2\\sin\\theta_2$$\n",
    "\n",
    "where $n_1,\\theta_1$ are the refractive index for the first material and $n_2,\\theta_2$ are for the second material.\n",
    "\n",
    "The index of refraction is both material dependent and wavelength dependent by $n_{\\lambda} = c/v_{\\lambda} $, where $v_{\\lambda} $ is the speed of light in that medium. The frequency of the wave remains unchanged.\n",
    "\n",
    "The lenses for refracting telescopes are formed from glass and are either converging or diverging.\n",
    "\n",
    "**Converging lenses** focus the light to a certain point on the optical axis known as the **Focal Point** and the length from the lens to this point is called the **Focal length.**\n",
    "\n",
    "**Diverging Lenses** diverge the light away from the optical axis, thus the focal point is on the same side of the lens as the light. (Negative focal length vs positive for converging).\n",
    "\n",
    "**The Lens Maker's Formula** gives the formula for finding the focal length of a lens by:\n",
    "$$f_{\\lambda} = \\frac{1}{n_{\\lambda}-1}\\frac{R_1R_2}{R_1+R_2}$$\n",
    "\n",
    "### 3.1.2 Focal Plane\n",
    "\n",
    "To record an image, a detector must be placed on the **Focal Plane** of the telescope (plane passing through focal point). On axis point sources of light will converge on the focal point while other sources will focus approiximately on a distance y above the axis by:\n",
    "\n",
    "$$ y = f\\tan\\theta$$\n",
    "$$ y \\approx f\\theta $$\n",
    "\n",
    "This leads to plate scale $ \\frac{d\\theta}{dy} = \\frac{1}{f} $ which connects angular separation of objects in sky by their linear separation in the images.\n",
    "\n",
    "### 3.1.3 Resolution and the Rayleigh Criterion\n",
    "\n",
    "There is a fundamental limit to our ability to resolve two objects due to the defraction of the light. This is related to the single slit diffraction pattern produced by light passing through a slit of width *D*.\n",
    "\n",
    "Any ray passing through an aperature (opening) can be though of as being associated with another ray separated by a distance D/2 and arriving at the same point. If they are half wavelength out of phase then destructive interferrence will occur which leads to\n",
    "\n",
    "$$D\\sin\\theta = m\\lambda$$\n",
    "\n",
    "where $m=1,2,3...$ for the dark fringes due to destructive interferrence. This produces a series of concentric fringes known as the **Airy Disk.**\n",
    "\n",
    "Now, two sources that are clsoe together will have diffrwaction fringes that overlap making it impossible to resolve. Considered unresolvable if max of one falls within minimum of the other. This is known as the **Rayleigh Criterion.** Assumign angular separation is small, we get\n",
    "\n",
    "$$\\theta_{min} = 1.22\\frac{\\lambda}{D}$$\n",
    "\n",
    "for a circular apperature of a telescope with diameter D observing a wavelength of $\\lambda$.\n",
    "\n",
    "Ground based telescopes rarely approach this due to atmospheric turbulence.\n",
    "\n",
    "### 3.1.4 Aberrations\n",
    "\n",
    "Refracting telescopes suffere chromatic aberrations due to the wavelength dependent diffraction, which causes color fringing.\n",
    "\n",
    "Aberrations can be caused by shape imperfetions of the lens or mirror as well. This is called spherical aberration.\n",
    "\n",
    "Coma produces elongated images fo point sources.\n",
    "\n",
    "Astigamatism caused when different parts of mirror or lens converge at different focal points. Fixing this can cause other problems such as a cruvature field.\n",
    "\n",
    "### 3.1.5 Image Brightness\n",
    "\n",
    "Determined by intensity of the collected light (number of light rays going into aperature).\n",
    "\n",
    "Also determined by the focal ratio of the telescope (how many light rays being imaged after they are spread apart by the aperature). This is given by\n",
    "\n",
    "$$ F = f/D $$\n",
    "\n",
    "Illumination determines time needed to collect enough light to form image.\n",
    "\n",
    "## 3.2 Optical telescopes\n",
    "### 3.2.1 Refracting Telescopes\n",
    "\n",
    "Use two lenes with two focal lengths ($f_{obj}$ for objective lens and $f_{eye}$ for eye piece lens). The **angular magnification** of the image for a refacting telescope can be determined using their ratio\n",
    "\n",
    "$$ m = \\frac{f_{obj}}{f_{eye}} $$\n",
    "\n",
    "Defects in the shape of the lens must be small, on the order of $\\approx \\lambda/20$ .\n",
    "\n",
    "### 3.2.2 Reflecting Telescope\n",
    "Replaces objective lens with a mirror that reflects the light into the eye piece instead of refracting. Requires much less precision since the light doesn't pass through the lens. A large mirror collects the light at the bottom while a secondary mirror near the top or middle focuses the light into the eye piece.\n",
    "\n",
    "**Newtonian Telescopes** have eyepice or detector far above the center of mass of the telescope which causes problems mechanically due to the torque.\n",
    "\n",
    "**Cassegrain** Since the secondary mirror blocks a point near the center of the objective mirror, a hole can be put here where the secondary mirror can refelct light into eyepice in the bottom of the etelscope.\n",
    "\n",
    "**Ritchey-Chretien** uses hyperbolic mirror instead of parabolic which gives a larger field of view and also elimnates off axis optical errors.\n",
    "\n",
    "If instruments are too large, a series of mirrors reflect the light to a **Coude room** where they can be processed out of the way.\n",
    "\n",
    "**Shmidt-Cassegrain** uses a spheroidal primary mirror and corrective lenses to reduce aberrations and also has a wider field of view.\n",
    "\n",
    "### 3.2.3 Adaptive Optics\n",
    "\n",
    "Use of rubber mirrors that can be moved to adapt and correct to the changing shape of wavefronts of light due to the atmosphere. To do this, monitors guide star that is near the object to guage the change in the atmosphere.\n",
    "\n",
    "### 3.2.4 Space-Based Observatories\n",
    "\n",
    "Telescopes placed in space to remove the effects of the atmosphere. These are much more precise than ground based but are much more expensive to make.\n",
    "\n",
    "### 3.2.5 Electronic Detectors\n",
    "\n",
    "Photographic plates were used first by astronomers to save images from telescopes.\n",
    "\n",
    "Once CCD (chareg coupled device) were invented they dominated telescope imaging as they are nuch more efficient and can collect almost 100 percent of incident light. They work by collecting the electrons that are excieted due to a photon striking them into a collector and detecting them. Number of electrons collected in each pixel determines the brightness of the image.\n",
    "\n",
    "Very bright objects require quick shudders to prevent pixels from saturating (electron collectors are full and thus cannot measure the image accurately anymore since there is little differences inbetween pixels.)\n"
   ]
  },
  {
   "cell_type": "markdown",
   "metadata": {},
   "source": [
    "## Jan 31\n",
    "### Telescopes Part II"
   ]
  },
  {
   "cell_type": "markdown",
   "metadata": {},
   "source": [
    "## Feb 5\n",
    "### Classification of Stellar Spectra Part I"
   ]
  },
  {
   "cell_type": "markdown",
   "metadata": {},
   "source": [
    "## Feb 7\n",
    "### Classification of Stellar Spectra Part II\n",
    "\n",
    "*   4.1.6 Application to the Sun\n",
    "    *   Sun's surface is a thin layer of it's atmosphere called the photosphere witha temperature $T = 5777K$.\n",
    "        *   Electron pressure of about $1.5 N/m^2$\n",
    "        *   Contains 500,000 hydrogen atoms for each Calcium atom.\n",
    "        *   One Ionized hydrogen per 13,000 neutral hydrogen.\n",
    "        *   One out of every 200 million hydrogen atoms is in the first excieted state.\n",
    "    *   Calcium ionization energy is around 6.11 eV (half that of hydrgoen).\n",
    "        *   Practically all of the Calcium atoms are ionized.\n",
    "        *   around 900 Ca II atoms to every Ca I. \n",
    "        *   First excieted state is 3.12 eV above the ground state with degeneracies of 2 and 4.\n",
    "        *   Out of 265 Ca II atoms, only one of them in the ground state which produces the CA II K line.\n",
    "        *   Difference in strengths between Ca II H and K lines are due to the abundance of the atoms of calcium capable of producing the required absorption lines.\n",
    "4.2 The Hertzsprung-Russell Diagram \n",
    "*   In early 20th century people believed the Sun was made up of the same composition as the Earth. \n",
    "    *   Study of binary stars uncovered a relation between the mass and luminosity of stars.\n",
    "    *   \n",
    "* 4.2.1 Enormous Range in Stellar Radii\n",
    "    *   Ejnar Hertzsprung tabulated stars with absolute magnitudes and spectral types acurately determined.\n",
    "    *   Showed a range of magnitudes with the same spectral type.\n",
    "    *   Using Stefan-Boltzmann law, the radii found by:using the expected magnitude from the H-R diagram. Called Spectroscopic parallax.\n",
    "        *   $\\frac{R}{R_{\\odot}} = (\\frac{T_{\\odot}}{T_e})^2\\sqrt{\\frac{L}{L_{\\odot}}}$\n",
    "        *   If two stars have the same temperature then the more luminous one must be larger.\n",
    "    *   Henry Russell found the saem relationship using the term giants for birghter stars and dwarf for dim ones.\n",
    "    *   H-R diagram derived from this. Most stars sit on a diagonal known as main sequence.\n",
    "        *   Hotter but small called white dwarfs.\n",
    "        *   Cooler but larger called red giants.\n",
    "    *   Our sun is a G2 and is on the main sequence.\n",
    "* 4.2.2 Morgan-Keenan Luminosity Classes\n",
    "    *   Found that there are subtle difference in the strengths of spectral lines for stars of similar temperatures and different luminosities.\n",
    "        *   Given luminosity class by Roman numerals. \n",
    "        *   Supergiants have Roman Numeral \"I\"\n",
    "        *   Main sequence have Roman numeral \"V\"\n",
    "        *   White dwarfs are not classified by this system and are given class \"D\"\n",
    "        *   Using this system, distance to star can be found "
   ]
  },
  {
   "cell_type": "markdown",
   "metadata": {},
   "source": [
    "## Feb 12 (Exam I)\n",
    "### Exam I"
   ]
  },
  {
   "cell_type": "markdown",
   "metadata": {},
   "source": [
    "## Feb 14\n",
    "### Stellar Atmospheres Part I"
   ]
  },
  {
   "cell_type": "markdown",
   "metadata": {},
   "source": [
    "## Feb 19\n",
    "### Stellar Atmospheres Part II"
   ]
  },
  {
   "cell_type": "markdown",
   "metadata": {},
   "source": [
    "## Feb 21\n",
    "### Stellar Atmospheres Part III"
   ]
  },
  {
   "cell_type": "markdown",
   "metadata": {},
   "source": [
    "## Feb 26 \n",
    "### The Sun Part I"
   ]
  },
  {
   "cell_type": "markdown",
   "metadata": {},
   "source": [
    "## Feb 28 \n",
    "### The Sun Part II"
   ]
  },
  {
   "cell_type": "markdown",
   "metadata": {},
   "source": [
    "## Mar 4\n",
    "### The Interiors of Stars Part I\n",
    "### Teaching Presentations"
   ]
  },
  {
   "cell_type": "markdown",
   "metadata": {},
   "source": [
    "## Mar 6\n",
    "### The Interiors of Stars Part II\n",
    "### Teaching Presentations"
   ]
  },
  {
   "cell_type": "markdown",
   "metadata": {},
   "source": [
    "## Mar 11 \\& 13 (Spring Break)\n",
    "### No Class"
   ]
  },
  {
   "cell_type": "markdown",
   "metadata": {},
   "source": [
    "## Mar 18\n",
    "### The Interiors of Stars Part III\n",
    "### Teaching Presentations"
   ]
  },
  {
   "cell_type": "markdown",
   "metadata": {},
   "source": [
    "## Mar 20\n",
    "### The Interiors of Stars Part IV\n",
    "### Teaching Presentations\n",
    "\n",
    "\n",
    "\n",
    "*   7.3.7\n",
    "    *   PPI Chain: first fusion process chain with two hydrogen-1\n",
    "    *   One of the protons undergoes beta decay to change to a neuton, neutrino, and positron which then combines witht he other to become deuterium.\n",
    "$$ _1^1H + _1^1H \\rightarrow _1^2H+e^++\\nu_e$$\n",
    "    *   Deuterium and proton combine to create He-3 and photon.\n",
    "$$ ^2_1H+^1_1H \\rightarrow ^3_2He+\\gamma$$\n",
    "    *   Finally two He-3 atoms combine to create He-4 and 2 protons\n",
    "$$ ^3_2He +^3_2He \\rightarrow ^4_2He+2 ^1_1H$$\n",
    "    *   PPII Chain: Second part of intial fusion reaction using the He-3 and He-4 and a proton to create 2 He-4\n",
    "$$ ^3_2He+^4_2He\\rightarrow ^7_4Be+\\gamma$$\n",
    "$$^7_4Be +e^- \\rightarrow ^7_3Li +\\nu_e$$\n",
    "$$^7_3Li+^1_1H\\rightarrow2 ^4_2He$$\n",
    "    *   PP III: Combination of the Be-7 from PPII of a proton instead of an electron to create 2 more He-4\n",
    "$$^7_4Be +^1_1H\\rightarrow ^8_5B+\\gamma$$\n",
    "$$^8_5B\\rightarrow^8_4Be+e^++\\nu _e$$\n",
    "$$^8_4Be\\rightarrow 2^4_2He$$\n",
    "\n",
    "$$ $$\n",
    "*   7.3.8\n",
    "    * CNO cycle uses heavy nuclei as catalyst\n",
    "    * CNO I produces carbon-12 and Helium-4\n",
    "    * CNO II only occurs 0.04% of the time and produces Nitrogen-14 and Helium-4\n",
    "*   7.3.9\n",
    "    *   Triple alpha process produces Carbon-12 out of Helium-4\n",
    "$$ ^4_2He +^4_2He ⇌ ^8_4Be$$\n",
    "$$ ^8_4Be +^4_2He \\rightarrow ^{12}_6C+\\gamma$$\n",
    "\n",
    "* 7.3.10 Carbon and Oxygen Burning\n",
    "    *   Carbon captures alpha particles to create oxygen\n",
    "    *   Helium outside carbon core produce oxygen which then combine to create neon\n",
    "    *   T = 60 million K\n",
    "    *   two carbon-12 can produce either Oxygen-16 and 2 Helium-4, Neon-20 and Helium-4, Sodium-23 and proton, Magnesium-23 and Neutron, or Magneisum-24 and gamma\n",
    "*   7.3.11 Binding energy per nucleon\n",
    "$$ E_b = [Zm_p+(A-z)m_n-m_nucleus]c^2$$\n",
    "    *   The binding energy per nucleon increases until iron-56, where it begins to decrease\n",
    "    *   Hydrogen-1, Helium-4, and Oxygen-16 are most stable (and abundant) nuclei.\n",
    "    *   Iron-56 is most stable with highest binding energy. Stars build up nuclei starting at lighter elements up to iron. All others are made during supernovae.\n",
    "    *   Past Iron peak, more energy needed and thus fission begins.\n",
    "### 7.4 Energy Transport and Thermodynamics\n",
    "\n",
    "#### 7.4.1 Three Energy Transport Systems\n",
    "\n",
    "* Radiation: energy from nuclear reaction carried to the surface through photons. (middle efficient)\n",
    "* Convection: cooler elements fall inward, hotter elements are carried outwards (most efficient)\n",
    "* Conduction: transport via collisions between particles (least efficient so less significant.)\n",
    "\n",
    "#### 7.4.2 The Radiative Temperature Gradient\n",
    "\n",
    "The radiation presure gradient equation;\n",
    "\n",
    "$$ \\frac{dP_{rad}}{dr} = -\\frac{\\bar \\kappa \\rho}{c} F_{rad} = \\frac{4}{3}aT^3 \\frac{dT}{dr}, $$\n",
    "\n",
    "where $r$ is the distance from the center (radius). Adding the equation for $F_{rad} = \\frac{L}{4 \\pi r^2}$, we have;\n",
    "\n",
    "$$ \\frac{dP_{rad}}{dr} = -\\frac{3}{4ac} \\frac{\\bar \\kappa \\rho}{T^3}\\frac{L}{4 \\pi r^2} $$\n",
    "\n",
    "#### 7.4.3 The Pressure Scale Height\n",
    "\n",
    "If the gradient becomes too steep, convection becomes more efficient (hot air moving up cold air moving down). A characteristic length for convection is the **pressure scale hieght $H_p$** is defined as;\n",
    "\n",
    "$$ \\frac{1}{H_p} ≡ -\\frac{1}{P} \\frac{dP}{dr}, $$\n",
    "\n",
    "assuming $H_p$ is constant we solve for the pressure with radius as;\n",
    "\n",
    "$$ P = P_0 e^{-r/H_p}. $$\n",
    "\n",
    "If $r = H_p$ then $P=P-0/e$ and then $H_p$ is the distance over which the gas pressure decreases by a factor of $e$. We can write the pressure gradient in terms of the local acceleration of gravity %g = \\frac{GM_r}{r^2}. Sub this in and we get;\n",
    "\n",
    "$$ H_p = -P \\left( \\frac{dP}{dr} \\right)^{-1} = \\frac{P}{\\rho g}. $$\n",
    "*   7.4.4 Internal Energy and the First law of Thermo\n",
    "    *   First law relating to energy transfer states\n",
    "$$dU = \\delta Q-\\delta W$$\n",
    "which describes change in internal energy (U) is modified by difference in Work (W) done and heat added (Q).\n",
    "    *   U is a state function meanging it desrcibes current condition of the gas. dU is thus independent of the process. Heat added and work done depends on the order of processes that are carried out."
   ]
  },
  {
   "cell_type": "markdown",
   "metadata": {},
   "source": [
    "## Mar 25 \n",
    "### The Interstellar Medium and Star Formation Part I"
   ]
  },
  {
   "cell_type": "markdown",
   "metadata": {},
   "source": [
    "## Mar 27 (Exam II take-home)\n",
    "### The Interstellar Medium and Star Formation Part II"
   ]
  },
  {
   "cell_type": "markdown",
   "metadata": {},
   "source": [
    "## Apr 1\n",
    "### Main-Sequence and Post-Main-Sequence Stellar Evolution Part I"
   ]
  },
  {
   "cell_type": "markdown",
   "metadata": {},
   "source": [
    "## Apr 3\n",
    "### Main-Sequence and Post-Main-Sequence Stellar Evolution Part II"
   ]
  },
  {
   "cell_type": "markdown",
   "metadata": {},
   "source": [
    "## Apr 8\n",
    "### Stellar Pulsation "
   ]
  },
  {
   "cell_type": "markdown",
   "metadata": {},
   "source": [
    "## Apr 10\n",
    "### The Fate of Massive Stars Part I "
   ]
  },
  {
   "cell_type": "markdown",
   "metadata": {},
   "source": [
    "## Apr 15\n",
    "### The Fate of Massive Stars Part II"
   ]
  },
  {
   "cell_type": "markdown",
   "metadata": {},
   "source": [
    "## Apr 17\n",
    "### The Degenerate Remnants of Stars Part I"
   ]
  },
  {
   "cell_type": "markdown",
   "metadata": {},
   "source": [
    "## Apr 22\n",
    "### The Degenerate Remnants of Stars Part II"
   ]
  },
  {
   "cell_type": "markdown",
   "metadata": {},
   "source": [
    "## Apr 24\n",
    "### Review Paper Presentations"
   ]
  },
  {
   "cell_type": "markdown",
   "metadata": {},
   "source": [
    "## Apr 29\n",
    "### Review Paper Presentations"
   ]
  },
  {
   "cell_type": "markdown",
   "metadata": {},
   "source": [
    "## May 2 (Final Exam)\n",
    "### Final Exam (2:45 pm – 4:45 pm)"
   ]
  }
 ],
 "metadata": {
  "kernelspec": {
   "display_name": "base",
   "language": "python",
   "name": "python3"
  },
  "language_info": {
   "codemirror_mode": {
    "name": "ipython",
    "version": 3
   },
   "file_extension": ".py",
   "mimetype": "text/x-python",
   "name": "python",
   "nbconvert_exporter": "python",
   "pygments_lexer": "ipython3",
   "version": "3.8.8"
  },
  "orig_nbformat": 4,
  "vscode": {
   "interpreter": {
    "hash": "b46b6cd7437fccd56f9d889ab8b597852de90099948480230438ac6eaaa10679"
   }
  }
 },
 "nbformat": 4,
 "nbformat_minor": 2
}
