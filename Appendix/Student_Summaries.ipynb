{
 "cells": [
  {
   "attachments": {},
   "cell_type": "markdown",
   "metadata": {},
   "source": [
    "# Student Participation (Spring 2024)\n",
    "Students will work in pairs to produce summaries of each class meeting.  These summaries should list the main topics discussed and emphasized ideas/examples during the respective lecture.  Students are encouraged to be as detailed as possible without being overly verbose.  The summaries should be submitted as a [pull request](https://docs.github.com/en/codespaces/the-githubdev-web-based-editor) from **your forked repository** before the next class meeting.\n"
   ]
  },
  {
   "attachments": {},
   "cell_type": "markdown",
   "metadata": {},
   "source": [
    "## Jan 8\n",
    "### Class Overview\n",
    "- **Introductions**\n",
    "  - Add detail using bullets\n",
    "- **Syllabus**\n",
    "\n",
    "- **Course website**\n",
    "\n",
    "- **GitHub accounts**\n",
    "\n"
   ]
  },
  {
   "attachments": {},
   "cell_type": "markdown",
   "metadata": {},
   "source": [
    "## Jan 10 \n",
    "### Continuous Spectrum of Light Part I\n",
    "\n",
    "- **1.1 Stellar Parallax** \n",
    "\n",
    "    - Add detail using bullets\n",
    "\n",
    "\n",
    "- **1.2 The Magnitude Scale** \n",
    "    - **1.2.1 Apparent Magnitude**\n",
    "\n",
    "\n",
    "\n",
    "    - **1.2.2 Flus, Luminosity, and the Inverse Square Law** \n",
    "\n",
    "\n",
    "    - **1.2.3 Flux Ratios and Apparent Magnitude** \n",
    "\n",
    "    - **1.2.4 Absolute Magnitude and the Distance Modulus** \n",
    "\n",
    "- **1.3 The Wave Nature of Light**\n",
    "\n",
    "    - **1.3.1 The Speed of Light**\n",
    "\n",
    "    - **1.3.2 Young's Double-Slit Experiment**\n",
    "\n",
    "    - **1.3.3 Maxwell's Electromagnetic Wave Theory**\n",
    "\n",
    "    - **1.3.4 The Poynting Vector and Radiation Pressure**"
   ]
  },
  {
   "cell_type": "markdown",
   "metadata": {},
   "source": [
    "## Jan 15 (MLK Day)\n",
    "### No Class"
   ]
  },
  {
   "cell_type": "markdown",
   "metadata": {},
   "source": [
    "## Jan 17\n",
    "### Continuous Spectrum of Light Part II"
   ]
  },
  {
   "cell_type": "markdown",
   "metadata": {},
   "source": [
    "## Jan 22\n",
    "### Interaction of Matter and Light Part I"
   ]
  },
  {
   "cell_type": "markdown",
   "metadata": {},
   "source": [
    "## Jan 24\n",
    "## Jan 24\n",
    "### Interaction of Matter and Light Part II\n",
    "#### The Bohr Model of the Atom\n",
    "- 2.3.1 The structure of the atom\n",
    "    - \n",
    "- 2.3.2 The Wavelength of Hydrogen\n",
    "    - The spectral lines are described by their wavelength and categorized isong greek letters ($\\alpha , \\beta$...)\n",
    "    - Balmer equation decribes the wavelengths for hydrogen spectral lines;\n",
    "    $$ \\lambda = \\frac{1}{R_H} (\\frac{4n^2}{n^2 -4}) $$\n",
    "    where $n$ is an integer greater than 2. and $R_H = 1.09677583 \\times 10^7 +- 1.3m^{-1}$ and known as the Ryberg constant. The more general form of the equation, where $m<n$,\n",
    "    $$ \\lambda = \\frac{1}{R_H} (\\frac{m^2n^2}{n^2 - m^2}) $$\n",
    "    - **Note: this is only for hydrogen**\n",
    "\n",
    "- 2.3.3 Bohr's Semiclassical Atom **this interpretation is out of date**\n",
    "    - To analyze the interactions between a proton and electron, we start with Coulomb’s law ($q_n$ is the 2 charges, and are seperated by $r$.)\n",
    "    $$F = \\frac{1}{4\\pi \\epsilon_0} \\frac{q_1q_2}{r^2}$$\n",
    "    - $epsilon_0$ is the permitivity of free space. Eventually, we get to the energy (in terms of fundamental constants) is;\n",
    "    $$E_n = -\\frac{\\mu e^4}{32\\pi^2\\epsilon_0^2\\hbar^2}\\frac{1}{n^2} = \\frac{-13.6 \\text{eV}}{n^2}$$\n",
    "    - If you assume the energy required between levels is the energy of a photon $e_{photon} = \\frac{hc}{\\lambda} = E_{high} - E_{low}$, we have (hc = 1240 eV nm);\n",
    "    $$\\lambda = \\frac{hc}{13.6 \\text{ev}}\\frac{n^2_{high}n^2_{low}}{n^2_{high} - n^2_{low}}$$\n",
    "    **Notice how similar this is to the 2nd equation**\n",
    "#### 2.4 Quantum Mechanics and Wave-Particle Duality\n",
    "- 2.4.1 de Brogolie's Wavelength and Frequency\n",
    "    - Einstein special relativity tells us that photons carry both energy $E$ and momentum $p$, which can be related to a frequency $\\nu$ (or $v$ if you're Sterling) and wavelength $\\lambda$ by,\n",
    "    $$\\nu = \\frac{E}{h} \\text{and,}$$\n",
    "    $$\\lambda = \\frac{h}{p}$$\n",
    "\n",
    "- 2.4.2 Heisenberg's Uncertainty Principle\n",
    "    - Says you can't know, with a high degree of certainty, at the same time, the position and momentum OR, the energy and the time. The equations showing this are,\n",
    "    $$\\Delta x \\Delta p \\approx \\hbar \\text{ and } \\Delta E \\Delta t \\approx \\hbar$$\n",
    "    - "
   ]
  },
  {
   "cell_type": "markdown",
   "metadata": {},
   "source": [
    "## Jan 29\n",
    "### Telescopes Part I"
   ]
  },
  {
   "cell_type": "markdown",
   "metadata": {},
   "source": [
    "## Jan 31\n",
    "### Telescopes Part II"
   ]
  },
  {
   "cell_type": "markdown",
   "metadata": {},
   "source": [
    "## Feb 5\n",
    "### Classification of Stellar Spectra Part I"
   ]
  },
  {
   "cell_type": "markdown",
   "metadata": {},
   "source": [
    "## Feb 7\n",
    "### Classification of Stellar Spectra Part II"
   ]
  },
  {
   "cell_type": "markdown",
   "metadata": {},
   "source": [
    "## Feb 12 (Exam I)\n",
    "### Exam I"
   ]
  },
  {
   "cell_type": "markdown",
   "metadata": {},
   "source": [
    "## Feb 14\n",
    "### Stellar Atmospheres Part I"
   ]
  },
  {
   "cell_type": "markdown",
   "metadata": {},
   "source": [
    "## Feb 19\n",
    "### Stellar Atmospheres Part II"
   ]
  },
  {
   "cell_type": "markdown",
   "metadata": {},
   "source": [
    "## Feb 21\n",
    "### Stellar Atmospheres Part III"
   ]
  },
  {
   "cell_type": "markdown",
   "metadata": {},
   "source": [
    "## Feb 26 \n",
    "### The Sun Part I"
   ]
  },
  {
   "cell_type": "markdown",
   "metadata": {},
   "source": [
    "## Feb 28 \n",
    "### The Sun Part II"
   ]
  },
  {
   "cell_type": "markdown",
   "metadata": {},
   "source": [
    "## Mar 4\n",
    "### The Interiors of Stars Part I\n",
    "### Teaching Presentations"
   ]
  },
  {
   "cell_type": "markdown",
   "metadata": {},
   "source": [
    "## Mar 6\n",
    "### The Interiors of Stars Part II\n",
    "### Teaching Presentations"
   ]
  },
  {
   "cell_type": "markdown",
   "metadata": {},
   "source": [
    "## Mar 11 \\& 13 (Spring Break)\n",
    "### No Class"
   ]
  },
  {
   "cell_type": "markdown",
   "metadata": {},
   "source": [
    "## Mar 18\n",
    "### The Interiors of Stars Part III\n",
    "### Teaching Presentations"
   ]
  },
  {
   "cell_type": "markdown",
   "metadata": {},
   "source": [
    "## Mar 20\n",
    "### The Interiors of Stars Part IV\n",
    "### Teaching Presentations"
   ]
  },
  {
   "cell_type": "markdown",
   "metadata": {},
   "source": [
    "## Mar 25 \n",
    "### The Interstellar Medium and Star Formation Part I"
   ]
  },
  {
   "cell_type": "markdown",
   "metadata": {},
   "source": [
    "## Mar 27 (Exam II take-home)\n",
    "### The Interstellar Medium and Star Formation Part II"
   ]
  },
  {
   "cell_type": "markdown",
   "metadata": {},
   "source": [
    "## Apr 1\n",
    "### Main-Sequence and Post-Main-Sequence Stellar Evolution Part I"
   ]
  },
  {
   "cell_type": "markdown",
   "metadata": {},
   "source": [
    "## Apr 3\n",
    "### Main-Sequence and Post-Main-Sequence Stellar Evolution Part II"
   ]
  },
  {
   "cell_type": "markdown",
   "metadata": {},
   "source": [
    "## Apr 8\n",
    "### Stellar Pulsation "
   ]
  },
  {
   "cell_type": "markdown",
   "metadata": {},
   "source": [
    "## Apr 10\n",
    "### The Fate of Massive Stars Part I "
   ]
  },
  {
   "cell_type": "markdown",
   "metadata": {},
   "source": [
    "## Apr 15\n",
    "### The Fate of Massive Stars Part II"
   ]
  },
  {
   "cell_type": "markdown",
   "metadata": {},
   "source": [
    "## Apr 17\n",
    "### The Degenerate Remnants of Stars Part I"
   ]
  },
  {
   "cell_type": "markdown",
   "metadata": {},
   "source": [
    "## Apr 22\n",
    "### The Degenerate Remnants of Stars Part II"
   ]
  },
  {
   "cell_type": "markdown",
   "metadata": {},
   "source": [
    "## Apr 24\n",
    "### Review Paper Presentations"
   ]
  },
  {
   "cell_type": "markdown",
   "metadata": {},
   "source": [
    "## Apr 29\n",
    "### Review Paper Presentations"
   ]
  },
  {
   "cell_type": "markdown",
   "metadata": {},
   "source": [
    "## May 2 (Final Exam)\n",
    "### Final Exam (2:45 pm – 4:45 pm)"
   ]
  }
 ],
 "metadata": {
  "kernelspec": {
   "display_name": "base",
   "language": "python",
   "name": "python3"
  },
  "language_info": {
   "codemirror_mode": {
    "name": "ipython",
    "version": 3
   },
   "file_extension": ".py",
   "mimetype": "text/x-python",
   "name": "python",
   "nbconvert_exporter": "python",
   "pygments_lexer": "ipython3",
   "version": "3.8.8"
  },
  "orig_nbformat": 4,
  "vscode": {
   "interpreter": {
    "hash": "b46b6cd7437fccd56f9d889ab8b597852de90099948480230438ac6eaaa10679"
   }
  }
 },
 "nbformat": 4,
 "nbformat_minor": 2
}
