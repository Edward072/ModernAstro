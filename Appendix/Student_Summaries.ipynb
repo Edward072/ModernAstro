{
 "cells": [
  {
   "attachments": {},
   "cell_type": "markdown",
   "metadata": {},
   "source": [
    "# Student Participation (Spring 2024)\n",
    "Students will work in pairs to produce summaries of each class meeting.  These summaries should list the main topics discussed and emphasized ideas/examples during the respective lecture.  Students are encouraged to be as detailed as possible without being overly verbose.  The summaries should be submitted as a [pull request](https://docs.github.com/en/codespaces/the-githubdev-web-based-editor) from **your forked repository** before the next class meeting.\n"
   ]
  },
  {
   "attachments": {},
   "cell_type": "markdown",
   "metadata": {},
   "source": [
    "## Jan 8\n",
    "### Class Overview\n",
    "- **Introductions**\n",
    "  - Add detail using bullets\n",
    "- **Syllabus**\n",
    "\n",
    "- **Course website**\n",
    "\n",
    "- **GitHub accounts**\n",
    "\n"
   ]
  },
  {
   "attachments": {},
   "cell_type": "markdown",
   "metadata": {},
   "source": [
    "## Jan 10 \n",
    "### Continuous Spectrum of Light Part I\n",
    "\n",
    "- **1.1 Stellar Parallax** \n",
    "\n",
    "    - Add detail using bullets\n",
    "\n",
    "\n",
    "- **1.2 The Magnitude Scale** \n",
    "    - **1.2.1 Apparent Magnitude**\n",
    "\n",
    "\n",
    "\n",
    "    - **1.2.2 Flus, Luminosity, and the Inverse Square Law** \n",
    "\n",
    "\n",
    "    - **1.2.3 Flux Ratios and Apparent Magnitude** \n",
    "\n",
    "    - **1.2.4 Absolute Magnitude and the Distance Modulus** \n",
    "\n",
    "- **1.3 The Wave Nature of Light**\n",
    "\n",
    "    - **1.3.1 The Speed of Light**\n",
    "\n",
    "    - **1.3.2 Young's Double-Slit Experiment**\n",
    "\n",
    "    - **1.3.3 Maxwell's Electromagnetic Wave Theory**\n",
    "\n",
    "    - **1.3.4 The Poynting Vector and Radiation Pressure**"
   ]
  },
  {
   "cell_type": "markdown",
   "metadata": {},
   "source": [
    "## Jan 15 (MLK Day)\n",
    "### No Class"
   ]
  },
  {
   "cell_type": "markdown",
   "metadata": {},
   "source": [
    "## Jan 17\n",
    "### Continuous Spectrum of Light Part II"
   ]
  },
  {
   "cell_type": "markdown",
   "metadata": {},
   "source": [
    "## Jan 22\n",
    "### Interaction of Matter and Light Part I"
   ]
  },
  {
   "cell_type": "markdown",
   "metadata": {},
   "source": [
    "## Jan 24\n",
    "## Jan 24\n",
    "### Interaction of Matter and Light Part II\n",
    "#### The Bohr Model of the Atom\n",
    "- 2.3.1 The structure of the atom\n",
    "    - \n",
    "- 2.3.2 The Wavelength of Hydrogen\n",
    "    - The spectral lines are described by their wavelength and categorized isong greek letters ($\\alpha , \\beta$...)\n",
    "    - Balmer equation decribes the wavelengths for hydrogen spectral lines;\n",
    "    $$ \\lambda = \\frac{1}{R_H} (\\frac{4n^2}{n^2 -4}) $$\n",
    "    where $n$ is an integer greater than 2. and $R_H = 1.09677583 \\times 10^7 +- 1.3m^{-1}$ and known as the Ryberg constant. The more general form of the equation, where $m<n$,\n",
    "    $$ \\lambda = \\frac{1}{R_H} (\\frac{m^2n^2}{n^2 - m^2}) $$\n",
    "    - **Note: this is only for hydrogen**\n",
    "\n",
    "- 2.3.3 Bohr's Semiclassical Atom **this interpretation is out of date**\n",
    "    - To analyze the interactions between a proton and electron, we start with Coulomb’s law ($q_n$ is the 2 charges, and are seperated by $r$.)\n",
    "    $$F = \\frac{1}{4\\pi \\epsilon_0} \\frac{q_1q_2}{r^2}$$\n",
    "    - $epsilon_0$ is the permitivity of free space. Eventually, we get to the energy (in terms of fundamental constants) is;\n",
    "    $$E_n = -\\frac{\\mu e^4}{32\\pi^2\\epsilon_0^2\\hbar^2}\\frac{1}{n^2} = \\frac{-13.6 \\text{eV}}{n^2}$$\n",
    "    - If you assume the energy required between levels is the energy of a photon $e_{photon} = \\frac{hc}{\\lambda} = E_{high} - E_{low}$, we have (hc = 1240 eV nm);\n",
    "    $$\\lambda = \\frac{hc}{13.6 \\text{ev}}\\frac{n^2_{high}n^2_{low}}{n^2_{high} - n^2_{low}}$$\n",
    "    **Notice how similar this is to the 2nd equation**\n",
    "#### 2.4 Quantum Mechanics and Wave-Particle Duality\n",
    "- 2.4.1 de Brogolie's Wavelength and Frequency\n",
    "    - Einstein special relativity tells us that photons carry both energy $E$ and momentum $p$, which can be related to a frequency $\\nu$ (or $v$ if you're Sterling) and wavelength $\\lambda$ by,\n",
    "    $$\\nu = \\frac{E}{h} \\text{and,}$$\n",
    "    $$\\lambda = \\frac{h}{p}$$\n",
    "\n",
    "- 2.4.2 Heisenberg's Uncertainty Principle\n",
    "    - Says you can't know, with a high degree of certainty, at the same time, the position and momentum OR, the energy and the time. The equations showing this are,\n",
    "    $$\\Delta x \\Delta p \\approx \\hbar \\text{ and } \\Delta E \\Delta t \\approx \\hbar$$\n",
    "    - "
   ]
  },
  {
   "cell_type": "markdown",
   "metadata": {},
   "source": [
    "## Jan 29\n",
    "### Telescopes Part I"
   ]
  },
  {
   "cell_type": "markdown",
   "metadata": {},
   "source": [
    "## Jan 31\n",
    "### Telescopes Part II"
   ]
  },
  {
   "cell_type": "markdown",
   "metadata": {},
   "source": [
    "## Feb 5\n",
    "### Classification of Stellar Spectra Part I"
   ]
  },
  {
   "cell_type": "markdown",
   "metadata": {},
   "source": [
    "## Feb 7\n",
    "### Classification of Stellar Spectra Part II"
   ]
  },
  {
   "cell_type": "markdown",
   "metadata": {},
   "source": [
    "## Feb 12 (Exam I)\n",
    "### Exam I"
   ]
  },
  {
   "cell_type": "markdown",
   "metadata": {},
   "source": [
    "## Feb 14\n",
    "### Stellar Atmospheres Part I"
   ]
  },
  {
   "cell_type": "markdown",
   "metadata": {},
   "source": [
    "## Feb 19\n",
    "### Stellar Atmospheres Part II"
   ]
  },
  {
   "cell_type": "markdown",
   "metadata": {},
   "source": [
    "## Feb 21\n",
    "### Stellar Atmospheres Part III\n",
    "\n",
    "### **5.4 The Transfer Equation**\n",
    "\n",
    "#### 5.4.1 The Emission Coefficient\n",
    "\n",
    "Interested in the net flow of energy, not the specific path. The intensity can be increased through emission. This change is $ dI_{\\lambda} $ is proprtional to the the distance $ ds $ and the density of the gas $ \\rho $.\n",
    "\n",
    "$$ dI_{\\lambda} = j_{\\lambda} \\rho ds ,$$\n",
    "\n",
    "here, $ j_{\\lambda} $ is the **emission coefficient**. \n",
    "\n",
    "The specific intensity $ I_{\\lambda} $, changes as the photons are added. Combining the equations of absoption and emission gives the general result;\n",
    "\n",
    "$$ d_{\\lambda} = -\\kappa_{\\lambda} \\rho I_{\\lambda} ds + j_{\\lambda} \\rho ds $$\n",
    "\n",
    "#### 5.4.2 The Source Function and the Transfer Equation\n",
    "\n",
    "To determine the ratio of emission to absorption ( $ j_{\\lambda} / \\kappa_{\\lambda} $ ), we cal this the **source function** $ S_{\\lambda} $ and looks like;\n",
    "\n",
    "$$ -\\frac{1}{\\kappa_{\\lambda} \\rho} \\frac{dI_{\\lambda}}{ds} = I_{\\lambda} - \\frac{j_{\\lambda}}{\\kappa_{\\lambda}} = I_{\\lambda} - S_{\\lambda} $$\n",
    "\n",
    "If $ I_{\\lambda} > S_{\\lambda} $ then the intensity decreases with distance. If $ I_{\\lambda} < S_{\\lambda} $, then the intensity increases with distance.\n",
    "\n",
    "#### 5.4.3 The Special Case of Blackbody Radiation\n",
    "\n",
    "For a blackbody, the intensity is equal to the Planck function ( $ I_{\\lambda} = B_{\\lambda} = S_{\\lambda} $ ) [for something in thermodynamic equalibrium which stars are not in!]\n",
    "\n",
    "**Applying the transfer equation**\n",
    "\n",
    "$$ I_{\\lambda}(s) = I_{\\lambda,o} e^{-\\kappa_{\\lambda} \\rho ds} + S_{\\lambda} ( 1 - e^{-\\kappa_{\\lambda} \\rho ds} ) $$\n",
    "\n",
    "#### 5.4.4 The Assumption of a Plane-Parallel Atmosphere\n",
    "\n",
    "Rewrite the transfer equation as a function of optical depth;\n",
    "\n",
    "$$ \\frac{dI_{\\lambda}}{d\\tau_{\\lambda}} = I_{\\lambda} - S_{\\lambda} $$\n",
    "\n",
    "Because the atmosphere is not a plane (it curves) we assume a plane-parallel slab of the atmosphere and get the equation for vertical optical depth;\n",
    "\n",
    "$$ \\tau_{\\lambda,v}(z) = \\int_z^0 \\kappa_{\\lambda} \\rho dz $$\n",
    "\n",
    "A gray atmosphere is an atmosphere that has little to no wavelength dependence. The transfer equation for a gray atmosphere is;\n",
    "\n",
    "$$ cos(\\theta) \\frac{dI}{d\\tau_{\\lambda}} = I - S $$\n",
    "\n",
    "#### 5.4.5 The Eddington Approximation\n",
    "\n",
    "When looking at a star, we see down to a vertical optical depth of , averaged over the disk of the star.\n",
    "\n",
    "### **5.5 The Profiles of Spectral Lines**\n",
    "\n",
    "#### 5.5.1 Equivalent Widths\n",
    "\n",
    "Absorption spectral lines are identified on graphs of the radiant flux $ F_{\\lambda} $ as a function of the wavelength $ \\lambda $.\n",
    "\n",
    "**Full width half maximum** (think inverse bell curve and take the half of the lowest point on either side and make a rectangle to connect these two with the max point of the inverse bell curve.)\n",
    "\n",
    "#### 5.5.2 Proccess that Broaden Spectral Lines\n",
    "\n",
    "1. Natural Broadening: the spectral lines cannot be sharp even for motionless, isolated atoms due to Heisenberg’s uncertainty principle.\n",
    "\n",
    "$$ \\Delta \\lambda = \\frac{\\lambda^2}{2 \\pi c}  \\left( \\frac{1}{\\Delta t_0} + \\frac{1}{\\Delta t_f} \\right), $$\n",
    "\n",
    "where $ \\Delta t_0 \\text{ and } \\Delta t_f $ is the lifetime of the electron in the initial state and final state respectively.\n",
    "\n",
    "2. Doppler Broadening: The wavelengths of the absorbed or emitted light are Doppler-shifted nonrelativistically according to $ \\Delta \\lambda / \\lambda = +- | v_r | / c $. The width of a Doppler broadened spectral line should be;\n",
    "\n",
    "$$ \\Delta \\lambda = \\frac{2 \\lambda}{c} \\sqrt{\\frac{2 k T}{m}} $$\n",
    "\n",
    "3. Pressure (and Collisional) Broadening: the atomic orbitals are perturbed by a collision with a neutral atom or a close encounter with the electric field of an ion. Statistical is pressure, individual collisions is collisional. To determin collisional pressue, we need to determine the average time between collisions $ \\Delta t_0 $, and the mean free path $ \\ell $. These are related through the following equation;\n",
    "\n",
    "$$ \\Delta t_0 = \\frac{\\ell}{v} = \\frac{1}{n \\sigma} \\sqrt{\\frac{m}{2 k T}}, $$\n",
    "\n",
    "where $ m $ is the atom mass, $ \\sigma $ is the collisional cross-section, and $ n $ is the number of atoms. From the collisional pressure, we can determine the spectral line width broadening to be;\n",
    "\n",
    "$$ \\Delta \\lambda = \\frac{\\lambda}{\\pi c \\Delta t_0} \\approx \\frac{\\lambda^2 n \\sigma}{\\pi c} \\sqrt{\\frac{2 k T}{m}}. $$\n",
    "\n",
    "Spectral line width is proportional to $ n $.\n",
    "\n",
    "#### 5.5.3 The Voigt Profile\n",
    "\n",
    "The total line profile is called the **Voigt profile** and is due to the contributions of the Doppler and the damping things. Doppler contributes more for the center wavelengths whereas the damping profile is more towards the wings of the curve. \n",
    "\n",
    "The goal is to determine $ N_0 $, which is the coloumn density.\n",
    "\n",
    "#### 5.5.4 The Curve of Growth\n",
    "\n",
    "Helps determine the value of $ N_a $ (the number of atoms that have electrons in the proper orbital for absorbtion) and the abundance of elements in stellar atmospheres. The width **W** varies with $ N_a $ and therefore a log curve can be used to estimate the change in both quantities. Using the curve of growth, and a determined width, we can determine the number of absorbing atoms.\n"
   ]
  },
  {
   "cell_type": "markdown",
   "metadata": {},
   "source": [
    "## Feb 26 \n",
    "### The Sun Part I"
   ]
  },
  {
   "cell_type": "markdown",
   "metadata": {},
   "source": [
    "## Feb 28 \n",
    "### The Sun Part II"
   ]
  },
  {
   "cell_type": "markdown",
   "metadata": {},
   "source": [
    "## Mar 4\n",
    "### The Interiors of Stars Part I\n",
    "### Teaching Presentations"
   ]
  },
  {
   "cell_type": "markdown",
   "metadata": {},
   "source": [
    "## Mar 6\n",
    "### The Interiors of Stars Part II\n",
    "### Teaching Presentations"
   ]
  },
  {
   "cell_type": "markdown",
   "metadata": {},
   "source": [
    "## Mar 11 \\& 13 (Spring Break)\n",
    "### No Class"
   ]
  },
  {
   "cell_type": "markdown",
   "metadata": {},
   "source": [
    "## Mar 18\n",
    "### The Interiors of Stars Part III\n",
    "### Teaching Presentations"
   ]
  },
  {
   "cell_type": "markdown",
   "metadata": {},
   "source": [
    "## Mar 20\n",
    "### The Interiors of Stars Part IV\n",
    "### Teaching Presentations"
   ]
  },
  {
   "cell_type": "markdown",
   "metadata": {},
   "source": [
    "## Mar 25 \n",
    "### The Interstellar Medium and Star Formation Part I"
   ]
  },
  {
   "cell_type": "markdown",
   "metadata": {},
   "source": [
    "## Mar 27 (Exam II take-home)\n",
    "### The Interstellar Medium and Star Formation Part II"
   ]
  },
  {
   "cell_type": "markdown",
   "metadata": {},
   "source": [
    "## Apr 1\n",
    "### Main-Sequence and Post-Main-Sequence Stellar Evolution Part I"
   ]
  },
  {
   "cell_type": "markdown",
   "metadata": {},
   "source": [
    "## Apr 3\n",
    "### Main-Sequence and Post-Main-Sequence Stellar Evolution Part II"
   ]
  },
  {
   "cell_type": "markdown",
   "metadata": {},
   "source": [
    "## Apr 8\n",
    "### Stellar Pulsation "
   ]
  },
  {
   "cell_type": "markdown",
   "metadata": {},
   "source": [
    "## Apr 10\n",
    "### The Fate of Massive Stars Part I "
   ]
  },
  {
   "cell_type": "markdown",
   "metadata": {},
   "source": [
    "## Apr 15\n",
    "### The Fate of Massive Stars Part II"
   ]
  },
  {
   "cell_type": "markdown",
   "metadata": {},
   "source": [
    "## Apr 17\n",
    "### The Degenerate Remnants of Stars Part I"
   ]
  },
  {
   "cell_type": "markdown",
   "metadata": {},
   "source": [
    "## Apr 22\n",
    "### The Degenerate Remnants of Stars Part II"
   ]
  },
  {
   "cell_type": "markdown",
   "metadata": {},
   "source": [
    "## Apr 24\n",
    "### Review Paper Presentations"
   ]
  },
  {
   "cell_type": "markdown",
   "metadata": {},
   "source": [
    "## Apr 29\n",
    "### Review Paper Presentations"
   ]
  },
  {
   "cell_type": "markdown",
   "metadata": {},
   "source": [
    "## May 2 (Final Exam)\n",
    "### Final Exam (2:45 pm – 4:45 pm)"
   ]
  }
 ],
 "metadata": {
  "kernelspec": {
   "display_name": "base",
   "language": "python",
   "name": "python3"
  },
  "language_info": {
   "codemirror_mode": {
    "name": "ipython",
    "version": 3
   },
   "file_extension": ".py",
   "mimetype": "text/x-python",
   "name": "python",
   "nbconvert_exporter": "python",
   "pygments_lexer": "ipython3",
   "version": "3.8.8"
  },
  "orig_nbformat": 4,
  "vscode": {
   "interpreter": {
    "hash": "b46b6cd7437fccd56f9d889ab8b597852de90099948480230438ac6eaaa10679"
   }
  }
 },
 "nbformat": 4,
 "nbformat_minor": 2
}
