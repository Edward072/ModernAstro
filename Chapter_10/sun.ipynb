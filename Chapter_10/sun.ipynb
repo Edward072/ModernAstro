{
 "cells": [
  {
   "cell_type": "markdown",
   "metadata": {},
   "source": [
    "# The Sun"
   ]
  },
  {
   "cell_type": "markdown",
   "metadata": {},
   "source": [
    "## The Solar Interior\n",
    "\n",
    "### The Evolutionary History of the Sun\n",
    "Our Sun is classified as a typical main-sequence star of spectral class G2, which contains mostly hydrogen $(X=0.74)$, some helium $(Y=0.24)$, and a little metal ($Z=0.02)$ by mass.  The composition has changed (evolved) over time because it has been converting hydrogen into helium through the proton-proton chain for most of its lifetime.  Even though the Sun is changing over time, we can still estimate its age using other bodies of the Solar System.  For example, radioactive dating of Moon rocks and meteorites indicate that they are ~4.57 Gyr old and the Sun would be *at least* as old as these rocks.  Since becoming a main-sequence star, the Sun's luminosity has increased by nearly 48% and its radius has increased by 15%, which lead to an increase a 2.7% increase in its effective temperature.  The effect of this luminosity increase on the Earth is unclear due to the Earth's time-varying ability to reflect light through its albedo (caused by surface water and ice).\n",
    "\n",
    "```{note}\n",
    "Radioactive dating of the oldest known objects in the Solar System, the [calcium-aluminum inclusions](https://en.wikipedia.org/wiki/Calcium%E2%80%93aluminium-rich_inclusion) (CAIs), indicates that the age of the Solar System is $4.56730 \\pm 0.00016$ Gyr, or $4567.30 \\pm 0.16$ Myr.\n",
    "```"
   ]
  },
  {
   "cell_type": "markdown",
   "metadata": {},
   "source": [
    "### The Present-Day Interior Structure of the Sun\n",
    "Using the current age of the Sun, a **solar model** must reproduce the current values of the central temperature, pressure, density, and composition.  A schematic of the Sun can be constructed, where an inner core produces the radiation through nuclear reactions, a middle layer transports the energy through radiation, and an outer atmosphere brings energy to the surface through convection cells of rising and sinking gas.  Using such a model, the hydrogen mass fraction $(X)$ *in the core* has decreased from 0.71 to 0.34 and the helium mass fraction increased from 0.27 to 0.64 over the Sun's lifetime.  *At the surface* the hydrogen mass fraction increased by 0.03, while the helium mass fraction decreased by 0.03.\n",
    "\n",
    "Evolution of the Sun's interior includes ongoing nucleosynthesis, surface convection, and elemental diffusion (settling of heavier elements).  The Sun's primary energy production comes from the [proton-proton (pp)](https://en.wikipedia.org/wiki/Proton%E2%80%93proton_chain) chain, where $^3{\\rm He}$, or [tritium](https://en.wikipedia.org/wiki/Tritium) is an intermediate species in the reaction sequence.  Tritium can be produced and destroyed as part of the conversion of hydrogen into helium.  However, tritium is relatively more abundant at the top of the hydrogen-burning region where the temperature is lower.  At greater depths, the higher temperatures the destroy the tritium more often than it is created, resulting in a overall decrease in abundance.  The production of $^4{\\rm He}$ (stable helium) decreases and hydrogen increases slightly near 0.7 ${\\rm R_\\odot}$ due to the surface convection zone and elemental diffusion.  \n",
    "\n",
    "The largest contribution to the energy production occurs at approximately 0.1 ${\\rm R_\\odot}$, as seen in the radial derivative of the luminosity profile as a function of radius.  Consider the mass conservation equation\n",
    "\n",
    "$$ \\frac{dM_r}{dr} = 4\\pi r^2 \\rho \\; \\rightarrow \\; dM_r = 4\\pi r^2 \\rho\\:dr = \\rho\\:dV, \\tag{1} $$\n",
    "\n",
    "which indicates how the mass within a certain radius interval increases because the volume of a spherical shell increases with a fixed choice of $dr$.  Even if the total energy liberated per kilogram of material $(\\epsilon)$ decreases steadily from the inside-out, then the largest contribution to the total luminosity will occur in a shell that contains a significant mass rather than at the center.  In the case of the current (middle-aged) Sun, the decrease in available hydrogen fuel at the center will also influence the location of the peak energy production.  The pressure and density can change rapidly with radius, which produces variations on the solar structure through conditions of hydrostatic equilibrium, ideal gas law, and the composition structure.\n",
    "\n",
    "The interior mass as a function of radius $(M_r)$ shows that 90% of the Sun's mass lies within roughly 0.5 ${\\rm R_\\odot}$.  The interior mass function can be determined through the integration of the density function over the Sun's volume (i.e., $M_r = \\int \\rho\\:dV$).  The energy generated in the interior has to be transported outwards, where a criterion for the onset of convection is that the temperature gradient becomes [superadiabatic](https://sites.northwestern.edu/sethstein/files/2017/06/convection-2c1sura.pdf), \n",
    "\n",
    "$$ \\left|\\frac{dT}{dr}\\right|_{\\rm actual} >  \\left|\\frac{dT}{dr}\\right|_{\\rm adiabatic}, $$\n",
    "\n",
    "where actual and [adiabatic](https://en.wikipedia.org/wiki/Adiabatic_process) refer to the temperature gradients.  For an *ideal monatomic gas*, this conditions becomes,\n",
    "\n",
    "$$ \\frac{d\\ln P}{d\\ln T} < 2.5. $$\n",
    "\n",
    "The Sun is purely radiative below 0.714 ${\\rm R_\\odot}$ and is convective above that point.  This occurs because the opacity in the outer layer becomes large enough to block the energy transport by radiation.  For a large temperature gradient, convection becomes the more efficient means of energy transport.  A rapid rise in $d\\ln P/ d\\ln T$ near the surface $(r>0.95\\:{\\rm R_\\odot})$ is due to the significant departure of the actual temperature gradient from an adiabatic one.\n",
    "\n",
    "```{note}\n",
    "Stars need only be slightly more massive than the Sun in order to be convective at their centers because of the strong temperature dependence of the CNO cycle as compared to the pp chain.\n",
    "```\n",
    "\n",
    "Models of stellar structure and the derivation of fundamental physical principles have uncovered an enormous amount of information regarding the Sun's interior.  A complete and reasonable model needs to be consistent with evolutionary timescales and the global characteristics (e.g., mass, luminosity, radius, effective temperature, surface composition, and oscillation frequencies).  However there is one aspect of the Sun where the observations don't match the theoretical model, which is the abundance of lithium.  The observed lithium abundance is somewhat less than expected, which may imply that some adjustments (e.g., through convection, rotation, and/or mass loss) to the model are necessary."
   ]
  },
  {
   "cell_type": "markdown",
   "metadata": {},
   "source": [
    "### The Solar Neutrino Problem: A Detective Story Solved\n"
   ]
  },
  {
   "cell_type": "markdown",
   "metadata": {},
   "source": [
    "### **Problems**"
   ]
  },
  {
   "cell_type": "markdown",
   "metadata": {},
   "source": [
    "## The Solar Atmosphere\n",
    "\n",
    "### The Photosphere"
   ]
  },
  {
   "cell_type": "markdown",
   "metadata": {},
   "source": [
    "### Solar Granulation"
   ]
  },
  {
   "cell_type": "markdown",
   "metadata": {},
   "source": [
    "### Differential Rotation\n",
    "\n",
    "### The Chromosphere"
   ]
  },
  {
   "cell_type": "markdown",
   "metadata": {},
   "source": [
    "### The Transition Region\n",
    "\n",
    "### The Corona"
   ]
  },
  {
   "cell_type": "markdown",
   "metadata": {},
   "source": [
    "### Coronal Holes and the Solar Wind"
   ]
  },
  {
   "cell_type": "markdown",
   "metadata": {},
   "source": [
    "### The Parker Wind Model"
   ]
  },
  {
   "cell_type": "markdown",
   "metadata": {},
   "source": [
    "### The Hydrodynamic Nature of the Upper Solar Atmosphere"
   ]
  },
  {
   "cell_type": "markdown",
   "metadata": {},
   "source": [
    "### Magnetohydrodynamics and Alfv&eacute;n Waves"
   ]
  },
  {
   "cell_type": "markdown",
   "metadata": {},
   "source": [
    "### The Outer Atmospheres of Other Stars"
   ]
  },
  {
   "cell_type": "markdown",
   "metadata": {},
   "source": [
    "### **Problems**"
   ]
  },
  {
   "cell_type": "markdown",
   "metadata": {},
   "source": [
    "## The Solar Cycle\n",
    "\n",
    "### Sunspots"
   ]
  },
  {
   "cell_type": "markdown",
   "metadata": {},
   "source": [
    "### Plages"
   ]
  },
  {
   "cell_type": "markdown",
   "metadata": {},
   "source": [
    "### Solar Flares"
   ]
  },
  {
   "cell_type": "markdown",
   "metadata": {},
   "source": [
    "### Solar Prominences"
   ]
  },
  {
   "cell_type": "markdown",
   "metadata": {},
   "source": [
    "### The Time-Dependent Shape of the Corona\n",
    "\n",
    "### The Magnetic Dynamo Theory\n",
    "\n",
    "### Evidence of Magnetic Activity in Other Stars"
   ]
  },
  {
   "cell_type": "markdown",
   "metadata": {},
   "source": [
    "### **Problems**"
   ]
  }
 ],
 "metadata": {
  "language_info": {
   "name": "python"
  },
  "orig_nbformat": 4
 },
 "nbformat": 4,
 "nbformat_minor": 2
}
