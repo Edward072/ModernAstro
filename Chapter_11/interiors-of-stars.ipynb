{
 "cells": [
  {
   "cell_type": "markdown",
   "metadata": {},
   "source": [
    "# The Interiors of Stars"
   ]
  },
  {
   "cell_type": "markdown",
   "metadata": {},
   "source": [
    "## Hydrostatic Equilibrium\n",
    "\n",
    "### Determining the Internal Structures of Stars\n",
    "Astronomers must generate computer models to deduce the detailed internal structure of stars, where these models mus be consistent with the known physical laws and agree with observable surface features.  Much of the theoretical foundation was understood in the first half of the 20th Century, it wasn't until the 1960s that computers were advanced enough to carry out all the calculations.  Although computer modeling and evolutions is a success, there are numerous questions that remain unanswered.\n",
    "\n",
    "The theoretical study of stellar structure shows that stars are dynamic objects that typically change over very slow timescales (compared to us mortals), but some events can be very rapid and dramatic.  Consider the observed energy output of the Sun, which is $3.839 \\times 10^{26}$ J of energy emitted per second.  This energy output would be sufficient to melt a column of ice with a square mile area and 1 AU thick in only 0.3 seconds (assuming 100% absorption efficiency).  Stars have a finite supply of energy, where they must eventually use up their fuel and die.  *Stellar evolution is the result of a constant fight against the relentless pull of gravity.*"
   ]
  },
  {
   "cell_type": "markdown",
   "metadata": {},
   "source": [
    "### The Derivation of the Hydrostatic Equilibrium Equation\n",
    "The gravitational force is always attractive (as opposed to the electrostatic force that has opposite charges).  Therefore, an opposing force (e.g., supplied by pressure) must exist in a star to avoid collapse.  Just like the ocean, the pressure within a star varies with depth.  \n",
    "\n",
    "**Consider a cylinder of mass $dm$ whose base is located a distance $r$ from the center of a spherical star.**  \n",
    "1. The top and bottom of the cylinder each have an area $A$ and the cylinder's height is $dr$.  \n",
    "2. Assume that the only forces acting on the cylinder are *gravity* and the *force due to pressure*, which is always normal (radially) to the top and bottom cylinder surface.  \n",
    "3. These forces also vary with the cylinder's distance from the center of the star.\n",
    "\n",
    "\n",
    "Using Newton's second law $\\mathbf{F} = m\\mathbf{a}$, we have the net force along the central axis of the cylinder:\n",
    "\n",
    "$$ dm \\frac{d^2r}{dt^2} = F_g + F_{p,top} + F_{p,bot}, $$\n",
    "\n",
    "where the gravitational force $F_g$ and pressure force on the top of the cylinder $F_{p,top}$ are directed inward (i.e., $F<0$), while the pressure force on the bottom $F_{p,bot}$ of the cylinder is directed upward (i.e., $F_{p,bot}>0$).  The pressure forces on the *curved* side of the cylinder will cancel due to symmetry and have been explicitly excluded from the expression.\n",
    "\n",
    "The pressure force at the top and bottom of the cylinder are at different depths, and we can write a differential pressure force $-dF_p = F_{p,bot}+F_{p,top}$.  Then the equation from Newton's second law can be rewritten as:\n",
    "\n",
    "$$ dm \\frac{d^2r}{dt^2} = F_g - dF_p. \\tag{1}$$\n",
    "\n",
    "The gravitational force on a small mass $dm$ located at a distance $r$ from the center of a spherically symmetric mass is\n",
    "\n",
    "$$ F_g = -\\frac{G M_r dm}{r^2}, \\tag{2}$$\n",
    "\n",
    "which depends on the mass $M_r$ inside the sphere of radius $r$ (i.e., the interior mass).  The pressure is defined as teh amount of force per unit area ($P\\equiv F/A$), where a pressure differential $dP$ can be expressed as\n",
    "\n",
    "$$ dF_p = A dP. \\tag{3} $$\n",
    "\n",
    "Substituting Eqns. 2 & 3 into Eqn. 1 produces\n",
    "\n",
    "$$ dm\\frac{d^2 r}{dt^2} = -\\frac{G M_r dm}{r^2} - A dP. \\tag{4}$$\n",
    "\n",
    "The volume of a cylinder is product of the area $A$ of the base with the height $dr$, where the density of material enclosed $\\rho$ is the differential mass $dm$ divided by the volume.  The differential mass can be given as\n",
    "\n",
    "$$ dm = \\rho A dr, \\tag{4.5}$$\n",
    "\n",
    "and a substitution into Eqn. 4 becomes\n",
    "\n",
    "$$ \\rho A dr \\frac{d^2r}{dt^2} = -\\frac{G M_r \\rho A dr}{r^2} - A dP. $$\n",
    "\n",
    "Normalizing by the volume of the cylinder produces\n",
    "\n",
    "$$ \\rho \\frac{d^2}{dt^2} = -\\frac{G M_r \\rho}{r^2} - \\frac{dP}{dr}, \\tag{5} $$\n",
    "\n",
    "which is the equation for the radial motion of the cylinder.  For the hydrostatic case (i.e., $\\mathbf{a}=0$), the radial motion equation becomes\n",
    "\n",
    "$$ \\frac{dP}{dr} = -\\frac{G M_r \\rho}{r^2} = -\\rho g, \\tag{6}$$\n",
    "\n",
    "where the local acceleration of gravity (at a radius $r$) is $g\\equiv GM_r/r^2$.\n",
    "\n",
    "The condition of **hydrostatic equilibrium** represents a fundamental equation of stellar structure for spherically symmetric objects with negligible accelerations.  A **pressure gradient** $dP/dr$ must exit to counteract the gravitational force.  It is not the pressure that supports a star, but the *change in pressure with radius*.  The pressure must decrease with increasing radius so that the pressure is necessarily larger within the interior as compared to near the surface.\n",
    "\n",
    "- **What is an estimate of the pressure at the center of the Sun?**\n",
    "\n",
    "A very crude estimate can be made, if we assume that $M_r = 1 M_\\odot$, $r=1 R\\odot$, $\\rho = \\bar{\\rho}_\\odot = 1410 \\:{\\rm kg/m^3}$, and the surface pressure is exactly zero.  Converting the differential equation for pressure into a difference equation yields\n",
    "\n",
    "$$ \\frac{dP}{dr} \\sim \\frac{P_s - P_c}{R_s - 0} \\sim -\\frac{P_c}{R_\\odot}, $$\n",
    "\n",
    "which depends on the central pressure $P_c$.  Substituting into Eqn. 6 provides an estimate of the central pressure as\n",
    "\n",
    "$$ P_c \\sim \\frac{G M_\\odot \\bar{\\rho}_\\odot}{R_\\odot} \\sim 2.69 \\times 10^{14} \\:{\\rm N/m^2}. $$"
   ]
  },
  {
   "cell_type": "code",
   "execution_count": 3,
   "metadata": {},
   "outputs": [
    {
     "name": "stdout",
     "output_type": "stream",
     "text": [
      "The estimated central pressure is 2.69e+14 N/m^2\n"
     ]
    }
   ],
   "source": [
    "GM_sun = 1.3271244e20 #GM_sun from astropy in m^3/s^2\n",
    "R_sun = 6.957e8 #solar radius in m\n",
    "rho_sun = 1410 #solar density in kg/m^3\n",
    "\n",
    "P_c = GM_sun*rho_sun/R_sun\n",
    "print(\"The estimated central pressure is %1.2e N/m^2\" % P_c)"
   ]
  },
  {
   "cell_type": "markdown",
   "metadata": {},
   "source": [
    "\n",
    "\n",
    "A more rigorous calculation requires the integration of the hydrostatic equilibrium equation, where a functional form of the mass distribution ($M_r$ and $\\rho$) is needed.  Unfortunately, explicit expression s are not available.  A standard solar model gives a central pressure of $2.34 \\times 10^{16}\\:{\\rm N/m^2}$, which is $\\sim 100 \\times$ larger than our crude estimate because there is an increased density near the center of the Sun.  Using $1.13 \\times 10^5 \\:{N/m^2}$ for Earth's atmospheric pressure, the more realistic model of the Sun's interior predicts a central pressure of $2.3 \\times 10^{11}$ atm.\n"
   ]
  },
  {
   "cell_type": "markdown",
   "metadata": {},
   "source": [
    "### The Equation of Mass Conservation\n",
    "Instead of using cylindrical symmetry, a relationship involving mass, radius, and density can be derived for *spherical symmetry* using Eqn. 4.5. \n",
    "\n",
    "**Consider a *shell* of mass $dM_r$ and thickness $dr$ located a distance $r$ from the center of the shell.**\n",
    "\n",
    "1. Assume that the shell is sufficiently thin (i.e., $dr \\ll r$).\n",
    "2. The volume of the shell is approximately $dV = A dr = 4\\pi r^2\\:dr$.\n",
    "\n",
    "Using the relation for density $\\rho = M/V$, we arrive at the **mass conservation equation**,\n",
    "\n",
    "$$ \\frac{dM_r}{dr} = 4\\pi r^2 \\rho, \\tag{7} $$\n",
    "\n",
    "which describes the mass distribution (i.e., changes in mass with radius) within a star."
   ]
  },
  {
   "cell_type": "markdown",
   "metadata": {},
   "source": [
    "### **Problems**\n",
    ">1\\. Show that the equation for hydrostatic equilibrium (Eqn. 6) can also be written in terms of the optical depth $\\tau$, as \n",
    ">$$ \\frac{dP}{d\\tau} = \\frac{g}{\\bar{\\kappa}}."
   ]
  },
  {
   "cell_type": "markdown",
   "metadata": {},
   "source": [
    "## Pressure Equation of State\n",
    "A gas has a several physical properties (mass, density, temperature, pressure, and volume) that describe how it currently exists (i.e., state).  The state of a gas represents a macroscopic manifestation of the particle interactions and it is necessary to derive a pressure **equation of state** of the gas.  One well-known example of a pressure equation of state is the **ideal gas law**, which is often expressed as\n",
    "\n",
    "$$ PV = NkT = nRT, $$\n",
    "\n",
    "which relates the gas pressure $P$, volume $V$, and temperature $T$ to the number of particles $N$ (or $n$) and the Boltzmann constant $k$ (or gas constant $R$).  The ideal gas law is limited to specific environments, where in astrophysical problems it is necessary to have a pressure equation of state that is more general.\n",
    "\n",
    "### The Derivation of the Pressure Integral\n",
    "The pressure of a gas is the force per area exerted on the walls of its container due to collisions.\n",
    "\n",
    "**Consider a gas-containing cylinder of length $\\Delta x$ and ends with a cross-sectional area $A$.  The gas is composed of point particles, each of mass $m$, that interact through *perfectly* elastic collisions.**\n",
    "\n",
    "1. The gas exerts a pressure on one of the ends of the container.\n",
    "2. The impact of an individual particle on the container wall is described through a change in momentum.\n",
    "3. Newton's 2nd ($\\mathbf{F}=d\\mathbf{p}/dt$) and 3rd laws can be applied.\n",
    "\n",
    "For a perfectly elastic collision, the angle of incidence equals the angle of reflection and we define a reference that is normal to the wall at the point of impact.  Then the particle approaches the wall in the positive $x$-direction and rebounds along the negative $x$-direction.  From Newton's 3rd law, the *impulse* $\\mathbf{F\\Delta t}$ delivered to the wall is just the negative of the change in momentum of the particle, or\n",
    "\n",
    "$$ \\mathbf{F} \\Delta t = - \\Delta p = 2p_x \\hat{\\mathbf{i}}, $$\n",
    "\n",
    "using the $x$-component of the particle's initial momentum $p_x$.  The average force exerted by the particle per time interval can be determined by the time interval between collision.  The (shortest) time interval $\\Delta t$ is obtained when the particle traverses the length of the cylinder twice before returning for a second reflection, which is \n",
    "\n",
    "$$ \\Delta t = \\frac{2\\Delta x}{v_x}, $$\n",
    "\n",
    "so the average force exerted on the wall by a single particle over that time period is given by\n",
    "\n",
    "$$ F = \\frac{2p_x}{\\Delta t} = \\frac{p_x v_x}{\\Delta x}, $$\n",
    "\n",
    "where it is assumed that the force vector is normal to the surface.  The numerator is proportional to $v_x^2$ because $p_x \\propto v_x$.  For a sufficiently large collection of particles in random motion, the likelihood of motion in each direction is the same (i.e., $\\bar{v}_x^2 = \\bar{v}_y^2 = \\bar{v}_z^2= v^2/3$) so that $v_x \\approx v/\\sqrt{3}$ and $p_x v_x = pv/3$.  The average force per particle having a momentum $p$ is\n",
    "\n",
    "$$ F(p) = \\frac{pv}{3\\Delta x}. $$\n",
    "\n",
    "However, it is usually the case that the particles have a range of momenta (i.e., range of incident angles).  The number of particles with momenta between $p$ and $p + dp$ (similar to the Maxwell-Boltzmann distribution) is given by the expression $N_p\\:dp$ and the total number of particles in the container is\n",
    "\n",
    "$$ N = \\int_0^\\infty N_p\\:dp. $$\n",
    "\n",
    "The contribution to the total force $dF(p)$ by *all* the particles in a momentum range is\n",
    "\n",
    "$$ dF(p) = F(p)N_p\\:dp = \\frac{N_p}{3\\Delta x}pv\\:dp. $$\n",
    "\n",
    "The sum of all the forces (i.e., integrating over all the possible momenta) exerted by particle collisions is\n",
    "\n",
    "$$ F = \\frac{1}{3} \\int_0^\\infty \\frac{N_p}{\\Delta x}pv\\:dp. $$\n",
    "\n",
    "Normalizing the force exerted on the wall by the surface area $A$ is the pressure on the surface.  The volume of a cylinder is $\\Delta V = A \\Delta x$ and defining $n_p dp$ as the number fo particles *per unit volume* having a momenta within the range of $p$ and $p+dp$ can be written as\n",
    "\n",
    "$$ n_p\\:dp \\equiv \\frac{N_p}{\\Delta V}dp, $$\n",
    "\n",
    "and we find the pressure exerted on teh wall is\n",
    "\n",
    "$$ P = \\frac{F}{A} = \\frac{1}{3} \\int_0^\\infty n_p pv\\:dp. \\tag{8} $$\n",
    "\n",
    "Equation 8 is sometimes called the **pressure integral**, which allows us to compute the pressure given some *distribution function* $n_p dp$."
   ]
  },
  {
   "cell_type": "markdown",
   "metadata": {},
   "source": [
    "### The Ideal Gas Law in Terms of the Mean Molecular Weight"
   ]
  },
  {
   "cell_type": "markdown",
   "metadata": {},
   "source": [
    "### The Average Kinetic Energy per Particle\n",
    "\n",
    "### Fermi-Dirac and Bose-Einstein Statistics"
   ]
  },
  {
   "cell_type": "markdown",
   "metadata": {},
   "source": [
    "### The Contribution Due to Radiation Pressure"
   ]
  },
  {
   "cell_type": "markdown",
   "metadata": {},
   "source": [
    "### **Problems**"
   ]
  },
  {
   "cell_type": "markdown",
   "metadata": {},
   "source": [
    "## Stellar Energy Sources\n",
    "\n",
    "### Gravitation and the Kelvin-Helmholtz Timescale"
   ]
  },
  {
   "cell_type": "markdown",
   "metadata": {},
   "source": [
    "### The Nuclear Timescale"
   ]
  },
  {
   "cell_type": "markdown",
   "metadata": {},
   "source": [
    "### Quantum Mechanical Tunneling"
   ]
  },
  {
   "cell_type": "markdown",
   "metadata": {},
   "source": [
    "### Nuclear Reaction Rates and the Gamow Peak"
   ]
  },
  {
   "cell_type": "markdown",
   "metadata": {},
   "source": [
    "### Electron Screening"
   ]
  },
  {
   "cell_type": "markdown",
   "metadata": {},
   "source": [
    "### Representing Nuclear Reaction Rates Using Power Laws\n",
    "\n",
    "### The Luminosity Gradient Equation"
   ]
  },
  {
   "cell_type": "markdown",
   "metadata": {},
   "source": [
    "### Stellar Nucleosynthesis and Conservation Laws"
   ]
  },
  {
   "cell_type": "markdown",
   "metadata": {},
   "source": [
    "### The Proton-Proton Chain"
   ]
  },
  {
   "cell_type": "markdown",
   "metadata": {},
   "source": [
    "### The CNO Cycle"
   ]
  },
  {
   "cell_type": "markdown",
   "metadata": {},
   "source": [
    "### The Triple Alpha Process of Helium Burning\n",
    "\n",
    "### Carbon and Oxygen Burning"
   ]
  },
  {
   "cell_type": "markdown",
   "metadata": {},
   "source": [
    "### The Binding Energy per Nucleon"
   ]
  },
  {
   "cell_type": "markdown",
   "metadata": {},
   "source": [
    "### **Problems**"
   ]
  },
  {
   "cell_type": "markdown",
   "metadata": {},
   "source": [
    "## Energy Transport and Thermodynamics\n",
    "\n",
    "### Three Energy Transport Mechanisms\n",
    "\n",
    "### The Radiative Temperature Gradient\n",
    "\n",
    "### The Pressure Scale Height"
   ]
  },
  {
   "cell_type": "markdown",
   "metadata": {},
   "source": [
    "### Internal Energy and the First Law of Thermodynamics\n",
    "\n",
    "### Specific Heats\n",
    "\n",
    "### The Adiabatic Gas Law\n",
    "\n",
    "### The Adiabatic Sound Speed\n",
    "\n",
    "### The Adiabatic Temperature Gradient"
   ]
  },
  {
   "cell_type": "markdown",
   "metadata": {},
   "source": [
    "### A Criterion for Stellar Convection"
   ]
  },
  {
   "cell_type": "markdown",
   "metadata": {},
   "source": [
    "### The Mixing-Length Theory of Superadiabatic Convection"
   ]
  },
  {
   "cell_type": "markdown",
   "metadata": {},
   "source": [
    "### **Problems**"
   ]
  },
  {
   "cell_type": "markdown",
   "metadata": {},
   "source": [
    "## Stellar Model Building\n",
    "\n",
    "### A Summary of The Equations of Stellar Structure\n",
    "\n",
    "### Entropy\n",
    "\n",
    "### The Constitutive Relations\n",
    "\n",
    "### Boundary Conditions\n",
    "\n"
   ]
  },
  {
   "cell_type": "markdown",
   "metadata": {},
   "source": [
    "### The Vogt-Russell Theorem"
   ]
  },
  {
   "cell_type": "markdown",
   "metadata": {},
   "source": [
    "### Numerical Modeling of the Stellar Structure Equations"
   ]
  },
  {
   "cell_type": "markdown",
   "metadata": {},
   "source": [
    "### Polytropic Models and the Lane-Emden Equation"
   ]
  },
  {
   "cell_type": "markdown",
   "metadata": {},
   "source": [
    "### **Problems**"
   ]
  },
  {
   "cell_type": "markdown",
   "metadata": {},
   "source": [
    "## The Main Sequence\n",
    "\n",
    "### The Eddington Luminosity Limit"
   ]
  },
  {
   "cell_type": "markdown",
   "metadata": {},
   "source": [
    "### Variations of Main-Sequence Stellar Parameters with Mass"
   ]
  },
  {
   "cell_type": "markdown",
   "metadata": {},
   "source": [
    "### **Problems**"
   ]
  }
 ],
 "metadata": {
  "interpreter": {
   "hash": "cff387fdeb90e4ccced9dcd80621bb508127aaf7364e37afa52690e3819a2639"
  },
  "kernelspec": {
   "display_name": "Python 3.8.8 ('base')",
   "language": "python",
   "name": "python3"
  },
  "language_info": {
   "codemirror_mode": {
    "name": "ipython",
    "version": 3
   },
   "file_extension": ".py",
   "mimetype": "text/x-python",
   "name": "python",
   "nbconvert_exporter": "python",
   "pygments_lexer": "ipython3",
   "version": "3.8.8"
  },
  "orig_nbformat": 4
 },
 "nbformat": 4,
 "nbformat_minor": 2
}
