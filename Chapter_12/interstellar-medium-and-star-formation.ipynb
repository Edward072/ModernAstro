{
 "cells": [
  {
   "cell_type": "markdown",
   "metadata": {},
   "source": [
    "# The Interstellar Medium and Star Formation\n",
    "\n",
    "## Interstellar dust and gas\n",
    "### The Interstellar Medium\n",
    "The evolution of stars is a cyclic process, where a star is born out of gas and dust that exists between the stars (i.e., **interstellar medium** or ISM).  During a star's lifetime, much of that material may return to the ISM through stellar winds or explosive events.  The next generation of stars can then form from the ashes, which are processed by the nuclear fusion within the deep interiors of stars.  Thus it's important to study the nature of the ISM so that we can better understand stellar evolution.\n",
    "\n",
    "The ISM is an enormous and complex environment that provides a laboratory for testing our basic understanding of astrophysics (i.e., its the testbed to develop sensible initial conditions for stellar models).  The ISM interacts with the stellar environment through shocks and galactic magnetic fields that extend into interstellar space.  As a result, modeling the ISM requires detailed modeling of the magnetohydrodynamics (MHD) equations."
   ]
  },
  {
   "cell_type": "markdown",
   "metadata": {},
   "source": [
    "### Interstellar Extinction\n",
    "On a dark night (far from city lights), some of the dust clouds within the Milky Way Galaxy can be found because they obscure regions of sky that would otherwise be populated with stars.  These dark regions are not devoid of stars, but the intervening dust blocks the background starlight.  Dust that blocks starlight is due to the combined effet of scattering and absorption, which is called **interstellar extinction**.  The apparent magnitude is a measure of how bright a star appears and if it is dimmed by intervening dust, the distance modulus equation must be modified appropriately.  In a given wavelength band centered on $\\lambda$, we have\n",
    "\n",
    "$$ m_\\lambda = M_\\lambda + 5\\log_{10}\\,d-5 + A_\\lambda, \\tag{1}$$\n",
    "\n",
    "which is a modified version of the distance modulus equation with a correction factor $A_\\lambda>0$ that adjusts for the interstellar extinction along the line of sight.  The extinction coefficient $A_\\lambda$ is positive because it always acts to dim objects along the magnitude scale.  If $A_\\lambda$ is large enough, a star can fall behind the limiting magnitude of the background sky for the naked eye or a telescope.  This is the cause for the dark bands running through the Milky Way.\n",
    "\n",
    "The extinction coefficient $A_\\lambda$ is related to optical depth (recall that the gas below the photosphere is also invisible) measured back along the line of sight.  The fractional change in the intensity of light decreases exponentially by,\n",
    "\n",
    "$$ \\frac{I_\\lambda}{I_{\\lambda,o}} = e^{-\\tau_\\lambda}, $$\n",
    "\n",
    "which is normalized by the expected light intensity without interstellar extinction.  The optical depth correlates with the change in magnitude through the fractional change in light intensity (see Chapter 1), or\n",
    "\n",
    "$$ \\begin{split}\n",
    "m_\\lambda - m_{\\lambda,o} &= -2.5 \\log_{10}\\,e^{-\\tau_\\lambda} \\\\\n",
    "& = 2.5\\tau_\\lambda\\:\\log_{10}\\,e \\approx 1.086\\tau_\\lambda.\n",
    "\\end{split} $$\n",
    "\n",
    "The change in apparent magnitude is simply the extinction coefficient $A_\\lambda$, or\n",
    "\n",
    "$$ A_\\lambda = 1.086 \\tau\\lambda, \\tag{2}$$\n",
    "\n",
    "which restates that *the change in magnitude due to extinction is approximately equal to the optical depth along the line of sight*.  The optical depth through the cloud is \n",
    "\n",
    "$$ \\tau_\\lambda = \\int_0^s n_d(s^\\prime)\\sigma_\\lambda\\,ds^\\prime, \\tag{3} $$\n",
    "\n",
    "which depends on the number density of scattering dust grains $n_d(s^\\prime)$ and the scattering cross section $\\sigma_\\lambda$.  If the scattering cross section is constant along the line of sight, then \n",
    "\n",
    "$$ \\tau_\\lambda = \\sigma_\\lambda \\int_0^sn_d(s^\\prime),ds^\\prime = \\sigma_\\lambda N_d, \\tag{4}$$\n",
    "\n",
    "and the dust grain *column density* $N_d$ represents the number of scattering dust particles in a thin cylinder with a cross section of 1 ${\\rm m^2}$ stretching from the observer to the star.  The magnitude of extinction depends on the amount of interstellar dust that the light passes through."
   ]
  },
  {
   "cell_type": "markdown",
   "metadata": {},
   "source": [
    "### The Mie Theory"
   ]
  },
  {
   "cell_type": "markdown",
   "metadata": {},
   "source": [
    "### Molecular Contributions to Interstellar Extinction Curves"
   ]
  },
  {
   "cell_type": "markdown",
   "metadata": {},
   "source": [
    "### Hydrogen as the Dominant Component of the ISM"
   ]
  },
  {
   "cell_type": "markdown",
   "metadata": {},
   "source": [
    "### 21-cm Radiation of Hydrogen"
   ]
  },
  {
   "cell_type": "markdown",
   "metadata": {},
   "source": [
    "### Molecular Traces of Hydrogen"
   ]
  },
  {
   "cell_type": "markdown",
   "metadata": {},
   "source": [
    "### The Classification of Interstellar Clouds"
   ]
  },
  {
   "cell_type": "markdown",
   "metadata": {},
   "source": [
    "### Interstellar Chemistry"
   ]
  },
  {
   "cell_type": "markdown",
   "metadata": {},
   "source": [
    "### The Heating and Cooling of the ISM"
   ]
  },
  {
   "cell_type": "markdown",
   "metadata": {},
   "source": [
    "### The Sources of Dust Grains"
   ]
  },
  {
   "cell_type": "markdown",
   "metadata": {},
   "source": [
    "### **Problems**"
   ]
  },
  {
   "cell_type": "markdown",
   "metadata": {},
   "source": [
    "## The Formation of Protostars\n",
    "\n",
    "### The Jeans Criterion"
   ]
  },
  {
   "cell_type": "markdown",
   "metadata": {},
   "source": [
    "### Homologous Collapse"
   ]
  },
  {
   "cell_type": "markdown",
   "metadata": {},
   "source": [
    "### The Fragmentation of Collapsing Clouds"
   ]
  },
  {
   "cell_type": "markdown",
   "metadata": {},
   "source": [
    "## Additional Physical Processes in Protostellar Star Formation"
   ]
  },
  {
   "cell_type": "markdown",
   "metadata": {},
   "source": [
    "### Ambipolar Diffusion"
   ]
  },
  {
   "cell_type": "markdown",
   "metadata": {},
   "source": [
    "### Numerical Simulations of Protostellar Evolution"
   ]
  },
  {
   "cell_type": "markdown",
   "metadata": {},
   "source": [
    "### **Problems**"
   ]
  },
  {
   "cell_type": "markdown",
   "metadata": {},
   "source": [
    "## Pre-Main-Sequence Evolution\n",
    "\n",
    "### The Hayashi Track\n",
    "\n",
    "### Classical Calulations of Pre-Main-Sequence Evolution"
   ]
  },
  {
   "cell_type": "markdown",
   "metadata": {},
   "source": [
    "### The Formation of Brown Dwarfs\n",
    "\n",
    "### Massive Star Formation\n",
    "\n",
    "### Possible Modifications to the Classical Models"
   ]
  },
  {
   "cell_type": "markdown",
   "metadata": {},
   "source": [
    "### The Zero-Age Main Sequence (ZAMS)"
   ]
  },
  {
   "cell_type": "markdown",
   "metadata": {},
   "source": [
    "### The Initial Mass Function (IMF)"
   ]
  },
  {
   "cell_type": "markdown",
   "metadata": {},
   "source": [
    "### H II Regions"
   ]
  },
  {
   "cell_type": "markdown",
   "metadata": {},
   "source": [
    "### The Effects of Massive Stars on Gas Clouds\n",
    "\n",
    "#### OB Associations\n",
    "\n",
    "#### T Tauri Stars\n",
    "\n",
    "#### FU Orionis Stars\n",
    "\n",
    "#### Herbig Ae/Be Stars\n",
    "\n",
    "#### Herbig-Haro Objects\n",
    "\n",
    "### Young Stars with Circumstellar Disks\n",
    "\n",
    "#### Porplyds\n",
    "\n",
    "#### Circumstellar Disk Formation"
   ]
  },
  {
   "cell_type": "markdown",
   "metadata": {},
   "source": [
    "### **Problems**"
   ]
  }
 ],
 "metadata": {
  "language_info": {
   "name": "python"
  },
  "orig_nbformat": 4
 },
 "nbformat": 4,
 "nbformat_minor": 2
}
