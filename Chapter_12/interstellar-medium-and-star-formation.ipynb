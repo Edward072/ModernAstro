{
 "cells": [
  {
   "cell_type": "markdown",
   "metadata": {},
   "source": [
    "# The Interstellar Medium and Star Formation\n",
    "\n",
    "## Interstellar dust and gas\n",
    "### The Interstellar Medium\n",
    "The evolution of stars is a cyclic process, where a star is born out of gas and dust that exists between the stars (i.e., **interstellar medium** or ISM).  During a star's lifetime, much of that material may return to the ISM through stellar winds or explosive events.  The next generation of stars can then form from the ashes, which are processed by the nuclear fusion within the deep interiors of stars.  Thus it's important to study the nature of the ISM so that we can better understand stellar evolution.\n",
    "\n",
    "The ISM is an enormous and complex environment that provides a laboratory for testing our basic understanding of astrophysics (i.e., its the testbed to develop sensible initial conditions for stellar models).  The ISM interacts with the stellar environment through shocks and galactic magnetic fields that extend into interstellar space.  As a result, modeling the ISM requires detailed modeling of the magnetohydrodynamics (MHD) equations."
   ]
  },
  {
   "cell_type": "markdown",
   "metadata": {},
   "source": [
    "### Interstellar Extinction\n",
    "On a dark night (far from city lights), some of the dust clouds within the Milky Way Galaxy can be found because they obscure regions of sky that would otherwise be populated with stars.  These dark regions are not devoid of stars, but the intervening dust blocks the background starlight.  Dust that blocks starlight is due to the combined effet of scattering and absorption, which is called **interstellar extinction**.  The apparent magnitude is a measure of how bright a star appears and if it is dimmed by intervening dust, the distance modulus equation must be modified appropriately.  In a given wavelength band centered on $\\lambda$, we have\n",
    "\n",
    "$$ m_\\lambda = M_\\lambda + 5\\log_{10}\\,d-5 + A_\\lambda, \\tag{1}$$\n",
    "\n",
    "which is a modified version of the distance modulus equation with a correction factor $A_\\lambda>0$ that adjusts for the interstellar extinction along the line of sight.  The extinction magnitude $A_\\lambda$ is positive because it always acts to dim objects along the magnitude scale.  If $A_\\lambda$ is large enough, a star can fall behind the limiting magnitude of the background sky for the naked eye or a telescope.  This is the cause for the dark bands running through the Milky Way.\n",
    "\n",
    "The extinction magnitude $A_\\lambda$ is related to optical depth (recall that the gas below the photosphere is also invisible) measured back along the line of sight.  The fractional change in the intensity of light decreases exponentially by,\n",
    "\n",
    "$$ \\frac{I_\\lambda}{I_{\\lambda,o}} = e^{-\\tau_\\lambda}, $$\n",
    "\n",
    "which is normalized by the expected light intensity without interstellar extinction.  The optical depth correlates with the change in magnitude through the fractional change in light intensity (see Chapter 1), or\n",
    "\n",
    "$$ \\begin{split}\n",
    "m_\\lambda - m_{\\lambda,o} &= -2.5 \\log_{10}\\,e^{-\\tau_\\lambda} \\\\\n",
    "& = 2.5\\tau_\\lambda\\:\\log_{10}\\,e \\approx 1.086\\tau_\\lambda.\n",
    "\\end{split} $$\n",
    "\n",
    "The change in apparent magnitude is simply the extinction magnitude $A_\\lambda$, or\n",
    "\n",
    "$$ A_\\lambda = 1.086 \\tau\\lambda, \\tag{2}$$\n",
    "\n",
    "which restates that *the change in magnitude due to extinction is approximately equal to the optical depth along the line of sight*.  The optical depth through the cloud is \n",
    "\n",
    "$$ \\tau_\\lambda = \\int_0^s n_d(s^\\prime)\\sigma_\\lambda\\,ds^\\prime, \\tag{3} $$\n",
    "\n",
    "which depends on the number density of scattering dust grains $n_d(s^\\prime)$ and the scattering cross section $\\sigma_\\lambda$.  If the scattering cross section is constant along the line of sight, then \n",
    "\n",
    "$$ \\tau_\\lambda = \\sigma_\\lambda \\int_0^sn_d(s^\\prime),ds^\\prime = \\sigma_\\lambda N_d, \\tag{4}$$\n",
    "\n",
    "and the dust grain *column density* $N_d$ represents the number of scattering dust particles in a thin cylinder with a cross section of 1 ${\\rm m^2}$ stretching from the observer to the star.  The magnitude of extinction depends on the amount of interstellar dust that the light passes through."
   ]
  },
  {
   "cell_type": "markdown",
   "metadata": {},
   "source": [
    "### The Mie Theory\n",
    "Assuming that the dust particles are *spherical* with a radius $a$, the geometrical cross-section of the dust particle is $\\sigma_g = \\pi a^2$.  The dimensionless **extinction coefficient** $Q_\\lambda$ is then defined as\n",
    "\n",
    "$$ Q_\\lambda \\equiv \\frac{\\sigma_\\lambda}{\\sigma_g}, $$\n",
    "\n",
    "where the extinction coefficient $Q_\\lambda$ depends on the composition of the dust grains.  When the wavelength of the light is similar to the size of the dust grains, then $Q_\\lambda \\sim a/\\lambda$, implying that\n",
    "\n",
    "$$ \\sigma_\\lambda \\propto \\frac{a^3}{\\lambda} \\qquad (\\lambda \\gtrsim a). \\tag{5}$$\n",
    "\n",
    "The extinction coefficient $Q_\\lambda$ goes to zero when the wavelength $\\lambda$ is large compared to $a$.  Conversely, the extinction coefficient $Q_\\lambda$ approaches a constant (independent of $\\lambda$) when the wavelength $\\lambda$ is very small compared to $a$ or\n",
    "\n",
    "$$ \\sigma_\\lambda \\propto a^2 \\qquad (\\lambda \\ll a). \\tag{6} $$\n",
    "\n",
    "```{note}\n",
    "Gustav Mie made similar assumptions concerning dust particles in 1908 and showed that the relationship between the scattering cross section $\\sigma_\\lambda$ and the radius of a dust grain.\n",
    "```\n",
    "\n",
    "These limiting cases can be understood by analogy with the waves on the surface of a lake.  If the size of the surface waves (i.e., wavelength) is much larger than an object in their way, then the waves pass by almost completely unaffected $(\\sigma_\\lambda \\sim 0)$.  However, if the object (e.g., an island) is large compared to the waves, then they are simply blocked.  The only waves that pass by the large object are those that miss it altogether.  The light we detect from a dust cloud is the light that passes between the dust particles.\n",
    "\n",
    "The extinction magnitude $A_\\lambda$ is clearly wavelength-dependent, where longer wavelengths (redder light) are not scattered as strongly as shorter wavelengths (bluer light).  The starlight that passes through is preferentially red, or *reddened*, as the blue light is removed.  This **interstellar reddening** causes stars to appear redder, where we might infer them to be cooler through Wien's law.  Fortunately, we can carefully analyze the star's spectrum (i.e., absorption and emission lines) to detect the change.\n",
    "\n",
    "Strongly scattered blue light can leave the cloud in any direction, where a bright star behind a cloud casts a blue **reflection nebula** for observers that are not along the line of sight (e.g., the Pleiades).  This process is analogous to Rayleigh scattering, which produces a blue sky on Earth.  The difference between Mie scattering and Rayleigh scattering is that the scattering particles are much smaller than the wavelength of visible light in Rayleigh scattering and leads to $\\sigma_\\lambda \\propto \\lambda^{-4}$.\n",
    "\n",
    "- **A star is found to be dimmer than expected at 550 nm by 1.1 magnitudes in the visual (i.e., $A_V = 1.1$).  If $Q_{550}=1.5$ and the radius of the dust grains are 0.2 ${\\rm \\mu m}$, estimate the average density $\\overline{n}$ of the material between the star and Earth.  The star is 0.8 kpc from Earth.**\n",
    "\n",
    ">The extinction magnitude $A_\\lambda$ is related to the optical depth $\\tau_\\lambda$ by a faction of 1.086, where $\\tau_{550} = 1.1/1.086 \\simeq 1$.  Given the radius of the dust grains $(a = 0.2\\,{\\rm \\mu m})$ and the extinction coefficient $Q_{550} = 1.5$ we have,\n",
    ">\n",
    ">$$ \\sigma_{550} = 1.5\\pi (2\\times 10^{-7}\\,{\\rm m})^2 \\simeq 2 \\times 10^{-13}\\,{\\rm m^2}. $$\n",
    ">\n",
    ">The column density of the dust along the line of sight is\n",
    ">\n",
    ">$$ N_d = \\frac{\\tau_{550}}{\\sigma_{550}} \\simeq 5 \\times 10^{12}\\,{\\rm m^{-2}}, $$\n",
    ">\n",
    ">and the column density is the integrated particle density across the distance to the star.  Then we have,\n",
    ">\n",
    "> $$ \\overline{n} = \\frac{N_d}{0.8\\, {\\rm kpc}} = 2 \\times 10^{-7} \\,{\\rm m^{-3}}. $$"
   ]
  },
  {
   "cell_type": "code",
   "execution_count": 1,
   "metadata": {},
   "outputs": [
    {
     "name": "stdout",
     "output_type": "stream",
     "text": [
      "The scattering cross section for the grain is 1.9e-13 m^2.\n",
      "The column density of the dust along the line of sight is 5.4e+12 m^{-3}.\n",
      "The average density is 2.2e-07 m^{-3}.\n"
     ]
    }
   ],
   "source": [
    "import numpy as np\n",
    "\n",
    "pc = 3.0857e16 #1 pc in meters\n",
    "a = 0.2e-6 #radius of the dust grains converted to meters\n",
    "A_lambda = 1.1\n",
    "Q_lambda = 1.5\n",
    "\n",
    "tau_550 = A_lambda/1.086\n",
    "sigma_550 = 1.5*np.pi*a**2\n",
    "print(\"The scattering cross section for the grain is %1.1e m^2.\" % sigma_550)\n",
    "\n",
    "N_d = tau_550/sigma_550\n",
    "print(\"The column density of the dust along the line of sight is %1.1e m^{-3}.\" % N_d)\n",
    "\n",
    "average_n = N_d/(0.8*1000*pc)\n",
    "print(\"The average density is %1.1e m^{-3}.\" % average_n)"
   ]
  },
  {
   "cell_type": "markdown",
   "metadata": {},
   "source": [
    "### Molecular Contributions to Interstellar Extinction Curves"
   ]
  },
  {
   "cell_type": "markdown",
   "metadata": {},
   "source": [
    "### Hydrogen as the Dominant Component of the ISM"
   ]
  },
  {
   "cell_type": "markdown",
   "metadata": {},
   "source": [
    "### 21-cm Radiation of Hydrogen"
   ]
  },
  {
   "cell_type": "markdown",
   "metadata": {},
   "source": [
    "### Molecular Traces of Hydrogen"
   ]
  },
  {
   "cell_type": "markdown",
   "metadata": {},
   "source": [
    "### The Classification of Interstellar Clouds"
   ]
  },
  {
   "cell_type": "markdown",
   "metadata": {},
   "source": [
    "### Interstellar Chemistry"
   ]
  },
  {
   "cell_type": "markdown",
   "metadata": {},
   "source": [
    "### The Heating and Cooling of the ISM"
   ]
  },
  {
   "cell_type": "markdown",
   "metadata": {},
   "source": [
    "### The Sources of Dust Grains"
   ]
  },
  {
   "cell_type": "markdown",
   "metadata": {},
   "source": [
    "### **Problems**"
   ]
  },
  {
   "cell_type": "markdown",
   "metadata": {},
   "source": [
    "## The Formation of Protostars\n",
    "\n",
    "### The Jeans Criterion"
   ]
  },
  {
   "cell_type": "markdown",
   "metadata": {},
   "source": [
    "### Homologous Collapse"
   ]
  },
  {
   "cell_type": "markdown",
   "metadata": {},
   "source": [
    "### The Fragmentation of Collapsing Clouds"
   ]
  },
  {
   "cell_type": "markdown",
   "metadata": {},
   "source": [
    "## Additional Physical Processes in Protostellar Star Formation"
   ]
  },
  {
   "cell_type": "markdown",
   "metadata": {},
   "source": [
    "### Ambipolar Diffusion"
   ]
  },
  {
   "cell_type": "markdown",
   "metadata": {},
   "source": [
    "### Numerical Simulations of Protostellar Evolution"
   ]
  },
  {
   "cell_type": "markdown",
   "metadata": {},
   "source": [
    "### **Problems**"
   ]
  },
  {
   "cell_type": "markdown",
   "metadata": {},
   "source": [
    "## Pre-Main-Sequence Evolution\n",
    "\n",
    "### The Hayashi Track\n",
    "\n",
    "### Classical Calulations of Pre-Main-Sequence Evolution"
   ]
  },
  {
   "cell_type": "markdown",
   "metadata": {},
   "source": [
    "### The Formation of Brown Dwarfs\n",
    "\n",
    "### Massive Star Formation\n",
    "\n",
    "### Possible Modifications to the Classical Models"
   ]
  },
  {
   "cell_type": "markdown",
   "metadata": {},
   "source": [
    "### The Zero-Age Main Sequence (ZAMS)"
   ]
  },
  {
   "cell_type": "markdown",
   "metadata": {},
   "source": [
    "### The Initial Mass Function (IMF)"
   ]
  },
  {
   "cell_type": "markdown",
   "metadata": {},
   "source": [
    "### H II Regions"
   ]
  },
  {
   "cell_type": "markdown",
   "metadata": {},
   "source": [
    "### The Effects of Massive Stars on Gas Clouds\n",
    "\n",
    "#### OB Associations\n",
    "\n",
    "#### T Tauri Stars\n",
    "\n",
    "#### FU Orionis Stars\n",
    "\n",
    "#### Herbig Ae/Be Stars\n",
    "\n",
    "#### Herbig-Haro Objects\n",
    "\n",
    "### Young Stars with Circumstellar Disks\n",
    "\n",
    "#### Porplyds\n",
    "\n",
    "#### Circumstellar Disk Formation"
   ]
  },
  {
   "cell_type": "markdown",
   "metadata": {},
   "source": [
    "### **Problems**"
   ]
  }
 ],
 "metadata": {
  "interpreter": {
   "hash": "cff387fdeb90e4ccced9dcd80621bb508127aaf7364e37afa52690e3819a2639"
  },
  "kernelspec": {
   "display_name": "Python 3.8.8 ('base')",
   "language": "python",
   "name": "python3"
  },
  "language_info": {
   "codemirror_mode": {
    "name": "ipython",
    "version": 3
   },
   "file_extension": ".py",
   "mimetype": "text/x-python",
   "name": "python",
   "nbconvert_exporter": "python",
   "pygments_lexer": "ipython3",
   "version": "3.8.8"
  },
  "orig_nbformat": 4
 },
 "nbformat": 4,
 "nbformat_minor": 2
}
