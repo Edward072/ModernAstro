{
 "cells": [
  {
   "cell_type": "markdown",
   "metadata": {},
   "source": [
    "# Main-Sequence and Post-Main-Sequence Stellar Evolution\n",
    "\n",
    "## Evolution on the Main Sequence\n",
    "### Stellar Evolution Timescales\n",
    "To maintain their luminosities, stars must use either gravitational or nuclear energy, where chemical energy cannot play a significant role.  Pre-main-sequence evolution is guided by two timescales: 1) the free-fall timescale and 2) the thermal Kelvin-Helmholtz timescale.  Main sequence and post-main-sequence stellar evolution are governed by the timescale of *nuclear reactions*, which is $\\sim 10^{10}\\,{\\rm yr}$ for the Sun and is much longer than the Kelvin-Helmholtz timescale $(\\sim 10^7\\,{\\rm yr})$.  The difference in timescales in stellar evolution (at different phases) accounts for why approximately $80-90%$ of stars in the Solar neighborhood are main-sequence stars (i.e., we are more likely to find stars during the longest phase of their lifetime).  Both the pre- and post-main-sequence evolutionary timescales occur rapidly compared to the main-sequence evolution.  During the transition between phases of stellar evolution, gravitational energy and the Kelvin-Helmholtz timescale will again become important.\n",
    "\n",
    "### Low-Mass Main Sequence Evolution\n",
    "Although all stars on the main sequence are converting hydrogen into helium, the stellar mass dictates that higher mass stars do so through different processes (leading to shorter lifetimes).  Zero-age main-sequence (ZAMS) stars with mass greater than 1.2 $M_\\odot$ have convective cores to to the highly temperature dependent CNO cycle, while lower mass stars are dominated by the less temperature-dependent pp chain.  As a result, low-mass ZAMS stars $(0.3-1.2\\,M_\\odot)$ possess radiative cores.  Below $0.3\\,M_\\odot$, ZAMS stars have convective cores because their high surface opacities drive surface convection deep into the star's interior.\n",
    "\n",
    "**Consider a typical low-mass main-sequence star like the Sun.**  The Sun's luminosity, radius, and temperature have all increased steadily since it reach the ZAMS (~4.57 Gyr ago).  As the pp chain converts the hydrogen into helium, the mean molecular weight $\\mu$ of the core increases.  *According to the ideal gas law*, the density and/or temperature of the core must also increase to maintain a sufficient gas pressure to support the outer layers of the star.  While the density of the core increases, gravitational potential energy is released as the core is compressed.  *As required by the virial theorem*, half of the energy is radiated away and the remainder goes into increasing the thermal energy (i.e., thermal temperature of the gas).  The volume of the star that is capable (i.e., hot enough) to undergo nuclear reactions increases slightly during the main-sequence phase.  The pp chain nuclear reaction rate is proportional to $\\rho T^4$, where the luminosity, radius, and effective temperature slowly increase over time.\n",
    "\n",
    "```{note}\n",
    "Icko Iben Jr. pioneered the first computations (in 1th mid-1960s) of main-sequence and post-main-sequence evolutionary tracks for a range of stellar masses.  Modern calculations now consider the effects of convective overshooting and mass over the stellar lifetime.  \n",
    "```\n",
    "\n",
    "With the depletion of hydrogen in the core, the generation of energy via the pp chain must stop.  But the core temperature can increase to a point where nuclear fusion continues to generate energy in a thick hydrogen-burning shell around a small helium core.  The luminosity remains close to zero throughout the inner 3% of a star's mass, the temperature gradient $dT/dr\\simeq 0$, and $T$ is nearly constant.  For an isothermal core to support the material above it in hydrostatic equilibrium, the pressure gradient must result from a continuous increase in the density at the center of the star.  At this point, the luminosity being generated in the thick shell actually exceeds the production by the core during the hydrogen burning phase.  Some of the luminosity from the shell goes into a slow expansion of an outer envelope.  The effective temperature begins to decrease slightly.  As the hydrogen-burning shell continues to consume its nuclear fuel, the \"ash\" from nuclear burning causes the isothermal helium core to grow in mass while the star moves farther to the red in the H-R diagram."
   ]
  },
  {
   "cell_type": "markdown",
   "metadata": {},
   "source": [
    "### The Sch&ouml;nberg-Chandrasekhar Limit\n",
    "\n",
    "The hydrogen shell burning phase of evolution ends when the isothermal core mass is too great and the core pressure can no longer support the material above it.  Sch&ouml;nberg and Chandrasekhar (in 1942) showed the maximum star mass fraction that can exist in an isothermal core and still support the overlying layers is\n",
    "\n",
    "$$ \\left(\\frac{M_{ic}}{M} \\right)_{\\rm SC} \\simeq 0.37 \\left( \\frac{\\mu_{\\rm env}}{\\mu_{ic}}\\right)^2, \\tag{1} $$\n",
    "\n",
    "where the subscripts $ic$ and ${\\rm env}$ represent the isothermal core and overlying envelope, respectively.  The [Sch&ouml;nberg-Chandrasekhar Limit](https://en.wikipedia.org/wiki/Sch%C3%B6nberg%E2%80%93Chandrasekhar_limit) is another consequence of the virial theorem.  The maximum stellar mass fraction depends on the fraction of the mean molecular weights between the core and the envelope.  When the isothermal helium core's mass exceeds this limit, the core collapses on a Kelvin-Helmholtz timescale and the star evolves very rapidly compared to the nuclear timescale of the main sequence.  For stars below about 1.2 $M_\\odot$, this defines the end of the main-sequence phase.\n",
    "\n",
    "- **Assume a star forms with an initial composition ($X=0.68$, $Y=0.30$, and $Z=0.02$) and complete ionization occurs at teh core-envelope boundary so that $\\mu_{\\rm env} \\simeq 0.63$.  What is the Sch&ouml;nberg-Chandrasekhar limit once all the hydrogen is converted into helium in the isothermal core, $\\mu_{ic} \\simeq 1.34$?**\n",
    "\n",
    ">Using Eqn. 1, we can estimate the Sch&ouml;nberg-Chandrasekhar limit as\n",
    ">\n",
    "> $$ \\left(\\frac{M_{ic}}{M} \\right)_{\\rm SC} \\simeq 0.08. $$\n",
    ">\n",
    ">The isothermal core will collapse if its mass exceeds 8% of the total stellar mass."
   ]
  },
  {
   "cell_type": "code",
   "execution_count": 4,
   "metadata": {},
   "outputs": [
    {
     "name": "stdout",
     "output_type": "stream",
     "text": [
      "The Schonberg-Chandrasekhar limit is 0.08 or 8 percent of the total stellar mass.\n"
     ]
    }
   ],
   "source": [
    "mu_ic = 1.34\n",
    "mu_env = 0.63\n",
    "\n",
    "mass_SC = 0.37*(mu_env/mu_ic)**2\n",
    "print(\"The Schonberg-Chandrasekhar limit is %1.2f or %d percent of the total stellar mass.\" % (mass_SC,mass_SC*100))"
   ]
  },
  {
   "cell_type": "markdown",
   "metadata": {},
   "source": [
    "### The Degenerate Electron Gas\n",
    "The isothermal core mass can exceed the Sch&ouml;nberg-Chandrasekhar limit if an *additional source of pressure* can supplement the ideal gas pressure.  A **degenerate** gas pressure if the gas density becomes sufficiently high and the electrons are forced to occupy the lowest available energy levels.  Electrons cannot all occupy the same quantum state because they are fermions and obey the Pauli exclusion principle.  The electrons are stacked starting with the ground state into progressively higher energy states.  For *complete degeneracy*, the gas pressure is due to the nonthermal motion of the electrons and becomes independent of the gas temperature.\n",
    "\n",
    "If the electrons are nonrelativistic, the pressure of a completely degenerate electron gas is given by a [polytropic equation of state](https://saturnaxis.github.io/ModernAstro/Chapter_11/interiors-of-stars.html#polytropic-models-and-the-lane-emden-equation):\n",
    "\n",
    "$$ P_e = K \\rho^{5/3}, \\tag{2} $$\n",
    "\n",
    "which has an index $n = 3/2$ and a constant $K$.  For a *partial degeneracy*, some temperature dependence remains.  The isothermal core of a Solar-mass star is partially degenerate, where the isothermal core mass fraction can reach 0.13 before it begins to collapse.  Less massive stars exhibit even higher levels of degeneracy and many not exceed the Sch&ouml;nberg-Chandrasekhar limit at all before the next stage of burning starts.\n",
    "\n",
    "### Main-Sequence Evolution of Massive Stars\n",
    "\n",
    "The evolution of more massive stars on the main sequence is similar to lower mass stars, but with a convective core (an important difference).  The convection zone continually mixes the material keeping the core composition nearly homogenous.  The convection timescale (as determined by the [mixing length and convective velocity](https://saturnaxis.github.io/ModernAstro/Chapter_11/interiors-of-stars.html#the-mixing-length-theory-of-superadiabatic-convection)) is much shorter than the nuclear timescale.  For a $5\\,M_\\odot$ star, the central convection zone decreases in mass during (core) hydrogen burning and leaves behind a slight compositional gradient.  As a star evolves the convection zone, the core retreats more rapidly with increasing stellar mass and can disappear entirely before the hydrogen is exhausted for $M \\gtrsim 10\\,M_odot$.\n",
    "\n",
    "When the hydrogen mass fraction reaches about $X=0.05$ (in the core of a $5\\, M_\\odot$ star), the entire stars begins to contract.  The release of some gravitational potential energy increases the luminosity slightly, where th effective temperature must increase.  For stellar masses greater than $1.2\\,M_\\odot$ the contraction defines the end of the main sequence."
   ]
  },
  {
   "cell_type": "markdown",
   "metadata": {},
   "source": [
    "### A Derivation of the Sch&ouml;nberg-Chandrasekhar Limit"
   ]
  },
  {
   "cell_type": "markdown",
   "metadata": {},
   "source": [
    "## Late Stages of Stellar Evolution\n",
    "\n",
    "### Evolution Off the Main Sequence\n",
    "\n",
    "### The Subgiant Branch\n",
    "\n",
    "### The Red Giant Branch\n",
    "\n",
    "### The Red Giant Tip"
   ]
  },
  {
   "cell_type": "markdown",
   "metadata": {},
   "source": [
    "### The Helium Core Flash\n",
    "\n",
    "### The Horizontal Branch\n",
    "\n",
    "### The Early Asymptotic Giant Branch\n",
    "\n",
    "### the Thermal-Pulse Asymptotic Giant Branch"
   ]
  },
  {
   "cell_type": "markdown",
   "metadata": {},
   "source": [
    "### Third Dredge-Up and Carbon Stars\n",
    "\n",
    "### Mass Loss and AGB Evolution\n",
    "\n",
    "### Post-Asymptotic Giant Branch\n",
    "\n",
    "### Planetary Nebulae"
   ]
  },
  {
   "cell_type": "markdown",
   "metadata": {},
   "source": [
    "## Stellar Clusters\n",
    "\n",
    "### Population I, II, and III Stars\n",
    "\n",
    "### Globular Clusters and Galactic (Open) Clusters\n",
    "\n",
    "### Spectroscopic Parallax\n",
    "\n",
    "### Color-Magnitude Diagrams\n",
    "\n",
    "### Isochrones and Cluster Ages\n",
    "\n",
    "### The Hertzsprung Gap"
   ]
  },
  {
   "cell_type": "markdown",
   "metadata": {},
   "source": [
    "### Relatively Few AGB and Post-AGB Stars\n",
    "\n",
    "### Blue Stragglers"
   ]
  }
 ],
 "metadata": {
  "interpreter": {
   "hash": "cff387fdeb90e4ccced9dcd80621bb508127aaf7364e37afa52690e3819a2639"
  },
  "kernelspec": {
   "display_name": "Python 3.8.8 ('base')",
   "language": "python",
   "name": "python3"
  },
  "language_info": {
   "codemirror_mode": {
    "name": "ipython",
    "version": 3
   },
   "file_extension": ".py",
   "mimetype": "text/x-python",
   "name": "python",
   "nbconvert_exporter": "python",
   "pygments_lexer": "ipython3",
   "version": "3.8.8"
  },
  "orig_nbformat": 4
 },
 "nbformat": 4,
 "nbformat_minor": 2
}
