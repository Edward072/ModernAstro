{
 "cells": [
  {
   "cell_type": "markdown",
   "metadata": {},
   "source": [
    "# The Fate of Massive Stars\n",
    "\n",
    "## Post-Main-Sequence Evolution of Massive Stars\n",
    "Since at least 1600, astronomers have observed [$\\eta$ Carinae](https://en.wikipedia.org/wiki/Eta_Carinae), where its apparent magnitude was reported to be either 2 or 4.  In the early 1800s, it may have become significantly more active.  In 1837, $\\eta$ Car suddenly brightened, fluctuating in magnitude between $0-1$ and made it the second brightest object in the sky (only Sirius was brighter).  This brightening event is remarkable because the star is approximately 2300 pc from Earth, where Sirius is only 2.64 pc away.\n",
    "\n",
    "After 1856, $\\eta$ Car began to fade and dropped in magnitude to 8 by 1870.  Since 1895, $\\eta$ Car has been relatively quiet and it has brightened slightly to a magnitude 6 over the past ~150 years.  In a similar fashion, P Cygni was too faint to see with the naked eye before 1600, but suddenly brightened to a magnitude 3.  Following this event, P Cyg faded for a time and reappeared in 1655 becoming nearly as bright as it was in 1600.  Since 1700, P Cyg has been a magnitude 5 star, although it may have brighten slightly over the past several centuries.\n",
    "\n",
    "### Luminous Blue Variables\n",
    "A small number of other stars in our own galaxy (some farther away) behave like $\\eta$ Car and P Cyg.  For example S Doradus (located in the Large Magellanic Cloud) is the best known extragalactic example.  Similar stars were discovered by Edwin Hubble and Allan Sandage, where this class of star are referred to as **S Doradus variables**, **Hubble-Sandage variables**, and **luminous blue variables** (LBVs).  \n",
    "\n",
    "An extreme example of an LBV is $\\eta$ Car, where it is known as the \"[homunculus](https://en.wikipedia.org/wiki/Eta_Carinae#Homunculus)\" for its bipolar structure and equatorial disk.  From Doppler measurements, the lobes of $\\eta$ Car expand outward at $650\\ {\\rm km/s}$ and a range of velocities are recorded along any particular line-of-sight.  The expanding lobes are hollow, while the material in the shells contain molecules of ${\\rm H_2}$, ${\\rm CH}$, and ${\\rm OH}$.  It appears that the homunculus is significantly depleted in ${\\rm C}$ and ${\\rm O}$, while enriched in ${\\rm He}$ and ${\\rm N}$.  This suggests that the ejected material has been processed by the CNO cycle.  The present mass loss rate of $\\eta$ Car is $\\sim 10^{-3}\\ M_\\odot/{\\rm yr}$, but it has probably ejected $1-3\\ M_\\odot$ during the 20 years following the Great Eruption of 1837.\n",
    "\n",
    "During the Great Eruption, $\\eta$ Car's luminosity could have been $4\\times$ brighter than its present quiescent luminosity ($\\sim 5\\times10^6\\ {\\rm L_\\odot}$).  The central star's effective temperature is roughly 30,000 K. As of 2007, the apparent magnitude in the visual was $m_V \\sim 6$, but now (2018) it has brightened to $m_V \\sim 4.3$.  Most of $\\eta$ Car's luminosity is initially emitted in the UV, which explains its high effective temperature.  Much of the UV is scattered, absorbed, and re-emitted by dust grains into the IR.\n",
    "\n",
    "As a class, LBV's tend to have high effective temperatures (15,000-30,000 K), with luminosities greater than $10^6\\ {\\rm L_\\odot}$.  As a result, LBVs are in the upper left-hand portion of the H-R diagram.  LBVs are clearly evolved, post-main-sequence stars given the composition of their atmospheres and ejecta.  LBVs also cluster in an instability region of the H-R diagram, which suggests that their behavior is transient.\n",
    "\n",
    "A variety of mechanisms were proposed to explain the variability and dramatic mass loss of LBVs.  the upper end of the main sequence is very near the [Eddington luminosity limit](https://saturnaxis.github.io/ModernAstro/Chapter_11/interiors-of-stars.html#the-eddington-luminosity-limit) where the force due to the radiation pressure may equal of exceed the gravitational force on the outer surface layers of a star.  The derived expression for the Eddington luminosity limit is\n",
    "\n",
    "$$ L_{{\\rm ED}} = \\frac{4\\pi Gc}{\\kappa}M, $$\n",
    "\n",
    "which depends on the opacity $\\kappa$ and stellar mass $M$.  The \"classical\" Eddington limit assumes that the opacity is solely due to the scattering of free electrons, which is [constant](https://saturnaxis.github.io/ModernAstro/Chapter_9/stellar-atmospheres.html#general-sources-of-opacity) $\\sigma_T$ for a completely ionized gas. A \"modified\" Eddington limit was proposed by [Humphreys & Davidson (1994)](https://ui.adsabs.harvard.edu/abs/1994PASP..106.1025H/abstract), where some temperature-dependent factor of opacity modifies the overall opacity as the star evolves to the right in the H-R diagram.  As the temperature decreases and the *opacity increases*, the Eddington luminosity would drop below the actual luminosity of the star.  This implies that the radiation pressure dominates over gravity, which drives mass loss from the envelope.\n",
    "\n",
    "A second suggestion is that atmospheric pulsation instabilities may develop, like Cepheids, RR Lyrae, long-period variable stars.  Also intriguing is the apparent high rotation velocity of some LBVs.  Rapid rotation would result in decreasing the \"effective\" gravity at the equator due to centrifugal effects and allow for gases to be driven away from the surface at the equator.  The disk around $\\eta$ Car may have formed from a high spin during the lesser eruption between 1887-1895.\n",
    "\n",
    "LBVs could also be members of binary star systems as similar behaviors can be induced by the binary companion.  Interestingly, $\\eta$ Car exhibits a 5.54 yr periodicity in the equivalent widths (of some) of its spectral lines, which hints at the presence of a binary companion.  Although it is unclear how a binary companion can cause all of the effects observed.  It may turn out that more than one of the discussed mechanisms could influence the behavior of the LBVs or the principal mechanism has yet to be identified."
   ]
  },
  {
   "cell_type": "markdown",
   "metadata": {},
   "source": [
    "### Wolf-Rayet Stars\n"
   ]
  },
  {
   "cell_type": "markdown",
   "metadata": {},
   "source": [
    "### A General Evolutionary Scheme for Massive Stars\n",
    "\n",
    "### The Humphreys-Davidson Luminosity Limit"
   ]
  },
  {
   "cell_type": "markdown",
   "metadata": {},
   "source": [
    "## The Classification of Supernovae\n",
    "\n",
    "### Classes of Supernovae"
   ]
  },
  {
   "cell_type": "markdown",
   "metadata": {},
   "source": [
    "## Core-Collapse Supernovae\n",
    "\n",
    "### Core-Collapse Supernova Mechanism"
   ]
  },
  {
   "cell_type": "markdown",
   "metadata": {},
   "source": [
    "### Stellar Remnants of a Core-Collapse Supernova\n",
    "\n",
    "### The Light Curves and the Radioactive Decay of the Ejecta"
   ]
  },
  {
   "cell_type": "markdown",
   "metadata": {},
   "source": [
    "### The Subluminous Nature of SN 1987A\n",
    "\n",
    "### Supernova Remnants\n",
    "\n",
    "### The Detection of Neutrinos from SN 1987A\n",
    "\n",
    "### The Search for a Compact Remnant of SN 1987A"
   ]
  },
  {
   "cell_type": "markdown",
   "metadata": {},
   "source": [
    "### Chemical Abundance Ratios in the Universe\n",
    "\n",
    "### s-Process and r-Process Nucleosynthesis"
   ]
  }
 ],
 "metadata": {
  "language_info": {
   "name": "python"
  },
  "orig_nbformat": 4
 },
 "nbformat": 4,
 "nbformat_minor": 2
}
