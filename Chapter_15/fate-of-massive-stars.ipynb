{
 "cells": [
  {
   "cell_type": "markdown",
   "metadata": {},
   "source": [
    "# The Fate of Massive Stars\n",
    "\n",
    "## Post-Main-Sequence Evolution of Massive Stars\n",
    "\n",
    "### Luminous Blue Variables"
   ]
  },
  {
   "cell_type": "markdown",
   "metadata": {},
   "source": [
    "### Wolf-Rayet Stars\n"
   ]
  },
  {
   "cell_type": "markdown",
   "metadata": {},
   "source": [
    "### A General Evolutionary Scheme for Massive Stars\n",
    "\n",
    "### The Humphreys-Davidson Luminosity Limit"
   ]
  },
  {
   "cell_type": "markdown",
   "metadata": {},
   "source": [
    "## The Classification of Supernovae\n",
    "\n",
    "### Classes of Supernovae"
   ]
  },
  {
   "cell_type": "markdown",
   "metadata": {},
   "source": [
    "## Core-Collapse Supernovae\n",
    "\n",
    "### Core-Collapse Supernova Mechanism"
   ]
  },
  {
   "cell_type": "markdown",
   "metadata": {},
   "source": [
    "### Stellar Remnants of a Core-Collapse Supernova\n",
    "\n",
    "### The Light Curves and the Radioactive Decay of the Ejecta"
   ]
  },
  {
   "cell_type": "markdown",
   "metadata": {},
   "source": [
    "### The Subluminous Nature of SN 1987A\n",
    "\n",
    "### Supernova Remnants\n",
    "\n",
    "### The Detection of Neutrinos from SN 1987A\n",
    "\n",
    "### The Search for a Compact Remnant of SN 1987A"
   ]
  },
  {
   "cell_type": "markdown",
   "metadata": {},
   "source": [
    "### Chemical Abundance Ratios in the Universe\n",
    "\n",
    "### s-Process and r-Process Nucleosynthesis"
   ]
  }
 ],
 "metadata": {
  "language_info": {
   "name": "python"
  },
  "orig_nbformat": 4
 },
 "nbformat": 4,
 "nbformat_minor": 2
}
