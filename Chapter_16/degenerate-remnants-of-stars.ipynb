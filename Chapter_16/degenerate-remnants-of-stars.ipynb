{
 "cells": [
  {
   "cell_type": "markdown",
   "metadata": {},
   "source": [
    "# The Degenerate Remnants of Stars\n",
    "\n",
    "## The Discovery of Sirius B\n",
    "In 1838, [Friedrich Wilhelm Bessel](https://en.wikipedia.org/wiki/Friedrich_Bessel) used the technique of stellar parallax to find the distance to the star 61 Cygni.  The next candidate Bessel tried was [Sirus](https://en.wikipedia.org/wiki/Sirius), the brightest star in the sky.  It's parallax angle is $p = 0.379^{\\prime\\prime}$, which corresponds to a distance of only 2.64 pc, or 8.61 ly. Sirius' brilliance is due (in part) to its proximy to Earth.  Bessel tracked Sirius' path across the sky and found that it deviated slightly from a straight line.  Using 10 years of precise observation, Bessel concluded (in 1844) that Sirius was actually a binary star system.  He deduced that the binary orbital period was 50 years, where the modern value is $50.1284 \\pm 0.0043$ years ([Bond et al 2017](https://iopscience.iop.org/article/10.3847/1538-4357/aa6af8)) and the position of the secondary star.\n",
    "\n",
    "Bessel's telecopses were incapable of finding the \"Pup\" (i.e., the unseen companion of the luminous \"Dog Star\") due to the glare of Sirius.  After Bessel's death in 1846, the search for the Pup waned.  In 1862, [Alvan Graham Clark](https://en.wikipedia.org/wiki/Alvan_Graham_Clark) tested his father's new 18-inch refractor (3 inches longer than any previous instrument) on Sirius, and he discovered the Pup at its predicted position.  The dominant Sirius A was measured to be nearly $1000\\times$ brighter than the Pup (now called Sirius B).  The orbits of the stars about their center of mass revealed that Sirius A and Sirius B are about $2.3\\ M_\\odot$ and $1.0\\ M_\\odot$, respectively.  The modern values are $2.063 \\pm 0.023\\ M_\\odot$ and $1.018 \\pm 0.011\\ M_\\odot$ ([Bond et al 2017](https://iopscience.iop.org/article/10.3847/1538-4357/aa6af8)).\n",
    "\n",
    "Clark's discovery of Sirius B was made when the stars were most widely separated (by just $10^{\\prime\\prime}$).  The great difference in their lumionsities: $L_A = 25.4\\ L_\\odot$ and $L_B=0.056\\ L_\\odot$."
   ]
  },
  {
   "cell_type": "markdown",
   "metadata": {},
   "source": [
    "## White Dwarfs\n",
    "\n",
    "### Classes of White Dwarf Stars\n",
    "\n",
    "### Central Conditions in White Dwarfs\n",
    "\n",
    "### Spectra and Surface Composition\n",
    "\n",
    "### Pulsating White Dwarfs"
   ]
  },
  {
   "cell_type": "markdown",
   "metadata": {},
   "source": [
    "## The Physics of Degenerate Matter\n",
    "\n",
    "### The Pauli Exclusion Principle and Electron Degeneracy\n",
    "\n",
    "### The Fermi Energy\n",
    "\n",
    "### The condition for Degeneracy"
   ]
  },
  {
   "cell_type": "markdown",
   "metadata": {},
   "source": [
    "### Electron Degeneracy Pressure"
   ]
  },
  {
   "cell_type": "markdown",
   "metadata": {},
   "source": [
    "## The Chandrasekhar Limit\n",
    "\n",
    "### The Mass-Volume Relation\n",
    "\n",
    "### Dynamical Instability\n",
    "\n",
    "### Estimating the Chandrasekhar Limit"
   ]
  },
  {
   "cell_type": "markdown",
   "metadata": {},
   "source": [
    "## The Cooling of White Dwarfs\n",
    "\n",
    "### Energy Transport\n",
    "\n",
    "### The Cooling Timescale\n",
    "\n",
    "### The Change in Luminosity with Time\n",
    "\n",
    "### Crystallization\n",
    "\n",
    "### Comparing Theory with Observations"
   ]
  },
  {
   "cell_type": "markdown",
   "metadata": {},
   "source": [
    "## Neutron Stars\n",
    "\n",
    "### Neutron Degeneracy\n",
    "\n",
    "### The Density of a Neutron Star\n",
    "\n",
    "### The Equation of State\n",
    "\n",
    "### Neutron Star Models\n",
    "\n",
    "### The Chandrasekhar Limit for Neutron Stars\n",
    "\n",
    "### Rapid Rotation and Conservation of Angular Momentum\n",
    "\n",
    "### \"Freezing In\" Magnetic Field Lines\n",
    "\n",
    "### Neutron Star Temperatures"
   ]
  },
  {
   "cell_type": "markdown",
   "metadata": {},
   "source": [
    "## Pulsars\n",
    "\n",
    "### General Characteristics\n",
    "\n",
    "### Possible Pulsar Models\n",
    "\n",
    "### Pulsars as Rapidly Rotating Neutron Stars\n",
    "\n",
    "### Geminga\n",
    "\n",
    "### Evidence for a Core-Collapse Supernova Origin\n",
    "\n",
    "### Synchrotron and Curvature Radiation\n",
    "\n",
    "### The Energy Source for the Crab's Synchrotron Radiation\n",
    "\n",
    "### The Structure of the Pulses\n",
    "\n",
    "### The Basic Pulsar Model\n",
    "\n",
    "### Correlation Between Period Derivatives and Pulsar Classes\n",
    "\n",
    "### Toward a Model of Pulsar Emission\n",
    "\n",
    "### Magnetars and Soft Gamma Repeaters"
   ]
  }
 ],
 "metadata": {
  "language_info": {
   "name": "python"
  },
  "orig_nbformat": 4
 },
 "nbformat": 4,
 "nbformat_minor": 2
}
