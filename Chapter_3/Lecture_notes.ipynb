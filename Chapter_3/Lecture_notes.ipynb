{
 "cells": [
  {
   "cell_type": "markdown",
   "metadata": {},
   "source": [
    "# Chapter 3: The Continuous Spectrum of Light\n",
    "\n",
    "## 3.1 Stellar Parallax\n",
    "To understand how intrinsically bright a star is, one must first know the distance to the star.  Most ancient civilizations believed that all the stars were fixed in the sky **and** the same distance away from us.  The ancient greeks, most notably [Ptolemy](http://atropos.as.arizona.edu/aiz/teaching/a204/lecture14.html), devised a method to determine the distance to the Moon using the apparent change in the Moon's position relative to the background stars.  This was one of the first uses of *parallax*, where the baseline used was the radius of the Earth (determined earlier by Eratosthenes).\n",
    "\n",
    "Although the distance to the Moon could be calculated, the distance to each of the planets was unknown.  Kepler's laws in their original form describe the *relative sizes* of the planetary orbits.  During 17th Century, the relative distances were given in astronomical units (thanks to Edmund Halley) due to the gap in our ability to measure the Solar System.  The true scale of the Solar System was partially revealed through a transit of [Venus](https://skyandtelescope.org/astronomy-news/transits-of-venus-in-history-1631-1716/) in 1761, which was originally proposed by [Halley](https://www.eso.org/public/outreach/eduoff/vt-2004/Education/EduSheet2.html).\n",
    "\n",
    "```I recommend it therefore again and again to those curious astronomers who, when I am dead, will have an opportunity of observing these things, that they remember my admonition, and diligently apply themselves with all imaginable success; in the first place, that they may not by the unreasonable obscurity of a cloudy sky be deprived of this most desirable sight, and then, that having ascertained with more exactness the magnitudes of the planetary orbits, it may redound to their immortal glory. --Edmund Halley```\n",
    "\n",
    "The method used is called **trigonometric parallax**, which is the measurement of the angular displacement of an object from two different vantage points and is related to the known distance between such points.  For example, the distance to the peak of a mountain can be determined by the peak's angular position from two observation points separated by a known *baseline* distance.  Simple trigonometry (i.e., similar triangles) deduces the distance to the peak (see [Figure 1](https://github.com/saturnaxis/PHYS4410/blob/main/Chapter_3/Figure_1.jpg)).\n",
    "\n",
    "The perceived angular displacement is smaller as the distance to the object increases and hence, finding the distance to the nearest stars requires a longer baseline than Earth's diameter.  Luckily, we can obtain a much longer baseline for free because the Earth's position relative to the Sun changes (i.e., the Earth orbits the Sun) and we obtain a different vantage point every 6 months.  The new baseline is equal to the diameter of Earth's orbit (2 AU) and will reveal the back-and-forth change in position of nearby stars.  We must remember that the stars themselves could be moving (i.e., the star's *proper motion*) and this motion can be determined after removing the known periodic motion due to the change in Earth's position.  The measurement of the **parallax angle** $p$ (the *half*-angle of the full angular displacement) determines the distance $d$ to the star by:\n",
    "\n",
    "$\\begin{aligned}\n",
    "d = \\frac{1\\; AU}{\\tan p} \\approx \\frac{1}{p}\\; AU \n",
    "\\end{aligned}$ \n",
    "\n",
    "where the small-angle approximation $\\tan p \\approx p$ is applied and $p$ is measured in **radians**.  In most instances, the parallax angle $p$ is not measured in radians, but in *arcseconds* and requires an appropriate conversion by:\n",
    "\n",
    "$\\begin{aligned}\n",
    "d = \\frac{1}{p} \\times \\frac{\\pi}{180^\\circ} \\times \\frac{1^\\circ}{3600^{\\prime\\prime}} \\; AU \\approx \\frac{206,265}{p^{\\prime\\prime}} \\; AU\n",
    "\\end{aligned}$,\n",
    "\n",
    "where $p^{\\prime\\prime}$ is the parallax angle in arcseconds (see [Figure 2](https://github.com/saturnaxis/PHYS4410/blob/main/Chapter_3/Figure_2.jpg)).  The nearest Sun-like stars lie in a binary system called $\\alpha$ Centauri, which has a parallax angle of 754 $\\pm$ 4.11 mas (milliarcseconds; [Pourbaix & Boffin (2016)](https://arxiv.org/abs/1601.01636)).  \n",
    "\n",
    "-  **What is the distance to $\\alpha$ Centauri (in AU)?**  (Verify with a calculator.)\n",
    "    -  Why is my answer different from your calculator?\n"
   ]
  },
  {
   "cell_type": "code",
   "execution_count": 7,
   "metadata": {},
   "outputs": [
    {
     "name": "stdout",
     "output_type": "stream",
     "text": [
      "Alpha Cen AB is 274000 AU away.\n"
     ]
    }
   ],
   "source": [
    "import numpy as np #importing numpy because we need \\pi\n",
    "\n",
    "def p2AU(p):\n",
    "    #p = parallax angle (in arcseconds)\n",
    "    p *= (1./3600.)*np.pi/180. # converts p to radians\n",
    "    d = 1./p # distance in AU\n",
    "    return d\n",
    "\n",
    "p_aCen = 754./1000. #convert 754 mas to arcseconds\n",
    "print(\"Alpha Cen AB is %d AU away.\" % np.round(p2AU(p_aCen),-3))"
   ]
  },
  {
   "cell_type": "markdown",
   "metadata": {},
   "source": [
    "The nearest stars are really, really far away and measuring the distance to stars in AU isn't practical for the same reason that we don't typically measure the distance between planets in meters.  Thus, we define a new unit called the **parsec** (**par**allax-**sec**ond, abbreviated as pc), which is the distance given 1 arcsecond of parallax (i.e., a normalization).  Our distance equation then becomes:\n",
    "\n",
    "$\\begin{aligned}\n",
    "d = \\frac{1}{p^{\\prime\\prime}} \\;pc. \\quad\\quad\\quad\\quad {\\rm (Equation\\; 1)}\n",
    "\\end{aligned}$\n",
    "\n",
    "To convert these *astronomical* distances into *physical* distances (i.e., meters), astronomers use the **light-year** or the distance that light travels through a vacuum in one Julian year (365.25 days).  One parsec is equal to 3.2615638 ly.\n",
    "\n",
    "The first successful measurement of stellar parallax was made in 1838 by Friedrich Bessel (1784-1846).  He measured a parallax angle of 0.316 arcseconds for 61 Cygni and took 4 years of observation.  Prior to Bessel, others had tried to measure a [stellar parallax](https://en.wikipedia.org/wiki/Stellar_parallax) but the aberration due to the optics (at the time) stymied all of those efforts.\n",
    "\n",
    "-  **What is the distance to $\\alpha$ Centauri (in pc)?**\n",
    "-  **What is the distance to $\\alpha$ Centauri (in ly)?**\n"
   ]
  },
  {
   "cell_type": "code",
   "execution_count": 8,
   "metadata": {},
   "outputs": [
    {
     "name": "stdout",
     "output_type": "stream",
     "text": [
      "Alpha Cen AB is 1.33 pc away.\n",
      "Alpha Cen AB is 4.33 ly away.\n"
     ]
    }
   ],
   "source": [
    "def p2PC(p):\n",
    "    #p = parallax angle (in arcseconds)\n",
    "    d = 1./p\n",
    "    return d\n",
    "def p2LY(p):\n",
    "    #p = parallax angle (in arcseconds)\n",
    "    d = 3.2615638/p\n",
    "    return d\n",
    "\n",
    "p_aCen = 754./1000. #convert 754 mas to arcseconds\n",
    "p_aCen_pc = p2PC(p_aCen)\n",
    "p_aCen_ly = p2LY(p_aCen)\n",
    "print(\"Alpha Cen AB is %1.2f pc away.\" % np.round(p_aCen_pc,2))\n",
    "print(\"Alpha Cen AB is %1.2f ly away.\" % np.round(p_aCen_ly,2))"
   ]
  },
  {
   "cell_type": "markdown",
   "metadata": {},
   "source": [
    "Proxima Centauri (the M-dwarf that is loosely bound to $\\alpha$ Cen AB) has a parallax angle of 768.0665 $\\pm$ 0.0499 ([Gaia Collaboration](https://arxiv.org/abs/2012.01533)).\n",
    "\n",
    "-  **Is Proxima Cen closer or farther away than $\\alpha$ Cen AB?**"
   ]
  },
  {
   "cell_type": "code",
   "execution_count": 9,
   "metadata": {},
   "outputs": [
    {
     "name": "stdout",
     "output_type": "stream",
     "text": [
      "Prox Cen is 1.301971 pc away.\n",
      "Prox Cen is 4.246460 ly away.\n",
      "Prox Cen is 1.83% closer than Alpha Cen AB.\n"
     ]
    }
   ],
   "source": [
    "p_pCen = 768.0665/1000. #convert 754 mas to arcseconds\n",
    "p_pCen_pc = p2PC(p_pCen)\n",
    "p_pCen_ly = p2LY(p_pCen)\n",
    "print(\"Prox Cen is %1.6f pc away.\" % np.round(p_pCen_pc,6))\n",
    "print(\"Prox Cen is %1.6f ly away.\" % np.round(p_pCen_ly,6))\n",
    "pct_dist = (1-p_pCen_ly/p_aCen_ly)*100.\n",
    "print(\"Prox Cen is %1.2f%% closer than Alpha Cen AB.\" % pct_dist)"
   ]
  },
  {
   "cell_type": "markdown",
   "metadata": {},
   "source": [
    "Small angles can be very difficult to measure on Earth's surface because of atmospheric turbulence (i.e., twinkling makes a difference for precise measurements) and seismic activity which can affect the pointing accuracy.  Astronomers and engineers worked together to produce several space telescopes dedicated to precise and accurate parallax measurements of the nearest stars.  From 1989--1993, the European Space Agency (ESA) operated the Hipparcos Space Astrometry Mission, which was able to measure parallax angles with accuracies approaching 0.001 arcseconds for over 118,000 stars.\n",
    "\n",
    "The successor to Hipparcos was the [Gaia parallax survey](http://ned.ipac.caltech.edu/level5/March19/Mignard/Mignard3.html) and is currently (as of Dec 2021) in operation.  Gaia will measure the parallax of 1.14 *billion* stars and obtain proper motions for 2 million of those stars.  Gaia's precision is 25 ${\\rm \\mu as}$ or 0.025 mas.  It increases our distance horizon to ~30,000 ly.\n",
    "\n",
    "### **Problems**\n",
    ">1\\. In 1672, an international effort was made to measure the parallax angle of Mars at the time of opposition (when it was closest to Earth; see [Figure P1](https://github.com/saturnaxis/PHYS4410/blob/main/Chapter_3/Figure_P1.jpg)).  Consider two observers who are separated by a baseline equal to Earth's diameter.  \n",
    ">> If the difference in there measurements of Mars' angular position is 33.6 $^{\\prime\\prime}$, what is the distance between Earth and Mars at the time of opposition? Express your answer both in units of m and in AU.\n",
    "\n",
    ">2\\. The parallax angle for Sirius is 0.3745 $^{\\prime\\prime}$.\n",
    ">> Find the distance to Sirius in units of (i) parsecs and (ii) AU\n",
    "\n"
   ]
  },
  {
   "cell_type": "markdown",
   "metadata": {},
   "source": [
    "## 3.2 The Magnitude Scale\n",
    "Astronomers use light (i.e., electromagnetic radiation) to decode the physical nature of stars, galaxies, and the interstellar medium.  Technological advancements make a big difference in how we can measure light.  Our eyes measure how bright objects appear as an integrated flux (i.e., number of photons reaching the retina per second), where brighter sources represent a larger integrated flux.  Stars emit radiation in all directions, but only a sliver of the total radiation ever reaches our eyes.  The nature of space augments how we receive this radiation, where a closer source fills a larger surface area than a distant one.  Hence, astronomers have developed different scales over time to account for the ambiguity of brightness due to the distance to the source.\n",
    "\n",
    "### 3.2.1 Apparent Magnitude\n",
    "Ancient people (e.g., Greeks, Persians, Egyptians, etc.) developed methods to identify patterns of stars and identified differences in the apparent brightness.  Records of these observations were collected to form star charts and sky catalogs.  Hipparchus, a Greek astronomer, compiled a list of ~850 stars and invented a numerical scale to describe how bright each star appeared in the sky.  He assigned an [**apparent magnitude**](https://en.wikipedia.org/wiki/Apparent_magnitude) $m = 1$ for the brightest stars in the (Greek) night sky, where a magnitude $m=6$ represented the faintest stars (note that a larger magnitude corresponds to a fainter object).  This scale was widely used by later astronomers, but non-standardized.  Through the Renaissance, Hipparchus' scale was revisited and modified to reflect the contemporary view that the human eye responds logarithmically to identify the difference in brightness of two objects.  \n",
    "\n",
    "Hipparchus' scale was changed so that the difference between magnitudes maintained a *constant ratio* in brightness.  The difference between Hipparchus' brightest and faintest object was 5 (e.g., 6-1=5) and scientists at the time (19th Century) decided that this represents a factor of 100 difference in brightness.  Each magnitude increase is equivalent to raising the brightness by an exponent by the following:\n",
    "\n",
    "$\\begin{aligned}\n",
    "100^{(m_2-m_1)/5} = \\Delta B  \\quad\\quad\\quad\\quad {\\rm Equation \\;2}\n",
    "\\end{aligned}$\n",
    "\n",
    "where the apparent magnitude of each star ($m_1$ and $m_2$) is related the the relative change in brightness $\\Delta B$.  A 1 magnitude difference corresponds to a change in brightness, $\\Delta B = 2.511886... \\approx 2.512$.\n",
    "\n",
    "Modern [photometric](https://en.wikipedia.org/wiki/Photometry_(astronomy)) detectors allow astronomers to measure the apparent magnitude of an object with an [accuracy](http://slittlefair.staff.shef.ac.uk/teaching/phy217/lectures/stats/L18/index.html) of $\\pm$ 0.001 magnitude and the differences in magnitudes $\\pm$ 0.0001 (or ~100 ppm flux differences).  The brightest object detected (from Earth) is the Sun (m = -26.74) and the faintest is a small ($\\sim$ 15 m in diameter) Kuiper Belt Object (KBO) (m = +28.4) observed by the Hubble Space Telescope (HST) in 2003.  HST's theoretical limit is m = +31.5 and the James Webb Space Telescope (JWST) will push this horizon to m = +34.\n",
    "\n",
    "-  **How much fainter will JWST be capable of detecting compared to HST?**\n",
    "\n",
    "### 3.2.2 Flux, Luminosity, and the Inverse Square Law\n",
    "The \"brightness\" of a star is measured as the total amount of radiation (at all wavelengths) that crosses a unit area per unit time as is called the **radiant flux**.  This definition depends on the intrinsic **luminosity** (energy emitted per second at the stellar surface) and the distance of the source from the unit area (i.e., distance from the observer).  The same star located at a farther distance will appear less bright in the sky.\n",
    "\n",
    "Astronomers scale the brightness using a spherically symmetric shell of radius *r* to designate where the unit area is located.  Assuming a vacuum between the source and the surface of the shell, the radiant flux ($F$) can be defined as:\n",
    "\n",
    "$\\begin{aligned}\n",
    "F = \\frac{L}{4\\pi r^2}, \\quad\\quad\\quad\\quad {\\rm (Equation\\; 3)}\n",
    "\\end{aligned}$\n",
    "\n",
    "where the luminosity $L$ is distributed uniformly across the surface area of the shell.  This is the well-known **inverse square law** for light.  The radiant flux of some stars are given relative to the Solar Luminosity ($L_\\odot$) and the Earth-Sun distance ($r_\\oplus$) so that the factor $4 \\pi$ isn't needed as:\n",
    "\n",
    "$\\begin{aligned}\n",
    "\\frac{F}{F_\\oplus} = \\frac{L}{L_\\odot}\\left(\\frac{r_\\oplus}{r}\\right)^2.\n",
    "\\end{aligned}$\n",
    "\n",
    "-  **How much radiant flux does the Earth receive from the Sun?**"
   ]
  },
  {
   "cell_type": "code",
   "execution_count": 10,
   "metadata": {},
   "outputs": [
    {
     "name": "stdout",
     "output_type": "stream",
     "text": [
      "The solar flux is: 1361 W/m^2\n"
     ]
    }
   ],
   "source": [
    "def calc_Flux(L,r):\n",
    "    #L = Luminosity of the source\n",
    "    #r = distance from the source\n",
    "    F = L/(4*np.pi*r**2)\n",
    "    return F\n",
    "L_sun = 3.828e26 #(in W) Solar luminosity defined by the IAU (International Astronomical Union)\n",
    "AU = 1.495978707e11 #(in m) Astronomical Unit (tied to the defintion of a meter)\n",
    "\n",
    "F_Earth = calc_Flux(L_sun,AU)\n",
    "print(\"The solar flux is: %4d W/m^2\" % np.round(F_Earth,0))"
   ]
  },
  {
   "cell_type": "markdown",
   "metadata": {},
   "source": [
    "The value of the solar flux is also known as the solar irradiance or **solar constant**.  This value is used when determining a planet's potential \"habitability\" and in climate modeling of the Earth's atmosphere.\n",
    "\n",
    "### 3.2.3 Flux Ratios and Apparent Magnitude\n",
    "In the given alternate form of the radiant flux ($F/F_\\oplus$), it is scaled to a standard distance and luminosity.  While this scaling is useful for studying exoplanets, we can combine the formula for radiant flux with the magnitude scale to determine the relative flux of different stars.  Let's start by defining the flux ratio ($F_2/F_1$) as:\n",
    "\n",
    "$\\begin{aligned}\n",
    "\\frac{F_2}{F_1} = \\frac{L_2}{L_1}\\left(\\frac{r_1}{r_2}\\right)^2. \n",
    "\\end{aligned}$\n",
    "\n",
    "Then, we simply set the flux ratio equal to the change in brightness (Equation 2) by\n",
    "\n",
    "$\\begin{aligned}\n",
    "\\frac{F_2}{F_1} = 100^{(m_1-m_2)/5} = 10^{\\frac{2}{5}(m_1-m_2)}. \\quad\\quad\\quad\\quad {\\rm (Equation\\; 4)}\n",
    "\\end{aligned}$\n",
    "\n",
    "Taking the base-10 logarithm of both sides leads to the alternative form:\n",
    "\n",
    "$\\begin{aligned}\n",
    "2.5\\log_{10} \\left( \\frac{F_2}{F_1} \\right) = m_1-m_2.  \\quad\\quad\\quad\\quad {\\rm (Equation\\; 5)}\n",
    "\\end{aligned}$\n",
    "\n",
    "- **Compare Equation 5 (above) to the Equation 4 in the textbook.  How are they different?**\n",
    "\n",
    "- **Given the apparent magnitude of the Sun ($m_{Sun} = -26.74$) and the full Moon ($m_{Moon} = -12.74$).  How much brighter is the Sun compared to the Moon?**"
   ]
  },
  {
   "cell_type": "code",
   "execution_count": 11,
   "metadata": {},
   "outputs": [
    {
     "name": "stdout",
     "output_type": "stream",
     "text": [
      "The Sun is 398100 times brighter than the Moon or a difference of 14.00 magnitudes.\n"
     ]
    }
   ],
   "source": [
    "def Flux_ratio(m_1,m_2):\n",
    "    #m_1 = apparent magnitude of source 1\n",
    "    #m_2 = apparent magnitude of source 2\n",
    "    F_ratio = 100**(0.2*(m_1-m_2))\n",
    "    return F_ratio\n",
    "\n",
    "m_sun = -26.74 #apparent magnitude of the Sun\n",
    "m_moon = -12.74 #apparent magnitude of the Moon (at Full)\n",
    "F_ratio = Flux_ratio(m_moon,m_sun)\n",
    "\n",
    "print(\"The Sun is %2d times brighter than the Moon or a difference of %2.2f magnitudes.\" % (np.round(F_ratio,-2),np.round(m_moon - m_sun,2)))"
   ]
  },
  {
   "cell_type": "markdown",
   "metadata": {},
   "source": [
    "### 3.2.4 Absolute Magnitude and the Distance Modulus\n",
    "A common normalization is to determine a star's **absolute magnitude (M)**, which is how bright would a star appear *if* it were located 10 pc away from the Earth.  An important point is that we are determining how the apparent magnitude of the *same star* differs when it is at two *different distances* from us (i.e., $L_1 = L_2$).  Under this assumption the flux ratio becomes\n",
    "\n",
    "$\\begin{aligned}\n",
    "\\frac{F_2}{F_1} =\\left(\\frac{r_1}{r_2}\\right)^2 = 10^{\\frac{2}{5}(m_1-m_2)}. \n",
    "\\end{aligned}$\n",
    "\n",
    "Under the definition of the absolute magnitude, we set $m_2 = M$, $m_1 = m$, and $r_2 = 10$ pc.  This forces $r_1$ into units of pc and the most common notation changes $r_1\\rightarrow d$.  We now have,\n",
    "\n",
    "$\\begin{aligned}\n",
    "\\left(\\frac{d}{10 \\;pc}\\right) = 10^{(m-M)/5}, \n",
    "\\end{aligned}$\n",
    "\n",
    "and the standard distance of 10 pc is \"baked-in\" to the definition of the absolute magnitude.  Solving for $d$ (the star's distance), we arrive at\n",
    "\n",
    "$\\begin{aligned}\n",
    "d = 10^{(m-M+5)/5}\\;{\\rm pc}.  \\quad\\quad\\quad\\quad {\\rm (Equation\\; 6)}\n",
    "\\end{aligned}$\n",
    "\n",
    "-  **Where does the extra +5 in Equation 6 come from?**\n",
    "\n",
    "The quantity $m-M$ is a measure of the distance to a star and is called the star's **distance modulus**.  Solving for $m-M$ instead of $d$ results in\n",
    "\n",
    "$\\begin{aligned}\n",
    "m - M = 5\\log_{10}\\left(\\frac{d}{10 \\;pc}\\right).  \\quad\\quad\\quad\\quad {\\rm (Equation\\; 7)}\n",
    "\\end{aligned}$\n",
    "\n",
    "-  **What is the absolute magnitude of the Sun?**\n",
    "    - Why does your answer differ from the textbook?\n",
    "-  **What is the distance modulus of the Sun?**\n",
    "    - Why does your answer *not* differ from the textbook?"
   ]
  },
  {
   "cell_type": "code",
   "execution_count": 12,
   "metadata": {},
   "outputs": [
    {
     "name": "stdout",
     "output_type": "stream",
     "text": [
      "The absolute magnitude of the Sun is 4.832\n",
      "The distance modulus for the Sun is -31.57\n"
     ]
    }
   ],
   "source": [
    "def calc_AbsMag(m,d):\n",
    "    #m = apparent magnitude of the source\n",
    "    #d = distance to the source in pc\n",
    "    M = m - 5*np.log10(d/10.)\n",
    "    return M\n",
    "\n",
    "m_sun = -26.74 #apparent magnitude of the Sun\n",
    "d = np.pi/(180*3600) #1 AU in pc using defintion from Sec. 3.1\n",
    "M_sun =calc_AbsMag(m_sun,d)\n",
    "print(\"The absolute magnitude of the Sun is %1.3f\" % np.round(M_sun,3))\n",
    "print(\"The distance modulus for the Sun is %2.2f\" % np.round(m_sun-M_sun,2))"
   ]
  },
  {
   "cell_type": "markdown",
   "metadata": {},
   "source": [
    "Since the absolute magnitude places a star at a standard distance (10 pc), one might wonder how our derivations might change given the absolute magnitudes of two stars, $M_1$ and $M_2$.  With the absolute magnitude, we can treat both stars as being the same distance away from the Earth (i.e., $r_1 = r_2$).  Thus, the flux ratio ($F_2/F_1$) and luminosity ratio ($L_2/L_1$) are equivalent.  Equation 5 becomes\n",
    "\n",
    "$\\begin{aligned}\n",
    "2.5\\log_{10} \\left( \\frac{L_2}{L_1} \\right) = M_1-M_2  \\quad\\quad\\quad\\quad {\\rm (Equation\\; 8)}\n",
    "\\end{aligned}$\n",
    "\n",
    "or \n",
    "\n",
    "$\\begin{aligned}\n",
    "-2.5\\log_{10} \\left( \\frac{L}{L_\\odot} \\right) = M-M_{Sun},  \\quad\\quad\\quad\\quad {\\rm (Equation\\; 9)}\n",
    "\\end{aligned}$\n",
    "\n",
    "when compared to values of the Sun ($L_2 = L_\\odot$ and $M_2 = M_{Sun}$).\n",
    "\n",
    "### **Problems**\n",
    "\n",
    ">3\\. At what distance from a 100 W light bulb is the radiant flux equal to the solar irradiance?\n",
    ">\n",
    ">4\\. Determine the distance modulus for Sirius (using your answer from Problem 2).\n",
    ">\n",
    ">5\\. What is the luminosity ratio between Sirius and the Sun?\n"
   ]
  },
  {
   "cell_type": "markdown",
   "metadata": {},
   "source": [
    "## 3.3 The Wave Nature of Light\n",
    "Light is the vessel by which information flows through the universe.  Astronomers must take advantage of all its properties because it appears unlikely that we will be visiting even the most nearby stars anytime soon.\n",
    "\n",
    "### 3.3.1 The Speed of Light\n",
    "The speed of light was first estimated (with some accuracy) by Ole Roemer in 1675.  Galileo made his first the telescope in 1609, where Roemer was using a telescope to study Jupiter's moons by their eclipses.  Roemer used Kepler's laws to determine the timing of future eclipses, where a similar method would be used 400 years later to study exoplanets.  Newton's version of Kepler's 3rd Law wasn't published until 1687, which means that Roemer was using Kepler's original definition without universal gravitation.\n",
    "\n",
    "Roemer discovered that the timing of the eclipses differed depending on the relative positions of the Earth and Jupiter.  At closest approach (opposition), the eclipses occurred earlier and as the Earth started moving away, the eclipses occurred behind schedule.  This is called the light-time effect ([LITE](http://www.astro.sk/caosp/Eedition/FullTexts/vol43no3/pp493-497.pdf)) and it arises due to the finite speed of light.  Roemer found that 22 minutes was required for light to cross the diameter of Earth's orbit, where the modern estimate is ~16 minutes.  If Roemer was able to measure the Earth's orbital diameter precisely (i.e., using meters), then he could determine the [speed of light](https://www.universetoday.com/38040/speed-of-light-2/) to 2 significant figures.  The modern value for the speed of light is defined to be $c = 2.99792458 \\times 10^8$ m/s.  However, there are several disciplines of astronomy (e.g., cosmology) that parameterize their equations so that $c = 1$.\n",
    "\n",
    "### 3.3.2 Young's Double-Slit Experiment\n",
    "During the Renaissance, scientists uncovered that two different interpretations of light explained a range of phenonmena.  Newton posited that light was a stream of particles because it explaned the sharpness of shadows.  But, Chistiaan Huygens suggested that light was composed of waves because it behaved similarly to other known waves (e.g., water and sound).  Both models could explain the phenomena of reflection and refraction.\n",
    "\n",
    "The mathematical theory of waves are described by three properties: **wavelength**, **frequency** and **wave speed**.  The wavelength $\\lambda$ is the distance between successive wave crests/troughs and the frequency $\\nu$ is the number of waves that pass a point in space per unit of time.  Therefore the wave speed $c$ is determined by the product of the wavelength and frequency by\n",
    "\n",
    "$\\begin{aligned}\n",
    "c = \\lambda \\nu \\quad\\quad\\quad\\quad {\\rm (Equation\\; 10)}.\n",
    "\\end{aligned}$\n",
    "\n",
    "The particle nature of light was accepted as the *true* representation, largely based on Netwon's reputation.  Thomas Young (1773-1829) demonstrated the wave nature of light through his famous double-slit experiment.  *Note:* [Thomas Young](https://en.wikipedia.org/wiki/Thomas_Young_(scientist)) was also instrumental in deciphering the Rosetta Stone, which unlocked the many mysteries of Ancient Egypt.\n",
    "\n",
    "For a double slit experiment, monochromatic light with a wavelength $\\lambda$ from a single source passes through two narrow, parallel slits that are separated by a distance $d$.  There is a screen at a distance $L$ beyond the two slits.  A wave model of light predicts that light and dark *interference* fringes should be observed.  As the light passes through the slits, the waves spread out radially as though the slits are wave sources with a succession of crests and troughs.  Waves obey a *superposition* principle where the two interacting waves add linearly (e.g., $\\psi = A\\psi_1 + B\\psi_2$).  When the wave crests meet at the same time, a bright fringe or maximum is produced (i.e., **constructive** interference).  On the other hand, when the crest from one wave meets the trough of another, then the waves cancel each other out producing a dark fringe or minimum (i.e., **destructive** interference).\n",
    "\n",
    "The interference pattern depends on the difference in the optical path length for each set of waves.  If $L\\gg d$, the waves arrive *in-phase*, where the path difference is approximated by $d\\sin \\theta$ and the number $n$ of wavelengths is a whole number.  The waves will be *out-of-phase* when the number of wavelengths in the path difference is equal to a half-integer.  For  $L\\gg d$, the angular position of the bright and dard fringes for **double-slit** interference are given by\n",
    "\n",
    "$\\begin{aligned}\n",
    "d \\sin \\theta = \\begin{cases}\n",
    "n \\lambda \\quad\\quad\\quad (n=0,1,2,\\ldots;\\; {\\rm bright\\;fringes}) \\\\\n",
    "(n-\\frac{1}{2})\\lambda \\quad\\quad (n=1,2,\\ldots;\\; {\\rm dark\\; fringes}).\n",
    "\\end{cases} \\quad\\quad ({\\rm Equation \\; 11})\n",
    "\\end{aligned}$\n",
    "\n",
    "The integer $n$ represents the **order* of the maximum or minimum.  By measuring the fringes on the screen, Young was able to determine the wavelength of the light *before the development of spectra*.\n",
    "\n",
    "### 3.3.3 Maxwell's Electromagnetic Wave Theory\n",
    "Many discoveries were made in the 18th and 19th Century illustrating the properties of electricity and magnetism separately.  However, James Clerk Maxwell was the first to synthesize the prior knowledge and succeed in condensing everything known into *four* equations.  Maxwell found that his equations could produce wave equations for the electric ($E$) and magnetic ($B$) field vectors.  One of the main predictions was that these *electromagnetic waves* propogate through a vacuum with a characteristic speed $c = 1/sqrt{\\epsilon_o \\mu_o}$, where $\\epsilon_o$ and $\\mu_o$ are constants of nature that describe the permitivity and permeability of free space.  These equations showed that electromagnetic waves are *transverse* waves and could exhibit polarization (see [Figure 5]()). \n"
   ]
  },
  {
   "cell_type": "markdown",
   "metadata": {},
   "source": [
    "## 3.4 Blackbody Radiation"
   ]
  },
  {
   "cell_type": "markdown",
   "metadata": {},
   "source": [
    "## 3.5 The Quantization of Energy"
   ]
  },
  {
   "cell_type": "markdown",
   "metadata": {},
   "source": [
    "## 3.6 The Color Index"
   ]
  }
 ],
 "metadata": {
  "interpreter": {
   "hash": "cd2e115bae0bd8507f53973663b16a6c8b1a6736f2a0b1c5bcd962a446a2698e"
  },
  "kernelspec": {
   "display_name": "Python 3.8.8 64-bit ('base': conda)",
   "name": "python3"
  },
  "language_info": {
   "codemirror_mode": {
    "name": "ipython",
    "version": 3
   },
   "file_extension": ".py",
   "mimetype": "text/x-python",
   "name": "python",
   "nbconvert_exporter": "python",
   "pygments_lexer": "ipython3",
   "version": "3.8.8"
  },
  "orig_nbformat": 4
 },
 "nbformat": 4,
 "nbformat_minor": 2
}
