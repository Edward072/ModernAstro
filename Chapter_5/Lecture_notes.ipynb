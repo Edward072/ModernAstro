{
 "cells": [
  {
   "cell_type": "markdown",
   "metadata": {},
   "source": [
    "# Chapter 5: The Interaction of Matter and Light\n",
    "\n",
    "[5.1 Spectral Lines](#section_1)\n",
    "\n",
    "[5.2 Photons](#section_2)\n",
    "\n",
    "[5.3 The Bohr Model of the Atom](#section_3)\n",
    "\n",
    "[5.4 Quantum Mechanics and Wave-Particle Duality](#section_4)"
   ]
  },
  {
   "cell_type": "markdown",
   "metadata": {},
   "source": [
    "----\n",
    "\n",
    "<a id='section_1'></a>\n",
    "\n",
    "## 5.1 Spectral Lines\n",
    "Some philosophers during the Renaissance considered strict limits to human knowledge, while other natural philosophers used experimentation to probe reality.  in 1800, William Wollaston showed that a number of **dark spectral lines** were present within the a rainbow-like spectrum using sunlight.  By 1814, Joseph von Fraunhofer cataloged 475 of the dark lines (i.e., **Fraunhofer lines**) in the solar spectrum. Fraunhofer determined that the wavelength of one prominent dark line in the Sun's spectrum corresponds to the yellow light emitted by salt in a flame.  The new science of *spectroscopy* was born with the discovery of the sodium line.\n",
    "\n",
    "### 5.1.1 Kirchoff's Laws\n",
    "The foundations of spectroscopy (and modern chemistry) were established in the 1800s with Robert Bunsen and Gustav Kirchoff.  Bunsen's burner produced a colorless flame that was ideal for studying the colors produced by burning a range of substances.  Bunsen and Kirchoff desinged a *spectroscope* that passed the light of a flame spectrum through a prism.  They determined that the wavelengths of light absorbed and emitted by an element fit together like a lock and key.  Kirchoff determined that 70 of the Fraunhofer lines were due to iron vapor.  In 1860, Kirchoff and Bunsen developed the idea that every element produces its own pattern of spectral lines and thus the elements had \"fingerprints\".  Kirchoff summarized the production of spectral lines in three laws (i.e., **Kirchoff's Laws**):\n",
    "\n",
    "- A hot, dense gas or hot solid object produces a continuous spectrum with no dark spectral lines.\n",
    "\n",
    "- A hot diffuse gas produces bright spectral lines (**emission lines**). \n",
    "\n",
    "- A cool, diffuse gas in front of a asource of a continuous spectrum produces dark spectral lines (**absorption lines**) in the continuous spectrum.\n",
    "\n",
    "### 5.1.2 Applications of Stellar Spectral Data\n",
    "Using the development of spectral fingerprints, a new element *helium* was discovered spectroscopically in the Sun (in 1868) and found on Earth in 1895.  Another fich line of investigate was pursued by measuring the Doppler shifts of the spectral lines.  For most cases at the time, the *low-speed approximation* ($v_r \\ll c$) was adequate to determine the radial velocities $v_r$ by the following equation,\n",
    "\n",
    "$\\begin{aligned}\n",
    "\\frac{\\lambda_{\\rm obs}-\\lambda_{\\rm rest}}{\\lambda_{\\rm rest}} = \\frac{\\Delta \\lambda}{\\lambda_{\\rm rest}}=\\frac{v_r}{c}. \\quad\\quad\\quad\\quad {\\rm (Equation\\; 1)}\n",
    "\\end{aligned}$\n",
    "\n",
    "By 1887, the radial velcoities of Sirius, Procyon, Rigel, and Arcturus were measured with and accuracy of a few km/s.  The rest wavelength $\\lambda_{\\rm rest}$ for the hydrogen spectral line (H$\\alpha$) is 656.281 nm (in air).  Given the simplicity of hydrogen and its spectral lines, they are commonly used to measure the radial velocities of stars.\n",
    "\n",
    "-  **What is the radial velocity of the star Vega, if its H$\\alpha$ line is observed at 656.21 nm from a ground-based telescope?** (*There is a typographical error in the textbook.*)"
   ]
  },
  {
   "cell_type": "code",
   "execution_count": 7,
   "metadata": {},
   "outputs": [
    {
     "name": "stdout",
     "output_type": "stream",
     "text": [
      "The radial velocity of Vega is -13.7 km/s.\n"
     ]
    }
   ],
   "source": [
    "import numpy as np\n",
    "def calc_radial_vel(l_obs,l_rest):\n",
    "    #l_obs = the observered wavelength\n",
    "    #l_rest = the rest wavelength measured in a lab\n",
    "    #the units of l_obs must equal l_rest\n",
    "    rad_vel = (l_obs-l_rest)/l_rest\n",
    "    return rad_vel*c\n",
    "\n",
    "c = 2.99792458e5 #speed of light in km/s\n",
    "Ha_obs = 656.251 #Vega H-alpha in nm\n",
    "Ha_rest = 656.281 #rest H-alpha in nm\n",
    "Vega_RV = calc_radial_vel(Ha_obs,Ha_rest) \n",
    "print(\"The radial velocity of Vega is %2.1f km/s.\" % np.round(Vega_RV,1))"
   ]
  },
  {
   "cell_type": "markdown",
   "metadata": {},
   "source": [
    "The negative sign for the radial velocity indicates that Vega is approaching the Sun (i.e., moving towards us).  Some star also have a measured *proper motion* $\\mu$ that is perpendicular to the line-of-sight.  Combining the proper motion with a known distance $r$, the *tranverse velocity* $v_\\theta$ can be determined ($v_\\theta = r\\mu$).  \n",
    "\n",
    "-  **Vega's proper motion is $\\mu = 0.34972^{\\prime \\prime}$/yr and its distance is 7.68 pc away [(Van Leeuwen 2007)](https://arxiv.org/abs/0708.1752).  What is its tranverse velocity? What is its velocity through space?**"
   ]
  },
  {
   "cell_type": "code",
   "execution_count": 34,
   "metadata": {},
   "outputs": [
    {
     "name": "stdout",
     "output_type": "stream",
     "text": [
      "The transverse velocity of Vega is 12.7 km/s.\n",
      "Vega's velocity through space is 18.7 km/s\n"
     ]
    }
   ],
   "source": [
    "def mu2SI(mu):\n",
    "    #mu = proper motion (in arcseconds/year)\n",
    "    #mu * (arcseconds in a radian)/(seconds in a year)\n",
    "    mu *= (as2rad/yr2sec)\n",
    "    return mu\n",
    "def PC2km(r):\n",
    "    #r = distance in pc\n",
    "    r2AU = r/as2rad #pc converted to AU\n",
    "    r2km = r2AU*AU #convert to km\n",
    "    return r2km\n",
    "\n",
    "AU = 1.495978707e8 #(in km) Astronomical Unit\n",
    "yr2sec = 365.25*24*3600 #seconds in a year\n",
    "as2rad = (1./3600.)*(np.pi/180.)\n",
    "mu = mu2SI(0.34972)\n",
    "r = PC2km(7.68)\n",
    "v_theta = r*mu\n",
    "print(\"The transverse velocity of Vega is %2.1f km/s.\" % np.round(v_theta,1))\n",
    "v_Vega = np.sqrt(v_theta**2+Vega_RV**2)\n",
    "print(\"Vega's velocity through space is %2.1f km/s\" % (v_Vega))"
   ]
  },
  {
   "cell_type": "markdown",
   "metadata": {},
   "source": [
    "The average speed of stars in the solar neighborhood is about 25 km/s, where the measurement of a star's radial velocity is also complicated by the motion of the Earth (29.8 km/s) around the Sun.  Astronomers correct for this motion by subtracting the component of Earth's orbital velocity along the line-of-sight from the star's measured radial velocity.\n",
    "\n",
    "### 5.1.3 Spectrographs\n",
    "Modern methods can measure radial velocities with an accuracy of $\\sim 1$m/s [(Dumusque et al. 2021)](https://www.aanda.org/articles/aa/full_html/2021/04/aa39350-20/aa39350-20.html).  Astrononmers use *spectrographs* to measure the raidal velocity of exoplanets, stars, and galaxies.  Modern spectrographs collimate the incoming starlinght onto a mirror and split into the constiuent colors using a *diffraction grating*, or a piece of glass with narrow, closely spaced lines; a transmission grating allows the light to pass through while a reflection grating reflects the light.  The grating acts like a series of neighboring double slits (see Chapter 3). Different wavelengths have thier maxima occurring at different angles $\\theta$ by\n",
    "\n",
    "$\\begin{aligned}\n",
    "d\\sin \\theta = n\\lambda,\n",
    "\\end{aligned}$\n",
    "\n",
    "where $d$ is the slit spacing of the grating, $n$ is the order o the spectrum, and $\\theta$ is measured relative the line perpendicular to the grating."
   ]
  },
  {
   "cell_type": "markdown",
   "metadata": {},
   "source": [
    "----\n",
    "\n",
    "<a id='section_2'></a>\n",
    "\n",
    "## 5.2 Photons"
   ]
  },
  {
   "cell_type": "markdown",
   "metadata": {},
   "source": [
    "----\n",
    "\n",
    "<a id='section_3'></a>\n",
    "\n",
    "## 5.3 The Bohr Model of the Atom"
   ]
  },
  {
   "cell_type": "markdown",
   "metadata": {},
   "source": [
    "----\n",
    "\n",
    "<a id='section_4'></a>\n",
    "\n",
    "## 5.4 Quantum Mechanics and Wave-Particle Duality\n"
   ]
  }
 ],
 "metadata": {
  "interpreter": {
   "hash": "cd2e115bae0bd8507f53973663b16a6c8b1a6736f2a0b1c5bcd962a446a2698e"
  },
  "kernelspec": {
   "display_name": "Python 3.8.8 64-bit ('base': conda)",
   "language": "python",
   "name": "python3"
  },
  "language_info": {
   "codemirror_mode": {
    "name": "ipython",
    "version": 3
   },
   "file_extension": ".py",
   "mimetype": "text/x-python",
   "name": "python",
   "nbconvert_exporter": "python",
   "pygments_lexer": "ipython3",
   "version": "3.8.8"
  },
  "orig_nbformat": 4
 },
 "nbformat": 4,
 "nbformat_minor": 2
}
