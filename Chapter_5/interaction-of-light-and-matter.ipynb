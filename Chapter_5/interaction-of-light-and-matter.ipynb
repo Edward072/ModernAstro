{
 "cells": [
  {
   "cell_type": "markdown",
   "metadata": {},
   "source": [
    "# The Interaction of Matter and Light"
   ]
  },
  {
   "cell_type": "markdown",
   "metadata": {},
   "source": [
    "## Spectral Lines\n",
    "Some philosophers during the Renaissance considered strict limits to human knowledge, while other natural philosophers used experimentation to probe reality.  in 1800, William Wollaston showed that a number of **dark spectral lines** were present within the a rainbow-like spectrum using sunlight.  By 1814, Joseph von Fraunhofer cataloged 475 of the dark lines (i.e., [Fraunhofer lines](https://en.wikipedia.org/wiki/Fraunhofer_lines)) in the solar spectrum. Fraunhofer determined that the wavelength of one prominent dark line in the Sun's spectrum corresponds to the yellow light emitted by salt in a flame.  The new science of *spectroscopy* was born with the discovery of the sodium line.\n",
    "\n",
    "<p align=\"center\"> \n",
    "<img src=\"https://upload.wikimedia.org/wikipedia/commons/2/2f/Fraunhofer_lines.svg\"/> <br>\n",
    "<b>Figure 1</b>: Solar spectrum with Fraunhofer lines as it appears visually (wikipedia:<a href=\"https://www.scientificamerican.com/article/ancient-stars-how-does-spectrograph-work/\">Fraunhofer_lines</a>)\n",
    "</p>\n",
    "\n",
    "<p align=\"center\"> \n",
    "<img src=\"https://github.com/saturnaxis/ModernAstro/blob/main/Chapter_5/Table_1.jpg?raw=true?\"/>\n",
    "</p>\n",
    "<center>\n",
    "<div style='width: 450px'><b>Table 1</b>: Wavelengths of some of the stronger Fraunhofer lines measured in air near sea level. (Carroll & Ostlie, 2007) </div>\n",
    "</center>\n",
    "\n",
    "### Kirchoff's Laws\n",
    "The foundations of spectroscopy (and modern chemistry) were established in the 1800s with Robert Bunsen and Gustav Kirchoff.  Bunsen's burner produced a colorless flame that was ideal for studying the colors produced by burning a range of substances.  Bunsen and Kirchoff designed a *spectroscope* that passed the light of a flame spectrum through a prism.  They determined that the wavelengths of light absorbed and emitted by an element fit together like a lock and key.  Kirchoff determined that 70 of the Fraunhofer lines were due to iron vapor.  In 1860, Kirchoff and Bunsen developed the idea that every element produces its own pattern of spectral lines and thus the elements had \"fingerprints\".  Kirchoff summarized the production of spectral lines in three laws (i.e., **Kirchoff's Laws**):\n",
    "\n",
    "- A hot, dense gas or hot solid object produces a continuous spectrum with no dark spectral lines.\n",
    "\n",
    "- A hot diffuse gas produces bright spectral lines (**emission lines**). \n",
    "\n",
    "- A cool, diffuse gas in front of a source of a continuous spectrum produces dark spectral lines (**absorption lines**) in the continuous spectrum.\n",
    "\n",
    "\n",
    "\n",
    "### Applications of Stellar Spectral Data\n",
    "Using the development of spectral fingerprints, a new element *helium* was discovered spectroscopically in the Sun (in 1868) and found on Earth in 1895.  Another line of investigation was measuring the Doppler shifts of the spectral lines.  For most cases at the time, the *low-speed approximation* ($v_r \\ll c$) was adequate to determine the radial velocities $v_r$ by the following equation,\n",
    "\n",
    "$$\n",
    "\\frac{\\lambda_{\\rm obs}-\\lambda_{\\rm rest}}{\\lambda_{\\rm rest}} = \\frac{\\Delta \\lambda}{\\lambda_{\\rm rest}}=\\frac{v_r}{c}. \\tag{1}\n",
    "$$\n",
    "\n",
    "By 1887, the radial velocities of Sirius, Procyon, Rigel, and Arcturus were measured with and accuracy of a few km/s.  The rest wavelength $\\lambda_{\\rm rest}$ for the hydrogen spectral line (H$\\alpha$) is 656.281 nm (in air).  Given the simplicity of hydrogen and its spectral lines, they are commonly used to measure the radial velocities of stars.\n",
    "\n",
    "-  **What is the radial velocity of the star Vega, if its H$\\alpha$ line is observed at 656.21 nm from a ground-based telescope?** (*There is a typographical error in the textbook.*)"
   ]
  },
  {
   "cell_type": "code",
   "execution_count": 7,
   "metadata": {},
   "outputs": [
    {
     "name": "stdout",
     "output_type": "stream",
     "text": [
      "The radial velocity of Vega is -13.7 km/s.\n"
     ]
    }
   ],
   "source": [
    "import numpy as np\n",
    "def calc_radial_vel(l_obs,l_rest):\n",
    "    #l_obs = the observered wavelength\n",
    "    #l_rest = the rest wavelength measured in a lab\n",
    "    #the units of l_obs must equal l_rest\n",
    "    rad_vel = (l_obs-l_rest)/l_rest\n",
    "    return rad_vel*c\n",
    "\n",
    "c = 2.99792458e5 #speed of light in km/s\n",
    "Ha_obs = 656.251 #Vega H-alpha in nm\n",
    "Ha_rest = 656.281 #rest H-alpha in nm\n",
    "Vega_RV = calc_radial_vel(Ha_obs,Ha_rest) \n",
    "print(\"The radial velocity of Vega is %2.1f km/s.\" % np.round(Vega_RV,1))"
   ]
  },
  {
   "cell_type": "markdown",
   "metadata": {},
   "source": [
    "The negative sign for the radial velocity indicates that Vega is approaching the Sun (i.e., moving towards us).  Some star also have a measured *proper motion* $\\mu$ that is perpendicular to the line-of-sight.  Combining the proper motion with a known distance $r$, the *transverse velocity* $v_\\theta$ can be determined ($v_\\theta = r\\mu$).  \n",
    "\n",
    "-  **Vega's proper motion is $\\mu = 0.34972^{\\prime \\prime}$/yr and its distance is 7.68 pc away [(Van Leeuwen 2007)](https://arxiv.org/abs/0708.1752).  What is its tranverse velocity? What is its velocity through space?**"
   ]
  },
  {
   "cell_type": "code",
   "execution_count": 3,
   "metadata": {},
   "outputs": [
    {
     "name": "stdout",
     "output_type": "stream",
     "text": [
      "The transverse velocity of Vega is 12.7 km/s.\n",
      "Vega's velocity through space is 18.7 km/s\n"
     ]
    }
   ],
   "source": [
    "def mu2SI(mu):\n",
    "    #mu = proper motion (in arcseconds/year)\n",
    "    #mu * (arcseconds in a radian)/(seconds in a year)\n",
    "    mu *= (as2rad/yr2sec)\n",
    "    return mu\n",
    "def PC2km(r):\n",
    "    #r = distance in pc\n",
    "    r2AU = r/as2rad #pc converted to AU\n",
    "    r2km = r2AU*AU #convert to km\n",
    "    return r2km\n",
    "\n",
    "AU = 1.495978707e8 #(in km) Astronomical Unit\n",
    "yr2sec = 365.25*24*3600 #seconds in a year\n",
    "as2rad = (1./3600.)*(np.pi/180.)\n",
    "mu = mu2SI(0.34972)\n",
    "r = PC2km(7.68)\n",
    "v_theta = r*mu\n",
    "print(\"The transverse velocity of Vega is %2.1f km/s.\" % np.round(v_theta,1))\n",
    "v_Vega = np.sqrt(v_theta**2+Vega_RV**2)\n",
    "print(\"Vega's velocity through space is %2.1f km/s\" % (v_Vega))"
   ]
  },
  {
   "cell_type": "markdown",
   "metadata": {},
   "source": [
    "The average speed of stars in the solar neighborhood is about 25 km/s, where the measurement of a star's radial velocity is also complicated by the motion of the Earth (29.8 km/s) around the Sun.  Astronomers correct for this motion by subtracting the component of Earth's orbital velocity along the line-of-sight from the star's measured radial velocity.\n",
    "\n",
    "### Spectrographs\n",
    "Modern methods can measure radial velocities with an accuracy of $\\sim 1$ m/s [(Dumusque et al. 2021)](https://www.aanda.org/articles/aa/full_html/2021/04/aa39350-20/aa39350-20.html).  Astronomers use *spectrographs* to measure the radial velocity of exoplanets, stars, and galaxies.  Modern spectrographs collimate the incoming starlight onto a mirror and split into the constituent colors using a *diffraction grating*, or a piece of glass with narrow, closely spaced lines; a transmission grating allows the light to pass through while a reflection grating reflects the light.  The grating acts like a series of neighboring double slits (see Chapter 3). Different wavelengths have their maxima occurring at different angles $\\theta$ by\n",
    "\n",
    "$$\n",
    "d\\sin \\theta = n\\lambda,\n",
    "$$\n",
    "\n",
    "where $d$ is the slit spacing of the grating, $n$ is the order of the spectrum, and $\\theta$ is measured relative the line perpendicular to the grating.  The smallest measurable difference in wavelength $\\Delta \\lambda$ depends on the order $n$ and the total number of lines $N$ through\n",
    "\n",
    "$$\n",
    "\\Delta \\lambda = \\frac{\\lambda}{nN}, \\tag{2}\n",
    "$$\n",
    "\n",
    "where $\\lambda$ is either of the closely spaced wavelengths.  The ratio $\\lambda/\\Delta \\lambda$ is one way to express the **resolving power** of the grating.\n",
    "\n",
    "<p align=\"center\"> \n",
    "<img src=\"https://www.scientificamerican.com/media/inline/ancient-stars-how-does-spectrograph-work_2.jpg?raw=true?\"/> <br>\n",
    "<b>Figure 2</b>: Schematic of a spectrograph. (image credit: <a href=\"https://www.scientificamerican.com/article/ancient-stars-how-does-spectrograph-work/\">Scientific American) </a>\n",
    "</p>\n",
    "\n",
    "### **Problems**\n",
    ">1\\. Barnard's star is an orange star in the constellation Ophiuchus.  It has the largest known proper motion $\\mu = 10.3934^{\\prime\\prime}$/yr and the fourth-largest parallax angle $p = 0.5469759^{\\prime\\prime}$ ([Gaia Collaboration](https://arxiv.org/abs/1804.09365)).  The H$\\alpha$ absorption line is observed at 656.034 nm when measured from the ground.\n",
    ">>**(a)** Determine the radial velocity of Barnard's star.\n",
    ">>\n",
    ">>**(b)** Determine the transverse velocity of Barnard's star.\n",
    ">>\n",
    ">>**(c)** Calculate the speed of Barnard's star through space.\n",
    ">\n",
    ">2\\. The Sun's spectrum contains two spectral lines (*Sodium D lines*) 588.997 nm and 589.594 nm.\n",
    ">>**(a)** If a diffraction grating with 300 lines per millimeter is used to measure the Sodium D lines, what is the angle between the second-order spectra for each of the wavelengths?\n",
    ">>\n",
    ">>**(b)** How many lines must the grating have to resolve the sodium D lines?"
   ]
  },
  {
   "cell_type": "markdown",
   "metadata": {},
   "source": [
    "## Photons\n",
    "A complementary description of light (in contrast to waves) uses bundles of energy called **photons**.  The energy is described in terms of Planck's constant *h* and is recognized as a fundamental constant of nature like the speed of light *c*.  This description of matter and energy is known as **quantum mechanics**, which uses Planck's discovery of energy quantization.  The first step forward was made by Einstein, who demonstrated the implications of Planck's quantum bundles of energy.\n",
    "\n",
    "### The Photoelectric Effect\n",
    "The **photoelectric effect** describes the light energy necessary to eject electrons from a metal surface.  The electrons with the highest kinetic energy $K_{max}$ originate from the surface of the metal and surprisingly, $K_{max}$ does not depend on the light intensity.  A higher intensity of light increases the number of electrons ejected, but not their maximum kinetic energy.  The value of $K_{max}$ varies with the *frequency* of the light and each metal has a characteristic cutoff frequency $\\nu_c$ and wavelength $(\\lambda_c = c/\\nu_c$).  \n",
    "\n",
    "Einstein's solution describes the light striking the metal surface as a stream of massless particles (i.e., photons).  The energy of a single photon of frequency $\\nu$ and wavelength $\\lambda$ is just Planck's quantum of energy\n",
    "\n",
    "$$\n",
    "E_{\\rm photon} = h\\nu = \\frac{hc}{\\lambda}. \\tag{3}\n",
    "$$\n",
    "\n",
    "- **What is the energy of a single blue photon of wavelength $\\lambda = 450$ nm?**"
   ]
  },
  {
   "cell_type": "code",
   "execution_count": 15,
   "metadata": {},
   "outputs": [
    {
     "name": "stdout",
     "output_type": "stream",
     "text": [
      "1.9864458241717581e-16\n",
      "The energy of a single blue photon (450 nm) is 2.76 eV or 4.41e-19 J\n"
     ]
    }
   ],
   "source": [
    "def energy_photon(l,units):\n",
    "    #l = lambda; wavelength in nm\n",
    "    if units=='eV':\n",
    "        hc = 1240 #eV*nm\n",
    "    else:\n",
    "        h = 6.62607004e-34 #(m^2*kg/s) Planck's constant \n",
    "        hc = h*c*1000/1e-9\n",
    "        print(hc)\n",
    "    return (hc/l)\n",
    "\n",
    "E_blue_eV = energy_photon(450,'eV')\n",
    "E_blue_J = energy_photon(450,'J')\n",
    "print(\"The energy of a single blue photon (450 nm) is %1.2f eV or %1.2e J\" % (np.round(E_blue_eV,2),E_blue_J))"
   ]
  },
  {
   "cell_type": "markdown",
   "metadata": {},
   "source": [
    "Einstein deduced that when a photon strikes the metal surface, its energy may be absorbed by a single electron.  The photon supplies the energy required to free the electron from the metal (i.e., overcome the binding energy).  The work function $\\phi$ defines the minimum binding energy of electrons in a metal and the maximum kinetic energy of the ejected electrons is\n",
    "\n",
    "$$\n",
    "K_{\\rm max} = E_{\\rm photon} - \\phi = h\\nu - \\phi, \\tag{4}\n",
    "$$\n",
    "\n",
    "where the cutoff frequency and wavelength are $\\nu_c = \\phi/h$ and $\\lambda_c = hc/\\phi$, respectively.  Albert Einstein was awarded the 1921 Nobel Prize for \"his services to theoretical physics, and especially for his discovery of the law of the photoelectric effect\".  Astronomers take advantage of the photoelectric effect through detectors that count photons by the work they do on a metal (e.g., charge-coupled devices or CCDs).\n",
    "\n",
    "### The Compton Effect\n",
    "Another test of light's particle-like nature was performed by Arthur Compton.  He measured the change in the wavelength of X-ray photons as they were scattered by free electrons.  Through special relativity, the energy of a photon is related to its momentum $p$ by\n",
    "\n",
    "$$\n",
    "E_{\\rm photon} = h\\nu = pc. \\tag{5}\n",
    "$$\n",
    "\n",
    "compton considered the interaction (or \"collision\") between a photon and a free electron (initially at rest).  The electron is scattered by an angle $\\varphi$, while the photon is scattered by an angle $\\theta$.  Due to the energy exchange during the interaction (i.e., electron gains kinetic energy) the photon's energy is reduced and the wavelength has increased.  The change in wavelength is the difference between the final and initial wavelength and can be expressed as\n",
    "\n",
    "$$\n",
    "\\Delta \\lambda =\\lambda_f - \\lambda_i = \\frac{h}{m_e c}(1-\\cos \\theta), \\tag{6}\n",
    "$$\n",
    "\n",
    "where $m_e$ is the mass of the electron.  The prefactor $h/m_e c$ is called the **Compton wavelength** $\\lambda_C$.  Compton's experiment provided evidence that photons carry momentum (although massless) and this is the physical basis for the force exerted by radiation upon matter.\n",
    "\n",
    "<p align=\"center\"> \n",
    "<img src=\"https://github.com/saturnaxis/ModernAstro/blob/main/Chapter_5/Figure_3.jpg?raw=true?\"/> <br>\n",
    "<b>Figure 3</b>: The Compton effect: the scattering of a photon by a free electron. (Carroll & Ostlie (2007))\n",
    "</p>\n",
    "\n",
    "### **Problems**\n",
    ">3\\. The ejection of an electron leaves a grain of dust with a positive charge, which leads to heating within an interstellar cloud.  If the the average energy of the ejected electron is about 5 eV and the process is particularly effective for UV photons ($\\lambda \\approx 100$ nm), estimate the work function $\\phi$ of a typical dust grain.\n",
    ">\n",
    ">4\\. Consider the case of a \"collision\" between a photon and a free proton (initially at rest).\n",
    ">>**(a)** What is the characteristic change in the wavelength of the scattered photon (in nm)?\n",
    ">>\n",
    ">>**(b)** How does this compare with the Compton wavelength, $\\lambda_C$."
   ]
  },
  {
   "cell_type": "markdown",
   "metadata": {},
   "source": [
    "## The Bohr Model of the Atom\n",
    "\n",
    "### The Structure of the Atom\n",
    "With the discovery of the [electron](https://en.wikipedia.org/wiki/Electron) (by J.J. Thomson), it showed that the atom is composed of smaller parts usually consisting of electrically neutral bulk matter (equal parts of negative and positive charges).  Ernest [Rutherford](https://en.wikipedia.org/wiki/Ernest_Rutherford) discovered in 1911 that an atom's positive charge was concentrated in a tiny, massive nucleus using $\\alpha$ particles (now know to be helium nuclei).  Rutherford calculated that the radius of the nucleus was 10,000 times smaller than the atomic radius showing that ordinary matter is mostly empty space.  Rutherford also coined the term **proton** to refer to the nucleus of the hydrogen atom and is 1836 times more massive than the electron.\n",
    "\n",
    "### The Wavelength of Hydrogen\n",
    "Many natural philosophers (now known as chemists) produced a wealth of experimental data.  Fourteen spectral lines of hydrogen had been precisely measured before the 20th century.  The spectral lines were described by their wavelengths and categorized using greek letters (${\\rm H}\\alpha$, ${\\rm H}\\beta$, etc.).  In 1885 Johann Balmer found (by trial and error) a formula to reproduce the series of wavelengths for hydrogen's spectral lines (or **Balmer lines**) given as\n",
    "\n",
    "$$\n",
    "\\lambda = \\frac{1}{R_H}\\left( \\frac{4n^2}{n^2-4}\\right), \\tag{7}\n",
    "$$\n",
    "\n",
    "where $n$ is an integer greater than 2 ($n=3,4,5,\\ldots$) and $R_H = 1.09677583 \\times 10^7 \\pm 1.3 \\;{\\rm m}^{-1}$ is the [Rydberg constant](https://en.wikipedia.org/wiki/Rydberg_constant)) for hydrogen.  Equation 7 is accurate to a fraction of a percent, where values of $n$ produce the wavelength for the spectral lines (${\\rm H}\\alpha$, ${\\rm H}\\beta$, ${\\rm H}\\gamma$, etc. ).  Balmer realized that the formula could be generalized (since $2^2 = 4$) producing the general form as\n",
    "\n",
    "$$\n",
    "\\lambda = \\frac{1}{R_H}\\left( \\frac{m^2n^2}{n^2-m^2}\\right), \\tag{8}\n",
    "$$\n",
    "\n",
    "with $m<n$ (both integers).  There are only a few spectral lines that lie in the visible range for hydrogen, where the *Lyman lines* ($m=1$) are found in the ultraviolet and the *Paschen lines* ($m=3$) lie entirely in the infrared.\n",
    "\n",
    "<p align=\"center\"> \n",
    "<img src=\"https://github.com/saturnaxis/ModernAstro/blob/main/Chapter_5/Table_2.jpg?raw=true?\"/>\n",
    "</p>\n",
    "<center>\n",
    "<div style='width: 450px'><b>Table 2</b>: Wavelengths of selected hydrogen spectral lines in air. (Carroll & Ostlie, 2007) </div>\n",
    "</center>\n",
    "\n",
    "- **What are the first 3 wavelengths for the Balmer, Lyman, and Paschen lines?** (Compare to Table 2 in Ch 5 of the textbook)"
   ]
  },
  {
   "cell_type": "code",
   "execution_count": 29,
   "metadata": {},
   "outputs": [
    {
     "name": "stdout",
     "output_type": "stream",
     "text": [
      "H$\\alpha$ is 656.470 nm.\n",
      "H\\$beta$ is 486.274 nm.\n",
      "H$\\gamma$ is 434.173 nm.\n",
      "Ly$\\alpha$ is 121.568 nm.\n",
      "Ly\\$beta$ is 102.573 nm.\n",
      "Ly$\\gamma$ is 97.255 nm.\n",
      "Pa$\\alpha$ is 1875.627 nm.\n",
      "Pa\\$beta$ is 1282.167 nm.\n",
      "Pa$\\gamma$ is 1094.116 nm.\n"
     ]
    }
   ],
   "source": [
    "def calculate_lambda_mn(m,n):\n",
    "    #m,n = integers\n",
    "    if m < n:\n",
    "        return (1./R_H)*(m**2*n**2)/(n**2-m**2)\n",
    "    else:\n",
    "        print(\"Please choose appropriate values for m,n (m<n)\")\n",
    "        return 0\n",
    "\n",
    "R_H = 1.09677583e7*1e-9 #Rydberg constant in nm\n",
    "\n",
    "Balmer = np.zeros(3)\n",
    "Lyman = np.zeros(3)\n",
    "Paschen = np.zeros(3)\n",
    "wavelength = [Balmer,Lyman,Paschen]\n",
    "for i in range(1,4):\n",
    "    Balmer[i-1] = calculate_lambda_mn(2,2+i)\n",
    "    Lyman[i-1] = calculate_lambda_mn(1,1+i)\n",
    "    Paschen[i-1] = calculate_lambda_mn(3,3+i)\n",
    "Series = [\"H\",\"Ly\",\"Pa\"]\n",
    "letter = [\"$\\\\alpha$\",\"\\$beta$\",\"$\\gamma$\"]\n",
    "for i in range(0,3):\n",
    "    for j in range(0,3):\n",
    "        print(\"%s%s is %3.3f nm.\" % (Series[i],letter[j],wavelength[i][j]))"
   ]
  },
  {
   "cell_type": "markdown",
   "metadata": {},
   "source": [
    "Although this formula worked for hydrogen, physicists of the day wanted a physical model that could be applied more broadly.  The simplest \"planet-like\" model of an electron orbiting a proton was the most attractive, but Maxwell's equations predicted a basic instability.  A particle in a circular orbit experiences an acceleration, where Maxwell showed that accelerating charges emit electromagnetic radiation.  Under this model, the electron would lose energy by emitting light as it spirals down into the nucleus in only $10^{-8}$ s.  Obviously this wasn't a good description of nature.\n",
    "\n",
    "### Bohr's Semiclassical Atom\n",
    "In 1913, Niels Bohr noted that the dimensions of Planck's constant are equivalent to angular momentum and perhaps the angular momentum of the orbiting electron was quantized.  Bohr hypothesized that orbits with integral multiples of Planck's constant (i.e., a specific angular momentum), the electron would be stable and would not radiate *in spite of its centripetal acceleration*.\n",
    "\n",
    "<p align=\"center\"> \n",
    "<img src=\"https://chem.libretexts.org/@api/deki/files/344390/1.8.3.svg\"/> <br>\n",
    "<b>Figure 4</b>: Bohr atom with an electron revolving around a fixed nucleus. (CC BY-NC; Ümit Kaya via <a href=\"https://chem.libretexts.org/Courses/Solano_Community_College/Chem_160/Chapter_07%3A_Atomic_Structure_and_Periodicity/7.04_The_Bohr_Model\">Libretexts</a>)\n",
    "</p>\n",
    "\n",
    "To analyze the interactions between a proton and electron, we start with the mathematical description given by **Coulomb's law**.  The electric force between two charges ($q_1$ and $q_2$) separated by a distance $r$ has the familiar form\n",
    "\n",
    "$$\n",
    "{\\bf F} = \\frac{1}{4\\pi\\epsilon_o}\\frac{q_1q_2}{r^2}\\hat{{\\bf r}}, \\tag{9}\n",
    "$$\n",
    "\n",
    "where $\\epsilon_o = 8.854187817\\ldots \\times 10^{-12}$ F ${\\rm m}^{-1}$ is the *permittivity of free space* and $\\hat{{\\bf r}}$ is a unit vector that points from $q_1$ to $q_2$.  In the hydrogen atom, the electron has a negative charge $e^-$ and the proton a positive charge $e^+$.  The Coulomb force pulls opposite charges toward on another, which is definitely not a good description of the system.  In the case of two masses orbiting each other, we set the gravitational force equal the centripetal force.  Thus, it follows that we could try the same procedure for a proton of mass $m_p$ and an electron of mass $m_e$.  Simplifying further, we can convert the two-body problem to an equivalent one-body problem using the reduced mass\n",
    "\n",
    "$$\n",
    "\\mu = \\frac{m_e m_p}{m_e+m_p} = 0.999455679 m_e,\n",
    "$$\n",
    "\n",
    "where $m_p = 1836.15266 m_e$ and the total mass $M = m_e+m_p$.  To evaluate the one-body problem, we use a coordinate system so that the proton is at the origin (i.e., proton-centric).  *Note: this technique is also used in orbital mechanics where planetary systems are evaluate in heliocentric coordinates*. Using the centripetal acceleration and Newton's second law:\n",
    "\n",
    "$$\n",
    "-\\frac{1}{4\\pi\\epsilon_o}\\frac{e^2}{r^2}\\hat{{\\bf r}} = -\\mu\\frac{v^2}{r}\\hat{{\\bf r}},\n",
    "$$\n",
    "\n",
    "which can be solved for the kinetic energy $K$:\n",
    "\n",
    "$$\n",
    "K = \\frac{1}{2}\\mu v^2 = \\frac{1}{8\\pi\\epsilon_o}\\frac{e^2}{r}. \\tag{10}\n",
    "$$\n",
    "\n",
    "The electrical potential energy $U$ of the Bohr atom is:\n",
    "\n",
    "$$\n",
    "U = -\\frac{1}{4\\pi\\epsilon_o}\\frac{e^2}{r} = -2K.\n",
    "$$\n",
    "\n",
    "The total energy $E = K + U$ of the atom is:\n",
    "\n",
    "$$\n",
    "E = K + U = -K = -\\frac{1}{8\\pi\\epsilon_o}\\frac{e^2}{r}. \\tag{11}\n",
    "$$\n",
    "\n",
    "The kinetic energy is a positive quantity, which implies that the total energy is negative and indicates that the electron and proton are *bound*.  To **ionize** or free the electron, it must receive at least an amount of energy equal to $|E|$.\n",
    "\n",
    "Getting back to Bohr's contribution, he suggested that the angular momentum $L = \\mu vr$ was quantized and could be expressed in terms of Planck's constant $h$ distributed over a unit circle as $\\hbar = h/2\\pi$.  The full condition is\n",
    "\n",
    "$$\n",
    "L = \\mu vr = n\\hbar, \\tag{12}\n",
    "$$\n",
    "\n",
    "which can be rewritten using the kinetic energy as\n",
    "\n",
    "$$\\begin{align*}\n",
    "K &= \\frac{1}{2} \\mu v^2 = \\frac{L^2}{2\\mu r^2} \\\\ &= \\frac{(n\\hbar)^2}{2\\mu r^2}  = \\frac{1}{8\\pi\\epsilon_o}\\frac{e^2}{r}.\n",
    "\\end{align*}\n",
    "$$\n",
    "\n",
    "Solving the second line of the equation above for the radius $r$ shows that the specific values are allowed by Bohr's quantization condition as\n",
    "\n",
    "$$\n",
    "r_n = \\frac{4\\pi\\epsilon_o \\hbar^2}{\\mu e^2}n^2 = a_on^2, \\tag{13}\n",
    "$$\n",
    "\n",
    "where $a_o = 5.291772083 \\times 10^{-11}$ m is known as the **Bohr radius**.  Now that we know the scale of the atom (i.e., appropriate values of $r$), Eqn. 11 describes the energy in terms of fundamental constants as\n",
    "\n",
    "$$\n",
    "E_n = -\\frac{\\mu e^4}{32\\pi^2\\epsilon_o^2 \\hbar^2}\\frac{1}{n^2} = \\frac{-13.6\\;{\\rm eV}}{n^2}. \\tag{14}\n",
    "$$\n",
    "\n",
    "The **principal quantum number** $n$ completely determines the characteristics of the Bohr atom, where $n\\geq 1$.  \n",
    "\n",
    "The spectral lines are produced by electron transitions within the atom (i.e., moving between energy levels).  Balmer tried to produce a formula that would predict the wavelength that resulted from a transition from $n_{high}\\rightarrow n_{low}$.  Now consider the required energy to move between levels as the energy of a photon $E_{photon} = hc/\\lambda = E_{high} - E_{low}$, which gives\n",
    "\n",
    "$$\n",
    "\\lambda = \\frac{h c}{13.6\\;{\\rm eV}}\\frac{n_{high}^2n_{low}^2}{n_{high}^2-n_{low}^2}, \\tag{15}\n",
    "$$\n",
    "\n",
    "where $hc = 1240$ eV nm.\n",
    "\n",
    "- **What are the first 3 wavelengths in the Balmer lines using this method?**"
   ]
  },
  {
   "cell_type": "code",
   "execution_count": 33,
   "metadata": {},
   "outputs": [
    {
     "name": "stdout",
     "output_type": "stream",
     "text": [
      "H$\\alpha$ is 656.471 nm.\n",
      "H\\$beta$ is 486.275 nm.\n",
      "H$\\gamma$ is 434.174 nm.\n"
     ]
    }
   ],
   "source": [
    "def calculate_lambda_hl(n_h,n_l):\n",
    "    #n_h = higher state\n",
    "    #n_l = lower state\n",
    "    if n_h > n_l:\n",
    "        return (1240/13.6)*(n_h**2*n_l**2)/(n_h**2-n_l**2)\n",
    "    else:\n",
    "        print(\"Please choose appropriate values for n_h,n_l (n_l<n_h)\")\n",
    "        return 0\n",
    "\n",
    "for i in range(0,1):\n",
    "    for j in range(0,3):\n",
    "        B_lam = calculate_lambda_hl(j+3,2)\n",
    "        print(\"%s%s is %3.3f nm.\" % (Series[i],letter[j],B_lam))"
   ]
  },
  {
   "cell_type": "markdown",
   "metadata": {},
   "source": [
    "The above results and those produced from Balmer's formula are for light traveling in a vacuum.  The empirical measurements are made in *air*, where the speed of light is slightly slower by a factor of 0.999703 and $\\lambda_{\\rm air} = 0.999703 \\lambda_{\\rm vacuum}$.  Solving for the ${\\rm H}\\alpha$ line in air yields $\\lambda_{\\rm air} = 656.276$ nm, which differs from the quoted value by 0.0008%.  The remainder of the discrepancy is due to environmental factors (e.g., temperature, pressure, and humidity) that affect the index of refraction for air.\n",
    "\n",
    "Thus discussion has focused on electrons that transition from a higher (large $n$) to lower (small $n$) energy state.  But, the reverse process can occur, where a photon is absorbed by the atom thereby exciting an electron from a lower to a higher energy state.  The former process produces spectral emission where the latter produces absorption and Eqn. 15 is used for both processes.  Kirchoff's laws now had a physical basis from first principles and can be stated as\n",
    "\n",
    "- A hot, dense gas or hot solid object produces a continuous spectrum with no dark spectral lines.  The continuous spectrum is described by the Planck functions $B_\\lambda(T)$ and $B_\\nu(T)$.  The wavelength where $B_\\lambda(T)$ reaches its peak intensity is given by Wien's displacement law.\n",
    "\n",
    "- A hot, diffuse gas produces bright emission lines, when an electron makes a downward transition. The energy lost is carried away by a single photon.\n",
    "\n",
    "- A cool, diffuse gas in front of a source of a continuous spectrum produces dark absorption lines in the continuous spectrum.  The lines are produced when an electron absorbs a photon of the required energy to jump from a lower to higher energy orbit.\n",
    "\n",
    "Despite the success of Bohr's model, it describes only the simplest arrangement of particles.  In reality, the electron is not really in a circular orbit nor is its position well-defined.  There is more structure to the atom than Bohr realized, where the fine structure can come into play during and after a star's main-sequence.\n",
    "\n",
    "<p align=\"center\"> \n",
    "<img src=\"https://github.com/saturnaxis/ModernAstro/blob/main/Chapter_5/Figure_5.jpg?raw=true?\"/> <br>\n",
    "<b>Figure 5</b>: Balmer lines produced by the hydrogen atom. (a) Emission. (b) Absorption. (Carroll & Ostlie 2007)\n",
    "</p>\n",
    "\n",
    "<p align=\"center\"> \n",
    "<img src=\"https://github.com/saturnaxis/ModernAstro/blob/main/Chapter_5/Figure_6.jpg?raw=true?\"/> <br>\n",
    "<b>Figure 6</b>: Energy level diagram for the hydrogen atom showing Lyman, Balmer, and Paschen lines. (Carroll & Ostlie 2007)\n",
    "</p>\n",
    "\n",
    "### **Problems**\n",
    ">5\\. To demonstrate the relative strengths of the electrical and gravitational forces between the electron and proton in the Bohr atom, suppose the hydrogen atom were held together solely by gravity.  Determine the radius of the ground-state orbit (in nm and AU) and the energy of the ground state (in EV).\n",
    ">\n",
    ">6\\. Calculate the energies and vacuum wavelengths of all possible photons that are emitted when the electron cascades from the $n=3$ to the ground state of the hydrogen atom. "
   ]
  },
  {
   "cell_type": "markdown",
   "metadata": {},
   "source": [
    "## Quantum Mechanics and Wave-Particle Duality\n",
    "\n",
    "### de Broglie's Wavelength and Frequency\n",
    "[Louis de Broglie](https://en.wikipedia.org/wiki/Louis_de_Broglie) (a French prince) posed the following question: If light could exhibit the characteristics of particles, might not particles sometimes manifest the properties of waves?  In his PhD thesis, de Broglie extended thw wave-particle duality of light to all other particles.  Einstein's theory of special relativity showed that photons carry both energy $E$ and momentum $p$, which can be related to a frequency $\\nu$ and wavelength $\\lambda$ by\n",
    "\n",
    "$$\n",
    "\\nu = \\frac{E}{h} \\quad {\\rm and} \\quad \\lambda = \\frac{h}{p}.\\tag{16}\n",
    "$$\n",
    "\n",
    "The de Broglie wavelength and frequency describe massless photons, as well as, massive electrons, protons, neutrons, etc.  This seemed outrageous at the time, but the hypothesis was confirmed by many experiments including the interference pattern produced by *electrons* in a double slit experiment.  The wave-particle duality lies at the heart of the physical world, where wave properties describe the *propagation* and the particle nature manifests in *interactions*.\n",
    "\n",
    "- **Compare the wavelengths of a free electron moving at 0.01*c* and the [fastest human sprinter](https://en.wikipedia.org/wiki/Footspeed) moving at 12.42 m/s.**"
   ]
  },
  {
   "cell_type": "code",
   "execution_count": 16,
   "metadata": {},
   "outputs": [
    {
     "name": "stdout",
     "output_type": "stream",
     "text": [
      "The wavelength of a free electron moving at 0.01c is 2.426e-10 m or 0.243 nm.\n",
      "The wavelength of Usain Bolt moving at 12.42 m/s is 5.676e-37 m.\n"
     ]
    }
   ],
   "source": [
    "def deBroglie_lambda(m,v):\n",
    "    #m = mass in kg\n",
    "    #v = speed in m/s\n",
    "    return h/(m*v) #de Broglie wavelength in meters\n",
    "\n",
    "m_UB = 94 #kg; mass of Usain Bolt; https://en.wikipedia.org/wiki/Usain_Bolt\n",
    "m_e = 9.10938356e-31 #kg; mass of electron; https://en.wikipedia.org/wiki/Electron\n",
    "h = 6.62607015e-34 #J/s Planck constant\n",
    "c = 2.99792458e8 #speed of light in m/s\n",
    "v_e = 0.01*c\n",
    "v_UB = 12.42 #fastest speed in m/s\n",
    "\n",
    "lambda_e = deBroglie_lambda(m_e,v_e)\n",
    "lambda_UB = deBroglie_lambda(m_UB,v_UB)\n",
    "print(\"The wavelength of a free electron moving at 0.01c is %1.3e m or %1.3f nm.\" % (lambda_e,lambda_e/1e-9))\n",
    "\n",
    "print(\"The wavelength of Usain Bolt moving at 12.42 m/s is %1.3e m.\" % lambda_UB)"
   ]
  },
  {
   "cell_type": "markdown",
   "metadata": {},
   "source": [
    "In a double-slit experiment, a photon or electron passes through *both* slits to produce the interference pattern on the other side.  The wave doesn't convey information about where the particle is, rather only where it *may* be.  As a result, the wave is described by a probability with and amplitude $\\Psi$.  The amplitude squared, $\\left<\\Psi|x|\\Psi\\right>$, describes the probability of finding the particle at a certain location $x$.  For the double-slit experiment, particles are never found where the sum of two probability functions equal zero (i.e., destructive interference).\n",
    "\n",
    "### Heisenberg's Uncertainty Principle\n",
    "A probability wave $\\Psi$ for a particle can have a precise description as a sine wave with a wavelength $\\lambda$.  Through de Broglie's wavelength, the particle's momentum can also be defined exactly ($p = h/\\lambda$), but the particle is not localized and means the particle's position is perfectly uncertain.  The particle's position can be constrained when several sine waves with a range of wavelengths are added so they destructively interfere almost everywhere.  The result is $\\Psi$ (the probability) is approximately zero almost everywhere, except for a narrow range of $x$.  By adding more waves, and there wavelengths, the particle's momentum is now a range of values (i.e., more uncertain).  \n",
    "\n",
    "<p align=\"center\"> \n",
    "<img src=\"https://github.com/saturnaxis/ModernAstro/blob/main/Chapter_5/Figure_7.jpg?raw=true?\"/> <br>\n",
    "<b>Figure 7</b>: Two examples of a probability wave: (a) a single sine wave and (b) a pulse composed of many sine waves. (Carroll & Ostlie 2007)\n",
    "</p>\n",
    "\n",
    "Werner Heisenberg developed a theoretical framework for this inherent \"fuzziness\" of the physical world.  The product of the uncertainty in the position and momentum must be equal to or larger than $\\hbar/2$ and is known as [Heisenberg's uncertainty principle](https://en.wikipedia.org/wiki/Uncertainty_principle).  A similar statement relates the uncertainty of energy and time measurements.  Together they are described by\n",
    "\n",
    "$$\n",
    "\\Delta x \\Delta p \\approx \\hbar \\quad {\\rm and} \\quad \\Delta E \\Delta t \\approx \\hbar.\\tag{17}\n",
    "$$\n",
    "\n",
    "- **What is the minimum speed and kinetic energy of an electron in a hydrogen atom?**"
   ]
  },
  {
   "cell_type": "code",
   "execution_count": 22,
   "metadata": {},
   "outputs": [
    {
     "name": "stdout",
     "output_type": "stream",
     "text": [
      "The minimum speed of the electron is 2.19e+06 m/s or 0.007c.\n",
      "The minimum KE of the electron is 2.18e-18 J or 13.6 eV\n"
     ]
    }
   ],
   "source": [
    "hbar = h/(2.*np.pi)\n",
    "a_o = 5.291772083e-11 #Bohr radius of hydrogen atom; Delta x\n",
    "p_e = hbar/a_o #uncertainty in the electron's momentum p\n",
    "\n",
    "v_min = p_e/m_e #minimum speed of the electron\n",
    "K_min = p_e**2/(2*m_e) #minimum KE of the electron\n",
    "eV = 1.602176634e-19 #J in 1 eV\n",
    "\n",
    "print(\"The minimum speed of the electron is %1.2e m/s or %1.3fc.\" % (v_min,v_min/c))\n",
    "print(\"The minimum KE of the electron is %1.2e J or %2.1f eV\" % (K_min,K_min/eV))"
   ]
  },
  {
   "cell_type": "markdown",
   "metadata": {},
   "source": [
    "### Quantum Mechanical Tunneling\n",
    "Light changes its behavior at boundary transitions, where this is most easily seen for a light beam traveling from a prism (glass) into air.  The light may undergo *total internal reflection* if its incident angle is greater than a critical angle $\\theta_c$ that is determined by the indices of refraction of the glass and air.  The critical angle $\\theta_c$ can be derived from Snell's law to get\n",
    "\n",
    "$$ \\sin \\theta_c = \\frac{n_{\\rm air}}{n_{\\rm glass}}. $$\n",
    "\n",
    "The electromagnetic wave does enter the air, but it dies away exponentially (i.e., becomes *evanescent*).  When another prism is placed next to the first, then the evanescent wave can begin propagating into the second prism without passing through the air gap between them.  Photons have **tunneled** from one prism to another.  The limitation to this effect is through Heisenberg's uncertainty principle, where the location of a particle (i.e., photon) cannot be determined with an uncertainty less than its wavelength.  For barriers that are only a few wavelengths wide, a particle can suddenly appear on the other side.  **Barrier penetration** is important for radioactive decay and inside stars, where nuclear fusion rates depend upon tunneling.\n",
    "\n",
    "<p align=\"center\"> \n",
    "<img src=\"https://github.com/saturnaxis/ModernAstro/blob/main/Chapter_5/Figure_8.jpg?raw=true?\"/> <br>\n",
    "<b>Figure 8</b>: mechanical tunneling (barrier penetration) of a particle traveling to the right. (Carroll & Ostlie 2007)\n",
    "</p>"
   ]
  },
  {
   "cell_type": "markdown",
   "metadata": {},
   "source": [
    "### Schr&ouml;dinger's Equation and the Quantum Mechanical Atom\n",
    "Heisenberg's uncertainty principle prevents the use of classical models to treat the electron-proton like a planetary system.  Instead, the electron orbits within a cloud of probability (i.e., *orbital*) where the more \"dense\" regions corresponding to where the electron is most likely to be found.  In 1926, Erwin Schr&ouml;dinger developed a wave equation that can be solved for the probability waves that describe the allowed values of a particle state (e.g., energy, momentum, etc.) and its propagation through space.\n",
    "\n",
    "<p align=\"center\"> \n",
    "<img src=\"https://github.com/saturnaxis/ModernAstro/blob/main/Chapter_5/Figure_9.jpg?raw=true?\"/> <br>\n",
    "<b>Figure 9</b>: Electron orbitals of the hydrogen atom. (Carroll & Ostlie 2007)\n",
    "</p>\n",
    "\n",
    "The Schr&ouml;dinger equation can be solved analytically for the hydrogen atom and it produces the same set of allowed energies obtained by Bohr.  However, Schr&ouml;dinger found that two additional quantum numbers $\\ell$ and $m_\\ell$ are required for a complete description of the electron orbitals.  The principal quantum number $n$ determines the energy level, where these quantum numbers describe the angular momentum vector **L** of the atom.  The magnitude of the angular momentum $L$ are\n",
    "\n",
    "$$ L = \\sqrt{\\ell(\\ell+1)}\\hbar, \\tag{18}$$\n",
    "\n",
    "where $\\ell = \\{0,\\ldots,n-1 \\}$.  Early spectroscopists categorized some elements based on their alkali metal spectroscopic lines described as **s**harp, **p**rincipal, **d**iffuse, and **f**undamental and this historical [nomenclature](https://en.wikipedia.org/wiki/Atomic_orbital) corresponded with $\\ell = 0,1,2,3$.  The letters continues alphabetically where $\\ell = 4\\rightarrow g$, $\\ell = 5\\rightarrow h$, and so on (omitting $j$).  Chemists now use a nomenclature that includes both the principal and angular momentum quantum numbers together (e.g., $n\\ell$).  For example, ($n=2$, $\\ell=1$) corresponds to $2p$.\n",
    "\n",
    "The $z$-component of the angular momentum vector $L_z$ can assume only particular values designated by the quantum number $m_\\ell$ (i.e., $L=m_\\ell\\hbar$), which ranges from $-\\ell$ to $+\\ell$ resulting in $2\\ell +1$ possible integers.  For *isolated* hydrogen atoms, there is not a preferred direction for the angular momentum vector to point and thus, a **degeneracy** exists with respect to the energy (i.e., the electron has the same energy independent of $\\ell$ and $m_\\ell$) and will produce the *same* spectral line.\n",
    "\n",
    "However, hydrogen gas in a star is not isolated and the electrons will feel the effect of the stellar magnetic field.  Due to the external magnetic field the energy levels are no longer degenerate and the spectral lines are observed to split.  The simplest case is described by the [Zeeman effect](https://en.wikipedia.org/wiki/Zeeman_effect), where the $2p$ orbital is split into three lines; $p=1$ and $m_\\ell = \\{-1,0,+1\\}$.  The $m_\\ell = 0$ line appears at a frequency $\\nu_o$ that corresponds to the spectral line in the absence of the magnetic field. The other two lines are produced depending on the magnetic field strength $B$ and reduced mass $\\mu$ to produce the frequencies\n",
    "\n",
    "$$ \\nu_{m_\\ell} = \\nu_o + m_\\ell\\frac{eB}{4\\pi \\mu}. \\tag{19}$$ \n",
    "\n",
    "Today, the Zeeman effect is used to monitor the magnetic field of the Sun by taking spectra near sunspots.  Interstellar clouds may contain very weak magnetic fields ($B\\approx 2\\times 10^{-10}\\;{\\rm T}$), where astronomers have been able to measure this magnetic field.\n",
    "\n",
    "<p align=\"center\"> \n",
    "<img src=\"https://github.com/saturnaxis/ModernAstro/blob/main/Chapter_5/Figure_10.jpg?raw=true?\"/> <br>\n",
    "<b>Figure 10</b>: Splitting of absorption lines by the Zeeman effect. (Carroll & Ostlie 2007)\n",
    "</p>\n",
    "\n",
    "- **Calculate the change in frequency under the magnetic field of an interstellar cloud using the mass of the electron for the reduced mass ($\\mu = m_e$).**"
   ]
  },
  {
   "cell_type": "code",
   "execution_count": 24,
   "metadata": {},
   "outputs": [
    {
     "name": "stdout",
     "output_type": "stream",
     "text": [
      "The change in frequency from the Zeeman effect is 2.8 Hz.\n"
     ]
    }
   ],
   "source": [
    "def calc_Zeeman_freq(B,mu):\n",
    "    #B = magnetic field strength in Tesla (T)\n",
    "    #mu = reduced mass\n",
    "    return q_e*B/(4*np.pi*mu) #returns frequency in Hz\n",
    "\n",
    "q_e = 1.60217662e-19 #Coulombs; electron charge\n",
    "B_IC = 2e-10 #magnetic field of interstellar cloud\n",
    "delta_nu = calc_Zeeman_freq(B_IC,m_e) \n",
    "print(\"The change in frequency from the Zeeman effect is %1.1f Hz.\" % delta_nu)"
   ]
  },
  {
   "cell_type": "markdown",
   "metadata": {},
   "source": [
    "### Spin and the Pauli Exclusion Principle\n",
    "More complicated patterns of magnetic field splitting led physicists to discover another quantum number related to the *spin angular momentum* **S** of an electron.  This is *not* a classical top-like rotation but purely a quantum effect.  The spin vector has a constant magnitude\n",
    "\n",
    "$$ S = \\sqrt{\\frac{1}{2}\\left(\\frac{1}{2}+1\\right)}\\hbar = \\frac{\\sqrt{3}}{2}\\hbar, $$\n",
    "\n",
    "with a $z$-component $S_z = m_s\\hbar$ and $m_s = \\pm 1/2$.  The quantum state of an electron can be described by four quantum numbers, but no two electrons can occupy the same quantum state, [Pauli Exclusion principle](https://en.wikipedia.org/wiki/Pauli_exclusion_principle).  This provided an explanation for the properties of the period table of elements.  However, there wasn't a first principles reasoning for why a fourth quantum number was needed.\n",
    "\n",
    "Quantum mechanics was at odds with Schr&ouml;dinger's (non-relativistic) wave equation and Einstein's theory of special relativity.  Paul Dirac worked to combine the two theories and succeeded in writing a relativistic wave equation for the electron that naturally included the spin of the electron.  His relativistic wave equation extended the Pauli exclusion principle by dividing the world of particles into two groups: fermions and bosons.\n",
    "\n",
    "-  **Fermions** are odd-integer half-spin particles (e.g., $\\frac{1}{2}\\hbar$, $\\frac{3}{2}\\hbar$, $\\ldots$) such as electrons, protons, and neutrons. Fermions obey the Pauli exclusion principle, which explains the structure of white dwarfs and neutron stars.\n",
    "\n",
    "- **Bosons** are integer spin particles (e.g., 0, $\\hbar$, $2\\hbar$, $\\ldots$) such as photons.  Bosons do not obey the Pauli exclusion principle.\n",
    "\n",
    "The Dirac equation also predicted the existence of **antiparticles**. A particle differs from its antiparticle in its charge and magnetic moment (e.g., electron $e^-$ and positron $e^+$); all other properties are the same.  Pairs of particles and antiparticles may be created from the energy of gamma-ray photons (e.g., $\\gamma \\rightarrow e^- + e^+$) or annihilate each other to produce gamma-rays (e.g., $e^- + e^+ \\rightarrow \\gamma$).  Such processes play a role for fusion inside of stars and in the evaporation of black holes."
   ]
  },
  {
   "cell_type": "markdown",
   "metadata": {},
   "source": [
    "### The Complex Spectra of Atoms\n",
    "Four quantum numbers ($n$, $\\ell$, $m_\\ell$, and $m_s$) describe a quantum state for each electron in an atom, where external magnetic fields (and other electromagnetic interactions) increase the number of possible energy levels.  Even though there are a large number of possible states to make a transition, some transitions are restricted, where Nature imposes a set of [selection rules](https://en.wikipedia.org/wiki/Selection_rule) that determines the **allowed** and **forbidden** transitions.  The allowed transitions can happen spontaneously on timescales of $10^{-8}$ s, while the requirement of $\\Delta \\ell = \\pm 1$ prevents transition from $F$ to $P$.\n",
    "\n",
    "<p align=\"center\"> \n",
    "<img src=\"https://github.com/saturnaxis/ModernAstro/blob/main/Chapter_5/Figure_11.jpg?raw=true?\"/> <br>\n",
    "<b>Figure 11</b>: Some of the electronic energy levels of the helium atom. (Carroll & Ostlie 2007)\n",
    "</p>\n",
    "\n",
    "The Zeeman effect shows only three transitions occur between $1s$ and $2p$ energy levels because of selection rules requiring $\\Delta m_\\ell = 0$ or $\\pm 1$ and forbidding transitions if *both* orbitals have $m_\\ell = 0$.  Similar to quantum tunneling, there remains a small but finite probability for forbidden transitions to occur and they require much longer timescales.  Collisions between atoms trigger transitions and can compete with spontaneous transitions.  Thus, very low gas densities are required to obtain a sufficient signal to measure the forbidden transitions.  In the diffuse interstellar medium or the outer atmospheres of stars, this condition is met."
   ]
  },
  {
   "cell_type": "markdown",
   "metadata": {},
   "source": [
    "### **Problems**\n",
    ">7\\. An electron in an old TV set reaches a speed of about $5\\times 10^7$ m/s before it hits the screen.  What is the wavelength of this electron?\n",
    ">\n",
    ">8\\. A White dwarf is a very dense object, with its ions and electrons packed extremely close together.  Each electron may be considered to be located within a region of size $\\Delta x \\approx 1.5 \\times 10^{-12}$ m. Estimate the minimum speed of the electron using Heisenberg's uncertainty principle. *Do you think that the effects of relativity will be important?*\n",
    ">\n",
    ">9\\. An electron spends roughly $10^{-8}$ s in the first excited state of the hydrogen atom before spontaneously decaying back to the ground state.\n",
    ">>**(a)** Determine the uncertainty $\\Delta E$ in the energy of the first excited state.\n",
    ">>\n",
    ">>**(b)** Calculate the uncertainty $\\Delta \\lambda$ in the wavelength of the photon for this transition. *Why can you assume that $\\Delta E = 0$ for the ground state?*"
   ]
  }
 ],
 "metadata": {
  "interpreter": {
   "hash": "cd2e115bae0bd8507f53973663b16a6c8b1a6736f2a0b1c5bcd962a446a2698e"
  },
  "kernelspec": {
   "display_name": "Python 3.8.8 64-bit ('base': conda)",
   "language": "python",
   "name": "python3"
  },
  "language_info": {
   "codemirror_mode": {
    "name": "ipython",
    "version": 3
   },
   "file_extension": ".py",
   "mimetype": "text/x-python",
   "name": "python",
   "nbconvert_exporter": "python",
   "pygments_lexer": "ipython3",
   "version": "3.8.8"
  },
  "orig_nbformat": 4
 },
 "nbformat": 4,
 "nbformat_minor": 2
}
