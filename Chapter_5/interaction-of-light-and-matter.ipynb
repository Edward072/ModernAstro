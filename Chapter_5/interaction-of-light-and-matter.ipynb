{
 "cells": [
  {
   "cell_type": "markdown",
   "metadata": {},
   "source": [
    "# The Interaction of Matter and Light"
   ]
  },
  {
   "cell_type": "markdown",
   "metadata": {},
   "source": [
    "----\n",
    "\n",
    "## Spectral Lines\n",
    "Some philosophers during the Renaissance considered strict limits to human knowledge, while other natural philosophers used experimentation to probe reality.  in 1800, William Wollaston showed that a number of **dark spectral lines** were present within the a rainbow-like spectrum using sunlight.  By 1814, Joseph von Fraunhofer cataloged 475 of the dark lines (i.e., **Fraunhofer lines**) in the solar spectrum. Fraunhofer determined that the wavelength of one prominent dark line in the Sun's spectrum corresponds to the yellow light emitted by salt in a flame.  The new science of *spectroscopy* was born with the discovery of the sodium line.\n",
    "\n",
    "### Kirchoff's Laws\n",
    "The foundations of spectroscopy (and modern chemistry) were established in the 1800s with Robert Bunsen and Gustav Kirchoff.  Bunsen's burner produced a colorless flame that was ideal for studying the colors produced by burning a range of substances.  Bunsen and Kirchoff designed a *spectroscope* that passed the light of a flame spectrum through a prism.  They determined that the wavelengths of light absorbed and emitted by an element fit together like a lock and key.  Kirchoff determined that 70 of the Fraunhofer lines were due to iron vapor.  In 1860, Kirchoff and Bunsen developed the idea that every element produces its own pattern of spectral lines and thus the elements had \"fingerprints\".  Kirchoff summarized the production of spectral lines in three laws (i.e., **Kirchoff's Laws**):\n",
    "\n",
    "- A hot, dense gas or hot solid object produces a continuous spectrum with no dark spectral lines.\n",
    "\n",
    "- A hot diffuse gas produces bright spectral lines (**emission lines**). \n",
    "\n",
    "- A cool, diffuse gas in front of a source of a continuous spectrum produces dark spectral lines (**absorption lines**) in the continuous spectrum.\n",
    "\n",
    "### Applications of Stellar Spectral Data\n",
    "Using the development of spectral fingerprints, a new element *helium* was discovered spectroscopically in the Sun (in 1868) and found on Earth in 1895.  Another line of investigation was measuring the Doppler shifts of the spectral lines.  For most cases at the time, the *low-speed approximation* ($v_r \\ll c$) was adequate to determine the radial velocities $v_r$ by the following equation,\n",
    "\n",
    "$\\begin{aligned}\n",
    "\\frac{\\lambda_{\\rm obs}-\\lambda_{\\rm rest}}{\\lambda_{\\rm rest}} = \\frac{\\Delta \\lambda}{\\lambda_{\\rm rest}}=\\frac{v_r}{c}. \\quad\\quad\\quad\\quad {\\rm (Equation\\; 1)}\n",
    "\\end{aligned}$\n",
    "\n",
    "By 1887, the radial velocities of Sirius, Procyon, Rigel, and Arcturus were measured with and accuracy of a few km/s.  The rest wavelength $\\lambda_{\\rm rest}$ for the hydrogen spectral line (H$\\alpha$) is 656.281 nm (in air).  Given the simplicity of hydrogen and its spectral lines, they are commonly used to measure the radial velocities of stars.\n",
    "\n",
    "-  **What is the radial velocity of the star Vega, if its H$\\alpha$ line is observed at 656.21 nm from a ground-based telescope?** (*There is a typographical error in the textbook.*)"
   ]
  },
  {
   "cell_type": "code",
   "execution_count": 2,
   "metadata": {},
   "outputs": [
    {
     "name": "stdout",
     "output_type": "stream",
     "text": [
      "The radial velocity of Vega is -13.7 km/s.\n"
     ]
    }
   ],
   "source": [
    "import numpy as np\n",
    "def calc_radial_vel(l_obs,l_rest):\n",
    "    #l_obs = the observered wavelength\n",
    "    #l_rest = the rest wavelength measured in a lab\n",
    "    #the units of l_obs must equal l_rest\n",
    "    rad_vel = (l_obs-l_rest)/l_rest\n",
    "    return rad_vel*c\n",
    "\n",
    "c = 2.99792458e5 #speed of light in km/s\n",
    "Ha_obs = 656.251 #Vega H-alpha in nm\n",
    "Ha_rest = 656.281 #rest H-alpha in nm\n",
    "Vega_RV = calc_radial_vel(Ha_obs,Ha_rest) \n",
    "print(\"The radial velocity of Vega is %2.1f km/s.\" % np.round(Vega_RV,1))"
   ]
  },
  {
   "cell_type": "markdown",
   "metadata": {},
   "source": [
    "The negative sign for the radial velocity indicates that Vega is approaching the Sun (i.e., moving towards us).  Some star also have a measured *proper motion* $\\mu$ that is perpendicular to the line-of-sight.  Combining the proper motion with a known distance $r$, the *transverse velocity* $v_\\theta$ can be determined ($v_\\theta = r\\mu$).  \n",
    "\n",
    "-  **Vega's proper motion is $\\mu = 0.34972^{\\prime \\prime}$/yr and its distance is 7.68 pc away [(Van Leeuwen 2007)](https://arxiv.org/abs/0708.1752).  What is its tranverse velocity? What is its velocity through space?**"
   ]
  },
  {
   "cell_type": "code",
   "execution_count": 3,
   "metadata": {},
   "outputs": [
    {
     "name": "stdout",
     "output_type": "stream",
     "text": [
      "The transverse velocity of Vega is 12.7 km/s.\n",
      "Vega's velocity through space is 18.7 km/s\n"
     ]
    }
   ],
   "source": [
    "def mu2SI(mu):\n",
    "    #mu = proper motion (in arcseconds/year)\n",
    "    #mu * (arcseconds in a radian)/(seconds in a year)\n",
    "    mu *= (as2rad/yr2sec)\n",
    "    return mu\n",
    "def PC2km(r):\n",
    "    #r = distance in pc\n",
    "    r2AU = r/as2rad #pc converted to AU\n",
    "    r2km = r2AU*AU #convert to km\n",
    "    return r2km\n",
    "\n",
    "AU = 1.495978707e8 #(in km) Astronomical Unit\n",
    "yr2sec = 365.25*24*3600 #seconds in a year\n",
    "as2rad = (1./3600.)*(np.pi/180.)\n",
    "mu = mu2SI(0.34972)\n",
    "r = PC2km(7.68)\n",
    "v_theta = r*mu\n",
    "print(\"The transverse velocity of Vega is %2.1f km/s.\" % np.round(v_theta,1))\n",
    "v_Vega = np.sqrt(v_theta**2+Vega_RV**2)\n",
    "print(\"Vega's velocity through space is %2.1f km/s\" % (v_Vega))"
   ]
  },
  {
   "cell_type": "markdown",
   "metadata": {},
   "source": [
    "The average speed of stars in the solar neighborhood is about 25 km/s, where the measurement of a star's radial velocity is also complicated by the motion of the Earth (29.8 km/s) around the Sun.  Astronomers correct for this motion by subtracting the component of Earth's orbital velocity along the line-of-sight from the star's measured radial velocity.\n",
    "\n",
    "### Spectrographs\n",
    "Modern methods can measure radial velocities with an accuracy of $\\sim 1$m/s [(Dumusque et al. 2021)](https://www.aanda.org/articles/aa/full_html/2021/04/aa39350-20/aa39350-20.html).  Astronomers use *spectrographs* to measure the radial velocity of exoplanets, stars, and galaxies.  Modern spectrographs collimate the incoming starlight onto a mirror and split into the constituent colors using a *diffraction grating*, or a piece of glass with narrow, closely spaced lines; a transmission grating allows the light to pass through while a reflection grating reflects the light.  The grating acts like a series of neighboring double slits (see Chapter 3). Different wavelengths have their maxima occurring at different angles $\\theta$ by\n",
    "\n",
    "$\\begin{aligned}\n",
    "d\\sin \\theta = n\\lambda,\n",
    "\\end{aligned}$\n",
    "\n",
    "where $d$ is the slit spacing of the grating, $n$ is the order of the spectrum, and $\\theta$ is measured relative the line perpendicular to the grating.  The smallest measurable difference in wavelength $\\Delta \\lambda$ depends on the order $n$ and the total number of lines $N$ through\n",
    "\n",
    "$\\begin{aligned}\n",
    "\\Delta \\lambda = \\frac{\\lambda}{nN}, \\quad\\quad\\quad\\quad {\\rm (Equation\\; 2)}\n",
    "\\end{aligned}$\n",
    "\n",
    "where $\\lambda$ is either of the closely spaced wavelengths.  The ratio $\\lambda/\\Delta \\lambda$ is one way to express the **resolving power** of the grating.\n",
    "\n",
    "**Problems**\n",
    ">1\\. Barnard's star is an orange star in the constellation Ophiuchus.  It has the largest known proper motion $\\mu = 10.3934^{\\prime\\prime}$/yr and the fourth-largest parallax angle $p = 0.5469759^{\\prime\\prime}$ ([Gaia Collaboration](https://arxiv.org/abs/1804.09365)).  The H$\\alpha$ absorption line is observed at 656.034 nm when measured from the ground.\n",
    ">>**(a)** Determine the radial velocity of Barnard's star.\n",
    "\n",
    ">>**(b)** Determine the transverse velocity of Barnard's star.\n",
    "\n",
    ">>**(c)** Calculate the speed of Barnard's star through space.\n",
    "\n",
    ">2\\. The Sun's spectrum contains two spectral lines (*Sodium D lines*) 588.997 nm and 589.594 nm.\n",
    ">>**(a)** If a diffraction grating with 300 lines per millimeter is used to measure the Sodium D lines, what is the angle between the second-order spectra for each of the wavelengths?\n",
    "\n",
    ">>**(b)** How many lines must the grating have to resolve the sodium D lines?"
   ]
  },
  {
   "cell_type": "markdown",
   "metadata": {},
   "source": [
    "----\n",
    "## Photons\n",
    "A complementary description of light (in contrast to waves) uses bundles of energy called **photons**.  The energy is described in terms of Planck's constant *h* and is recognized as a fundamental constant of nature like the speed of light *c*.  This description of matter and energy is known as **quantum mechanics**, which uses Planck's discovery of energy quantization.  The first step forward was made by Einstein, who demonstrated the implications of Planck's quantum bundles of energy.\n",
    "\n",
    "### The Photoelectric Effect\n",
    "The **photoelectric effect** describes the light energy necessary to eject electrons from a metal surface.  The electrons with the highest kinetic energy $K_{max}$ originate from the surface of the metal and surprisingly, $K_{max}$ does not depend on the light intensity.  A higher intensity of light increases the number of electrons ejected, but not their maximum kinetic energy.  The value of $K_{max}$ varies with the *frequency* of the light and each metal has a characteristic cutoff frequency $\\nu_c$ and wavelength $(\\lambda_c = c/\\nu_c$).  \n",
    "\n",
    "Einstein's solution describes the light striking the metal surface as a stream of massless particles (i.e., photons).  The energy of a single photon of frequency $\\nu$ and wavelength $\\lambda$ is just Planck's quantum of energy\n",
    "\n",
    "$\\begin{aligned}\n",
    "E_{\\rm photon} = h\\nu = \\frac{hc}{\\lambda}. \\quad\\quad\\quad\\quad {\\rm (Equation\\; 3)}\n",
    "\\end{aligned}$\n",
    "\n",
    "- **What is the energy of a single blue photon of wavelength $\\lambda = 450$ nm?**"
   ]
  },
  {
   "cell_type": "code",
   "execution_count": 15,
   "metadata": {},
   "outputs": [
    {
     "name": "stdout",
     "output_type": "stream",
     "text": [
      "1.9864458241717581e-16\n",
      "The energy of a single blue photon (450 nm) is 2.76 eV or 4.41e-19 J\n"
     ]
    }
   ],
   "source": [
    "def energy_photon(l,units):\n",
    "    #l = lambda; wavelength in nm\n",
    "    if units=='eV':\n",
    "        hc = 1240 #eV*nm\n",
    "    else:\n",
    "        h = 6.62607004e-34 #(m^2*kg/s) Planck's constant \n",
    "        hc = h*c*1000/1e-9\n",
    "        print(hc)\n",
    "    return (hc/l)\n",
    "\n",
    "E_blue_eV = energy_photon(450,'eV')\n",
    "E_blue_J = energy_photon(450,'J')\n",
    "print(\"The energy of a single blue photon (450 nm) is %1.2f eV or %1.2e J\" % (np.round(E_blue_eV,2),E_blue_J))\n"
   ]
  },
  {
   "cell_type": "markdown",
   "metadata": {},
   "source": [
    "Einstein deduced that when a photon strikes the metal surface, its energy may be absorbed by a single electron.  The photon supplies the energy required to free the electron from the metal (i.e., overcome the binding energy).  The work function $\\phi$ defines the minimum binding energy of electrons in a metal and the maximum kinetic energy of the ejected electrons is\n",
    "\n",
    "$\\begin{aligned}\n",
    "K_{\\rm max} = E_{\\rm photon} - \\phi = h\\nu - \\phi, \\quad\\quad\\quad\\quad {\\rm (Equation\\; 4)}\n",
    "\\end{aligned}$\n",
    "\n",
    "where the cutoff frequency and wavelength are $\\nu_c = \\phi/h$ and $\\lambda_c = hc/\\phi$, respectively.  Albert Einstein was awarded the 1921 Nobel Prize for \"his services to theoretical physics, and especially for his discovery of the law of the photoelectric effect\".  Astronomers take advantage of the photoelectric effect through detectors that count photons by the work they do on a metal (e.g., charge-coupled devices or CCDs).\n",
    "\n",
    "### The Compton Effect\n",
    "Another test of light's particle-like nature was performed by Arthur Compton.  He measured the change in the wavelength of X-ray photons as they were scattered by free electrons.  Through special relativity, the energy of a photon is related to its momentum $p$ by\n",
    "\n",
    "$\\begin{aligned}\n",
    "E_{\\rm photon} = h\\nu = pc. \\quad\\quad\\quad\\quad {\\rm (Equation\\; 5)}\n",
    "\\end{aligned}$\n",
    "\n",
    "compton considered the interaction (or \"collision\") between a photon and a free electron (initially at rest).  The electron is scattered by an angle $\\varphi$, while the photon is scattered by an angle $\\theta$.  Due to the energy exchange during the interaction (i.e., electron gains kinetic energy) the photon's energy is reduced and the wavelength has increased.  The change in wavelength is the difference between the final and initial wavelength and can be expressed as\n",
    "\n",
    "$\\begin{aligned}\n",
    "\\Delta \\lambda =\\lambda_f - \\lambda_i = \\frac{h}{m_e c}(1-\\cos \\theta), \\quad\\quad\\quad\\quad {\\rm (Equation\\; 6)}\n",
    "\\end{aligned}$\n",
    "\n",
    "where $m_e$ is the mass of the electron.  The prefactor $h/m_e c$ is called the **Compton wavelength**.  Compton's experiment provided evidence that photons carry momentum (although massless) and this is the physical basis for the force exerted by radiation upon matter."
   ]
  },
  {
   "cell_type": "markdown",
   "metadata": {},
   "source": [
    "----\n",
    "\n",
    "## The Bohr Model of the Atom"
   ]
  },
  {
   "cell_type": "markdown",
   "metadata": {},
   "source": [
    "----\n",
    "\n",
    "## Quantum Mechanics and Wave-Particle Duality\n"
   ]
  }
 ],
 "metadata": {
  "interpreter": {
   "hash": "cd2e115bae0bd8507f53973663b16a6c8b1a6736f2a0b1c5bcd962a446a2698e"
  },
  "kernelspec": {
   "display_name": "Python 3.8.8 64-bit ('base': conda)",
   "language": "python",
   "name": "python3"
  },
  "language_info": {
   "codemirror_mode": {
    "name": "ipython",
    "version": 3
   },
   "file_extension": ".py",
   "mimetype": "text/x-python",
   "name": "python",
   "nbconvert_exporter": "python",
   "pygments_lexer": "ipython3",
   "version": "3.8.8"
  },
  "orig_nbformat": 4
 },
 "nbformat": 4,
 "nbformat_minor": 2
}
