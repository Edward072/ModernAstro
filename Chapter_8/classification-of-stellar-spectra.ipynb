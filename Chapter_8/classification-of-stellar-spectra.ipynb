{
 "cells": [
  {
   "cell_type": "markdown",
   "metadata": {},
   "source": [
    "# The Classification of Stellar Spectra\n",
    "The science of astronomy progressed from a purely observational science of classification (prior to the 1800s) to a science interested in the fundamental inner workings of the stars (after the 1800s).  As early as 1817, stars were known to be chemically different through their spectra.\n",
    "\n",
    "## The Formation of Spectral Lines\n",
    "\n",
    "### The Spectral Types of Stars\n",
    "The initial spectral taxonomy used capital letters (from A...Z) that denoted the strength (or broadness) of the hydrogen absorption lines in a star and was developed by Edward Pickering and Williamina Fleming (Pickering's assistant) in the 1890s at Harvard.  Pickering had many assistants working with him at the time, where several of them developed different classification schemes.  Antonia Maury's scheme used the width of the spectral lines, which would have rearranged the Pickering's B stars to come before the A stars.  Building on Maury's work, Annie Jump Cannon rearranged the sequence of spectra so that O stars came before B and A stars, added subdivisions (e.g., A0-A9), and consolidated many of the classes.  As a result, the Harvard classification scheme became a *temperature* sequence with seven [spectral types](https://en.wikipedia.org/wiki/Stellar_classification#Harvard_spectral_classification) (OBAFGKM) with O stars being the hottest.  Due to the reordering of letters, astronomy students developed mnemonics to remember the string of spectral types.  The traditional mnemonic and some other memorable versions are:\n",
    "\n",
    "- **O**h **B**e **A** **F**ine **G**irl/uy, **K**iss **M**e.\n",
    "- **O**ld, **B**ald, **A**nd **F**at **G**enerals **K**eep **M**istresses.\n",
    "- **O**h **B**oy, **A**n **F** **G**rade **K**ills **M**e.\n",
    "- **O**nly **B**oring, **A**stronomers **F**ind **G**ratitude **K**nowing **M**nemonics.\n",
    "\n",
    "Can you do better?\n",
    "\n",
    "Stars near the beginning of a given spectral type are referred to as **early-type** stars (e.g., A0), where those closer to the end are called **late-type** (e.g., A9).  Cannon classified around 200,000 spectra, where the results were collected into the [Henry Draper Catalogue](https://en.wikipedia.org/wiki/Henry_Draper_Catalogue).  The catalog bears the name of Henry Draper because he was one of the first to photograph and classify a star based on its spectral lines (e.g., Vega), and Pickering supervised photographic spectroscopy at Harvard College Observatory after Draper's death.  Draper's widow funded Pickering's research under the Henry Draper Memorial.  today many stars are referred to by their HD numbers (e.g., Betelguese is HD 39801).\n",
    "\n",
    "Although we now know that Cannon's classification scheme is based on surface temperatures, the physical basis of the Harvard spectral classification remained obscure to those who developed it.  Vega (A0) displays very strong hydrogen absorption lines compared to the Sun (G2), but the Sun has stronger calcium absorption lines.  This apparent dichotomy led to the following questions:\n",
    "\n",
    "- Is this a result of a *compositional* difference between the stars?\n",
    "\n",
    "or \n",
    "\n",
    "- Are the different *surface temperatures* responsible for the relative strengths of the absorption lines?\n",
    "\n",
    "The theoretical understanding of the quantum atom unlocked the secrets to stellar spectra.  Absorption lines are created when an atom absorbs a photon with *exactly* the energy required for an electron to make an upward transition between energy levels.  Emission lines are formed by the inverse process.  The distinction between spectra of stars with different temperatures are due to the electrons occupying different atomic orbitals in the *atmospheres* of these stars.  The details of spectral lines are complicated by the potential ionization stage of the the atoms.  *Note: an atom's ionization stage is denoted by a Roman numeral (e.g., Ca II is singly ionized calcium).*\n",
    "\n",
    "<div align=\"center\">\n",
    "\n",
    "**Table 1**: Harvard spectral classification.\n",
    "| Spectral <br>Type | Color| Effective<br>Temperature | Characteristics|\n",
    "|:---:|:---:|:---:|:---|\n",
    "|O| Blue-white | $\\geq$ 30,000 K| Strong He II absorption/emission<br>He I absorption becoming stronger |\n",
    "|B| Blue-white | 10,000-30,000 K| He I absorption strongest at B2<br>H I absorption becoming stronger |\n",
    "|A| White | 7500-10,000 K| Balmer absorption lines strongest at A0<br>Ca II absorption becoming stronger |\n",
    "|F| Yellow-white | 6000-7500 K| Ca II lines strengthen as Balmer lines weaken<br>Neutral metal absorption (Fe I, Cr I) |\n",
    "|G| Yellow | 5200-6000 K| Solar-type spectra<br>Ca II, Fe I, and other neutral metals strengthen |\n",
    "|K| Orange | 3700-5200 K| Strong Ca II H & K lines<br>Spectra dominated by metals |\n",
    "|M| Red | 2400-3700 K | Spectra dominated by molecular absorption (oxides)<br>Neutral metals remain strong |\n",
    "|L| Dark red | 1300-2400 K | Stronger in IR than in visible<br>Strong molecular absorption in metal hydrides (FeH), <br>water, carbon monoxide, and alkali metals <br>Molecular absorption in oxides weakening |\n",
    "|T| Infrared | $\\leq$ 1300 K | Strong methane (CH_4) bands<br>Weakening carbon monoxide (CO) bands |\n",
    "\n",
    "</div>\n",
    "\n",
    "In Cannon's classification scheme, the Balmer lines (hydrogen absorption) reach their maximum intensity when the effective surface temperature of the star reaches 10,000 K.  The visible neutral Helium (He I) lines occur at 22,000 K (B2 stars) and singly ionized calcium (Ca II) are most intense at 5250 K (K0 stars).  In astronomy, spectral lines of Ca II H and K are quoted, which are 396.8 nm and 393.3 nm, respectively.  Also, astronomers use the term **metal** to refer to a chemical element heavier than helium because hydrogen and helium are the most abundant elements in the universe. Table 1 includes the traditional Harvard classification scheme and the spectral types of very cool stars (L-Type) and [brown dwarfs](https://en.wikipedia.org/wiki/Stellar_classification#Class_T:_methane_dwarfs) (T-Type).  Brown dwarfs are objects with too lite mass for nuclear fusion (of hydrogen) to occur in their interiors and are not considered stars.  Figure 1 illustrates how the spectra appear for a range of spectral classes (falsely colored).  Figure 2 demonstrates the resultant spectra after analysis and digitization.\n",
    "\n",
    "<div align =\"center\">\n",
    "\n",
    "![Spectra](https://upload.wikimedia.org/wikipedia/commons/0/0b/Dwarf_star_spectra_%28luminosity_class_V%29_from_Pickles_1998.png)<br>\n",
    "**Figure 1**: Montage of false color spectra for main-sequence stars. (image credit: [Wikipedia](https://en.wikipedia.org/wiki/Stellar_classification))\n",
    "\n",
    "</div>\n",
    "\n",
    "<div align =\"center\">\n",
    "\n",
    "![digitized spectra](https://www.astronomy.ohio-state.edu/pogge.1/Ast162/Unit1/SpTypes/dwarfs.gif)<br>\n",
    "<div style='width: 450px'>\n",
    "\n",
    "**Figure 2**: A stack of all of the spectral images showing how the spectral features change systematically from types O5 through M5. ([Jacoby, Hunter, & Christian (1984)](https://ui.adsabs.harvard.edu/abs/1984ApJS...56..257J/abstract); adapted by [Richard Pogge](https://www.astronomy.ohio-state.edu/pogge.1/Ast162/Unit1/SpTypes/index.html))\n",
    "</div>\n",
    "\n",
    "</div>"
   ]
  },
  {
   "cell_type": "markdown",
   "metadata": {},
   "source": [
    "\n",
    "### The Maxwell-Boltzmann Velocity Distribution\n",
    "Electronic transitions explained the *existence* of absorption or emission spectral lines, but there must be some underlying physical foundation for the relative strength of spectral lines.  If the probability of transition was equal (independent of the orbital), then the absorption line strength of the Balmer lines should be equal.  This is clearly not the case as demonstrated by Figs. 1 and 2.  Then, two basic questions arise:\n",
    "\n",
    "1. In what orbitals are electrons most likely to be found?\n",
    "\n",
    "2. What are the relative numbers of atoms in various stages of ionization?\n",
    "\n",
    "Answering the first question will provide insight into which spectral lines we expect to be stronger than the other spectral lines.  While the second question will probe the relative strengths of the spectral lines.  The answers to both question are found in **statistical mechanics**, which is a branch of physics that studies the statistical properties of many body systems.  For example, a gas contains a huge number of particles and it would be impossible to calculate the detailed behavior of *all* the particles.  Information about how the behavior of the system can be determined using well-defined properties, such as its internal energy (temperature), pressure, and density.  \n",
    "\n",
    "For a gas in thermal equilibrium (i.e., the gas in not rapidly changing in temperature), the **Maxwell-Boltzmann velocity distribution function** describes the number density of gas particles $n$ within a given range of speed $v$.  The number of gas particles per unit volume having speeds between $v$ and $v+dv$ is given by \n",
    "\n",
    "$$ n_v dv = n \\left(\\frac{m}{2\\pi kT}\\right)^{3/2} e^{-mv^2/(2kT)}4\\pi v^2 dv, \\tag{1} $$\n",
    "\n",
    "which depends on the total number density $n$, the particle's mass $m$, the Boltzmann constant $k$, and the temperature of the gas $T$ (in K).\n",
    "\n",
    "- **What is the most probable speed for hydrogen atoms in an A0 spectral-type star?**"
   ]
  },
  {
   "cell_type": "code",
   "execution_count": 33,
   "metadata": {},
   "outputs": [
    {
     "name": "stdout",
     "output_type": "stream",
     "text": [
      "The most probable speed for hydrogen atoms in an A0 star is 1.29e+04 m/s.\n"
     ]
    },
    {
     "data": {
      "image/png": "[encoded data removed]",
      "text/plain": [
       "<Figure size 360x360 with 1 Axes>"
      ]
     },
     "metadata": {
      "needs_background": "light"
     },
     "output_type": "display_data"
    }
   ],
   "source": [
    "import numpy as np\n",
    "import matplotlib.pyplot as plt \n",
    "\n",
    "def Maxwell_Boltzmann(v,dv):\n",
    "    #v = velocity\n",
    "    #dv = velocity interval\n",
    "    factor = m_H/(2*k*T_eq)\n",
    "    MB = (factor/np.pi)**1.5*np.exp(-factor*v**2)*(4*np.pi*v**2)\n",
    "    return MB\n",
    "\n",
    "T_eq = 10000 #K; surface temperature of an A0 star\n",
    "k = 1.380649e-23 #J/K; Boltzmann constant\n",
    "m_H = 1.67e-27 #kg; mass of hydrogen \n",
    "\n",
    "v_rng = np.arange(0,4e4,2) #velocity range in m/s\n",
    "nv_n = np.zeros(len(v_rng))\n",
    "for i in range(0,len(v_rng)-1):\n",
    "    nv_n[i] = Maxwell_Boltzmann(v_rng[i],2)\n",
    "\n",
    "v_mp = v_rng[np.argmax(nv_n)]\n",
    "fs = 'x-large'\n",
    "fig = plt.figure(figsize=(5,5))\n",
    "ax = fig.add_subplot(111)\n",
    "\n",
    "ax.plot(v_rng/1e4,nv_n/1e-5,'k-',lw=3)\n",
    "ax.axvline(v_mp/1e4,0,np.max(nv_n)/7e-5,linestyle='--',color='r',lw=2)\n",
    "\n",
    "ax.set_ylim(0,7)\n",
    "ax.set_xlim(0,4)\n",
    "\n",
    "ax.set_ylabel(\"$n_v/n$ ($10^{-5}$ s/m)\",fontsize=fs)\n",
    "ax.set_xlabel(\"Speed ($10^4$ m/s)\",fontsize=fs)\n",
    "\n",
    "\n",
    "print(\"The most probable speed for hydrogen atoms in an A0 star is %1.2e m/s.\" % v_mp)"
   ]
  },
  {
   "cell_type": "markdown",
   "metadata": {},
   "source": [
    "The exponent of the Maxwell-Boltzmann distribution function is the ratio of a gas particle's kinetic energy ($\\frac{1}{2}mv^2$) to the characteristic thermal energy ($kT$).  Particles above the thermal energy tend to either can escape so the overall distribution remains the same.  This is analogous as to why the temperature of a pot of boiling water doesn't keep increasing.  The distribution peaks when the particle energies are equal at a **most probable speed** of  \n",
    "\n",
    "$$ v_{mp} = \\sqrt{\\frac{2kT}{m}}. \\tag{2}$$\n",
    "\n",
    "- **How does this compare to our previous example?**\n",
    "\n",
    "$$ v_{mp} = \\sqrt{\\frac{2(1.38\\times 10^{-23})(10^4)}{1.67 \\times 10^{-27}}} = 1.29 \\times 10^4\\;{\\rm m/s} $$\n",
    "\n",
    "The high-speed exponential \"tail\" of the distribution function results in a somewhat higher **root-mean-square speed** of\n",
    "\n",
    "$$ v_{rms} = \\sqrt{\\frac{3kT}{m}}. \\tag{3} $$ \n",
    "\n",
    "The area under the curve of the Maxwell-Boltzmann distribution *fraction* of gas particles within a range of speeds or,\n",
    "\n",
    "$$ N/N_{total} = \\frac{1}{n}\\int_{v_1}^{v_2} n_v dv \n",
    " = \\left(\\frac{m}{2\\pi kT}\\right)^{3/2} \\int_{v_1}^{v_2} e^{-mv^2/(2kT)} 4\\pi v^2 dv. \\tag{4}$$\n",
    "\n",
    " Equation 4 has a closed-form solution when $v_1 = 0$ and $v_2\\rightarrow \\infty$, it must be evaluated numerically in other cases.\n",
    "\n",
    "- **What is the root-mean-square speed of the hydrogen atoms in an A0 star?**\n",
    "- **What is the fraction of gas particles with speeds between 20-25 km/s?**"
   ]
  },
  {
   "cell_type": "code",
   "execution_count": 62,
   "metadata": {},
   "outputs": [
    {
     "name": "stdout",
     "output_type": "stream",
     "text": [
      "The v_rms for the hydrogen atoms is 1.57e+04 m/s.\n",
      "The fraction of gas particles between 20-25 km/s is 0.128 or 12.8%.\n"
     ]
    },
    {
     "data": {
      "image/png": "[encoded data removed]",
      "text/plain": [
       "<Figure size 360x360 with 1 Axes>"
      ]
     },
     "metadata": {
      "needs_background": "light"
     },
     "output_type": "display_data"
    }
   ],
   "source": [
    "v_rms = np.sqrt((3*k*T_eq)/m_H) #using Eqn 3\n",
    "vrms_idx = np.where(np.abs(v_rms-v_rng)<1)[0]\n",
    "vrng_idx = np.where(np.logical_and(v_rng>=2e4,v_rng<=2.5e4))[0]\n",
    "\n",
    "def Simpsons_rule(a,b,N,func):\n",
    "    #width of each interval\n",
    "    h = (b-a)/float(N-1)\n",
    "    tot_sum = 0\n",
    "\n",
    "    for i in range(1,N):\n",
    "        x_left = a + (i-1)*h\n",
    "        x_right = a + i*h\n",
    "        x_mid = x_left + h/2\n",
    "        tot_sum += (h/6.)*(func(x_left,h)+4*func(x_mid,h)+func(x_right,h))\n",
    "    return tot_sum\n",
    "\n",
    "frac_rng = Simpsons_rule(2e4,2.5e4,10,Maxwell_Boltzmann)\n",
    "\n",
    "fs = 'x-large'\n",
    "fig = plt.figure(figsize=(5,5))\n",
    "ax = fig.add_subplot(111)\n",
    "\n",
    "ax.plot(v_rng/1e4,nv_n/1e-5,'k-',lw=3)\n",
    "ax.axvline(v_mp/1e4,0,np.max(nv_n)/7e-5,linestyle='--',color='r',lw=2)\n",
    "ax.axvline(v_rms_2/1e4,0,nv_n[vrms_idx]/7e-5,linestyle='--',color='b',lw=2)\n",
    "\n",
    "ax.fill_between(v_rng[vrng_idx]/1e4,0,nv_n[vrng_idx]/1e-5,color='gray')\n",
    "\n",
    "ax.set_ylim(0,7)\n",
    "ax.set_xlim(0,4)\n",
    "\n",
    "ax.set_ylabel(\"$n_v/n$ ($10^{-5}$ s/m)\",fontsize=fs)\n",
    "ax.set_xlabel(\"Speed ($10^4$ m/s)\",fontsize=fs)\n",
    "\n",
    "print(\"The v_rms for the hydrogen atoms is %1.2e m/s.\" % v_rms_2)\n",
    "print(\"The fraction of gas particles between 20-25 km/s is %1.3f or %2.1f%%.\" % (frac_rng,frac_rng*100))"
   ]
  },
  {
   "cell_type": "markdown",
   "metadata": {},
   "source": [
    "The Maxwell-Boltzmann distribution function describes the kinetic energy of gas particles within a star's atmosphere at an effective temperature $T_e$ and allows us to derive the most probable speed $v_{mp}$ of the particles.  Recall our first question was to determine the most likely orbitals for the electrons.  While this cannot be answered fully yet, the next step will estimate the relative likelihood of a possible energy level through the Boltzmann equation. "
   ]
  },
  {
   "cell_type": "markdown",
   "metadata": {},
   "source": [
    "### The Boltzmann Equation\n",
    "Collisions between gas particles cause some particles to gain and lose energy and thus, produce a definite distribution in the speeds of gas particles.  Statistical mechanics shows that orbitals of higher energy are less likely to be occupied by electrons.  Suppose there are two states of Energy $E_a$ and $E_b$ that are represented by a set of quantum numbers $s_a$ and $s_b$, respectively.  \n",
    "\n",
    "```{note} \n",
    "If the first state $E_a$ is the ground state of hydrogen ($E_a = -13.6$ eV), then its quantum state is $s_a = \\{1,0,0,+1/2\\}$; in general, the individual elements are the quantum numbers, $\\{n,\\ell,m_\\ell,m_s\\}$. See Table 2 for a listing of the quantum numbers of for the ground ($n=1$) and 1st excited ($n=2$) states.\n",
    "```\n",
    "<div align=\"center\"> \n",
    "\n",
    "**Table 2**: Quantum Numbers for the Hydrogen Atom.\n",
    "|$n$|$\\ell$|$m_\\ell$|$m_s$|\n",
    "|---:|---:|---:|:---:|\n",
    "| 1 | 0 | 0 | +1/2 |\n",
    "| 1 | 0 | 0 | -1/2 |\n",
    "| 2 | 0 | 0 | +1/2 |\n",
    "| 2 | 0 | 0 | -1/2 |\n",
    "| 2 | 1 | 1 | +1/2 |\n",
    "| 2 | 1 | 1 | -1/2 |\n",
    "| 2 | 1 | 0 | +1/2 |\n",
    "| 2 | 1 | 0 | -1/2 |\n",
    "| 2 | 1 | -1 | +1/2 |\n",
    "| 2 | 1 | -1 | -1/2 |\n",
    "\n",
    "</div>\n",
    "\n",
    "\n",
    "There exists some probability $P(s_x)$ that the system is in a state $s_x$.  Then the ratio of the probability between orbital states represents the likelihood for which electrons may be found.  Using the states $s_a$ and $s_b$, the ratio of probability is given by\n",
    "\n",
    "$$ \\frac{P(s_b)}{P(s_a)} = \\frac{e^{-E_b/(kT)}}{e^{-E_a/(kT)}} = e^{-(E_b-E_a)/(kT)}, \\tag{5} $$\n",
    "\n",
    "```{note}\n",
    "An alternate form of the [Boltzmann constant](https://en.wikipedia.org/wiki/Boltzmann_constant) is $8.617333262145 \\times 10^{-5}$ eV/K, which is useful for solving problems when the energy is given in eV.\n",
    "```\n",
    "\n",
    "where $T$ is the common temperature of the two systems and $e^{-E_x/(kT)}$ represents the *Boltzmann factor* for a state $s_x$.  Suppose that $E_b > E_a$ and the temperature is decreasing ($T\\rightarrow 0$), then the factor in the exponential $-(E_b-E_a)/(kT) \\rightarrow -\\infty$ and so the ratio of probability $P(s_b)/P(s_a) \\rightarrow 0$.  This means that there isn't any thermal energy available to excite the electron to a higher energy level.  Conversely, if there is an infinite amount of energy (i.e., $T\\rightarrow \\infty$), then it is certain that an excitation will occur because $P(s_b)/P(s_a) \\rightarrow 1$.\n",
    "\n",
    "It is often the case that then energy levels of the system may be **degenerate**, where more than one quantum state can have the same energy.  For example, two electrons in the ground state of hydrogen with opposite spins will have the same energy because $E_n$ doesn't depend on the quantum number $m_s$.  *Table 2 shows two states for the ground ($n=1$) state and eight states for the 1st excited ($n=2$) state so that the number of degenerate states $g_n = 2n^2$.* When taking averages, we must account for the degenerate states using a separate factor $g_x$, which is the statistical weight of the energy level.  The ratio of the probability between two degenerate states is given by\n",
    "\n",
    "$$  \\frac{P(s_b)}{P(s_a)} = \\frac{g_b e^{-E_b/(kT)}}{g_a e^{-E_a/(kT)}} = \\frac{g_b}{g_a} e^{-(E_b-E_a)/(kT)} = \\frac{N_b}{N_a}, \\tag{6} $$\n",
    "\n",
    "which is typically indistinguishable from the ratio of the number of atoms $N_b/N_a$ because stellar atmospheres contain a vast number of atoms.  Equation 6 is also called the [Boltzmann equation](https://phys.libretexts.org/Bookshelves/Astronomy__Cosmology/Book%3A_Stellar_Atmospheres_(Tatum)/08%3A_Boltzmann's_and_Saha's_Equations/8.04%3A_Boltzmann's_Equation).\n",
    "\n",
    "- **At what temperature will equal numbers of atoms have electrons in the ground and 1st excited states?**  "
   ]
  },
  {
   "cell_type": "markdown",
   "metadata": {},
   "source": [
    "> The ratio of the number of atoms between the 1st excited and ground states is $N_2/N_1$.  If these are in equal amounts, then the ratio is equal to unity.  To account for the degeneracy between states, we recall that $g_2 = 8$ and $g_1 = 2$.  Finally, we can use the Boltzmann equation, along with the energy equation for hydrogen $E_n = 13.6/n^2$ eV to get,\n",
    ">\n",
    "> $$ 1= \\frac{8}{2}e^{-[(-13.6/4 \\;{\\rm eV})-(-13.6 \\;{\\rm eV})]/(kT)}. $$\n",
    ">\n",
    ">Solving for the exponential, we get \n",
    ">\n",
    "> $$ 4^{-1} = e^{-10.2\\;{\\rm eV}/(kT)} $$\n",
    ">\n",
    ">and taking the logarithm of both sides to get\n",
    ">\n",
    "> $$ \\frac{10.2\\;{\\rm eV}}{kT} = \\ln(4). $$\n",
    ">\n",
    ">Solving for the temperature yields,\n",
    ">\n",
    "> $$ T = \\frac{10.2\\;{\\rm eV}}{8.6173333\\times 10^{-5}\\;{\\rm eV/K}\\cdot\\ln(4)} = 85,400\\;{\\rm K}.$$ "
   ]
  },
  {
   "cell_type": "markdown",
   "metadata": {},
   "source": [
    "Extremely high temperatures are required for a significant number of hydrogen atoms to have electrons in the 1st excited state, where we have shown what it takes to get equal amounts.  Exploring all the possible ratios $N_2/N_{\\rm tot}$ (or $1/(1+N_1/N_2)$) as a function of temperature $T$ reveals that only a small fraction ($\\leq3.5$%) of electrons will be in the 1st excited state even if the temperature reaches 25,000 K.  We observe Balmer lines within stars at a much lower temperature (9520 K).  There must be another piece to this puzzle and it is found in the Saha equation."
   ]
  },
  {
   "cell_type": "code",
   "execution_count": 81,
   "metadata": {},
   "outputs": [
    {
     "data": {
      "image/png": "[encoded data removed]",
      "text/plain": [
       "<Figure size 360x360 with 1 Axes>"
      ]
     },
     "metadata": {
      "needs_background": "light"
     },
     "output_type": "display_data"
    }
   ],
   "source": [
    "def Boltzmann_Eq_H12(T):\n",
    "    #return the fraction of particles in the 1st excited \n",
    "    #state relative to the ground state of hydrogen (N_2/N_1)\n",
    "    return 4*np.exp(-10.2/(k_boltz*T))\n",
    "\n",
    "k_boltz = 8.6173333e-5 #eV/K\n",
    "fs = 'x-large'\n",
    "\n",
    "fig = plt.figure(figsize=(5,5))\n",
    "ax = fig.add_subplot(111)\n",
    "\n",
    "T_rng = np.arange(5000,2.5e4,100)\n",
    "N2_Ntot = 1./(1+1/Boltzmann_Eq_H12(T_rng))\n",
    "ax.plot(T_rng,N2_Ntot,'k-',lw=2)\n",
    "ax.grid(True)\n",
    "\n",
    "ax.set_xlabel(\"Temperature (K)\",fontsize=fs)\n",
    "ax.set_ylabel(\"$N_2/(N_1+N_2)$\", fontsize=fs)\n",
    "\n",
    "ax.set_xlim(5000,2.5e4)\n",
    "#ax.set_yscale('log')\n",
    "ax.set_ylim(0.0,0.04);"
   ]
  },
  {
   "cell_type": "markdown",
   "metadata": {},
   "source": [
    "\n",
    "\n",
    "### The Saha Equation\n",
    "\n",
    "### Combining The Boltzmann and Saha Equations\n",
    "\n"
   ]
  },
  {
   "cell_type": "markdown",
   "metadata": {},
   "source": [
    "## The Hertzsprung-Russell Diagram\n",
    "\n",
    "### An Enormous Range in Stellar Radii\n",
    "\n",
    "### Morgan-Keenan Luminosity Classes\n",
    "\n"
   ]
  }
 ],
 "metadata": {
  "interpreter": {
   "hash": "cd2e115bae0bd8507f53973663b16a6c8b1a6736f2a0b1c5bcd962a446a2698e"
  },
  "kernelspec": {
   "display_name": "Python 3.8.8 64-bit ('base': conda)",
   "language": "python",
   "name": "python3"
  },
  "language_info": {
   "codemirror_mode": {
    "name": "ipython",
    "version": 3
   },
   "file_extension": ".py",
   "mimetype": "text/x-python",
   "name": "python",
   "nbconvert_exporter": "python",
   "pygments_lexer": "ipython3",
   "version": "3.8.8"
  },
  "orig_nbformat": 4
 },
 "nbformat": 4,
 "nbformat_minor": 2
}
