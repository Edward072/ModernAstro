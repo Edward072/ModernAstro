{
 "cells": [
  {
   "cell_type": "markdown",
   "metadata": {},
   "source": [
    "# Stellar Atmospheres \n",
    "\n",
    "## The Description of the Radiation Field\n",
    "Astronomers receive light only from the outermost layer of the star's atmosphere that overly an opaque interior.  The *temperature*, *density*, and *composition* of this layer determine the features of the star's spectrum, where we must describe how light travels through the gas to interpret the observed spectral lines properly.\n",
    "\n",
    "### The Specific and Mean Intensities\n",
    "Recall the [Planck function](https://saturnaxis.github.io/ModernAstro/Chapter_3/continuous-spectrum-of-light.html#the-planck-function-and-astrophysics) was based upon the wavelength-dependent flux of blackbody radiation $B_\\lambda(T)$ from an element of surface area $dA$.  A similar procedure can be used to define the intensity of a cone of light.  The light is measured in spherical coordinates by the angle $\\theta$, which is the direction perpendicular to the surface $dA$ so that $dA\\cos\\theta$ is an area projected onto a plane perpendicular to the propagation direction of the light.  The light energy is wavelength dependent ($E = hc/\\lambda$) and thus can be defined as\n",
    "\n",
    "$$ E_\\lambda \\equiv \\frac{\\partial E}{\\partial \\lambda}, $$\n",
    "\n",
    "where $E_\\lambda d\\lambda$ is the energy carried by the rays in the light cone in a time interval $dt$.  The **specific intensity** of the rays is defined as\n",
    "\n",
    "$$ I_\\lambda \\equiv \\frac{\\partial I}{\\partial \\lambda} \\equiv \\frac{E_\\lambda d\\lambda}{d\\lambda\\:dt\\:dA \\cos\\theta\\:d\\Omega}, \\tag{1} $$\n",
    "\n",
    "which carries the units of energy per time per Area per steradian *sr* ([solid angle)](https://en.wikipedia.org/wiki/Steradian) or more simply, energy per everything.\n",
    "\n",
    "```{note}\n",
    "There is a $d\\lambda$ factor in the numerator and denominator, which is a placeholder for the alternate definition of specific intensity in terms of frequency $I_\\nu$.  Recall from the [Planck function](https://saturnaxis.github.io/ModernAstro/Chapter_3/continuous-spectrum-of-light.html#the-planck-function-and-astrophysics) using $d\\nu = -\\frac{c}{\\lambda^2}d\\lambda$ as a conversion factor.\n",
    "```\n",
    "\n",
    "The specific intensity is usually referred to simply as the *intensity* and in spherical coordinates,\n",
    "\n",
    "$$ E_\\lambda d\\lambda = I_\\lambda d\\lambda\\:dt\\:dA \\cos\\theta\\:d\\Omega = I_\\lambda d\\lambda\\:dt\\:dA \\cos\\theta \\sin\\theta d\\theta\\:d\\phi, \\tag{2} $$\n",
    "\n",
    "with the substitution for the solid angle $d\\Omega = \\sin\\theta d\\theta \\:d\\phi$.  The Planck function $B_\\lambda$ is an example of the specific intensity for the special case of blackbody radiation.  In general, the light energy is not required to vary with wavelength (e.g., monochromatic sources or lasers).\n",
    "\n",
    "The energy of a single light ray *does not spread out (or diverge)*, however the specific intensity $I_\\lambda$ is typically used to describe a bundle of light rays and thus varies with direction.  The **mean intensity** of the radiation is determined by integrating over all directions and normalizing the result by $4\\pi\\:{\\rm sr}$ (i.e., the solid angle enclosed by a sphere) to obtain $\\langle I_\\lambda \\rangle$, the average value of $I_\\lambda$.  In spherical coordinates, this average value is\n",
    "\n",
    "$$ \\langle I_\\lambda \\rangle \\equiv \\frac{1}{4\\pi} \\int_{\\phi = 0}^{2\\pi} \\int_{\\theta=0}^{\\pi} I_\\lambda \\sin\\theta d\\theta\\:d\\phi. \\tag{3} $$\n",
    "\n",
    "For an isotropic radiation field (i.e., one with the same intensity in all directions), the mean intensity is the intensity and since blackbody radiation is isotropic, then $\\langle I_\\lambda \\rangle = B_\\lambda$.\n",
    "\n",
    "### The Specific Energy Density\n",
    "Consider a small cylinder (open at both ends) with perfectly reflecting walls inside, where light enters the base of the cylinder and bounces until it exits through the top of the cylinder.  The radiation that enters the cylinder at an angle $\\theta$ travels through the cylinder in a time $dt = dL/(c\\cos\\theta)$ and the energy inside (within a wavelength range $\\lambda$ and $\\lambda + d\\lambda$) is\n",
    "\n",
    "$$ E_\\lambda d\\lambda = I_\\lambda d\\lambda\\:dt\\:dA \\cos\\theta\\:d\\Omega = I_\\lambda d\\lambda\\:dA\\:d\\Omega\\:\\frac{dL}{c}, $$\n",
    "\n",
    "using Eqn. 2 and the substitution of $dt$.  The quantity $dA dL$ is the volume of the cylinder, where the **specific energy density** ($u_\\lambda d\\lambda$) is found by normalizing the energy $E_\\lambda d\\lambda$ by the volume of the cylinder, integrating over all the solid angles, and using Eqn. 3:\n",
    "\n",
    "$$ u_\\lambda d\\lambda = \\frac{1}{c} \\int_{\\phi = 0}^{2\\pi} \\int_{\\theta=0}^{\\pi} I_\\lambda d\\lambda\\:\\sin\\theta d\\theta\\:d\\phi = \\frac{4\\pi}{c} \\langle I_\\lambda \\rangle d\\lambda. \\tag{4}$$\n",
    "\n",
    "For blackbody radiation,\n",
    "\n",
    "$$ u_\\lambda d\\lambda = \\frac{4\\pi}{c}B_\\lambda d\\lambda = \\frac{8\\pi hc \\lambda^{-5}}{e^{hc/(\\lambda kT)}-1} d\\lambda. \\tag{5}$$\n",
    "\n",
    "The total energy density $u$ is found by [integrating over *all* wavelengths](http://people.tamu.edu/~kevinkrisciunas/planck.pdf),\n",
    "\n",
    "$$ u = \\int_0^\\infty u_\\lambda d\\lambda $$\n",
    "\n",
    "and for blackbody radiation (using Eqn. 5), then total energy density is\n",
    "\n",
    "$$ u = \\frac{4\\pi}{c} \\int_0^\\infty \\frac{8\\pi hc \\lambda^{-5}}{e^{hc/(\\lambda kT)}-1} d\\lambda = \\frac{4\\sigma T^4}{c}, \\tag{6} $$\n",
    "\n",
    "where $4\\sigma/c = 7.565767 \\times 10^{-16}\\;{\\rm J/m^3/K^4}$ and is known as the *radiation constant*."
   ]
  },
  {
   "cell_type": "markdown",
   "metadata": {},
   "source": [
    "### The Specific Radiative Flux\n",
    "Astronomers are often interested in the *net* energy that passes through a *unit area* in the direction of the z-axis.  This is given by the **specific radiative flux** $F_\\lambda$ as\n",
    "\n",
    "$$ F_\\lambda d\\lambda = \\int I_\\lambda d\\lambda\\:\\cos\\theta\\:d\\Omega = \\int_{\\phi = 0}^{2\\pi} \\int_{\\theta = 0}^\\pi I_\\lambda d\\lambda\\:\\cos\\theta\\sin\\theta d\\theta\\:d\\phi. \\tag{7} $$\n",
    "\n",
    "The specific radiative flux considers only the *z*-component (i.e., $\\cos\\theta$) of a light ray, where oppositely directed rays cancel.  Both the radiative flux and the specific intensity (Eqn. 2) describe the light received from a celestial source.  When a source is resolved by the telescope as defined by Rayleigh's criterion ($\\theta > \\theta_{\\rm min}$), the *specific intensity* is measured.  For example, the measured value of the specific intensity (at 501 nm) at the center of the Sun's disk is $I_{501} = 4.03 \\times 10^{13}\\;{\\rm W/m^{3}/sr}$.  \n",
    "\n",
    "For an unresolved source, the *radiative flux* is measured because the energy received from the entire source will disperse through the diffraction pattern (i.e., Airy disk and rings).  Because the light arriving at the detector leaves the source at all angles, the detector is effectively integrating the specific intensity over all directions.  As the distance to the source increases, the amount of energy falling within the Airy disk decreases as $1/r^2$, as expected.\n",
    "\n",
    "### Radiation Pressure\n",
    "Einstein's special theory of relativity describes photons as massless particles that nonetheless carry a momentum $p$ that is related to its energy $E$.  Thus, the photon can exert a **radiation pressure**.  Consider the gas pressure exerted by molecules bouncing off a wall, where the radiation pressure of photons can be described through a similar process. At a given time, a photon can strike a perfectly reflecting surface of area $dA$ and be reflected into a solid angle ${\\rm d}\\Omega$  (at the same angles $\\theta$ and ${\\rm d}\\Omega$ due to the law of reflection).  The change in $p_z$ of photons within a range of wavelengths from the reflection is\n",
    "\n",
    "$$ dp_{z,\\lambda} d\\lambda = p_\\lambda \\bigg\\rvert_{z_o}^{z_f} d\\lambda = \\frac{2E_\\lambda\\cos\\theta}{c} d\\lambda = \\frac{2}{c} I_\\lambda d\\lambda\\:dt\\:dA\\cos^2\\theta\\:d\\Omega, $$\n",
    "\n",
    "using $E_\\lambda$ from Eqn. 2.  Recall that $F = dp/dt$ and $P = F/A$ so that the radiation pressure $P_{\\rm rad,\\lambda}d\\lambda$ can be written as\n",
    "\n",
    "$$ P_{\\rm rad,\\lambda} d\\lambda = \\frac{2}{c} \\int_{\\phi = 0}^{2\\pi} \\int_{\\theta = 0}^{\\pi/2} I_\\lambda d\\lambda\\:\\cos^2\\theta\\sin\\theta d\\theta\\:d\\phi. \\quad {\\rm (reflection)} $$\n",
    "\n",
    "Instead of a reflecting wall, replace it with a mathematical surface $dA$ where the incident photons will now keep on going through and be streaming from the other side.  For an *isotropic radiation field*, the leading factor of 2 is removed because there is no longer a change in momentum upon reflection.  The radiation pressure becomes\n",
    "\n",
    "$$ P_{\\rm rad,\\lambda} d\\lambda = \\frac{1}{c} \\int_{\\phi = 0}^{2\\pi} \\int_{\\theta = 0}^\\pi I_\\lambda d\\lambda\\:\\cos^2\\theta\\sin\\theta d\\theta\\:d\\phi = \\frac{4\\pi}{3c}I_\\lambda d\\lambda, \\quad {\\rm (transmission)} \\tag{8} $$\n",
    "\n",
    "where the volume over all solid angles is simply a unit sphere ($4\\pi/3$).  However, for a non-isotropic radiation field the equation for the radiation pressure is still valid, but the pressure depends on the orientation of the mathematical surface $dA$.\n",
    "\n",
    "In general, the total radiation pressure at all wavelengths is found by\n",
    "\n",
    "$$ P_{\\rm rad} = \\int_0^\\infty P_{\\rm rad,\\lambda} d\\lambda, $$\n",
    "\n",
    "where the substitution $B_\\lambda = I_\\lambda$ in Eqn. 8 can be made blackbody radiation to get\n",
    "\n",
    "$$ P_{\\rm rad} = \\int_0^\\infty B_\\lambda(T)d\\lambda = \\frac{4\\sigma T^4}{3c} = \\frac{1}{3}u.  \\tag{9} $$\n",
    "\n",
    "The **blackbody radiation pressure** is one-third of the energy density, where an ideal monatomic gas is two-thirds of its energy density.\n",
    "\n",
    "### **Problems**\n",
    ">1\\. Find an expression for $n_\\lambda\\:d\\lambda$ (the number density of blackbody photons) with a wavelength between $\\lambda$ and $\\lambda + d\\lambda$.\n",
    ">\n",
    ">2\\. Using your expression from Problem 1, find the total number of photons inside a kitchen oven assuming a volume of 0.5 ${\\rm m^3}$ and set at 477 K.\n"
   ]
  },
  {
   "cell_type": "markdown",
   "metadata": {},
   "source": [
    "## Stellar Opacity\n",
    "The classification of stellar spectra is complicated by the fact that stars are not actually blackbodies.  The temperature of a star's photosphere can be estimated by the Stefan-Boltzmann law and the spectrum shape using the Planck function.  However, the Sun's spectrum deviates substantially from the idealized shape because solar absorption lines remove light at certain wavelengths.  A dense series of metallic absorption lines in the Solar spectrum is especially effective and called **line blanketing**.\n",
    "\n",
    "### Temperature and Local Thermodynamic Equilibrium\n",
    "There are many different measures of temperature within a star, which are defined according to a particular physical process.\n",
    "\n",
    "- The temperature obtained from the Stefan-Boltzmann law (**effective temperature**) is *uniquely defined for a particular layer* of the stellar atmosphere.\n",
    "- The **excitation temperature** is defined by the Boltzmann equation, which measures the ratio of atoms between two quantum states.\n",
    "- The **ionization temperature** is defined by the Saha equation, which measures the ratio of atoms that are ionized (missing electrons).\n",
    "- The **kinetic temperature** is contained in the Maxwell-Boltzmann distribution, which describes the velocity distribution of gas particles.\n",
    "- The **color temperature** is obtained by fitting the Planck function to the shape of a star's continuous spectrum.\n",
    "\n",
    "The effective temperature is the only measure that depends strictly on the location within the star, while the remaining temperatures vary according to the conditions of the gas that can be described by the simple case of a gas confined within an \"ideal\" box (i.e., ideal gas law).  Due to the boundary condition of the box, the energy of the gas particles and blackbody radiation will come into equilibrium and can be described by a single well-defined temperature.  As a result, there is no net flow of energy through the box, or between the matter and radiation.  The number of photons absorbed per unit time is equal to the number of photons emitted, which is called [thermodynamic equilibrium](https://en.wikipedia.org/wiki/Thermodynamic_equilibrium).\n",
    "\n",
    "Such a case cannot be true everywhere in a star (i.e., stars shine so some photons escape) and a star cannot be in perfect thermodynamic equilibrium.  A net outward flow of energy occurs through the star and the temperature varies with the stellar radius.  The ideal box approximation can be used: *if the distance over which the temperature changes significantly is large compared with the distances traveled by the particles and photons between collisions* (i.e., the ideal box is small enough).  The distances traveled by particles are called their *mean free paths*.  When the above condition is met, the particles and photons cannot escape the local environment and the temperature of the box is nearly constant (i.e., **local thermodynamic equilibrium** *LTE*).\n",
    "\n",
    "The photosphere is the surface layer of the Sun's atmosphere where the photons can escape into space.  The temperature in one region varies from 5580 K to 5790 K over a distance of 25.0 km.  The *temperature scale height* $H_T$ is the characteristic distance over which the temperature varies: $H_T \\equiv T_{\\rm avg}/|dT/dr|$.\n",
    "\n",
    "- **What is the temperature scale height $H_T$ of the Sun's photosphere?**"
   ]
  },
  {
   "cell_type": "code",
   "execution_count": 23,
   "metadata": {},
   "outputs": [
    {
     "name": "stdout",
     "output_type": "stream",
     "text": [
      "The scale height of the Sun's photosphere is 677 km.\n"
     ]
    }
   ],
   "source": [
    "def scale_height(T1,T2,r):\n",
    "    #T1 = low temperature\n",
    "    #T2 = high temperature\n",
    "    #r = distance traveled\n",
    "    T_avg = np.mean([T1,T2]) #average temperature\n",
    "    dT = np.abs(np.diff([T1,T2])) #temperature range dT\n",
    "    return T_avg/(dT/r)\n",
    "\n",
    "T1_Sun = 5580 #K\n",
    "T2_Sun = 5790 #K \n",
    "r_Sun = 25.0 #km\n",
    "H_T = scale_height(T1_Sun,T2_Sun,r_Sun)\n",
    "print(\"The scale height of the Sun's photosphere is %3d km.\" % np.round(H_T,0))"
   ]
  },
  {
   "cell_type": "markdown",
   "metadata": {},
   "source": [
    "**Is the Sun's photosphere in LTE?** To answer this question, we need to find the mean free path of the particles and photons.  The density of the Sun's photosphere is about $\\rho = 2.1 \\times 10^{-4}\\:{\\rm kg/m^3}$ and consists primarily of neutral hydrogen atoms in the ground state (see the [previous chapter](https://saturnaxis.github.io/ModernAstro/Chapter_8/classification-of-stellar-spectra.html#application-to-the-sun)).  The number density of hydrogen atoms (i.e., number of H atoms per cubic meter) is roughly\n",
    "\n",
    "$$ n = \\frac{\\rho}{m_H} = 1.27 \\times 10^{23}\\:{\\rm m^{-3}} $$\n",
    "\n",
    "with the mass of hydrogen $m_H = 1.67 \\times 10^{-27}\\:{\\rm kg}$. The collision probability for two atoms is higher if their centers pass within twice the atomic radius (i.e., [Bohr radius](https://saturnaxis.github.io/ModernAstro/Chapter_5/interaction-of-light-and-matter.html#bohr-s-semiclassical-atom)) or $2a_o$, where $a_o \\approx 5.29 \\times 10^{-11}\\:{\\rm m}$. This region of higher collision probability defines an area or **cross section** $\\sigma \\equiv \\pi(2a_o)^2$.  \n",
    "\n",
    "Consider a single atom of radius $2a_o$ with a cross section of $4\\pi a_o^2$ moving with a speed $v$ over a time $t$.  The atom has moved a distance $vt$ and sweeps out a cylindrical volume $V=\\sigma vt$.  Within the volume, there are $n\\sigma vt$ point atoms that collide with the moving atom.  The **mean free path** $\\ell$ between collisions is\n",
    "\n",
    "$$ \\ell = \\frac{\\rm distance\\:traveled}{\\rm number\\:of\\:atoms} = \\frac{vt}{n\\sigma vt} = \\frac{1}{n\\sigma}. \\tag{10} $$\n",
    "\n",
    "- **What is the mean free path for the Sun's photosphere consisting of hydrogen atoms?**"
   ]
  },
  {
   "cell_type": "code",
   "execution_count": 28,
   "metadata": {},
   "outputs": [
    {
     "name": "stdout",
     "output_type": "stream",
     "text": [
      "The mean free path between collisions in the Sun's photosphere is 2.26e-04 m.\n"
     ]
    }
   ],
   "source": [
    "def mean_free_path(n,sigma):\n",
    "    #n = number density of atoms\n",
    "    #sigma = cross section\n",
    "    return 1./(n*sigma)\n",
    "\n",
    "n_H = 2.1e-4/1.67e-27 #number density of H atoms in Sun's photosphere\n",
    "a_o = 5.29e-11 #m; radius of the Bohr atom\n",
    "sigma_H = np.pi*(2*a_o)**2\n",
    "ell_H =  mean_free_path(n_H,sigma_H)\n",
    "print(\"The mean free path between collisions in the Sun's photosphere is %1.2e m.\" % np.round(ell_H,6))"
   ]
  },
  {
   "cell_type": "markdown",
   "metadata": {},
   "source": [
    "The temperature scale height in the Sun's photosphere is 677 km and the mean free path for collisions is $2.26 \\times 10^{-4}$ m, where $H_T/\\ell \\approx 3 \\times 10^9$.  The criteria for LTE is satisfied for the hydrogen atoms of the photosphere (not the photons) and the gas particles see an essentially constant kinetic temperature between collisions.  In addition, they are effectively confined within a limited volume.  "
   ]
  },
  {
   "cell_type": "markdown",
   "metadata": {},
   "source": [
    "### The Definition of Opacity\n",
    "Any process that removes photons from a beam of light is collectively termed **absorption**, which includes the *scattering* of photons (i.e., Compton scattering), the absorption of photons by atomic electrons making upward transitions, and molecular energy-level transitions.  The change in intensity $dI_\\lambda$ of a photon as it travels through a gas is proportional to its intensity $I_\\lambda$, the distance traveled $ds$, and the density of the gas $\\rho$ through the relation,\n",
    "\n",
    "$$ \\frac{dI_\\lambda}{I_\\lambda} = -\\kappa_\\lambda \\rho  ds. \\tag{11}$$\n",
    "\n",
    "The quantity $\\kappa_\\lambda$ is called the wavelength-dependent **absorption coefficient** (or **opacity**).  The intensity decreases (due to the minus sign) along the path $s$ traveled by the photon.  The opacity has units of area/mass (${\\rm m^2/kg}$) because it is cross section of stellar gas that is removing the photons from the beam of light.  In general, the opacity of a gas is a function of its composition, density, and temperature.\n",
    "\n",
    "Consider a monochromatic beam of light with initial intensity $I_o$ and wavelength $\\lambda$ that travels a distance $s$.  The final intensity $I_f$ can be found by integrating both sides of Eqn 11 by\n",
    "\n",
    "$$ \\int_{I_o}^{I_\\lambda} \\frac{dI}{I} = -\\kappa \\rho \\int_0^s ds,$$\n",
    "\n",
    "which has the solution,\n",
    "\n",
    "$$ \\ln{\\frac{I_f}{I_o}} = -\\kappa \\rho s, $$\n",
    "\n",
    "and is simplified by exponentiating both sides (and dropping the subscript $f$) to get\n",
    "\n",
    "$$ I = I_o e^{-\\kappa \\rho s}, \\tag{12} $$\n",
    "\n",
    "which shows that the intensity exponentially decays as the light travels a distance $s$ into the medium described by the absorption coefficient $\\kappa$ and density $\\rho$.  There is a characteristic length $\\ell = (\\kappa \\rho)^{-1}$ by which the intensity declines.  \n",
    "\n",
    "- **What is the characteristic length $\\ell$ for a photon near the peak wavelength (500 nm) in the Solar photosphere?** (Use $\\kappa_{500} = 0.03\\;{\\rm m^2/kg}$. )"
   ]
  },
  {
   "cell_type": "code",
   "execution_count": 31,
   "metadata": {},
   "outputs": [
    {
     "name": "stdout",
     "output_type": "stream",
     "text": [
      "The characteristic distance traveled by a photon in the Solar photosphere is 160 km.\n"
     ]
    }
   ],
   "source": [
    "def opacity_length(kappa,rho):\n",
    "    #kappa = absorption coefficient at a given wavelength; m^2/kg\n",
    "    #rho = density of the gas; kg/m^3\n",
    "    return 1./(kappa*rho)\n",
    "\n",
    "kappa_500 = 0.03\n",
    "rho_photo_Sun = 2.1e-4\n",
    "ell_500 = opacity_length(kappa_500,rho_photo_Sun)/1000 #convert to km\n",
    "print(\"The characteristic distance traveled by a photon in the Solar photosphere is %3d km.\" % np.round(ell_500,-1))"
   ]
  },
  {
   "cell_type": "markdown",
   "metadata": {},
   "source": [
    "The temperature scale height is 677 km, where for photons $H_T/\\ell \\approx 4.2$ and the criteria for local thermodynamic equilibrium is not satisfied.  The photospheric photons do *not* see a constant temperature and LTE is not strictly valid in the photosphere.  Although LTE is a commonly invoked assumption in stellar atmospheres, it *must* be used with caution.  "
   ]
  },
  {
   "cell_type": "markdown",
   "metadata": {},
   "source": [
    "### Optical Depth\n",
    "Scatter photons have a mean free path (given by Eqn. 10), where $\\kappa_\\lambda \\rho$ and $n\\sigma_\\lambda$ can be though of as the *fraction* of photons scatter per meter of distance travelled.  Note that the mean free path is dependent on the photon wavelength $\\lambda$.  However it is convenient to define an **optical depth** $\\tau_\\lambda$ as \n",
    "\n",
    "$$ d\\tau_\\lambda = -\\kappa_\\lambda \\rho ds, \\tag{13} $$\n",
    "\n",
    "where $s$ is the distance measured along the photon's direction of motion (i.e., looking back along the path traveled by the photon).  The difference in optical depth $\\Delta \\tau_\\lambda$ can be determined as the difference between the final ($\\tau_{\\lambda,f}$) and initial ($\\tau_{\\lambda,o}$) optical depths, or the integral along the photon's path as\n",
    "\n",
    "$$ \\Delta \\tau_\\lambda = \\tau_{\\lambda,f} - \\tau_{\\lambda,o} = -\\int_0^s \\kappa_\\lambda \\rho ds. \\tag{14} $$\n",
    "\n",
    "As the light approaches the observer, it travels from a deeper layer (greater $\\tau_\\lambda$) to shallow layer (lesser $\\tau_\\lambda$) and $\\Delta \\tau_\\lambda < 0$.  The outermost layers of a star have $\\tau_\\lambda = 0$ for all wavelengths since the light is leaving the star's atmosphere.  In this case, Eqn. 16 becomes\n",
    "\n",
    "$$ \\tau_\\lambda = \\int_0^s \\kappa_\\lambda \\rho ds \\tag{15}  $$\n",
    "\n",
    "and the subscript $o$ is dropped.\n",
    "\n",
    "The optical depth can be related to the intensity by combining Eqn. 12 with Eqn. 15, where there is a decline in the intensity given by\n",
    "\n",
    "$$ I_\\lambda = I_{\\lambda,o} e^{-\\tau_\\lambda}.$$\n",
    "\n",
    "If the initial optical depth is equal to unity ($\\tau_{\\lambda,o} = 1$), then the intensity will decline by a factor of $1/e$ before escaping into the vacuum of space.\n",
    "\n",
    "```{note}\n",
    "The optical depth can be described as the number of mean free paths the photon travels starting from the original position to the surface.\n",
    "```\n",
    "The maximum optical depth is typically $\\tau_\\lambda \\approx 1$, where deeper layers are completely obscured.  In some situations, setting $\\tau_\\lambda = 0$ occurs inside the star instead of at the surface.  \n",
    "\n",
    "- If $\\tau_\\lambda \\gg 1$, then the gas is *optically thick*.\n",
    "- If $\\tau_\\lambda \\ll 1$, then the gas is *optically thin*. \n",
    "\n",
    "The optical depth varies with wavelength, where a gas could be optically thick for a specific wavelength but optically thin for a different wavelength.  For example, the Earth's atmosphere is optically thick for X-rays, but optically thin for visible light.\n",
    "\n",
    "- **How can the opacity of the Earth's atmosphere be corrected for?**\n",
    "\n",
    "The intensity of the light before entering the atmosphere is $I_{\\lambda,o}$ and $I_\\lambda$ once it reaches the telescope.  The optical depth is measured backwards along the path traveled by the light and thus, $\\tau_\\lambda = 0$ at the telescope.  The distance traveled is the height $h$ of the atmosphere.  The light enters the atmosphere at some angle $\\theta$, where $ds = -dz/\\cos \\theta = -\\sec \\theta dz$.  Using Eqn. 15 we get\n",
    "\n",
    "$$ \\tau_\\lambda = \\int_0^s \\kappa_\\lambda \\rho ds = \\sec \\theta \\int_0^h \\kappa_\\lambda \\rho dz = \\tau_{\\lambda,o} \\sec \\theta, $$\n",
    "\n",
    "where $\\tau_{\\lambda,o}$ refers to the optical depth of a vertically traveling photon ($\\theta = 0).  The intensity of the light at the telescope is \n",
    "\n",
    "$$ I_\\lambda = I_{\\lambda,o}e^{-\\tau_{\\lambda,o}\\sec \\theta}.  \\tag{16} $$\n",
    "\n",
    "For a single observation, both $I_{\\lambda,o}$ and $\\tau_{\\lambda,o}$ are unknown.  Over a night of observation, the Earth rotates on its axis and several measurements of the received intensity $I_\\lambda$ as a function of $\\sec \\theta$ can be made.  Then the best-fitting *slope* is $-\\tau_{\\lambda,o}$ and $I_{\\lambda,o}$ can be determined through extrapolation \n",
    "\n",
    "$$ \\lim_{\\sec \\theta \\rightarrow 0} \\ln I_\\lambda = \\ln I_{\\lambda,o}. $$  \n",
    "\n",
    "Measurements of the specific intensity or radiative flux can be corrected for absorption by Earth's atmosphere."
   ]
  },
  {
   "cell_type": "markdown",
   "metadata": {},
   "source": [
    "### General Sources of Opacity\n",
    "The opacity of a material depends on the chemical composition and how photons interact with the particles (atoms, ions, and free electrons) within the material.  If a photon passes within $\\sigma_\\lambda$ (i.e., the particles's cross-sectional area) of the particle, then the phone can be either: scattered or absorbed.\n",
    "\n",
    "- In an absorption process, the photon ceases to exist and its energy is incorporated into the thermal energy of the gas.\n",
    "\n",
    "- In a scattering process, the photon just continues along in a different direction.\n",
    "\n",
    "Both absorption and scattering can remove photons (of a specific wavelength) like a sieve and contribute to the opacity $\\kappa_\\lambda$ of the stellar material.  If the opacity varies slowly with wavelength, it contributes to the star's continuous spectrum (or *continuum*) and dark absorption lines are the result of a *rapid* variation in the opacity.\n",
    "\n",
    "There are four primary sources of opacity available for removing photons from our observations of a star.  These sources involve the quantum state of an electron, where the terms *bound* and *free* are used to describe the initial and final states of the electron within an atom.\n",
    "\n",
    "1\\. **Bound-bound transitions** are electron transitions from one orbital to another (i.e., excitation and de-excitation).  The bound-bound opacity $\\kappa_{\\lambda,bb}$ accounts for electrons that remove photons through absorption and the re-emission of the photons are scattered into a different direction than the line-of-sight.  This opacity is small except at wavelengths capable of absorption and hence is responsible for absorption lines in stellar spectra.  \n",
    "\n",
    "The de-excitation may also come from collisions with neighboring particles.  An important by-product is the degrading of the average energy of the photons.  For example, if two photons are emitted (from a cascade process) for every photon absorbed, then the average energy is cut in half.  There is not simple equation for bound-bound transitions.\n",
    "\n",
    "2\\. **Bound-free absorption**, or *photoionization*, occurs when an incoming photon has enough energy to free, or ionize, an atom.  The free electron can have any energy when removed from the atom, but the incoming photon must have a wavelength $\\lambda \\leq hc/\\chi_n$, where $\\chi_n$ is the ionization energy of the $n{\\rm th}$ orbital.  The bound-free opacity $\\kappa_{\\lambda,bf}$ contributes to the continuum opacity.\n",
    "\n",
    "The photoionization cross section for the hydrogen atom is\n",
    "\n",
    "$$ \\sigma_{bf} = \\frac{1.31 \\times 10^{-19}}{n^2} \\left(\\frac{\\lambda}{500\\:{\\rm nm}}\\right)^3 \\:{\\rm m^2}, $$\n",
    "\n",
    "which depends on the quantum state $n$ and the wavelength $\\lambda$.  The inverse process of *free-bound* emission occurs during atomic recombination (free electron recombines with an ion, emitting a photon).  Similar to bound-bound emission, this also reduces the average energy of the photons.\n",
    "\n",
    "3\\. **Free-free absorption** is a scattering process that occurs when the speed of a free electron increases (or decreases) after a nearby ion absorbs (or emits) a photon, respectively.  This process occurs due to conservation of both energy and momentum.  The free-free opacity $\\kappa_{\\lambda,ff}$ contributes to the continuum opacity.  The process of free-free emission is also known as [bremsstrahlung](https://en.wikipedia.org/wiki/Bremsstrahlung), when means \"braking radiation\" in German.\n",
    "\n",
    "4\\. **Electron scattering** is as you would expect where a photon is scatter (*not absorbed*) by a free electron through the process of [Thomas scattering](https://en.wikipedia.org/wiki/Thomson_scattering).  The electron \"oscillates\" (like a buoy) in the wake of a photon.  Because the electron's cross section is tiny, it is a poor target for an incident photon.  The cross section for Thomson scattering $\\sigma_T$ has the same value (independent of wavelength),\n",
    "\n",
    "$$ \\sigma_T = \\frac{1}{6\\pi\\epsilon_o^2}\\left( \\frac{e^2}{m_e c^2}\\right) = 6.65 \\times 10^{-29}\\:{\\rm m^2}.  \\tag{17} $$\n",
    "\n",
    "This is ~2 billion times smaller than the hydrogen cross section for photoionization from bound-free absorption, $\\sigma_{bf}$.  Electron scattering is most effective when the electron density is very high (i.e., high temperatures for ionization) and other sources of opacity are eliminated due to the absence of necessary bound electrons.  For high temperatures, the electron scattering opacity $\\kappa_{es}$ dominates the continuum opacity.\n",
    "\n",
    "A photon can also be scattered by loosely bound electrons.  *Compton scattering* occurs when the photon's wavelength is much smaller than the atom or *Rayleigh scattering* if the wavelength is much larger.  Compton scatter is usually lumped together with Thomson scattering due to the small change in wavelength of the scattered photon.  The cross section for Rayleigh scattering is smaller than the the Thomson cross section and can be neglected in most stellar atmospheres.  However, it is important in the UV for supergiant stars with their extended envelopes and in cool main-sequence stars.\n",
    "\n",
    "```{note}\n",
    "Rayleigh scattering is important in planetary atmospheres and is responsible for Earth's blue sky.\n",
    "```\n",
    "- **What is the maximum wavelength photon that can ionize a hydrogen atom in the first excited state?**"
   ]
  },
  {
   "cell_type": "code",
   "execution_count": 33,
   "metadata": {},
   "outputs": [
    {
     "name": "stdout",
     "output_type": "stream",
     "text": [
      "The maximum wavelength photon that can ionize a H atom (first excited state) is 364.7 nm.\n"
     ]
    }
   ],
   "source": [
    "def bound_free_H(n):\n",
    "    #n = the energy state of hydrogen (1 = ground, 2 = first excited, etc.)\n",
    "    chi_n = 13.6/n**2 #eV; ionization energy\n",
    "    return hc_eV/chi_n #return max wavelength in nm\n",
    "\n",
    "hc_eV = 1239.84198 #eV*nm; https://en.wikipedia.org/wiki/Planck_constant\n",
    "print(\"The maximum wavelength photon that can ionize a H atom (first excited state) is %3.1f nm.\" % np.round(bound_free_H(2),1))"
   ]
  },
  {
   "cell_type": "markdown",
   "metadata": {},
   "source": [
    "The opacity of stellar material suddenly increases at wavelengths $\\lambda \\leq 364.7\\:{\\rm nm}$ and the measured radiative flux of the star suddenly decreases.  This abrupt drop in the continuous spectrum is the **Balmer jump** and is evident in the Sun's spectrum.  The size of the Balmer jump in hot stars depends on the fraction of hydrogen atoms in the first excited state.  The Balmer jump appears in the middle of the *U* band in the *UBV* system, which results in a decrease in the amount of light received in the bandwidth of the *U* filter and increase the measured values for both the *U* magnitude and color index ($U-B$).\n",
    "\n",
    "5\\. **$H^-$ ion photoionization** occurs in the atmospheres of stars later than F0 and is the primary source of continuum opacity, $\\kappa_{H^-}$.  An $H^-$ ion is a hydrogen atom with a second electron, where there is partial shielding provided by the nucleus (to prevent repulsion) and thus the second electron can be loosely bound on the opposite side of the atom.  The binding energy (0.754 eV) is small compared with the binding energy of the hydrogen atom from the ground state.  The electron is easily liberated by photons with energy greater than 0.754 eV, where the excess energy is converted to kinetic energy.  On the other hand, a hydrogen atom can also capture a second electron and release a photon (proportional to the excess kinetic energy of the captured electron) in the process (i.e., $H+e^- \\rightleftharpoons H^- + \\gamma$).  A photon with an energy equal to 0.754 eV corresponds to a wavelength of 1640 nm.  At longer wavelengths $H^-$ contributes to opacity through free-free absorption (i.e., more free electrons become available through photoionization).\n",
    "\n"
   ]
  },
  {
   "cell_type": "markdown",
   "metadata": {},
   "source": [
    "### The Rosseland Mean Opacity\n",
    "The opacity in Eqn. 15 depends on the wavelength of light, where a star is expected to produce photons covering a wide range of wavelengths.  It is often useful to define an opacity that has been averaged over all wavelengths.  This averaging produces an opacity that depends only on the composition, density, and temperature of the stellar atmosphere.  The most commonly used scheme to compute a wavelength-independent opacity is the [Rosseland mean opacity](http://personal.psu.edu/rbc3/A534/lec6.pdf) or the **Rosseland mean**.  The Rosseland mean incorporates a weighting function that depends on how fast the blackbody spectrum varies with temperature, which is defined as\n",
    "\n",
    "$$ \\frac{1}{\\bar{\\kappa}} \\equiv \\frac{\\int_0^\\infty \\frac{1}{\\kappa_\\lambda}\\frac{\\partial B_\\lambda(T)}{\\partial T} d\\lambda}{\\int_0^\\infty \\frac{\\partial B_\\lambda(T)}{\\partial T} d\\lambda}.  \\tag{18}$$\n",
    "\n",
    "The absorption coefficient $\\kappa_\\lambda$ varies with wavelength, but it also depends on the assumed source of opacity (e.g., bound-free, free-free, etc.) and there is not a simple equation to describe the average absorption coefficient for bound-bound transitions.  Approximation formulae have been developed for the average bound-free and free-free opacities:\n",
    "\n",
    "$$ \\bar{\\kappa}_{bf} = 4.34 \\times 10^{21} \\frac{g_{bf}}{t}Z(1+X)\\frac{\\rho}{T^{3.5}} \\: {\\rm m^2/kg} \\tag{19} $$\n",
    "$$\\bar{\\kappa}_{ff} = 3.68 \\times 10^{18}\\:g_{ff}(1-Z)(1+X)\\frac{\\rho}{T^{3.5}} \\: {\\rm m^2/kg}, \\tag{20} $$\n",
    "\n",
    "which depends on the density $\\rho$, temperature $T$, the hydrogen **mass fraction** $X$, helium mass fraction $Y$, and the fractional abundance (by mass) of metals $Z$.\n",
    "\n",
    "```{note}\n",
    "Because most stellar gases are primarily composed of hydrogen and helium, all other constituents are lumped together and referred to as *metals*.  However, certain applications require more specific detail in the composition, where each species is represented by its own mass fraction.\n",
    "```\n",
    "\n",
    "The mass fractions are formally defined as\n",
    "\n",
    "$$ X \\equiv \\frac{\\rm total\\: mass\\:of\\:hydrogen}{\\rm total\\: mass\\:of\\:gas} \\tag{21} $$\n",
    "$$ X \\equiv \\frac{\\rm total\\: mass\\:of\\:helium}{\\rm total\\: mass\\:of\\:gas} \\tag{22} $$\n",
    "$$ X \\equiv \\frac{\\rm total\\: mass\\:of\\:metals}{\\rm total\\: mass\\:of\\:gas} \\tag{23} $$\n",
    "\n",
    "such that $X+Y+Z = 1$.  The [Gaunt factors](https://en.wikipedia.org/wiki/Gaunt_factor) ($g_{bf}$ and $g_{ff}$) in Eqns. 19 and 20 are quantum-mechanical correction terms.  These Gaunt factors are approximately 1 for the visible and UV wavelengths of interest.  The **guillotine factor** $t$ ([Eddington 1932](https://ui.adsabs.harvard.edu/abs/1932MNRAS..92..364E/abstract)) describes a cutoff to the opacity of an atom after it has been ionized, where typical values lie between 1 and 100.\n",
    "\n",
    "Equations 19 and 20 have the functional form $\\bar{\\kappa} \\propto \\kappa_o \\rho/T^{3.5}$, where $\\kappa_o$ combines all the factors that depend on composition. H. A. Kramers derived the first forms (in 1923) using classical physics and the Rosseland mean.  As a result, any opacity having a temperature and density dependence is referred to as **Kramers opacity law**.\n",
    "\n",
    "The electron scattering cross section is independent of wavelength and the Rosseland mean is simply\n",
    "\n",
    "$$ \\bar{\\kappa}_{es} = 0.02(1+X) \\:{\\rm m^2/kg}. \\tag{24} $$\n",
    "\n",
    "The mean opacity is modified in cooler stars (later than F0) by the $H^-$ ion over specific temperature range (3000 K $\\leq T \\leq$ 6000 K), density range ($10^{-7}\\leq \\rho \\leq 10^{-2}\\: {\\rm kg/m^3}$), and metal mass fraction ($0.001 < Z < 0.03$), when the hydrogen mass fraction $X\\sim0.7$ is lower.  The average opacity is\n",
    "\n",
    "$$ \\bar{\\kappa}_{H^-} \\approx 7.9 \\times 10^{-34} (50Z)\\sqrt{\\rho}T^9\\:{\\rm m^2/kg}. \\tag{25}$$\n",
    "\n",
    "The total Rosseland mean opacity $\\bar{\\kappa}$ is the average of the sum of the individual contributions or\n",
    "\n",
    "$$ \\bar{\\kappa} = \\overline{\\kappa_{bb}+\\kappa_{bf}+\\kappa_{ff}+\\kappa_{es}+\\kappa_{H^-}}. $$\n",
    "\n",
    "From detailed computer calculations of the Rosseland mean using quantum physics, we find that the opacity increases linearly with density for a given temperature.  At a contour of constant density, the opacity rises with increasing temperature that reflects the greater number of free electrons produce by ionization of hydrogen and helium.  The hydrogen partial ionization zone and neutral helium ionization occur at about the same temperature (10,000 K).  The decline in opacity (after $\\log_{10} T = 4$ or 10,000 K) roughly follows a Kramers law ($\\bar{\\kappa} \\propto T^{-3.5}$) and is primarily due to the bound-free and free-free absorption.\n",
    "\n",
    "The He II ion becomes fully ionized at 40,000 K for a wide range of stellar parameters, where there is a slight increase in the number of free electrons available.  Ionization of certain metals (most notably iron) occurs above $10^5$ K, which produces another increase in the average opacity.  Electron scattering dominates at the highest temperatures when nearly all the stellar material is ionized (i.e., few electrons available for bound-bound or bound-free processes)."
   ]
  },
  {
   "cell_type": "markdown",
   "metadata": {},
   "source": [
    "## Radiative Transfer\n",
    "This section describes stellar atmospheres that are in equilibrium or a steady-state.  This means that the mechanisms involved in absorbing and emitting energy must be in balance throughout the star so that no change in total energy occurs within any layer of the interior.  There are stars where this is not the case (e.g., pulsating stars) and such stars periodically absorb or \"dam up\" the outward flow of energy to drive stellar oscillations.\n",
    "\n",
    "### Photon Emission Processes\n",
    "**Emission** is defined as any process that adds photons to a beam of light, which includes the scattering of photons into the beam and the true emission of photons through electron transitions.  Opacity described processes (bound-bound and free-bound) that absorb photons, where there is an inverse process through emission (e.g., bound-bound emission, etc.).  The processes of absorption and emission hinder the flow of photons through a star and there is not a direct flow of photons streaming towards the surface.  Instead, individual photons travel only temporarily within the beam as they are repeatedly scattered in random directions (i.e., going on side-quests) while on their journey.\n",
    "\n",
    "### The Random Walk\n",
    "As the photons move through the stellar material, they follow a **random walk** (i.e., a haphazard path).  Between each atomic encounter, the photon travels a path ${\\bf \\ell}$ (the mean free path), which can be summed over a large number $N$ directed steps to produce a net vector displacement **d**:\n",
    "\n",
    "$$ {\\bf d} = {\\bf \\ell}_1 + {\\bf \\ell}_2 + \\cdots + {\\bf \\ell}_N = \\sum_{i=1}^N {\\bf \\ell}_i. $$\n",
    "\n",
    "The vector dot product of **d** determines the scalar contribution of each path by\n",
    "\n",
    "$$ \\begin{align*}\n",
    "{\\bf d}\\cdot{\\bf d} &={\\bf \\ell}_1 \\cdot {\\bf \\ell}_1 + {\\bf \\ell}_1 \\cdot {\\bf \\ell}_2 + \\cdots {\\bf \\ell}_1 \\cdot {\\bf \\ell}_N \\\\\n",
    "&\\quad+ {\\bf \\ell}_2 \\cdot {\\bf \\ell}_1 +{\\bf \\ell}_2 \\cdot {\\bf \\ell}_2 + \\cdots + {\\bf \\ell}_2 \\cdot {\\bf \\ell}_N \\\\\n",
    "&\\quad+ \\cdots +{\\bf \\ell}_N \\cdot {\\bf \\ell}_1 +{\\bf \\ell}_N \\cdot {\\bf \\ell}_1 + \\cdots + {\\bf \\ell}_N \\cdot {\\bf \\ell}_N \\\\\n",
    "&= \\sum_{i=1}^N \\sum_{j=1}^N {\\bf \\ell}_i \\cdot {\\bf \\ell}_j.\n",
    "\\end{align*}$$\n",
    "\n",
    "Using the magnitude definition of a vector dot product ($A\\cdot B = |A||B|\\cos\\theta$) and each vector has the same length ($|{\\bf \\ell_i}|^2 = |{\\bf \\ell_j}|^2 = \\ell^2$), then we have $N$ diagonal terms ($i=j$) and $N(N-1)$ off-diagonal ($i\\neq j$) terms.  Along the diagonal, $\\cos\\theta_{ii} = \\cos\\theta_{jj} = 1$, so that we find\n",
    "\n",
    "$$ d^2 = {\\rm sum\\:of\\:diagonal\\:terms} +  {\\rm sum\\:of\\:off-diagonal\\:terms} $$\n",
    "\n",
    "or\n",
    "\n",
    "$$ d^2 = N\\ell^2 + \\ell^2  \\sum_{i=1}^N \\sum_{j=1}^N \\cos \\theta_{ij},\\quad {\\rm for\\:}i\\neq j. $$\n",
    "\n",
    "For a large number of randomly directed steps, the sum of all the cosine terms approaches zero.  For a random walk, the displacement $d$ scales with the size of each step $\\ell$ by\n",
    "\n",
    "$$ d = \\ell \\sqrt{N}. \\tag{26} $$\n",
    "\n",
    "Through a random walk, the transport of energy through a star by radiation alone can be extremely inefficient.  It takes 100 steps for a photon to travel a distance of $10\\ell$ using Eqn. 26.  The optical depth is roughly the number of mean free paths $\\ell$ that a photon must travel to get to the surface, which implies that $d = \\tau_\\lambda \\ell = \\ell\\sqrt{N}$.  The average number of steps needed to travel to a distance $d$ is\n",
    "\n",
    "$$ N = \\tau_\\lambda^2, \\tag{27}$$\n",
    "\n",
    "for $\\tau_\\lambda \\gg 1$.  When $\\tau_\\lambda \\approx 1$, a photon can potentially escape from that depth, but a more carful analysis shows the average depth of the atmosphere from which photons can escape is $\\tau_\\lambda = 2/3$.\n",
    "\n",
    "```{note}\n",
    "Looking into a star at any angle, we can look back to an optical depth of about $\\tau_\\lambda = 2/3$ as measured relative to the line of sight.\n",
    "```\n",
    "\n",
    "A star's photosphere is defined as the layer which visible light can escape the star's atmosphere and come to us or $\\tau_\\lambda \\approx 2/3$ for wavelengths in the star's continuum.\n",
    "\n",
    "\n",
    "### Limb Darkening\n",
    "An observer looking at the Sun's disk sees the brightest (hottest) portion near the center due to optical depth ($\\tau_\\lambda = 2/3$), observations near the edge (or *limb*) of the Sun appear darker (cooler).  The optical depth limits how deep an observer can see into the Sun, where at the center a finite depth reaches the hotter inner layers that glow more brightly.  At the limb, the penetration depth only reaches the uppermost (cooler) layers of the atmosphere and we will see a lower temperature compared to the center of the disk.  This effect is called **limb darkening**, where astronomers have to account for it in transit photometry (e.g., binary stars and [exoplanets](https://www.paulanthonywilson.com/exoplanets/exoplanet-detection-techniques/the-exoplanet-transit-method/)).\n",
    "\n",
    "### The Radiation Pressure Gradient\n"
   ]
  },
  {
   "cell_type": "markdown",
   "metadata": {},
   "source": [
    "## The Transfer Equation\n",
    "\n",
    "### The Emission Coefficient\n",
    "\n",
    "### The Source Function and the Transfer Equation\n",
    "\n",
    "### The Special Case of Blackbody Radiation\n",
    "\n",
    "### The Assumption of a Plane-Parallel Atmosphere\n",
    "\n",
    "### The Eddington Approximation\n",
    "\n",
    "### Limb Darkening Revisited"
   ]
  },
  {
   "cell_type": "markdown",
   "metadata": {},
   "source": [
    "## The Profiles of Spectral Lines\n",
    "\n",
    "### Equivalent Widths\n",
    "\n",
    "### Processes That Broaden Spectral Lines\n",
    "\n",
    "### The Voigt Profile\n",
    "\n",
    "### The Curve of Growth\n",
    "\n",
    "### Computer Modeling of Stellar Atmospheres"
   ]
  },
  {
   "cell_type": "markdown",
   "metadata": {},
   "source": [
    "## Supplemental Links\n",
    "- [Powerpoint slides](http://www.ifa.hawaii.edu/users/kud/teaching_12/3_Radiative_transfer.pdf) from Rolf Kudritzki at the University of Hawaii's Institute for Astronomy (IfA).\n",
    "- [Integrating the Planck function](http://people.tamu.edu/~kevinkrisciunas/planck.pdf) from Kevin Krisciunas at Texas A&M University.\n",
    "- Contour integral for [Planck function](https://math.stackexchange.com/questions/99843/contour-integral-for-x3-ex-1).\n",
    "- [Notes on Optical Depth](http://spiff.rit.edu/classes/phys440/lectures/optd/optd.html) from Michael Richmond at Rochester Institute of Technology."
   ]
  }
 ],
 "metadata": {
  "interpreter": {
   "hash": "cd2e115bae0bd8507f53973663b16a6c8b1a6736f2a0b1c5bcd962a446a2698e"
  },
  "kernelspec": {
   "display_name": "Python 3.8.8 64-bit ('base': conda)",
   "language": "python",
   "name": "python3"
  },
  "language_info": {
   "codemirror_mode": {
    "name": "ipython",
    "version": 3
   },
   "file_extension": ".py",
   "mimetype": "text/x-python",
   "name": "python",
   "nbconvert_exporter": "python",
   "pygments_lexer": "ipython3",
   "version": "3.8.8"
  },
  "orig_nbformat": 4
 },
 "nbformat": 4,
 "nbformat_minor": 2
}
