{
 "cells": [
  {
   "attachments": {},
   "cell_type": "markdown",
   "metadata": {},
   "source": [
    "# Homework Assignments\n",
    "\n",
    "## Expectations\n",
    "\n",
    "All homework assignments will be completed using [Jupyter](https://jupyter.org/) notebooks, where you will submit your source file (\\*.ipynb) and a compiled file (\\*.pdf).  The filename for each submission will be in the following format \"ASTR4410_Chpt#_LastName\", where the \"#\" character is replaced the appropriate chapter number.  Jupyter notebooks allow you to create code cells in [Python](https://docs.python.org/3/tutorial/) and non-code cells in [Markdown](https://www.markdownguide.org/basic-syntax/).  There are short guides in the Preamble that will help you. \n",
    "\n",
    "A complete homework problem contains a *detailed explanation* that describes the process by which you arrived at the solution.  You will not receive full credit for simply reporting the final answer.  To describe the process, you will use the math mode in $\\LaTeX$ to display equations, numbers in scientific notation, and variables.  A guide to the various commands can be found [here](https://joshua.smcvt.edu/undergradmath/undergradmath.pdf)."
   ]
  },
  {
   "cell_type": "markdown",
   "metadata": {},
   "source": [
    "## Homework Style\n",
    "\n",
    "The homework assignments should match the following style:\n",
    "\n",
    "1. The homework title is the top level section (#).\n",
    "2. Each homework problem is the next level section (##)\n",
    "3. The text following the homework problem is a verbatim copy of the text from the respective problem in **bold**.\n",
    "4. Your detailed explanation is written in normal text, where in-line math mode (single \\$) or display math mode (double \\$) is used appropriately.\n",
    "5. The final result is displayed in **bold**.\n",
    "6. Code cells that recreate your solution are placed just after your detailed explanation.\n",
    "   \n",
    "The next section provides a template to help you see the described style."
   ]
  },
  {
   "cell_type": "markdown",
   "metadata": {},
   "source": [
    "# Chapter 1\n",
    "\n",
    "## Problem 3\n",
    "**At what distance from a 100 W light bulb is the radiant flux equal to the solar irradiance?**\n",
    "\n",
    "The solar irradiance is the amount of flux that the Earth receives from the Sun.  The Sun's luminosity is defined as 1 $L_\\odot$ (or $3.828 \\times 10^{26}$ W) and the Earth's distance from the Sun is 1 AU.  The equation for flux $F$ is simply the luminosity $L$ of a source divided over (i.e., spread out) an area, where this case is the surface of a sphere $(A_{\\rm sphere} = 4\\pi r^2)$, or\n",
    "\n",
    "$$ F = \\frac{L}{4\\pi r^2}. $$\n",
    "\n",
    "In this case, the solar irradiance is defined as 1361 ${\\rm W/m^2}$ and the luminosity of the bulb is 100 W.  Using algebra, the above equation becomes\n",
    "\n",
    "$$r = \\sqrt{\\frac{L}{4\\pi F}}, $$\n",
    "\n",
    "which will give the distance to a source given the luminosity and flux.  **The distance to receive a solar irradiance from a 100 W light bulb is 0.0765 m or 76.5 mm.** "
   ]
  },
  {
   "cell_type": "code",
   "execution_count": 3,
   "metadata": {},
   "outputs": [
    {
     "name": "stdout",
     "output_type": "stream",
     "text": [
      "The radiative flux received by the Earth at 1 AU is 1361 W/m^2.\n",
      "The distance to the bulb to recieve a solar irradiance of flux is 0.0765 m.\n"
     ]
    }
   ],
   "source": [
    "#https://docs.astropy.org/en/stable/constants/#module-astropy.constants\n",
    "from astropy.constants import L_sun, au\n",
    "import numpy as np\n",
    "\n",
    "def get_flux(L,r):\n",
    "    #luminosity (in W)\n",
    "    #radius (in m)\n",
    "    return L/(4*np.pi*r**2)\n",
    "\n",
    "def get_radius(L,F):\n",
    "    #L = luminosity (in W)\n",
    "    #F = flux (in W/m^2)\n",
    "    return np.sqrt(L/(4*np.pi*F)) #returns the distance (in m)\n",
    "\n",
    "F_solar = get_flux(L_sun.value,au.value)\n",
    "print(\"The radiative flux received by the Earth at 1 AU is %d W/m^2.\" % F_solar)\n",
    "r_bulb = get_radius(100,F_solar)\n",
    "print(\"The distance to the bulb to recieve a solar irradiance of flux is %1.4f m.\" % r_bulb)"
   ]
  }
 ],
 "metadata": {
  "interpreter": {
   "hash": "cd2e115bae0bd8507f53973663b16a6c8b1a6736f2a0b1c5bcd962a446a2698e"
  },
  "kernelspec": {
   "display_name": "Python 3.8.8 64-bit ('base': conda)",
   "name": "python3"
  },
  "language_info": {
   "codemirror_mode": {
    "name": "ipython",
    "version": 3
   },
   "file_extension": ".py",
   "mimetype": "text/x-python",
   "name": "python",
   "nbconvert_exporter": "python",
   "pygments_lexer": "ipython3",
   "version": "3.11.5"
  },
  "orig_nbformat": 4
 },
 "nbformat": 4,
 "nbformat_minor": 2
}
