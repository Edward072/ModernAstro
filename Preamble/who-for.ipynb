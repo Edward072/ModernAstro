{
 "cells": [
  {
   "cell_type": "markdown",
   "metadata": {},
   "source": [
    "# Who are these notes for?\n",
    "\n",
    "This Jupyter Book should be useful for:\n",
    "\n",
    "- Upper-level undergraduates with some *introductory* background in modern astrophysics\n",
    "\n",
    "- Graduate students and researchers in astrophysics\n",
    "\n",
    "- Anyone else with some astronomy or physics background who is interested!\n",
    "\n",
    "The code snippets in the book are all written in Python. Familiarity with the Python language and its scientific packages is useful."
   ]
  }
 ],
 "metadata": {
  "interpreter": {
   "hash": "cd2e115bae0bd8507f53973663b16a6c8b1a6736f2a0b1c5bcd962a446a2698e"
  },
  "kernelspec": {
   "display_name": "Python 3.8.8 64-bit ('base': conda)",
   "name": "python3"
  },
  "language_info": {
   "codemirror_mode": {
    "name": "ipython",
    "version": 3
   },
   "file_extension": ".py",
   "mimetype": "text/x-python",
   "name": "python",
   "nbconvert_exporter": "python",
   "pygments_lexer": "ipython3",
   "version": "3.8.8"
  },
  "orig_nbformat": 4
 },
 "nbformat": 4,
 "nbformat_minor": 2
}
