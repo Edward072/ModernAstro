{
 "cells": [
  {
   "attachments": {},
   "cell_type": "markdown",
   "metadata": {},
   "source": [
    "# Student Participation (Spring 2024)\n",
    "Students will work in pairs to produce summaries of each class meeting.  These summaries should list the main topics discussed and emphasized ideas/examples during the respective lecture.  Students are encouraged to be as detailed as possible without being overly verbose.  The summaries should be submitted as a [pull request](https://docs.github.com/en/codespaces/the-githubdev-web-based-editor) from **your forked repository** before the next class meeting.\n"
   ]
  },
  {
   "attachments": {},
   "cell_type": "markdown",
   "metadata": {},
   "source": [
    "## Jan 8\n",
    "### Class Overview\n",
    "- Introductions\n",
    "  - Dr. Quarles told us about his research.\n",
    "  - He has contributed to several exoplanet discoveries with Kepler and even an exomoon candidate.\n",
    "  - He studies planets with 2 stars in particular, and his latest research has investigated how many moons that could potentially orbit the Earth.  The answer is 3!\n",
    "  - He has studied how obliquity can affect a planet's climate.\n",
    "- Syllabus\n",
    "  - The class syllabus provides us with a roadmap for the course.  \n",
    "  - The course is structured for the students to learn through class participation/activities and homework. \n",
    "  - Student learning will be assessed through exams and in-class presentations.\n",
    "- Course website\n",
    "  - Class notes are provided on the course website, which includes web urls (for jargon) and video explanations of some topics.\n",
    "- GitHub accounts\n",
    "  - GitHub is a convenient way to store and share information.\n",
    "  - Create GitHub account and fork repository.\n"
   ]
  },
  {
   "attachments": {},
   "cell_type": "markdown",
   "metadata": {},
   "source": [
    "## Jan 10 \n",
    "### Continuous Spectrum of Light Part I\n",
    "\n",
    "**1.1 Stellar Parallax** \n",
    "\n",
    "- Add detail using bullets\n",
    "\n",
    "\n",
    "**1.2 The Magnitude Scale** \n",
    "**1.2.1 Apparent Magnitude**\n",
    "\n",
    "\n",
    "\n",
    "**1.2.2 Flus, Luminosity, and the Inverse Square Law** \n",
    "\n",
    "\n",
    "**1.2.3 Flux Ratios and Apparent Magnitude** \n",
    "\n",
    "**1.2.4 Absolute Magnitude and the Distance Modulus** \n",
    "\n",
    "**1.3 The Wave Nature of Light**\n",
    "\n",
    "**1.3.1 The Speed of Light**\n",
    "\n",
    "**1.3.2 Young's Double-Slit Experiment**\n",
    "\n",
    "**1.3.3 Maxwell's Electromagnetic Wave Theory**\n",
    "\n",
    "**1.3.4 The Poynting Vector and Radiation Pressure**"
   ]
  },
  {
   "cell_type": "markdown",
   "metadata": {},
   "source": [
    "## Jan 15 (MLK Day)\n",
    "### No Class"
   ]
  },
  {
   "cell_type": "markdown",
   "metadata": {},
   "source": [
    "## Jan 17\n",
    "### Continuous Spectrum of Light Part II"
   ]
  },
  {
   "cell_type": "markdown",
   "metadata": {},
   "source": [
    "## Jan 22\n",
    "### Interaction of Matter and Light Part I"
   ]
  },
  {
   "cell_type": "markdown",
   "metadata": {},
   "source": [
    "## Jan 24\n",
    "### Interaction of Matter and Light Part II"
   ]
  },
  {
   "cell_type": "markdown",
   "metadata": {},
   "source": [
    "## Jan 29\n",
    "### Telescopes Part I"
   ]
  },
  {
   "cell_type": "markdown",
   "metadata": {},
   "source": [
    "## Jan 31\n",
    "### Telescopes Part II"
   ]
  },
  {
   "cell_type": "markdown",
   "metadata": {},
   "source": [
    "## Feb 5\n",
    "### Classification of Stellar Spectra Part I"
   ]
  },
  {
   "cell_type": "markdown",
   "metadata": {},
   "source": [
    "## Feb 7\n",
    "### Classification of Stellar Spectra Part II"
   ]
  },
  {
   "cell_type": "markdown",
   "metadata": {},
   "source": [
    "## Feb 12 (Exam I)\n",
    "### Exam I"
   ]
  },
  {
   "cell_type": "markdown",
   "metadata": {},
   "source": [
    "## Feb 14\n",
    "### Stellar Atmospheres Part I"
   ]
  },
  {
   "cell_type": "markdown",
   "metadata": {},
   "source": [
    "## Feb 19\n",
    "### Stellar Atmospheres Part II"
   ]
  },
  {
   "cell_type": "markdown",
   "metadata": {},
   "source": [
    "## Feb 21\n",
    "### Stellar Atmospheres Part III"
   ]
  },
  {
   "cell_type": "markdown",
   "metadata": {},
   "source": [
    "## Feb 26 \n",
    "### The Sun Part I"
   ]
  },
  {
   "cell_type": "markdown",
   "metadata": {},
   "source": [
    "## Feb 28 \n",
    "### The Sun Part II"
   ]
  },
  {
   "cell_type": "markdown",
   "metadata": {},
   "source": [
    "## Mar 4\n",
    "### The Interiors of Stars Part I\n",
    "### Teaching Presentations"
   ]
  },
  {
   "cell_type": "markdown",
   "metadata": {},
   "source": [
    "## Mar 6\n",
    "### The Interiors of Stars Part II\n",
    "### Teaching Presentations"
   ]
  },
  {
   "cell_type": "markdown",
   "metadata": {},
   "source": [
    "## Mar 11 \\& 13 (Spring Break)\n",
    "### No Class"
   ]
  },
  {
   "cell_type": "markdown",
   "metadata": {},
   "source": [
    "## Mar 18\n",
    "### The Interiors of Stars Part III\n",
    "### Teaching Presentations"
   ]
  },
  {
   "cell_type": "markdown",
   "metadata": {},
   "source": [
    "## Mar 20\n",
    "### The Interiors of Stars Part IV\n",
    "### Teaching Presentations"
   ]
  },
  {
   "cell_type": "markdown",
   "metadata": {},
   "source": [
    "## Mar 25 (Exam II)\n",
    "### Exam II"
   ]
  },
  {
   "cell_type": "markdown",
   "metadata": {},
   "source": [
    "## Mar 27\n",
    "### The Interstellar Medium and Star Formation Part I"
   ]
  },
  {
   "cell_type": "markdown",
   "metadata": {},
   "source": [
    "## Apr 1\n",
    "### The Interstellar Medium and Star Formation Part II"
   ]
  },
  {
   "cell_type": "markdown",
   "metadata": {},
   "source": [
    "## Apr 3\n",
    "### Main-Sequence and Post-Main-Sequence Stellar Evolution Part I"
   ]
  },
  {
   "cell_type": "markdown",
   "metadata": {},
   "source": [
    "## Apr 8\n",
    "### Main-Sequence and Post-Main-Sequence Stellar Evolution Part II"
   ]
  },
  {
   "cell_type": "markdown",
   "metadata": {},
   "source": [
    "## Apr 10\n",
    "### Stellar Pulsation "
   ]
  },
  {
   "cell_type": "markdown",
   "metadata": {},
   "source": [
    "## Apr 15\n",
    "### The Fate of Massive Stars Part I "
   ]
  },
  {
   "cell_type": "markdown",
   "metadata": {},
   "source": [
    "## Apr 17\n",
    "### The Fate of Massive Stars Part II"
   ]
  },
  {
   "cell_type": "markdown",
   "metadata": {},
   "source": [
    "## Apr 22\n",
    "### The Degenerate Remnants of Stars"
   ]
  },
  {
   "cell_type": "markdown",
   "metadata": {},
   "source": [
    "## Apr 24\n",
    "### Review Paper Presentations"
   ]
  },
  {
   "cell_type": "markdown",
   "metadata": {},
   "source": [
    "## Apr 29\n",
    "### Review Paper Presentations"
   ]
  },
  {
   "cell_type": "markdown",
   "metadata": {},
   "source": [
    "## May 2 (Final Exam)\n",
    "### Final Exam (2:45 pm – 4:45 pm)"
   ]
  }
 ],
 "metadata": {
  "kernelspec": {
   "display_name": "base",
   "language": "python",
   "name": "python3"
  },
  "language_info": {
   "codemirror_mode": {
    "name": "ipython",
    "version": 3
   },
   "file_extension": ".py",
   "mimetype": "text/x-python",
   "name": "python",
   "nbconvert_exporter": "python",
   "pygments_lexer": "ipython3",
   "version": "3.8.8"
  },
  "orig_nbformat": 4,
  "vscode": {
   "interpreter": {
    "hash": "b46b6cd7437fccd56f9d889ab8b597852de90099948480230438ac6eaaa10679"
   }
  }
 },
 "nbformat": 4,
 "nbformat_minor": 2
}
