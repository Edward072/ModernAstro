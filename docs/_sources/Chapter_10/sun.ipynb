{
 "cells": [
  {
   "cell_type": "markdown",
   "metadata": {},
   "source": [
    "# The Sun"
   ]
  },
  {
   "cell_type": "markdown",
   "metadata": {},
   "source": [
    "## The Solar Interior\n",
    "\n",
    "### The Evolutionary History of the Sun\n",
    "Our Sun is classified as a typical main-sequence star of spectral class G2, which contains mostly hydrogen $(X=0.74)$, some helium $(Y=0.24)$, and a little metal ($Z=0.02)$ by mass.  The composition has changed (evolved) over time because it has been converting hydrogen into helium through the proton-proton chain for most of its lifetime.  Even though the Sun is changing over time, we can still estimate its age using other bodies of the Solar System.  For example, radioactive dating of Moon rocks and meteorites indicate that they are ~4.57 Gyr old and the Sun would be *at least* as old as these rocks.  Since becoming a main-sequence star, the Sun's luminosity has increased by nearly 48% and its radius has increased by 15%, which lead to an increase a 2.7% increase in its effective temperature.  The effect of this luminosity increase on the Earth is unclear due to the Earth's time-varying ability to reflect light through its albedo (caused by surface water and ice).\n",
    "\n",
    "```{note}\n",
    "Radioactive dating of the oldest known objects in the Solar System, the [calcium-aluminum inclusions](https://en.wikipedia.org/wiki/Calcium%E2%80%93aluminium-rich_inclusion) (CAIs), indicates that the age of the Solar System is $4.56730 \\pm 0.00016$ Gyr, or $4567.30 \\pm 0.16$ Myr.\n",
    "```"
   ]
  },
  {
   "cell_type": "markdown",
   "metadata": {},
   "source": [
    "### The Present-Day Interior Structure of the Sun\n",
    "Using the current age of the Sun, a **solar model** must reproduce the current values of the central temperature, pressure, density, and composition.  A schematic of the Sun can be constructed, where an inner core produces the radiation through nuclear reactions, a middle layer transports the energy through radiation, and an outer atmosphere brings energy to the surface through convection cells of rising and sinking gas.  Using such a model, the hydrogen mass fraction $(X)$ *in the core* has decreased from 0.71 to 0.34 and the helium mass fraction increased from 0.27 to 0.64 over the Sun's lifetime.  *At the surface* the hydrogen mass fraction increased by 0.03, while the helium mass fraction decreased by 0.03.\n",
    "\n",
    "Evolution of the Sun's interior includes ongoing nucleosynthesis, surface convection, and elemental diffusion (settling of heavier elements).  The Sun's primary energy production comes from the [proton-proton (pp)](https://en.wikipedia.org/wiki/Proton%E2%80%93proton_chain) chain, where $^3{\\rm He}$, or [tritium](https://en.wikipedia.org/wiki/Tritium) is an intermediate species in the reaction sequence.  Tritium can be produced and destroyed as part of the conversion of hydrogen into helium.  However, tritium is relatively more abundant at the top of the hydrogen-burning region where the temperature is lower.  At greater depths, the higher temperatures the destroy the tritium more often than it is created, resulting in a overall decrease in abundance.  The production of $^4{\\rm He}$ (stable helium) decreases and hydrogen increases slightly near 0.7 ${\\rm R_\\odot}$ due to the surface convection zone and elemental diffusion.  \n",
    "\n",
    "The largest contribution to the energy production occurs at approximately 0.1 ${\\rm R_\\odot}$, as seen in the radial derivative of the luminosity profile as a function of radius.  Consider the mass conservation equation\n",
    "\n",
    "$$ \\frac{dM_r}{dr} = 4\\pi r^2 \\rho \\; \\rightarrow \\; dM_r = 4\\pi r^2 \\rho\\:dr = \\rho\\:dV, \\tag{1} $$\n",
    "\n",
    "which indicates how the mass within a certain radius interval increases because the volume of a spherical shell increases with a fixed choice of $dr$.  Even if the total energy liberated per kilogram of material $(\\epsilon)$ decreases steadily from the inside-out, then the largest contribution to the total luminosity will occur in a shell that contains a significant mass rather than at the center.  In the case of the current (middle-aged) Sun, the decrease in available hydrogen fuel at the center will also influence the location of the peak energy production.  The pressure and density can change rapidly with radius, which produces variations on the solar structure through conditions of hydrostatic equilibrium, ideal gas law, and the composition structure.\n",
    "\n",
    "The interior mass as a function of radius $(M_r)$ shows that 90% of the Sun's mass lies within roughly 0.5 ${\\rm R_\\odot}$.  The interior mass function can be determined through the integration of the density function over the Sun's volume (i.e., $M_r = \\int \\rho\\:dV$).  The energy generated in the interior has to be transported outwards, where a criterion for the onset of convection is that the temperature gradient becomes [superadiabatic](https://sites.northwestern.edu/sethstein/files/2017/06/convection-2c1sura.pdf), \n",
    "\n",
    "$$ \\left|\\frac{dT}{dr}\\right|_{\\rm actual} >  \\left|\\frac{dT}{dr}\\right|_{\\rm adiabatic}, $$\n",
    "\n",
    "where actual and [adiabatic](https://en.wikipedia.org/wiki/Adiabatic_process) refer to the temperature gradients.  For an *ideal monatomic gas*, this conditions becomes,\n",
    "\n",
    "$$ \\frac{d\\ln P}{d\\ln T} < 2.5. $$\n",
    "\n",
    "The Sun is purely radiative below 0.714 ${\\rm R_\\odot}$ and is convective above that point.  This occurs because the opacity in the outer layer becomes large enough to block the energy transport by radiation.  For a large temperature gradient, convection becomes the more efficient means of energy transport.  A rapid rise in $d\\ln P/ d\\ln T$ near the surface $(r>0.95\\:{\\rm R_\\odot})$ is due to the significant departure of the actual temperature gradient from an adiabatic one.\n",
    "\n",
    "```{note}\n",
    "Stars need only be slightly more massive than the Sun in order to be convective at their centers because of the strong temperature dependence of the CNO cycle as compared to the pp chain.\n",
    "```\n",
    "\n",
    "Models of stellar structure and the derivation of fundamental physical principles have uncovered an enormous amount of information regarding the Sun's interior.  A complete and reasonable model needs to be consistent with evolutionary timescales and the global characteristics (e.g., mass, luminosity, radius, effective temperature, surface composition, and oscillation frequencies).  However there is one aspect of the Sun where the observations don't match the theoretical model, which is the abundance of lithium.  The observed lithium abundance is somewhat less than expected, which may imply that some adjustments (e.g., through convection, rotation, and/or mass loss) to the model are necessary."
   ]
  },
  {
   "cell_type": "markdown",
   "metadata": {},
   "source": [
    "### The Solar Neutrino Problem: A Detective Story Solved\n",
    "For decades, there was an inconsistency between the observations of the Sun and the model, where the solution resulting in an important new understanding of fundamental physics.  In 1970, Raymond  Davis began measuring the neutrino flux from the Sun.  His detector was located almost 1 mile below ground within a gold mine in Lead, South Dakota.  The neutrino has a very low cross section for interaction with other matter, which makes it difficult to detect.  *Like the eye of Sauron*, neutrinos penetrate where other particles cannot.  The detector was placed underground to lower the background noise and ensure that it was only measuring neutrinos.\n",
    "\n",
    "The neutrino detector contained ~100,000 gallons of cleaning fluid, ${\\rm C_2Cl_4}$ (tetrachloroethylene), because chlorine interacts with ${\\rm ^{37}_{17}Cl}$ to produce ${\\rm ^{37}_{18}Ar}$ that has a half-life of 35 days,\n",
    "\n",
    "$$ {\\rm ^{37}_{17}Cl} + \\nu_e \\rightleftharpoons {\\rm ^{37}_{18}Ar} + e^-.$$\n",
    "\n",
    "The threshold energy for this reaction is 0.814 MeV and less than the energy of the neutrinos produced in almost every step of the pp chain.  The neutrinos in the first step,\n",
    "\n",
    "$$ {\\rm ^1_1H} + {\\rm ^1_1H} \\rightarrow {\\rm ^2_1H} + e^+ + \\nu_{e^-}, $$\n",
    "\n",
    "produced more energy, but the reaction that accounted for 77% of the neutrinos detected is the $\\beta^+$ decay of ${\\rm ^8_5 B}$ into ${\\rm ^8_4Be}$:\n",
    "\n",
    "$$ {\\rm ^8_5B} \\rightarrow {\\rm ^8_4Be} + e^+ + \\nu_e. $$\n",
    "\n",
    "Unfortunately, this reaction is very rare (1:5000).  Every few months, Davis and his collaborators purged the accumulated argon and determined the number of argon atoms produced.  The capture rate was measured using the **solar neutrino unit**, where 1 SNU equals $10^{-36}$ reactions per target atom per second.  The tank contained $\\sim10^{30}$ ${\\rm ^{37}_{17}Cl}$ atoms, which corresponds to 5.35 SNU if only 1 argon atom was produced each day.\n",
    "\n",
    "John Bahcall computed the anticipated capture rate of 7.9 SNU, while the actual data (taken between 1970 and 1994) yielded an average of $2.56 \\pm 0.16$ SNU.  About one-third of the expected yield.  Other experiments have confirmed the discrepancy including Japan's underground Super-Kamiokande observatory.  This observatory detects the **Cerenkov light** produced when neutrinos scatter electrons.  Through this measurement only half of the neutrinos are detected compared to the predictions from solar models.\n",
    "\n",
    "The deficit of neutrinos suggested that either **(a)** some fundamental physical process in the solar model is incorrect or **(b)** something happens to the neutrinos in-transit (i.e., on their way from the Sun's core to the Earth).  The **Mikheyev-Smirnov-Wolfenstein** (or MSW) effect involves transformation of neutrinos between the three types ($\\nu_\\mu$, $\\nu_\\tau$, and $\\nu_e$).  This idea is an extension of the *electroweak theory** fof particle physics.  \n",
    "\n",
    "Confirmation of this idea came in 1998 when Super-Kamiokande was used to detect *atmospheric neutrinos* produced in Earth's upper atmosphere.  Cosmic rays are capable of producing only electron and muon neutrinos.  Super-Kamiokande determined that the number of $\\nu_\\mu$ traveling upward was significantly reduced compared to those traveling downward, where the difference in numbers is in excellent agreement with the theory of neutrino mixing.  For neutrino mixing to occur, the neutrino could not be a massless particle and the experiment confirmed this as well.  After several decades the solar neutrino problem was resolved by a profound advance in our understanding of particle physics."
   ]
  },
  {
   "cell_type": "markdown",
   "metadata": {},
   "source": [
    "## The Solar Atmosphere\n",
    "\n",
    "### The Photosphere\n",
    "Optical photons appear to originate from an outer layer of the Sun called the **photosphere**.  The base of the photosphere is somewhat arbitrary since photons because some photons originate from deep within the Sun ($\\tau_\\lambda \\gg 1$).  The optical depth from a given layer $\\tau_\\lambda$ can be estimated from an estimate of the fraction of photons that we receive from that layer (i.e., $\\tau_\\lambda = -\\ln\\left(I_\\lambda/I_{\\lambda,o}\\right)$).  For instance, if 1\\% of the photons from a given layer, then the optical depth is approximately 4.6.  The opacity and optical depth are wavelength-dependent, where the base of the photosphere is also wavelength dependent if it is defined in terms of the optical depth.\n",
    "\n",
    "```{note}\n",
    "Given the arbitrariness of the definition, the photosphere's base is sometimes simply defined as 100 km below $s_1$, the level where the optical depth at 500 nm is unity:\n",
    "$$ s_1 = \\frac{\\tau_{500} }{\\kappa_{500} \\rho} = \\frac{1}{\\kappa_{500} \\rho}. $$\n",
    "\n",
    "The base of the photosphere is 100 km below $s_1$, which corresponds to an optical depth $\\tau_{500} \\approx 23.6$ and the temperature is approximately 9400 K.\n",
    "```\n",
    "The gas temperature decreases to 4400 K at 525 km above $s_1$ $(\\tau_{500}=1)$ as we move upward from the base and through the solar photosphere.  The temperature minimum defines the top of the photosphere, where the temperature begins to rise above this point.  The photosphere is defined to be 625 km thick and the bulk resides above an optical depth equal to unity.  On average, the solar flus is emitted from and optical depth $\\tau = 2/3$ ([the Eddington approximation](https://saturnaxis.github.io/ModernAstro/Chapter_9/stellar-atmospheres.html#the-eddington-approximation)), which leads to defining the effective temperature (for [Wien's law](https://saturnaxis.github.io/ModernAstro/Chapter_3/continuous-spectrum-of-light.html#the-connection-between-color-and-temperature)) at this depth.\n",
    "\n",
    "A source of opacity exists and is continuous across wavelength due in part to the $H^-$ ions in the photosphere.  Using the [Saha equation](https://saturnaxis.github.io/ModernAstro/Chapter_8/classification-of-stellar-spectra.html#the-saha-equation), we can determine the ratio of $H^-$ ions to the neutral hydrogen atoms.  The abundance of H II $(H^-\\:{\\rm ions})$ in the Sun is actually quite low (1 in $10^7$ atoms), but it becomes important because neutral hydrogen is not capable of contributing significantly to the continuum.\n",
    "\n",
    "An individual spectral line is not infinitesimally thin covering a range of wavelengths and different parts of the same line can originate form at different depths of the solar atmosphere.  The absorption lines (e.g., Fraunhofer lines) are produced in the photosphere.\n",
    "\n"
   ]
  },
  {
   "cell_type": "markdown",
   "metadata": {},
   "source": [
    "### Solar Granulation"
   ]
  },
  {
   "cell_type": "markdown",
   "metadata": {},
   "source": [
    "### Differential Rotation\n",
    "\n",
    "### The Chromosphere"
   ]
  },
  {
   "cell_type": "markdown",
   "metadata": {},
   "source": [
    "### The Transition Region\n",
    "\n",
    "### The Corona"
   ]
  },
  {
   "cell_type": "markdown",
   "metadata": {},
   "source": [
    "### Coronal Holes and the Solar Wind"
   ]
  },
  {
   "cell_type": "markdown",
   "metadata": {},
   "source": [
    "### The Parker Wind Model"
   ]
  },
  {
   "cell_type": "markdown",
   "metadata": {},
   "source": [
    "### The Hydrodynamic Nature of the Upper Solar Atmosphere"
   ]
  },
  {
   "cell_type": "markdown",
   "metadata": {},
   "source": [
    "### Magnetohydrodynamics and Alfv&eacute;n Waves"
   ]
  },
  {
   "cell_type": "markdown",
   "metadata": {},
   "source": [
    "### The Outer Atmospheres of Other Stars"
   ]
  },
  {
   "cell_type": "markdown",
   "metadata": {},
   "source": [
    "### **Problems**"
   ]
  },
  {
   "cell_type": "markdown",
   "metadata": {},
   "source": [
    "## The Solar Cycle\n",
    "\n",
    "### Sunspots"
   ]
  },
  {
   "cell_type": "markdown",
   "metadata": {},
   "source": [
    "### Plages"
   ]
  },
  {
   "cell_type": "markdown",
   "metadata": {},
   "source": [
    "### Solar Flares"
   ]
  },
  {
   "cell_type": "markdown",
   "metadata": {},
   "source": [
    "### Solar Prominences"
   ]
  },
  {
   "cell_type": "markdown",
   "metadata": {},
   "source": [
    "### The Time-Dependent Shape of the Corona\n",
    "\n",
    "### The Magnetic Dynamo Theory\n",
    "\n",
    "### Evidence of Magnetic Activity in Other Stars"
   ]
  },
  {
   "cell_type": "markdown",
   "metadata": {},
   "source": [
    "### **Problems**"
   ]
  }
 ],
 "metadata": {
  "language_info": {
   "name": "python"
  },
  "orig_nbformat": 4
 },
 "nbformat": 4,
 "nbformat_minor": 2
}
