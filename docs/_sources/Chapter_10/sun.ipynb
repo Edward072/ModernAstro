{
 "cells": [
  {
   "cell_type": "markdown",
   "metadata": {},
   "source": [
    "# The Sun"
   ]
  },
  {
   "cell_type": "markdown",
   "metadata": {},
   "source": [
    "## The Solar Interior\n",
    "\n",
    "### The Evolutionary History of the Sun\n",
    "Our Sun is classified as a typical main-sequence star of spectral class G2, which contains mostly hydrogen $(X=0.74)$, some helium $(Y=0.24)$, and a little metal ($Z=0.02)$ by mass.  The composition has changed (evolved) over time because it has been converting hydrogen into helium through the proton-proton chain for most of its lifetime.  Even though the Sun is changing over time, we can still estimate its age using other bodies of the Solar System.  For example, radioactive dating of Moon rocks and meteorites indicate that they are ~4.57 Gyr old and the Sun would be *at least* as old as these rocks.  Since becoming a main-sequence star, the Sun's luminosity has increased by nearly 48% and its radius has increased by 15%, which lead to an increase a 2.7% increase in its effective temperature.  The effect of this luminosity increase on the Earth is unclear due to the Earth's time-varying ability to reflect light through its albedo (caused by surface water and ice).\n",
    "\n",
    "```{note}\n",
    "Radioactive dating of the oldest known objects in the Solar System, the [calcium-aluminum inclusions](https://en.wikipedia.org/wiki/Calcium%E2%80%93aluminium-rich_inclusion) (CAIs), indicates that the age of the Solar System is $4.56730 \\pm 0.00016$ Gyr, or $4567.30 \\pm 0.16$ Myr.\n",
    "```"
   ]
  },
  {
   "cell_type": "markdown",
   "metadata": {},
   "source": [
    "### The Present-Day Interior Structure of the Sun\n",
    "Using the current age of the Sun, a **solar model** must reproduce the current values of the central temperature, pressure, density, and composition.  A schematic of the Sun can be constructed, where an inner core produces the radiation through nuclear reactions, a middle layer transports the energy through radiation, and an outer atmosphere brings energy to the surface through convection cells of rising and sinking gas.  Using such a model, the hydrogen mass fraction $(X)$ *in the core* has decreased from 0.71 to 0.34 and the helium mass fraction increased from 0.27 to 0.64 over the Sun's lifetime.  *At the surface* the hydrogen mass fraction increased by 0.03, while the helium mass fraction decreased by 0.03.\n",
    "\n",
    "Evolution of the Sun's interior includes ongoing nucleosynthesis, surface convection, and elemental diffusion (settling of heavier elements).  The Sun's primary energy production comes from the [proton-proton (pp)](https://en.wikipedia.org/wiki/Proton%E2%80%93proton_chain) chain, where $^3{\\rm He}$, or [tritium](https://en.wikipedia.org/wiki/Tritium) is an intermediate species in the reaction sequence.  Tritium can be produced and destroyed as part of the conversion of hydrogen into helium.  However, tritium is relatively more abundant at the top of the hydrogen-burning region where the temperature is lower.  At greater depths, the higher temperatures the destroy the tritium more often than it is created, resulting in a overall decrease in abundance.  The production of $^4{\\rm He}$ (stable helium) decreases and hydrogen increases slightly near 0.7 ${\\rm R_\\odot}$ due to the surface convection zone and elemental diffusion.  \n",
    "\n",
    "The largest contribution to the energy production occurs at approximately 0.1 ${\\rm R_\\odot}$, as seen in the radial derivative of the luminosity profile as a function of radius.  Consider the mass conservation equation\n",
    "\n",
    "$$ \\frac{dM_r}{dr} = 4\\pi r^2 \\rho \\; \\rightarrow \\; dM_r = 4\\pi r^2 \\rho\\:dr = \\rho\\:dV, \\tag{1} $$\n",
    "\n",
    "which indicates how the mass within a certain radius interval increases because the volume of a spherical shell increases with a fixed choice of $dr$.  Even if the total energy liberated per kilogram of material $(\\epsilon)$ decreases steadily from the inside-out, then the largest contribution to the total luminosity will occur in a shell that contains a significant mass rather than at the center.  In the case of the current (middle-aged) Sun, the decrease in available hydrogen fuel at the center will also influence the location of the peak energy production.  The pressure and density can change rapidly with radius, which produces variations on the solar structure through conditions of hydrostatic equilibrium, ideal gas law, and the composition structure.\n",
    "\n",
    "The interior mass as a function of radius $(M_r)$ shows that 90% of the Sun's mass lies within roughly 0.5 ${\\rm R_\\odot}$.  The interior mass function can be determined through the integration of the density function over the Sun's volume (i.e., $M_r = \\int \\rho\\:dV$).  The energy generated in the interior has to be transported outwards, where a criterion for the onset of convection is that the temperature gradient becomes [superadiabatic](https://sites.northwestern.edu/sethstein/files/2017/06/convection-2c1sura.pdf), \n",
    "\n",
    "$$ \\left|\\frac{dT}{dr}\\right|_{\\rm actual} >  \\left|\\frac{dT}{dr}\\right|_{\\rm adiabatic}, $$\n",
    "\n",
    "where actual and [adiabatic](https://en.wikipedia.org/wiki/Adiabatic_process) refer to the temperature gradients.  For an *ideal monatomic gas*, this conditions becomes,\n",
    "\n",
    "$$ \\frac{d\\ln P}{d\\ln T} < 2.5. $$\n",
    "\n",
    "The Sun is purely radiative below 0.714 ${\\rm R_\\odot}$ and is convective above that point.  This occurs because the opacity in the outer layer becomes large enough to block the energy transport by radiation.  For a large temperature gradient, convection becomes the more efficient means of energy transport.  A rapid rise in $d\\ln P/ d\\ln T$ near the surface $(r>0.95\\:{\\rm R_\\odot})$ is due to the significant departure of the actual temperature gradient from an adiabatic one.\n",
    "\n",
    "```{note}\n",
    "Stars need only be slightly more massive than the Sun in order to be convective at their centers because of the strong temperature dependence of the CNO cycle as compared to the pp chain.\n",
    "```\n",
    "\n",
    "Models of stellar structure and the derivation of fundamental physical principles have uncovered an enormous amount of information regarding the Sun's interior.  A complete and reasonable model needs to be consistent with evolutionary timescales and the global characteristics (e.g., mass, luminosity, radius, effective temperature, surface composition, and oscillation frequencies).  However there is one aspect of the Sun where the observations don't match the theoretical model, which is the abundance of lithium.  The observed lithium abundance is somewhat less than expected, which may imply that some adjustments (e.g., through convection, rotation, and/or mass loss) to the model are necessary."
   ]
  },
  {
   "cell_type": "markdown",
   "metadata": {},
   "source": [
    "### The Solar Neutrino Problem: A Detective Story Solved\n",
    "For decades, there was an inconsistency between the observations of the Sun and the model, where the solution resulting in an important new understanding of fundamental physics.  In 1970, Raymond  Davis began measuring the neutrino flux from the Sun.  His detector was located almost 1 mile below ground within a gold mine in Lead, South Dakota.  The neutrino has a very low cross section for interaction with other matter, which makes it difficult to detect.  *Like the eye of Sauron*, neutrinos penetrate where other particles cannot.  The detector was placed underground to lower the background noise and ensure that it was only measuring neutrinos.\n",
    "\n",
    "The neutrino detector contained ~100,000 gallons of cleaning fluid, ${\\rm C_2Cl_4}$ (tetrachloroethylene), because chlorine interacts with ${\\rm ^{37}_{17}Cl}$ to produce ${\\rm ^{37}_{18}Ar}$ that has a half-life of 35 days,\n",
    "\n",
    "$$ {\\rm ^{37}_{17}Cl} + \\nu_e \\rightleftharpoons {\\rm ^{37}_{18}Ar} + e^-.$$\n",
    "\n",
    "The threshold energy for this reaction is 0.814 MeV and less than the energy of the neutrinos produced in almost every step of the pp chain.  The neutrinos in the first step,\n",
    "\n",
    "$$ {\\rm ^1_1H} + {\\rm ^1_1H} \\rightarrow {\\rm ^2_1H} + e^+ + \\nu_{e^-}, $$\n",
    "\n",
    "produced more energy, but the reaction that accounted for 77% of the neutrinos detected is the $\\beta^+$ decay of ${\\rm ^8_5 B}$ into ${\\rm ^8_4Be}$:\n",
    "\n",
    "$$ {\\rm ^8_5B} \\rightarrow {\\rm ^8_4Be} + e^+ + \\nu_e. $$\n",
    "\n",
    "Unfortunately, this reaction is very rare (1:5000).  Every few months, Davis and his collaborators purged the accumulated argon and determined the number of argon atoms produced.  The capture rate was measured using the **solar neutrino unit**, where 1 SNU equals $10^{-36}$ reactions per target atom per second.  The tank contained $\\sim10^{30}$ ${\\rm ^{37}_{17}Cl}$ atoms, which corresponds to 5.35 SNU if only 1 argon atom was produced each day.\n",
    "\n",
    "John Bahcall computed the anticipated capture rate of 7.9 SNU, while the actual data (taken between 1970 and 1994) yielded an average of $2.56 \\pm 0.16$ SNU.  About one-third of the expected yield.  Other experiments have confirmed the discrepancy including Japan's underground Super-Kamiokande observatory.  This observatory detects the **Cerenkov light** produced when neutrinos scatter electrons.  Through this measurement only half of the neutrinos are detected compared to the predictions from solar models.\n",
    "\n",
    "The deficit of neutrinos suggested that either **(a)** some fundamental physical process in the solar model is incorrect or **(b)** something happens to the neutrinos in-transit (i.e., on their way from the Sun's core to the Earth).  The **Mikheyev-Smirnov-Wolfenstein** (or MSW) effect involves transformation of neutrinos between the three types ($\\nu_\\mu$, $\\nu_\\tau$, and $\\nu_e$).  This idea is an extension of the *electroweak theory** fof particle physics.  \n",
    "\n",
    "Confirmation of this idea came in 1998 when Super-Kamiokande was used to detect *atmospheric neutrinos* produced in Earth's upper atmosphere.  Cosmic rays are capable of producing only electron and muon neutrinos.  Super-Kamiokande determined that the number of $\\nu_\\mu$ traveling upward was significantly reduced compared to those traveling downward, where the difference in numbers is in excellent agreement with the theory of neutrino mixing.  For neutrino mixing to occur, the neutrino could not be a massless particle and the experiment confirmed this as well.  After several decades the solar neutrino problem was resolved by a profound advance in our understanding of particle physics."
   ]
  },
  {
   "cell_type": "markdown",
   "metadata": {},
   "source": [
    "## The Solar Atmosphere\n",
    "\n",
    "### The Photosphere\n",
    "Optical photons appear to originate from an outer layer of the Sun called the **photosphere**.  The base of the photosphere is somewhat arbitrary since photons because some photons originate from deep within the Sun ($\\tau_\\lambda \\gg 1$).  The optical depth from a given layer $\\tau_\\lambda$ can be estimated from an estimate of the fraction of photons that we receive from that layer (i.e., $\\tau_\\lambda = -\\ln\\left(I_\\lambda/I_{\\lambda,o}\\right)$).  For instance, if 1\\% of the photons from a given layer, then the optical depth is approximately 4.6.  The opacity and optical depth are wavelength-dependent, where the base of the photosphere is also wavelength dependent if it is defined in terms of the optical depth.\n",
    "\n",
    "```{note}\n",
    "Given the arbitrariness of the definition, the photosphere's base is sometimes simply defined as 100 km below $s_1$, the level where the optical depth at 500 nm is unity:\n",
    "\n",
    "$$ s_1 = \\frac{\\tau_{500} }{\\kappa_{500} \\rho} = \\frac{1}{\\kappa_{500} \\rho}. $$\n",
    "\n",
    "The base of the photosphere is 100 km below $s_1$, which corresponds to an optical depth $\\tau_{500} \\approx 23.6$ and the temperature is approximately 9400 K.\n",
    "```\n",
    "The gas temperature decreases to 4400 K at 525 km above $s_1$ $(\\tau_{500}=1)$ as we move upward from the base and through the solar photosphere.  The temperature minimum defines the top of the photosphere, where the temperature begins to rise above this point.  The photosphere is defined to be 625 km thick and the bulk resides above an optical depth equal to unity.  On average, the solar flus is emitted from and optical depth $\\tau = 2/3$ ([the Eddington approximation](https://saturnaxis.github.io/ModernAstro/Chapter_9/stellar-atmospheres.html#the-eddington-approximation)), which leads to defining the effective temperature (for [Wien's law](https://saturnaxis.github.io/ModernAstro/Chapter_3/continuous-spectrum-of-light.html#the-connection-between-color-and-temperature)) at this depth.\n",
    "\n",
    "A source of opacity exists and is continuous across wavelength due in part to the $H^-$ ions in the photosphere.  Using the [Saha equation](https://saturnaxis.github.io/ModernAstro/Chapter_8/classification-of-stellar-spectra.html#the-saha-equation), we can determine the ratio of $H^-$ ions to the neutral hydrogen atoms.  The abundance of H II $(H^-\\:{\\rm ions})$ in the Sun is actually quite low (1 in $10^7$ atoms), but it becomes important because neutral hydrogen is not capable of contributing significantly to the continuum.\n",
    "\n",
    "An individual spectral line is not infinitesimally thin covering a range of wavelengths and different parts of the same line can originate form at different depths of the solar atmosphere.  The absorption lines (e.g., Fraunhofer lines) are produced in the photosphere.\n",
    "\n",
    "From Kirchoff's laws, the absorption lines are produced when there is a cooler gas between the observer and the bulk of the hot source (i.e., continuum-forming region).  In reality, the Fraunhofer lines are formed in the same layers where $H^-$ ions produce the continuum.  The center of an absorption line originates from the regions of lower optical depth (i.e., higher in the photosphere) where the gas is cooler because the opacity is greatest at the center of the line (i.e., more difficult to see deeper in the atmosphere).  Moving into the wings of the line, the opacity decreases and this implies that absorption is occurring at progressively deeper levels.  At wavelengths far from the central line, the absorption is negligible and the continuum is observed. "
   ]
  },
  {
   "cell_type": "markdown",
   "metadata": {},
   "source": [
    "#### Solar Granulation & Differential Rotation\n",
    "Observations of the photosphere show a patchwork of bright and dark regions evolve over time, where the dark regions can appear and then disappear.  The spatial extent of a region can be 700 km and have a lifetime for 5-10 minutes.  This structure is called **granulation** and represents the top portion of a convection zone protruding into the photosphere's base.  Granulation causes wiggles to appear in the absorption lines due to small Doppler shifts (400 m/s) from the convection cycle.  The brighter regions produce blueshifts (i.e., rising hot material) in the absorption lines while the darker regions are caused by redshifts (i.e., sinking cool material).  The lifetime of a granule is defined as the amount of time for a parcel to rise and fall the distance of one mixing length.\n",
    "\n",
    "The absorption lines are used to measure the rotation rate of the Sun, where measurements are taken from the equator and then outward with increasing latitude.  By measuring Doppler shifts as a function of latitude, we find that the Sun rotates *differentially* meaning the rotation rate changes with latitude.  The rotation period at the equator is approximately 25 days, while it increases to 36 days at the poles.  The Sun's rotation also varies internally with radius.  Near the base of the convection zone, differing rotation rates converge into a region known as a [tachocline](https://en.wikipedia.org/wiki/Tachocline).  The differing rotation rates produce a strong shear in the atmosphere, which can result in electric currents in the plasma that generate the Sun's magnetic field."
   ]
  },
  {
   "cell_type": "markdown",
   "metadata": {},
   "source": [
    "### The Chromosphere\n",
    "Above the photosphere lies a portion of the Sun's atmosphere called the **chromosphere** that is only about 0.01% (or a factor of $10^{-4}$) of the photosphere's intensity and extends upward for approximately 1600 km or 2100 km above $\\tau_{500} = 1$.  The light produced in the chromosphere indicates that the gas density drops dramatically (by a factor of $10^4$) and the temperature begins to increase with altitude, from 4400 K to 10,000 K.  The Boltzmann and Saha equations show that spectral lines can be produced in the low density and high temperature environment of the chromosphere (e.g., He II, Fe II, Si II, Cr II, and Ca II).\n",
    "\n",
    "Certain Fraunhofer lines appear as absorption lines in the visible and near-UV, where others begin to appear as emission lines at shorter (or much longer) wavelengths.  Kirchoff's laws suggest that a hot, low-density gas must be responsible for the emission lines.  The emission cannot occur deep within the Sun's interior because the Sun is optically thick and so the area of emission line production occurs elsewhere.  The strength of the continuum decreases rapidly at shorter and longer wavelengths (far from the peak at 500 nm).  Thus, emission lines produced far from the visible are not overwhelmed by the expected blackbody radiation.\n",
    "\n",
    "Emission lines (in the visible range) are observable near the limb of the Sun for a few seconds when the bright solar disk is occulted during a total eclipse and is known as a **flash spectrum**.  During an eclipse the Sun gaines a reddish hue because the Balmer ${\\rm H\\alpha}$ emission line can now dominate.  Alternatively, filters can be used to restrict observations to the wavelengths of emission lines in the chromosphere (particularly ${\\rm H \\alpha}$) and a great deal of hidden structure becomes visible.  On scales of 30,000 km, the continued effects of the convection zone are seen as **supergranulation**.  Similar to granules, Doppler studies reveal the rising and sinking of gas at 400 km/s.  **Spicules**, or vertical filaments of gas, are present that extend upward for 10,000 km and each spicule has a lifetime of only 15 minutes.  As a result the speed of particles in spicules move upwards at approximately 15 km/s, as shown through Doppler studies."
   ]
  },
  {
   "cell_type": "markdown",
   "metadata": {},
   "source": [
    "### The Transition Region\n",
    "The temperature rises rapidly within approximately 100 km above the chromosphere and reach $>10^5$ K before $dT/dr$ begins to flatten.  The temperature still increases, but more slowly until eventually exceeding $10^6$ K.  Selective observations in the UV and extreme-UV reveal this **transition region**.  Lyman-alpha (or ${\\rm Ly\\alpha}$) hydrogen emission ($2\\rightarrow 1$) is produced when the temperature reaches 20,000 K (at the top of the chromosphere), the C III emission line originates when the temperature reaches 90,000 K, the O VI line occurs at 300,000 K, and the Mg X line occurs at $1.4 \\times 10^6$ K."
   ]
  },
  {
   "cell_type": "markdown",
   "metadata": {},
   "source": [
    "### The Corona\n",
    "During a total solar eclipse, a faint **corona** appears around the Sun at totality.  The corona lies above the transition region, extends out into space without a well-defined outer boundary, and is very faint (about $10^6$ times less intense) compared to the photosphere.  The number density of particles at the corona's base is $\\sim 10^{15}\\:{\\rm particles/m^3}$, whereas the Solar wind has a number density of particles of $\\sim 10^7\\:{\\rm particles/m^3}$ in the vicinity of Earth and the number density of particles in Earth's atmosphere at sea level is $\\sim 10^{25}\\:{\\rm particles/m^3}$.\n",
    "\n",
    "The corona is essentially transparent to most EM radiation (except long radio wavelengths) and is **not** in LTE.  For gases that are not in LTE, a unique temperature is not strictly definable. Temperatures obtained by considering thermal motions, ionization levels, and radio emission do give consistent results.  The presence of Fe XIV lines indicates temperatures in excess of $2\\times 10^6$ K, as do line widths produce by thermal Doppler broadening.  Three structural components exist within the corona:\n",
    "\n",
    "- **K corona** (from *Kontinueirlich* or \"continuous\") produces continuous white light emission that results from photospheric radiation scattered by free electrons.  Contributions from the K corona occur between $1-2.3\\:R_\\odot$ from the Sun's center.  The spectral lines in the photosphere are essentially blended by the large Doppler shifts that are caused by the high thermal velocities of the electrons.\n",
    "\n",
    "- **F corona** (for Fraunhofer) comes from the scattering of photospheric light by dust and grains beyond $2.3\\:R_\\odot$.  Dust grains are more massive (and slower) than electrons, so Doppler broadening is minimal and the Fraunhofer lines are still detectable.  The F corona merges with the fait glow along the ecliptic that is a reflection of sunlight from interplanetary dust and is called **zodiacal light**.\n",
    "\n",
    "- **E corona** is the source of the emission lines of highly ionized atoms throughout the corona.  *The E corona overlaps the K and F coronas.*  The temperatures are extremely high in the corona and the exponential term in the Saha equation encourages ionization.  Very low number densities also encourage ionization since the potential for recombination is reduced.\n",
    "\n",
    "The low number densities in the corona allow *forbidden transitions* to occur from atomic energy levels that are **metastable** (or temporarily stable).  Electron do not readily make transitions from metastable states to lower energy states without assistance from another particle.  Spontaneous forbidden transitions have a lifetime of ~1 s, where the allowed transitions have a life time of $10^{-8}$ s.  In high density gases, electrons escape from metastable states through collisions, but collisions are rare in the corona.  Similar to the 21 cm hydrogen spin-flip transition, some electrons will make spontaneous transitions from metastable states to lower energy states given enough time.\n",
    "\n",
    "The blackbody continuum from the Sun decreases following an inverse square $(1/\\lambda^2)$ for sufficiently long wavelengths and thus, the amount of photospheric radio emission is negligible.  The corona is a source of radio emission, where some of this emission arises from *free-free* transitions as electrons pass near ions.  Due to these encounters, the change in energy of the electron determines the wavelength of the resulting photon through conservation of energy.  Encounters in a higher density region (i.e., nearer to the Sun) result in shorter wavelength photons, where encounters in the chromosphere and lower corona (with much lower density) emit longer wavelength radiation $(1-20\\:{\\rm cm})$.  Synchrotron radiation by relativistic electrons also contributes to the radio emission of the corona.\n",
    "\n",
    "X-ray emissions from the photosphere are also rare, where the blackbody continuum decreases more rapidly (i.e., [Wien approximation](https://saturnaxis.github.io/ModernAstro/Chapter_3/continuous-spectrum-of-light.html#rayleigh-jeans-and-wien-approximation)).  Thus, any X-ray emission from the corona overwhelms the contribution from the photosphere due to its high temperature and low opacity at X-ray wavelengths.  The corona contains a high degree of ionization for all the elements present, where the neutral atoms undergo a large number of transitions.  Each element is capable of producing ans extensive emission spectrum."
   ]
  },
  {
   "cell_type": "markdown",
   "metadata": {},
   "source": [
    "#### Coronal Holes and the Solar Wind\n",
    "Observations show that X-ray emission is non-uniform, where active (bright and hot) regions exist along with the **coronal holes** (darker and cooler regions).  Within the coronal holes, localized bright spots (in X-ray wavelengths) can occur over a timescale of several hours.  A weaker X-ray emission coming from the coronal holes is characteristic of the lower density and temperature of the region.\n",
    "\n",
    "The existence of coronal holes is tied to the Sun's magnetic field and the generation of a *fast* [solar wind](https://en.wikipedia.org/wiki/Solar_wind).  The solar wind consists of a continuous stream of particles escaping from the Sun at speeds of approximately $750\\:{\\rm km/s}$.  A gusty, *slow* solar wind (speeds of about half the fast solar wind) is produced by streamers in the corona associated with closed magnetic fields.\n",
    "\n",
    "The Sun's magnetic field is similar to a dipole (on a global scale), although its value can differ significantly in localized regions and the field strength is typically $\\sim 10^{-4}\\:{\\rm T}$ near the surface (or a factor of few larger than Earth's magnetic field at its surface).  Coronal holes correspond to regions where the magnetic field lines are *open*, while the X-ray bright regions are associated with *closed* field lines.  Closed field lines form loops that return to the Sun, while open field lines extend out to great distances.\n",
    "\n",
    "For charged particles moving in an external magnetic field, the Lorentz force equation applies\n",
    "\n",
    "$$ \\mathbf{F} = q(\\mathbf{E} + \\mathbf{v} \\times \\mathbf{B}), \\tag{2} $$\n",
    "\n",
    "which describes the force $\\mathbf{F}$ exerted on a charged particle $q$ with a velocity $\\mathbf{v}$ in an electric field $\\mathbf{E}$ and magnetic field $\\mathbf{B}$.  Due to the vector cross product, the force is always mutually perpendicular to both the direction of the velocity and magnetic field (i.e., [right-hand rule](https://en.wikipedia.org/wiki/Right-hand_rule)).  Assuming that the electric field is negligible $(E \\ll vB\\sin\\theta$), charged particles are forced to spiral around the magnetic field lines and cannot actually ross them except by collisions.  Closed magnetic field lines tend to trap charged particles, while open field lines allow the particles to travel away from the Sun.  Thus, *the solar wind originates from the coronal holes* (or regions of open magnetic field lines).  The bright regions in X-ray observations are due to the higher densities of charged particles (electrons and ions) that are trapped in large and small magnetic field loops.  A similar mechanism of trapping charged particles in magnetic fields occurs on the Earth through the [auroras](https://en.wikipedia.org/wiki/Aurora) (aurora borealis (northern lights) and aurora australis (southern lights)) and the [Van Allen radiation belts](https://en.wikipedia.org/wiki/Van_Allen_radiation_belt).\n",
    "\n",
    "```{note}\n",
    "The existence of ongoing mass loss from the Sun (i.e., solar wind) was deduced from [comet tails](https://en.wikipedia.org/wiki/Comet_tail), where a radiation pressure coming from the Sun pushes back the dust tail.\n",
    "```\n",
    "\n",
    "The Ulysses spacecraft was placed on an inclined, heliocentric orbit and was still able to detect the solar wind.  At 1 AU, the solar wind velocity ranges from $200-750\\:{\\rm km/s}$ with a typical density of $7\\times10^6\\:{\\rm ions/m^3}$, and characteristic kinetic temperatures of $10^4-10^5$ K for protons and electrons.\n",
    "\n",
    "- **What is the mass loss rate of the Sun?**\n",
    "\n",
    "From the information above, we know the approximate number density of particles at 1 AU and assuming that the mass loss rate is spherically symmetric, then the mass loss is simply the mass density $\\rho$ that can cross a spherical shell of a radius $r$ in a time $t$,\n",
    "\n",
    "$$ dM = \\rho dV = (nm_H)(Av\\:dt) = (nm_H)(4\\pi r^2\\:v\\:dt), $$\n",
    "\n",
    "where the mass density depends on the number density $n$ and particle mass $m_H$ (assumed to be hydrogen).  The mass loss *rate* can be obtained by dividing both sides to get\n",
    "\n",
    "$$\\frac{dM}{dt} = 4\\pi r^2\\:nm_H\\:v. \\tag{3}$$\n",
    "\n",
    "```{note}\n",
    "By convention, stellar mass loss rates are given in *solar masses per year* and the rate is symbolized as $\\dot{M}\\equiv {dM/dt}$.\n",
    "```\n"
   ]
  },
  {
   "cell_type": "code",
   "execution_count": 3,
   "metadata": {},
   "outputs": [
    {
     "name": "stdout",
     "output_type": "stream",
     "text": [
      "The mass loss rate of the Sun is approximately 2.482e-14 M_sun/yr.\n",
      "The entire Sun's mass would be depleted in 4.030e+13 yr.\n"
     ]
    }
   ],
   "source": [
    "import numpy as np \n",
    "from scipy.constants import au, m_p\n",
    "\n",
    "def Mass_loss(r,n,v):\n",
    "    #r = radius of the spherical shell; in m\n",
    "    #n = number density of ions; in ions/m^3\n",
    "    #v = speed of the ions; in m/s\n",
    "    Mdot = (4*np.pi*r**2)*(n*m_p)*v\n",
    "    return Mdot*(365.25*86400)/M_sun #mass loss rate; converted into M_sun/yr\n",
    "\n",
    "M_sun = 1.989e30 #solar mass in kg\n",
    "v_H = 0.5*(750 + 200)*1000 #average particle velocity; converted to m/s\n",
    "r = 1*au #radius of shell; converted to m\n",
    "n = 7e6 #number density of ions; ions/cm^3\n",
    "\n",
    "Sun_loss = Mass_loss(r,n,v_H)\n",
    "print(\"The mass loss rate of the Sun is approximately %1.3e M_sun/yr.\" % Sun_loss)\n",
    "print(\"The entire Sun's mass would be depleted in %1.3e yr.\" % (1/Sun_loss))"
   ]
  },
  {
   "cell_type": "markdown",
   "metadata": {},
   "source": [
    "It would require more than $10^{13}$ yr (or $10^4$ Gyr) before the entire mass of the Sun is dissipated and so the effect of the present-day solar wind negligible compared to the evolution of the Sun's interior."
   ]
  },
  {
   "cell_type": "markdown",
   "metadata": {},
   "source": [
    "#### The Parker Wind Model"
   ]
  },
  {
   "cell_type": "markdown",
   "metadata": {},
   "source": [
    "### The Hydrodynamic Nature of the Upper Solar Atmosphere"
   ]
  },
  {
   "cell_type": "markdown",
   "metadata": {},
   "source": [
    "### Magnetohydrodynamics and Alfv&eacute;n Waves"
   ]
  },
  {
   "cell_type": "markdown",
   "metadata": {},
   "source": [
    "### The Outer Atmospheres of Other Stars"
   ]
  },
  {
   "cell_type": "markdown",
   "metadata": {},
   "source": [
    "### **Problems**"
   ]
  },
  {
   "cell_type": "markdown",
   "metadata": {},
   "source": [
    "## The Solar Cycle\n",
    "\n",
    "### Sunspots"
   ]
  },
  {
   "cell_type": "markdown",
   "metadata": {},
   "source": [
    "### Plages"
   ]
  },
  {
   "cell_type": "markdown",
   "metadata": {},
   "source": [
    "### Solar Flares"
   ]
  },
  {
   "cell_type": "markdown",
   "metadata": {},
   "source": [
    "### Solar Prominences"
   ]
  },
  {
   "cell_type": "markdown",
   "metadata": {},
   "source": [
    "### The Time-Dependent Shape of the Corona\n",
    "\n",
    "### The Magnetic Dynamo Theory\n",
    "\n",
    "### Evidence of Magnetic Activity in Other Stars"
   ]
  },
  {
   "cell_type": "markdown",
   "metadata": {},
   "source": [
    "### **Problems**"
   ]
  }
 ],
 "metadata": {
  "interpreter": {
   "hash": "cd2e115bae0bd8507f53973663b16a6c8b1a6736f2a0b1c5bcd962a446a2698e"
  },
  "kernelspec": {
   "display_name": "Python 3.8.8 64-bit ('base': conda)",
   "language": "python",
   "name": "python3"
  },
  "language_info": {
   "codemirror_mode": {
    "name": "ipython",
    "version": 3
   },
   "file_extension": ".py",
   "mimetype": "text/x-python",
   "name": "python",
   "nbconvert_exporter": "python",
   "pygments_lexer": "ipython3",
   "version": "3.8.8"
  },
  "orig_nbformat": 4
 },
 "nbformat": 4,
 "nbformat_minor": 2
}
