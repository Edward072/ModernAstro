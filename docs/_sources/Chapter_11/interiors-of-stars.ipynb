{
 "cells": [
  {
   "cell_type": "markdown",
   "metadata": {},
   "source": [
    "# The Interiors of Stars"
   ]
  },
  {
   "cell_type": "markdown",
   "metadata": {},
   "source": [
    "## Hydrostatic Equilibrium\n",
    "\n",
    "### Determining the Internal Structures of Stars\n",
    "Astronomers must generate computer models to deduce the detailed internal structure of stars, where these models mus be consistent with the known physical laws and agree with observable surface features.  Much of the theoretical foundation was understood in the first half of the 20th Century, it wasn't until the 1960s that computers were advanced enough to carry out all the calculations.  Although computer modeling and evolutions is a success, there are numerous questions that remain unanswered.\n",
    "\n",
    "The theoretical study of stellar structure shows that stars are dynamic objects that typically change over very slow timescales (compared to us mortals), but some events can be very rapid and dramatic.  Consider the observed energy output of the Sun, which is $3.839 \\times 10^{26}$ J of energy emitted per second.  This energy output would be sufficient to melt a column of ice with a square mile area and 1 AU thick in only 0.3 seconds (assuming 100% absorption efficiency).  Stars have a finite supply of energy, where they must eventually use up their fuel and die.  *Stellar evolution is the result of a constant fight against the relentless pull of gravity.*"
   ]
  },
  {
   "cell_type": "markdown",
   "metadata": {},
   "source": [
    "### The Derivation of the Hydrostatic Equilibrium Equation\n",
    "The gravitational force is always attractive (as opposed to the electrostatic force that has opposite charges).  Therefore, an opposing force (e.g., supplied by pressure) must exist in a star to avoid collapse.  Just like the ocean, the pressure within a star varies with depth.  \n",
    "\n",
    "**Consider a cylinder of mass $dm$ whose base is located a distance $r$ from the center of a spherical star.**  \n",
    "1. The top and bottom of the cylinder each have an area $A$ and the cylinder's height is $dr$.  \n",
    "2. Assume that the only forces acting on the cylinder are *gravity* and the *force due to pressure*, which is always normal (radially) to the top and bottom cylinder surface.  \n",
    "3. These forces also vary with the cylinder's distance from the center of the star.\n",
    "\n",
    "\n",
    "Using Newton's second law $\\mathbf{F} = m\\mathbf{a}$, we have the net force along the central axis of the cylinder:\n",
    "\n",
    "$$ dm \\frac{d^2r}{dt^2} = F_g + F_{p,top} + F_{p,bot}, $$\n",
    "\n",
    "where the gravitational force $F_g$ and pressure force on the top of the cylinder $F_{p,top}$ are directed inward (i.e., $F<0$), while the pressure force on the bottom $F_{p,bot}$ of the cylinder is directed upward (i.e., $F_{p,bot}>0$).  The pressure forces on the *curved* side of the cylinder will cancel due to symmetry and have been explicitly excluded from the expression.\n",
    "\n",
    "The pressure force at the top and bottom of the cylinder are at different depths, and we can write a differential pressure force $-dF_p = F_{p,bot}+F_{p,top}$.  Then the equation from Newton's second law can be rewritten as:\n",
    "\n",
    "$$ dm \\frac{d^2r}{dt^2} = F_g - dF_p. \\tag{1}$$\n",
    "\n",
    "The gravitational force on a small mass $dm$ located at a distance $r$ from the center of a spherically symmetric mass is\n",
    "\n",
    "$$ F_g = -\\frac{G M_r dm}{r^2}, \\tag{2}$$\n",
    "\n",
    "which depends on the mass $M_r$ inside the sphere of radius $r$ (i.e., the interior mass).  The pressure is defined as teh amount of force per unit area ($P\\equiv F/A$), where a pressure differential $dP$ can be expressed as\n",
    "\n",
    "$$ dF_p = A dP. \\tag{3} $$\n",
    "\n",
    "Substituting Eqns. 2 & 3 into Eqn. 1 produces\n",
    "\n",
    "$$ dm\\frac{d^2 r}{dt^2} = -\\frac{G M_r dm}{r^2} - A dP. \\tag{4}$$\n",
    "\n",
    "The volume of a cylinder is product of the area $A$ of the base with the height $dr$, where the density of material enclosed $\\rho$ is the differential mass $dm$ divided by the volume.  The differential mass can be given as\n",
    "\n",
    "$$ dm = \\rho A dr, $$\n",
    "\n",
    "and a substitution into Eqn. 4 becomes\n",
    "\n",
    "$$ \\rho A dr \\frac{d^2r}{dt^2} = -\\frac{G M_r \\rho A dr}{r^2} - A dP. $$\n",
    "\n",
    "Normalizing by the volume of the cylinder produces\n",
    "\n",
    "$$ \\rho \\frac{d^2}{dt^2} = -\\frac{G M_r \\rho}{r^2} - \\frac{dP}{dr}, \\tag{5} $$\n",
    "\n",
    "which is the equation for the radial motion of the cylinder.  For the hydrostatic case (i.e., $\\mathbf{a}=0$), the radial motion equation becomes\n",
    "\n",
    "$$ \\frac{dP}{dr} = -\\frac{G M_r \\rho}{r^2} = -\\rho g, \\tag{6}$$\n",
    "\n",
    "where the local acceleration of gravity (at a radius $r$) is $g\\equiv GM_r/r^2$.\n",
    "\n",
    "The condition of **hydrostatic equilibrium** represents a fundamental equation of stellar structure for spherically symmetric objects with negligible accelerations.  A **pressure gradient** $dP/dr$ must exit to counteract the gravitational force.  It is not the pressure that supports a star, but the *change in pressure with radius*.  The pressure must decrease with increasing radius so that the pressure is necessarily larger within the interior as compared to near the surface.\n",
    "\n",
    "- **What is an estimate of the pressure at the center of the Sun?**\n",
    "\n",
    "A very crude estimate can be made, if we assume that $M_r = 1 M_\\odot$, $r=1 R\\odot$, $\\rho = \\bar{\\rho}_\\odot = 1410 \\:{\\rm kg/m^3}$, and the surface pressure is exactly zero.  Converting the differential equation for pressure into a difference equation yields\n",
    "\n",
    "$$ \\frac{dP}{dr} \\sim \\frac{P_s - P_c}{R_s - 0} \\sim -\\frac{P_c}{R_\\odot}, $$\n",
    "\n",
    "which depends on the central pressure $P_c$.  Substituting into Eqn. 6 provides an estimate of the central pressure as\n",
    "\n",
    "$$ P_c \\sim \\frac{G M_\\odot \\bar{\\rho}_\\odot}{R_\\odot} \\sim 2.69 \\times 10^{14} \\:{\\rm N/m^2}. $$"
   ]
  },
  {
   "cell_type": "code",
   "execution_count": 3,
   "metadata": {},
   "outputs": [
    {
     "name": "stdout",
     "output_type": "stream",
     "text": [
      "The estimated central pressure is 2.69e+14 N/m^2\n"
     ]
    }
   ],
   "source": [
    "GM_sun = 1.3271244e20 #GM_sun from astropy in m^3/s^2\n",
    "R_sun = 6.957e8 #solar radius in m\n",
    "rho_sun = 1410 #solar density in kg/m^3\n",
    "\n",
    "P_c = GM_sun*rho_sun/R_sun\n",
    "print(\"The estimated central pressure is %1.2e N/m^2\" % P_c)"
   ]
  },
  {
   "cell_type": "markdown",
   "metadata": {},
   "source": [
    "\n",
    "\n",
    "A more rigorous calculation requires the integration of the hydrostatic equilibrium equation, where a functional form of the mass distribution ($M_r$ and $\\rho$) is needed.  Unfortunately, explicit expression s are not available.  A standard solar model gives a central pressure of $2.34 \\times 10^{16}\\:{\\rm N/m^2}$, which is $\\sim 100 \\times$ larger than our crude estimate because there is an increased density near the center of the Sun.  Using $1.13 \\times 10^5 \\:{N/m^2}$ for Earth's atmospheric pressure, the more realistic model of the Sun's interior predicts a central pressure of $2.3 \\times 10^{11}$ atm.\n"
   ]
  },
  {
   "cell_type": "markdown",
   "metadata": {},
   "source": [
    "### The Equation of Mass Conservation"
   ]
  },
  {
   "cell_type": "markdown",
   "metadata": {},
   "source": [
    "### **Problems**"
   ]
  },
  {
   "cell_type": "markdown",
   "metadata": {},
   "source": [
    "## Pressure Equation of State\n",
    "\n",
    "### The Derivation of the Pressure Integral"
   ]
  },
  {
   "cell_type": "markdown",
   "metadata": {},
   "source": [
    "### The Ideal Gas Law in Terms of the Mean Molecular Weight"
   ]
  },
  {
   "cell_type": "markdown",
   "metadata": {},
   "source": [
    "### The Average Kinetic Energy per Particle\n",
    "\n",
    "### Fermi-Dirac and Bose-Einstein Statistics"
   ]
  },
  {
   "cell_type": "markdown",
   "metadata": {},
   "source": [
    "### The Contribution Due to Radiation Pressure"
   ]
  },
  {
   "cell_type": "markdown",
   "metadata": {},
   "source": [
    "### **Problems**"
   ]
  },
  {
   "cell_type": "markdown",
   "metadata": {},
   "source": [
    "## Stellar Energy Sources\n",
    "\n",
    "### Gravitation and the Kelvin-Helmholtz Timescale"
   ]
  },
  {
   "cell_type": "markdown",
   "metadata": {},
   "source": [
    "### The Nuclear Timescale"
   ]
  },
  {
   "cell_type": "markdown",
   "metadata": {},
   "source": [
    "### Quantum Mechanical Tunneling"
   ]
  },
  {
   "cell_type": "markdown",
   "metadata": {},
   "source": [
    "### Nuclear Reaction Rates and the Gamow Peak"
   ]
  },
  {
   "cell_type": "markdown",
   "metadata": {},
   "source": [
    "### Electron Screening"
   ]
  },
  {
   "cell_type": "markdown",
   "metadata": {},
   "source": [
    "### Representing Nuclear Reaction Rates Using Power Laws\n",
    "\n",
    "### The Luminosity Gradient Equation"
   ]
  },
  {
   "cell_type": "markdown",
   "metadata": {},
   "source": [
    "### Stellar Nucleosynthesis and Conservation Laws"
   ]
  },
  {
   "cell_type": "markdown",
   "metadata": {},
   "source": [
    "### The Proton-Proton Chain"
   ]
  },
  {
   "cell_type": "markdown",
   "metadata": {},
   "source": [
    "### The CNO Cycle"
   ]
  },
  {
   "cell_type": "markdown",
   "metadata": {},
   "source": [
    "### The Triple Alpha Process of Helium Burning\n",
    "\n",
    "### Carbon and Oxygen Burning"
   ]
  },
  {
   "cell_type": "markdown",
   "metadata": {},
   "source": [
    "### The Binding Energy per Nucleon"
   ]
  },
  {
   "cell_type": "markdown",
   "metadata": {},
   "source": [
    "### **Problems**"
   ]
  },
  {
   "cell_type": "markdown",
   "metadata": {},
   "source": [
    "## Energy Transport and Thermodynamics\n",
    "\n",
    "### Three Energy Transport Mechanisms\n",
    "\n",
    "### The Radiative Temperature Gradient\n",
    "\n",
    "### The Pressure Scale Height"
   ]
  },
  {
   "cell_type": "markdown",
   "metadata": {},
   "source": [
    "### Internal Energy and the First Law of Thermodynamics\n",
    "\n",
    "### Specific Heats\n",
    "\n",
    "### The Adiabatic Gas Law\n",
    "\n",
    "### The Adiabatic Sound Speed\n",
    "\n",
    "### The Adiabatic Temperature Gradient"
   ]
  },
  {
   "cell_type": "markdown",
   "metadata": {},
   "source": [
    "### A Criterion for Stellar Convection"
   ]
  },
  {
   "cell_type": "markdown",
   "metadata": {},
   "source": [
    "### The Mixing-Length Theory of Superadiabatic Convection"
   ]
  },
  {
   "cell_type": "markdown",
   "metadata": {},
   "source": [
    "### **Problems**"
   ]
  },
  {
   "cell_type": "markdown",
   "metadata": {},
   "source": [
    "## Stellar Model Building\n",
    "\n",
    "### A Summary of The Equations of Stellar Structure\n",
    "\n",
    "### Entropy\n",
    "\n",
    "### The Constitutive Relations\n",
    "\n",
    "### Boundary Conditions\n",
    "\n"
   ]
  },
  {
   "cell_type": "markdown",
   "metadata": {},
   "source": [
    "### The Vogt-Russell Theorem"
   ]
  },
  {
   "cell_type": "markdown",
   "metadata": {},
   "source": [
    "### Numerical Modeling of the Stellar Structure Equations"
   ]
  },
  {
   "cell_type": "markdown",
   "metadata": {},
   "source": [
    "### Polytropic Models and the Lane-Emden Equation"
   ]
  },
  {
   "cell_type": "markdown",
   "metadata": {},
   "source": [
    "### **Problems**"
   ]
  },
  {
   "cell_type": "markdown",
   "metadata": {},
   "source": [
    "## The Main Sequence\n",
    "\n",
    "### The Eddington Luminosity Limit"
   ]
  },
  {
   "cell_type": "markdown",
   "metadata": {},
   "source": [
    "### Variations of Main-Sequence Stellar Parameters with Mass"
   ]
  },
  {
   "cell_type": "markdown",
   "metadata": {},
   "source": [
    "### **Problems**"
   ]
  }
 ],
 "metadata": {
  "interpreter": {
   "hash": "cff387fdeb90e4ccced9dcd80621bb508127aaf7364e37afa52690e3819a2639"
  },
  "kernelspec": {
   "display_name": "Python 3.8.8 ('base')",
   "language": "python",
   "name": "python3"
  },
  "language_info": {
   "codemirror_mode": {
    "name": "ipython",
    "version": 3
   },
   "file_extension": ".py",
   "mimetype": "text/x-python",
   "name": "python",
   "nbconvert_exporter": "python",
   "pygments_lexer": "ipython3",
   "version": "3.8.8"
  },
  "orig_nbformat": 4
 },
 "nbformat": 4,
 "nbformat_minor": 2
}
