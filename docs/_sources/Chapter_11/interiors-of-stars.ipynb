{
 "cells": [
  {
   "cell_type": "markdown",
   "metadata": {},
   "source": [
    "# The Interiors of Stars"
   ]
  },
  {
   "cell_type": "markdown",
   "metadata": {},
   "source": [
    "## Hydrostatic Equilibrium\n",
    "\n",
    "### Determining the Internal Structures of Stars\n",
    "Astronomers must generate computer models to deduce the detailed internal structure of stars, where these models mus be consistent with the known physical laws and agree with observable surface features.  Much of the theoretical foundation was understood in the first half of the 20th Century, it wasn't until the 1960s that computers were advanced enough to carry out all the calculations.  Although computer modeling and evolutions is a success, there are numerous questions that remain unanswered.\n",
    "\n",
    "The theoretical study of stellar structure shows that stars are dynamic objects that typically change over very slow timescales (compared to us mortals), but some events can be very rapid and dramatic.  Consider the observed energy output of the Sun, which is $3.839 \\times 10^{26}$ J of energy emitted per second.  This energy output would be sufficient to melt a column of ice with a square mile area and 1 AU thick in only 0.3 seconds (assuming 100% absorption efficiency).  Stars have a finite supply of energy, where they must eventually use up their fuel and die.  *Stellar evolution is the result of a constant fight against the relentless pull of gravity.*"
   ]
  },
  {
   "cell_type": "markdown",
   "metadata": {},
   "source": [
    "### The Derivation of the Hydrostatic Equilibrium Equation\n",
    "The gravitational force is always attractive (as opposed to the electrostatic force that has opposite charges).  Therefore, an opposing force (e.g., supplied by pressure) must exist in a star to avoid collapse.  Just like the ocean, the pressure within a star varies with depth.  \n",
    "\n",
    "**Consider a cylinder of mass $dm$ whose base is located a distance $r$ from the center of a spherical star.**  \n",
    "1. The top and bottom of the cylinder each have an area $A$ and the cylinder's height is $dr$.  \n",
    "2. Assume that the only forces acting on the cylinder are *gravity* and the *force due to pressure*, which is always normal (radially) to the top and bottom cylinder surface.  \n",
    "3. These forces also vary with the cylinder's distance from the center of the star.\n",
    "\n",
    "\n",
    "Using Newton's second law $\\mathbf{F} = m\\mathbf{a}$, we have the net force along the central axis of the cylinder:\n",
    "\n",
    "$$ dm \\frac{d^2r}{dt^2} = F_g + F_{p,top} + F_{p,bot}, $$\n",
    "\n",
    "where the gravitational force $F_g$ and pressure force on the top of the cylinder $F_{p,top}$ are directed inward (i.e., $F<0$), while the pressure force on the bottom $F_{p,bot}$ of the cylinder is directed upward (i.e., $F_{p,bot}>0$).  The pressure forces on the *curved* side of the cylinder will cancel due to symmetry and have been explicitly excluded from the expression.\n",
    "\n",
    "The pressure force at the top and bottom of the cylinder are at different depths, and we can write a differential pressure force $-dF_p = F_{p,bot}+F_{p,top}$.  Then the equation from Newton's second law can be rewritten as:\n",
    "\n",
    "$$ dm \\frac{d^2r}{dt^2} = F_g - dF_p. \\tag{1}$$\n",
    "\n",
    "The gravitational force on a small mass $dm$ located at a distance $r$ from the center of a spherically symmetric mass is\n",
    "\n",
    "$$ F_g = -\\frac{G M_r dm}{r^2}, \\tag{2}$$\n",
    "\n",
    "which depends on the mass $M_r$ inside the sphere of radius $r$ (i.e., the interior mass).  The pressure is defined as the amount of force per unit area ($P\\equiv F/A$), where a pressure differential $dP$ can be expressed as\n",
    "\n",
    "$$ dF_p = A dP. \\tag{3} $$\n",
    "\n",
    "Substituting Eqns. 2 & 3 into Eqn. 1 produces\n",
    "\n",
    "$$ dm\\frac{d^2 r}{dt^2} = -\\frac{G M_r dm}{r^2} - A dP. \\tag{4}$$\n",
    "\n",
    "The volume of a cylinder is product of the area $A$ of the base with the height $dr$, where the density of material enclosed $\\rho$ is the differential mass $dm$ divided by the volume.  The differential mass can be given as\n",
    "\n",
    "$$ dm = \\rho A dr, \\tag{4.5}$$\n",
    "\n",
    "and a substitution into Eqn. 4 becomes\n",
    "\n",
    "$$ \\rho A dr \\frac{d^2r}{dt^2} = -\\frac{G M_r \\rho A dr}{r^2} - A dP. $$\n",
    "\n",
    "Normalizing by the volume of the cylinder produces\n",
    "\n",
    "$$ \\rho \\frac{d^2}{dt^2} = -\\frac{G M_r \\rho}{r^2} - \\frac{dP}{dr}, \\tag{5} $$\n",
    "\n",
    "which is the equation for the radial motion of the cylinder.  For the hydrostatic case (i.e., $\\mathbf{a}=0$), the radial motion equation becomes\n",
    "\n",
    "$$ \\frac{dP}{dr} = -\\frac{G M_r \\rho}{r^2} = -\\rho g, \\tag{6}$$\n",
    "\n",
    "where the local acceleration of gravity (at a radius $r$) is $g\\equiv GM_r/r^2$.\n",
    "\n",
    "The condition of **hydrostatic equilibrium** represents a fundamental equation of stellar structure for spherically symmetric objects with negligible accelerations.  A **pressure gradient** $dP/dr$ must exit to counteract the gravitational force.  It is not the pressure that supports a star, but the *change in pressure with radius*.  The pressure must decrease with increasing radius so that the pressure is necessarily larger within the interior as compared to near the surface.\n",
    "\n",
    "- **What is an estimate of the pressure at the center of the Sun?**\n",
    "\n",
    ">A very crude estimate can be made, if we assume that $M_r = 1 M_\\odot$, $r=1 R_\\odot$, $\\rho = \\overline{\\rho}_\\odot = 1410 \\:{\\rm kg/m^3}$, and the surface pressure is >exactly zero.  Converting the differential equation for pressure into a difference equation yields\n",
    ">\n",
    ">$$ \\frac{dP}{dr} \\sim \\frac{P_s - P_c}{R_s - 0} \\sim -\\frac{P_c}{R_\\odot}, $$\n",
    ">\n",
    ">which depends on the central pressure $P_c$.  Substituting into Eqn. 6 provides an estimate of the central pressure as\n",
    ">\n",
    ">$$ P_c \\sim \\frac{G M_\\odot \\overline{\\rho}_\\odot}{R_\\odot} \\sim 2.69 \\times 10^{14} \\:{\\rm N/m^2}. $$"
   ]
  },
  {
   "cell_type": "code",
   "execution_count": 3,
   "metadata": {},
   "outputs": [
    {
     "name": "stdout",
     "output_type": "stream",
     "text": [
      "The estimated central pressure is 2.69e+14 N/m^2\n"
     ]
    }
   ],
   "source": [
    "GM_sun = 1.3271244e20 #GM_sun from astropy in m^3/s^2\n",
    "R_sun = 6.957e8 #solar radius in m\n",
    "rho_sun = 1410 #solar density in kg/m^3\n",
    "\n",
    "P_c = GM_sun*rho_sun/R_sun\n",
    "print(\"The estimated central pressure is %1.2e N/m^2\" % P_c)"
   ]
  },
  {
   "cell_type": "markdown",
   "metadata": {},
   "source": [
    "\n",
    "\n",
    "A more rigorous calculation requires the integration of the hydrostatic equilibrium equation, where a functional form of the mass distribution ($M_r$ and $\\rho$) is needed.  Unfortunately, explicit expression s are not available.  A standard solar model gives a central pressure of $2.34 \\times 10^{16}\\:{\\rm N/m^2}$, which is $\\sim 100 \\times$ larger than our crude estimate because there is an increased density near the center of the Sun.  Using $1.13 \\times 10^5 \\:{N/m^2}$ for Earth's atmospheric pressure, the more realistic model of the Sun's interior predicts a central pressure of $2.3 \\times 10^{11}$ atm.\n"
   ]
  },
  {
   "cell_type": "markdown",
   "metadata": {},
   "source": [
    "### The Equation of Mass Conservation\n",
    "Instead of using cylindrical symmetry, a relationship involving mass, radius, and density can be derived for *spherical symmetry* using Eqn. 4.5. \n",
    "\n",
    "**Consider a *shell* of mass $dM_r$ and thickness $dr$ located a distance $r$ from the center of the shell.**\n",
    "\n",
    "1. Assume that the shell is sufficiently thin (i.e., $dr \\ll r$).\n",
    "2. The volume of the shell is approximately $dV = A dr = 4\\pi r^2\\:dr$.\n",
    "\n",
    "Using the relation for density $\\rho = M/V$, we arrive at the **mass conservation equation**,\n",
    "\n",
    "$$ \\frac{dM_r}{dr} = 4\\pi r^2 \\rho, \\tag{7} $$\n",
    "\n",
    "which describes the mass distribution (i.e., changes in mass with radius) within a star."
   ]
  },
  {
   "cell_type": "markdown",
   "metadata": {},
   "source": [
    "### **Problems**\n",
    ">1\\. Show that the equation for hydrostatic equilibrium (Eqn. 6) can also be written in terms of the optical depth $\\tau$, as \n",
    ">$$ \\frac{dP}{d\\tau} = \\frac{g}{\\overline{\\kappa}}."
   ]
  },
  {
   "cell_type": "markdown",
   "metadata": {},
   "source": [
    "## Pressure Equation of State\n",
    "A gas has a several physical properties (mass, density, temperature, pressure, and volume) that describe how it currently exists (i.e., state).  The state of a gas represents a macroscopic manifestation of the particle interactions and it is necessary to derive a pressure **equation of state** of the gas.  One well-known example of a pressure equation of state is the **ideal gas law**, which is often expressed as\n",
    "\n",
    "$$ PV = NkT = nRT, $$\n",
    "\n",
    "which relates the gas pressure $P$, volume $V$, and temperature $T$ to the number of particles $N$ (or $n$) and the Boltzmann constant $k$ (or gas constant $R$).  The ideal gas law is limited to specific environments, where in astrophysical problems it is necessary to have a pressure equation of state that is more general.\n",
    "\n",
    "### The Derivation of the Pressure Integral\n",
    "The pressure of a gas is the force per area exerted on the walls of its container due to collisions.\n",
    "\n",
    "**Consider a gas-containing cylinder of length $\\Delta x$ and ends with a cross-sectional area $A$.  The gas is composed of point particles, each of mass $m$, that interact through *perfectly* elastic collisions.**\n",
    "\n",
    "1. The gas exerts a pressure on one of the ends of the container.\n",
    "2. The impact of an individual particle on the container wall is described through a change in momentum.\n",
    "3. Newton's 2nd ($\\mathbf{F}=d\\mathbf{p}/dt$) and 3rd laws can be applied.\n",
    "\n",
    "For a perfectly elastic collision, the angle of incidence equals the angle of reflection and we define a reference that is normal to the wall at the point of impact.  Then the particle approaches the wall in the positive $x$-direction and rebounds along the negative $x$-direction.  From Newton's 3rd law, the *impulse* $\\mathbf{F}\\Delta t$ delivered to the wall is just the negative of the change in momentum of the particle, or\n",
    "\n",
    "$$ \\mathbf{F} \\Delta t = - \\Delta p = 2p_x \\hat{\\mathbf{i}}, $$\n",
    "\n",
    "using the $x$-component of the particle's initial momentum $p_x$.  The average force exerted by the particle per time interval can be determined by the time interval between collision.  The (shortest) time interval $\\Delta t$ is obtained when the particle traverses the length of the cylinder twice before returning for a second reflection, which is \n",
    "\n",
    "$$ \\Delta t = \\frac{2\\Delta x}{v_x}, $$\n",
    "\n",
    "so the average force exerted on the wall by a single particle over that time period is given by\n",
    "\n",
    "$$ F = \\frac{2p_x}{\\Delta t} = \\frac{p_x v_x}{\\Delta x}, $$\n",
    "\n",
    "where it is assumed that the force vector is normal to the surface.  The numerator is proportional to $v_x^2$ because $p_x \\propto v_x$.  For a sufficiently large collection of particles in random motion, the likelihood of motion in each direction is the same (i.e., $\\overline{v}_x^2 = \\overline{v}_y^2 = \\overline{v}_z^2= v^2/3$) so that $v_x \\approx v/\\sqrt{3}$ and $p_x v_x = pv/3$.  The average force per particle having a momentum $p$ is\n",
    "\n",
    "$$ F(p) = \\frac{pv}{3\\Delta x}. $$\n",
    "\n",
    "However, it is usually the case that the particles have a range of momenta (i.e., range of incident angles).  The number of particles with momenta between $p$ and $p + dp$ (similar to the Maxwell-Boltzmann distribution) is given by the expression $N_p\\:dp$ and the total number of particles in the container is\n",
    "\n",
    "$$ N = \\int_0^\\infty N_p\\:dp. $$\n",
    "\n",
    "The contribution to the total force $dF(p)$ by *all* the particles in a momentum range is\n",
    "\n",
    "$$ dF(p) = F(p)N_p\\:dp = \\frac{N_p}{3\\Delta x}pv\\:dp. $$\n",
    "\n",
    "The sum of all the forces (i.e., integrating over all the possible momenta) exerted by particle collisions is\n",
    "\n",
    "$$ F = \\frac{1}{3} \\int_0^\\infty \\frac{N_p}{\\Delta x}pv\\:dp. $$\n",
    "\n",
    "Normalizing the force exerted on the wall by the surface area $A$ is the pressure on the surface.  The volume of a cylinder is $\\Delta V = A \\Delta x$ and defining $n_p dp$ as the number fo particles *per unit volume* having a momenta within the range of $p$ and $p+dp$ can be written as\n",
    "\n",
    "$$ n_p\\:dp \\equiv \\frac{N_p}{\\Delta V}dp, $$\n",
    "\n",
    "and we find the pressure exerted on the wall is\n",
    "\n",
    "$$ P = \\frac{F}{A} = \\frac{1}{3} \\int_0^\\infty n_p pv\\:dp. \\tag{8} $$\n",
    "\n",
    "Equation 8 is sometimes called the **pressure integral**, which allows us to compute the pressure given some *distribution function* $n_p dp$."
   ]
  },
  {
   "cell_type": "markdown",
   "metadata": {},
   "source": [
    "### The Ideal Gas Law in Terms of the Mean Molecular Weight\n",
    "The pressure integral is valid for massive and *massless* particles (i.e., photons) traveling at any speed.  For massive, nonrelativistic particles, we can use $p=mv$ to write the pressure integral as\n",
    "\n",
    "$$ P = \\frac{1}{3}\\int_0^\\infty n_vmv^2\\:dv, \\tag{9} $$\n",
    "\n",
    "where $n_v\\:dv$ is the number of particles *per unit volume* having speeds between $v$ and $v+dv$ (i.e., $n_v\\:dv = n_p\\:dp$).  In the case of an ideal gas, $n_v\\:dv$ is the [Maxwell-Boltzmann velocity distribution](https://saturnaxis.github.io/ModernAstro/Chapter_8/classification-of-stellar-spectra.html#the-maxwell-boltzmann-velocity-distribution),\n",
    "\n",
    "$$ n_v\\:dv = n \\left(\\frac{m}{2\\pi kT}\\right)^{3/2} e^{-(mv^2)/(2kT)}\\:4\\pi v^2\\:dv, $$\n",
    "\n",
    "where $n$ is the total particle density for all velocities.  Substituting into the pressure integral gives\n",
    "\n",
    "$$ P = \\frac{4\\pi}{3}mn\\int_0^\\infty \\left(\\frac{m}{2\\pi kT}\\right)^{3/2} e^{-(mv^2)/(2kT)} v^2\\:dv = nkT \\tag{10}$$\n",
    "\n",
    "using a [table of definite integrals](https://en.wikipedia.org/wiki/List_of_definite_integrals).\n",
    "\n",
    "In astrophysical situations, the ideal gas law is more convenient in a different form because stars are measured in terms of the mass fractions (X, Y, and Z).  Starting with the particle density $n$, it can be related to the mass density of the gas as\n",
    "\n",
    "$$ n = \\frac{\\rho}{\\overline{m}}, $$\n",
    "\n",
    "which now depends on the average mass $\\overline{m}$ of a gas particle since the particles masses can vary.  Then the ideal gas law becomes\n",
    "\n",
    "$$ P_g = \\frac{\\rho}{\\overline{m}}kT. $$\n",
    "\n",
    "The **mean molecular weight** is defined as\n",
    "\n",
    "$$ \\mu \\equiv \\frac{\\overline{m}}{m_H}, $$\n",
    "\n",
    "which scales the average mass by the mass of the hydrogen atom (essentially the mass of the proton).  Then, the ideal gas law can be written in terms of the mean molecular weight $\\mu$ as\n",
    "\n",
    "$$ P_g = \\frac{\\rho}{\\mu m_H}kT. \\tag{11} $$\n",
    "\n",
    "The mean molecular weight also depends on the ionization state of each molecular species, where the level of ionization enters because free electrons must be included in the average mass per particle $\\overline{m}$.  This would require a detailed analysis using the Saha equation to calculate the relative numbers of ionization states, but it is easier when the gas is either completely neutral or completely ionized.  For a completely neutral gas,\n",
    "\n",
    "$$ \\overline{m}_n = \\frac{\\sum_j N_j m_j}{\\sum_j N_j}, \\tag{12}$$\n",
    "\n",
    "which depends on the mass and the total number of atoms (present in the gas) of type $j$ denoted by $m_j$ and $N_j$, respectively.  Normalizing each mass by the mass of a hydrogen atom $m_H$ ($A_j \\equiv m_j/m_H$) produces\n",
    "\n",
    "$$ \\mu_n = \\frac{\\sum_j N_j A_j}{\\sum_j N_j}, $$\n",
    "\n",
    "and a similar expression can be derived for a completely ionized gas as \n",
    "\n",
    "$$  \\mu_i = \\frac{\\sum_j N_j A_j}{\\sum_j N_j (1+z_j)}, $$\n",
    "\n",
    "where the number of free electrons are accounted for using the $(1+z_j)$ factor.  by inverting the expression for $\\overline{m}$, it is possible to derive an alternate equation for $\\mu$ in terms of the mass fractions.  Recall that $\\overline{m} =\\mu m_H$ and using Eqn. 12 gives,\n",
    "\n",
    "$$ \\begin{align*} \\frac{1}{\\overline{m}} &= \\frac{1}{\\mu m_H} = \\frac{\\sum_j N_j}{ \\sum_j N_j m_j} \\\\\n",
    " &= \\frac{\\rm total\\:number\\:of\\:particles}{\\rm total\\:mass\\:of\\:gas} \\\\\n",
    " &= \\sum_j \\frac{{\\rm total\\:number\\:of\\:particles\\:from\\:}j}{{\\rm total\\:particles\\:from\\:}j} \\cdot \\frac{{\\rm mass\\:of\\:particles\\:from\\:}j}{{\\rm total\\:mass\\:of\\:gas}},\n",
    "\\end{align*}$$\n",
    "\n",
    "and using the chain rule.  The second term in the summation is simply the mass fraction $X_j$ (i.e., mass of particles from $j$ divided by the total mass of the gas).  Through substitution,\n",
    "\n",
    "$$ \\frac{1}{\\overline{m}} = \\sum_j \\frac{N_j}{N_j A_j m_H}X_j = \\sum_j \\frac{1}{A_j m_H}X_j. $$\n",
    "\n",
    "Solving for $1/\\mu_n$, we have \n",
    "\n",
    "$$ \\frac{1}{\\mu_n} = \\sum_j \\frac{1}{A_j}X_j. \\tag{13}$$\n",
    "\n",
    "For a neutral gas,\n",
    "\n",
    "$$ \\frac{1}{\\mu_n} \\simeq X + \\frac{1}{4}Y + \\left\\langle \\frac{1}{A} \\right\\rangle_n Z, \\tag{14} $$\n",
    "\n",
    "where the weighted average of all elements in the gas heavier than helium is $\\langle 1/A\\rangle_n$ and for solar abundances this is approximately 1/15.5 or 0.0645.\n",
    "\n",
    "The mean molecular weight for an completely ionized gas can be determined in a similar way, where it is only necessary to include the *total* number of particles contained in the sample because the number of free electrons matches the number of protons.  For a completely ionized gas, Eqn 13 becomes\n",
    "\n",
    "$$ \\frac{1}{\\mu_i} \\sum_j \\frac{1+z_j}{A_j}X_j, \\tag{15} $$\n",
    "\n",
    "and including hydrogen and helium explicitly for Eqn. 15 produces\n",
    "\n",
    "$$ \\frac{1}{\\mu_i} \\simeq 2X + \\frac{3}{4}Y + \\left\\langle \\frac{1+z}{A} \\right\\rangle_i Z. \\tag{16} $$\n",
    "\n",
    "For elements much heavier than helium, $1+z_j \\simeq z_j$ and $A_j \\simeq 2z_j$, since the number of protons in the atom is much larger than 1 and that sufficiently massive atoms have approximately equal numbers of nucleons (i.e., protons and neutrons).  Through substitution, we find\n",
    "\n",
    "$$  \\left\\langle \\frac{1+z}{A} \\right\\rangle_i \\simeq \\left\\langle \\frac{z}{2z} \\right\\rangle_i = \\frac{1}{2}. $$\n",
    "\n",
    "Using a composition representative of younger stars (X = 0.70, Y = 0.28, and Z = 0.02), the mean molecular weights are $\\mu_n = 1.30$ and $\\mu_i = 0.62$."
   ]
  },
  {
   "cell_type": "markdown",
   "metadata": {},
   "source": [
    "### The Average Kinetic Energy per Particle\n",
    "Combining Eqn. 10 with the pressure integral (Eqn. 9) produces the average kinetic energy per particle as\n",
    "\n",
    "$$ nkT = \\frac{1}{3} \\int_0^\\infty mn_v\\:v^2\\:dv, $$\n",
    "\n",
    "which can be rewritten to give\n",
    "\n",
    "$$ \\frac{1}{n} \\int_0^\\infty n_v\\:v^2\\:dv = \\frac{3}{m}kT. $$\n",
    "\n",
    "The left-hand side is just the integral average of $v^2$ weighted by Maxwell-Boltzmann distribution function.  Thus\n",
    "\n",
    "$$ \\overline{v^2} = \\frac{3kT}{m}, $$\n",
    "\n",
    "or\n",
    "\n",
    "$$ \\frac{1}{2}m\\overline{v^2} = \\frac{3}{2}kT. \\tag {17}$$\n",
    "\n",
    "```{note}\n",
    "The factor of 3 arose from averaging particle velocities over the three *degrees of freedom* (or coordinate directions).  Each degree of freedom contributes $\\frac{1}{2}kT$ to the average kinetic energy.\n",
    "```"
   ]
  },
  {
   "cell_type": "markdown",
   "metadata": {},
   "source": [
    "### The Contribution Due to Radiation Pressure\n",
    "Photons possess momentum $(p=h\\nu/c)$ and are capable of delivering an impulse to other particles during absorption or reflection.  Electromagnetic radiation consists of a bundle of photons with a range of energies (and frequency \\nu).  The pressure integral (Eqn. 8) is written in terms of momenta and thus, we can rederive the expression for radiation pressure using the pressure integral.  Note that the pressure integral also depends on the velocity $v$, but this dependence is removed if we substitute the speed of light for the velocity.  We also assume an identity for the distribution function, $n_p dp = n_\\nu d\\nu$ so that the pressure integral becomes\n",
    "\n",
    "$$ P_{rad} = \\frac{1}{3}\\int_0^\\infty h\\nu\\:n_\\nu d\\nu. $$\n",
    "\n",
    "The expression $n_\\nu d\\nu$ represents a distribution function that describes the number of photons with a frequency that lies between $\\nu$ and $\\nu + d\\nu$.  Multiplying by the energy for each photon results in $h\\nu n_\\nu d\\nu$, or the energy density $u_\\nu$ over the frequency integral, so that \n",
    "\n",
    "$$ P_{rad} = \\frac{1}{3}\\int_0^\\infty u_\\nu d\\nu. \\tag{18}$$\n",
    "\n",
    "Recall the Eqn. 6 from the [specific energy density](https://saturnaxis.github.io/ModernAstro/Chapter_9/stellar-atmospheres.html#the-specific-energy-density) section from Stellar Atmospheres provides the integral of the energy density as\n",
    "\n",
    "$$ u = \\frac{4\\sigma}{c}T^4 = a T^4, $$\n",
    "\n",
    "and the radiation pressure is \n",
    "\n",
    "$$ P_{rad} = \\frac{1}{3}a T^4. \\tag{19} $$\n",
    "\n",
    "The photon pressure can actually exceed the gas pressure by a significant amount and even surpass the gravitational force (e.g., variable stars).  The full pressure of the stellar interior can written by combining the contributions from an ideal gas (Eqn. 11) and the radiation pressure (Eqn. 19) as\n",
    "\n",
    "$$P_t = \\frac{\\rho}{\\mu m_H}kT + \\frac{1}{3}a T^4. \\tag{20} $$\n",
    "\n",
    "- **What is the central temperature of the Sun (neglecting the radiation pressure)?**\n",
    "\n",
    ">From [hydrostatic equilibrium](https://saturnaxis.github.io/ModernAstro/Chapter_11/interiors-of-stars.html#the-derivation-of-the-hydrostatic-equilibrium-equation), we >estimated the central pressure $P_c$.  Thus, we can rewrite the radiation pressure equation from the ideal gas law (Eqn. 11) as\n",
    ">\n",
    ">$$ T_c = \\frac{\\mu m_H}{\\rho k}P_c. $$\n",
    ">\n",
    ">Using $\\rho = \\overline{\\rho}_\\odot = 1410 \\:{\\rm kg/m^3}$, $\\mu_i =0.62$ (assuming complete ionization of $H$), and $P_c = 2.69 \\times 10^{14}\\: {\\rm N/m^2}$, we find that\n",
    ">\n",
    ">$$ T_c \\approx 1.43 \\times 10^7 \\:{\\rm K}, $$\n",
    ">\n",
    ">which is in reasonable agreement with more detailed calculations. One standard solar model shows the radiation pressure is only 0.065% of the gas pressure, which justifies \n",
    ">our simplification in ignoring it."
   ]
  },
  {
   "cell_type": "code",
   "execution_count": 8,
   "metadata": {},
   "outputs": [
    {
     "name": "stdout",
     "output_type": "stream",
     "text": [
      "The estimated central temperature of the Sun is 1.43e+07 K.\n"
     ]
    }
   ],
   "source": [
    "from scipy.constants import k\n",
    "\n",
    "m_H = 1.6735575e-27 #mass of hydrogen\n",
    "rho_sun = 1410. #average density of the Sun in kg/m^3\n",
    "P_c = 2.69e14 #Central pressure estimated in previous example in N/m^2\n",
    "mu_i = 0.62 #mass ratio assuming complete ionization of H\n",
    "\n",
    "T_c = (mu_i*m_H)/(rho_sun*k)*P_c\n",
    "\n",
    "print(\"The estimated central temperature of the Sun is %1.2e K.\" % T_c)"
   ]
  },
  {
   "cell_type": "markdown",
   "metadata": {},
   "source": [
    "### **Problems**\n",
    ">2\\. Derive the ideal gas law in Eqn. 10 starting from the pressure integral and the Maxwell-Boltzmann distribution function."
   ]
  },
  {
   "cell_type": "markdown",
   "metadata": {},
   "source": [
    "## Stellar Energy Sources\n",
    "\n",
    "### Gravitation and the Kelvin-Helmholtz Timescale\n",
    "In the late 1800s, many scientists were contemplating the energy source of the Sun.  One likely stellar energy source is gravitational potential energy, which is given by\n",
    "\n",
    "$$ U = -\\frac{GMm}{r}, $$\n",
    "\n",
    "using the Universal Gravitational constant $G$, masses of two particles ($M$ and $m$), and the distance between them $r$.  As $r$ decreases, the gravitational potential energy becomes *more negative*, implying that the energy must have been converted to other forms (e.g., kinetic energy).  If a body can decrease its size, then the gravitational potential energy can be converted into heat and then radiate into space. The star could shine for a significant period of time through this mechanism.  However, the virial theorem state that the total energy $E$ for a system in equilibrium is 1/2 of a system's potential energy $U$.  Therefore, only half of the system's potential energy is available to be radiated away and the remaining potential energy supplies the *thermal* energy that heats the star. \n",
    "\n",
    "```{note}\n",
    "Radiation derived from gravitational contraction is a source of energy for Jupiter-mass planets and brown dwarfs.\n",
    "```\n",
    "\n",
    "The contribution of every pair of particles to the potential energy can be calculated starting with the gravitational force and some assumptions.\n",
    "\n",
    "**Assume a point mass $dm_i$ exists outside a *spherically symmetric* mass $M_r$.**\n",
    "\n",
    "The gravitational force is \n",
    "\n",
    "$$ dF_{g,i} = \\frac{GM_r\\:dm_i}{r^2}, $$\n",
    "\n",
    "where the force is directed toward the center of the sphere.  Due to the symmetry, we can replace the massive sphere with an equivalent mass located at its center, which is separated by a distance $r$ from the point mass $dm_i$.  Then the gravitational potential energy is\n",
    "\n",
    "$$ dU_{g,i} = \\int_\\infty^r dF_{g,i}dr = -\\frac{GM_r\\:dm_i}{r}. $$\n",
    "\n",
    "Instead of using a point mass $dm_i$, we can assume that a collection of smaller point masses *distributed uniformly* within a shell of thickness *dr* with a mass $dm$ (i.e., $\\displaystyle dm = \\sum_i dm_i$).  These quantities are related by\n",
    "\n",
    "$$ dm = 4\\pi r^2\\:\\rho\\:dr, $$\n",
    "\n",
    "given the mass density $\\rho$ of the shell and its volume, $4\\pi r^2\\:dr$.  The equation for differential gravitational potential energy becomes\n",
    "\n",
    "$$ dU_g = - \\frac{GM_r(4\\pi r^2\\:\\rho)}{r}dr $$\n",
    "\n",
    "by direct substitution and the total gravitational potential energy is\n",
    "\n",
    "$$ U_g = -4\\pi G \\int_0^R M_r \\rho r\\:dr, \\tag{21}$$\n",
    "\n",
    "where the integral is from the center to the radius $R$ of the star.  More exact calculations of $U_g$ requires knowledge of the radial mass distribution ($\\rho$ and $M_r$) within a body.  However, we can use the average mass density of the Sun $\\overline{\\rho}_\\odot$ to produce an estimate.   The average density is the total mass contained in a volume, or\n",
    "\n",
    "$$ \\overline{\\rho} = \\frac{M_r}{\\frac{4}{3}\\pi r^3}, $$\n",
    "\n",
    "where solving for $M_r$ becomes\n",
    "\n",
    "$$ M_r = \\frac{4}{3}\\pi r^3\\: \\overline{\\rho}.$$\n",
    "\n",
    "Substituting into Eqn. 21, the total gravitational energy becomes\n",
    "\n",
    "$$ U_g = -4\\pi G \\int_0^R \\left(\\frac{4}{3}\\pi r^3\\: \\overline{\\rho} \\right) \\overline{\\rho} r\\:dr = -\\frac{16}{3}\\pi^2 G \\overline{\\rho}^2 \\int_0^R r^4 dr = -\\frac{16}{15}\\pi^2 G \\overline{\\rho}^2 R^5. $$\n",
    "\n",
    "Back-substituting $\\overline{\\rho}$ to get an expression in terms of the total mass $M$ and radius $R$ of the star produces\n",
    "\n",
    "$$ U_g = -\\frac{16}{15}\\pi^2 G \\left(\\frac{M}{\\frac{4}{3}\\pi R^3}\\right)^2 R^5 = -\\frac{3}{5}\\frac{GM^2}{R}. \\tag{22} $$\n",
    "\n",
    "Applying the virial theorem shows that the total mechanical potential energy is\n",
    "\n",
    "$$ E = \\frac{1}{2}U_g = -\\frac{3}{10} \\frac{GM^2}{R}. \\tag{23} $$\n",
    "\n",
    "- **If the Sun had an initial radius $R_i$ and was originally much larger than it is today ($R_i \\gg R_\\odot$), how much energy would have been released due to its gravitational collapse?**\n",
    "\n",
    ">The energy released $\\Delta E$ is simply the difference in energy from the initial state $E_i$ to the current state $E_f$, or $\\Delta E = -(E_f - E_i)$.  The virial theorem >shows that the energy of a very large object ($R_i \\gg R_\\odot$) is very small because $E \\propto 1/R$.  Therefore, $E_i \\approx 0$ and the change in energy simplifies to\n",
    ">\n",
    ">$$ \\Delta E = -(E_f -E_i) \\simeq -E_f = \\frac{3}{10} \\frac{GM_\\odot^2}{R_\\odot} \\approx 1.14 \\times 10^{41}\\:{\\rm J}. $$"
   ]
  },
  {
   "cell_type": "code",
   "execution_count": 6,
   "metadata": {},
   "outputs": [
    {
     "name": "stdout",
     "output_type": "stream",
     "text": [
      "The energy released by the gravitational collapse of the Sun is 1.14e+41 J.\n",
      "The timescale for releasing this much energy is 9.4e+06 yr\n"
     ]
    }
   ],
   "source": [
    "from scipy.constants import G\n",
    "\n",
    "M_sun = 1.989e30 #mass of the Sun in kg\n",
    "R_sun = 6.95e8 #radius of the Sun in m\n",
    "L_sun = 3.828e26 #luminosity of the Sun in W\n",
    "\n",
    "delta_E = 0.3*(G*M_sun**2/R_sun)\n",
    "t_KH = (delta_E/L_sun)/3600./24./365.25 #timescale in s-->yr\n",
    "\n",
    "print(\"The energy released by the gravitational collapse of the Sun is %1.2e J.\" % delta_E)\n",
    "print(\"The timescale for releasing this much energy is %1.1e yr\" % t_KH)"
   ]
  },
  {
   "cell_type": "markdown",
   "metadata": {},
   "source": [
    "Assuming the luminosity of the Sun has been roughly constant throughout its lifetime, it could emit energy at that rate for approximately\n",
    "\n",
    "$$ t_{KH} = \\frac{\\Delta E}{L_\\odot}. \\tag{24} $$\n",
    "\n",
    "A solar luminosity is $3.828 \\times 10^{26}$ W, where $t_{KH} \\sim 10^7$ yr and is known as the [Kelvin-Helmholtz timescale](https://en.wikipedia.org/wiki/Kelvin%E2%80%93Helmholtz_mechanism).  The Kelvin-Helmholtz timescale was developed by Lord Kelvin and Hermann Ludwig Ferdinand von Helmholtz (in the late 1800s) to explain the Sun's energy source, but geological (relative) dating techniques at the time was producing rock ages that were at least an order of magnitude older.  Today, we have radioactive dating of Earth rocks, Moon rocks, and primitive meteorites that are more than ~4.5 Gyr old.  Therefore, gravitational potential energy alone cannot account for the Sun's luminosity through its entire lifetime.\n",
    "\n",
    "```{note}\n",
    "Another possible energy source involves chemical processes, but chemical reactions are based on the orbital electrons in atoms.  The amount of energy available to be released per atom is no more than 10 eV.  Given the number of atoms present in a star, the amount of chemical energy available is far to low to account for the Sun's luminosity over a reasonable period of time.\n",
    "```"
   ]
  },
  {
   "cell_type": "markdown",
   "metadata": {},
   "source": [
    "### The Nuclear Timescale\n",
    "Since electron orbits contributes less than 10 eV, nuclear processes involve energies in the millions of electron volts (MeV) range.  The nucleus of a particular **element** is specified by the number of positively charged protons $Z$ (not to be confused the metal mass fraction).  A neutrally charged atom would contain an equal number of orbital electrons.  **Isotopes** of a given element are identified by the number of (neutrally charged) neutrons $N$ within the nucleus.  Collectively, protons and neutrons are referred to as **nucleons**, where the number of nucleons is represented by the *mass number* $A = Z + N$.  The mass number is a good heuristic to estimate the mass of an isotope because protons and neutrons have similar masses, where the mass of electrons is much smaller than either protons or neutrons.\n",
    "\n",
    "The respective masses of the proton, neutron and electron are\n",
    "\n",
    "- $m_p = 1.67262158 \\times 10^{-27}\\:{\\rm kg} = 1.00727646688 \\: {\\rm u} = 938.27208816 \\: {\\rm MeV},$\n",
    "- $m_n = 1.67492716 \\times 10^{-27}\\:{\\rm kg} = 1.00866491578 \\: {\\rm u} = 939.56542052 \\: {\\rm MeV},$ and\n",
    "- $m_e = 9.10938188 \\times 10^{-31}\\:{\\rm kg} = 0.0005485799110 \\: {\\rm u} = 0.51099895000 \\: {\\rm MeV}.$\n",
    "\n",
    "The *atomic mass unit* $u$ is defines as exactly 1/12 the mass of the Carbon-12, or $1\\:{\\rm u} = 1.66053873 \\times 10^{-27}\\:{\\rm kg}$.  The rest mass energies are derived using Einstein's $E=mc^2$, where $1\\:{\\rm u} = 931.494013\\:{\\rm MeV/c^2}$.  The simplest isotope of hydrogen is composed of a single proton and electron with a mass of $m_H = 1.00782503214\\:{\\rm u}$.  This mass is slightly less than the combined mass of a proton and electron at rest ($m_p + m_e$) because some mass must be given up as binding energy to keep the atom together.  For a hydrogen atom in its ground state, the exact mass difference is 13.6 eV, which is just the ionization potential.\n",
    "\n",
    "```{note}\n",
    "Mass-energy units are ${\\rm MeV/c^2}$ as follows from $E=mc^2$, but it is customary to leave off the ${\\rm /c^2}$.  When using mass-energy units in your calculations, be sure to multiply by $c^2$ to get units of energy.\n",
    "```\n",
    "\n",
    "Similarly energy is also released for a loss in mass when nucleons combine to form atomic nuclei.  A helium nucleus is composed of two protons and two neutrons, which can be formed by a series of nuclear reactions involving four protons (hydrogen nuclei) otherwise known as **fusion** reactions since lighter particles are *fused* together to form a heavier particle.  The total mass of the four hydrogen atoms (protons and electrons) is 4.03130013 u, where as the mass of one helium atom is 4.002603 u.  The mass difference between these two quantities is 0.028697 u, or 0.7%.  The total amount of energy released in forming a helium nucleus is the **binding energy* and is equivalent to the mass difference but in energy units (26.731 MeV).  The helium nucleus requires 26.731 MeV to free the nucleons into the constituent protons and neutrons.\n",
    "\n",
    "- **Is nuclear energy sufficient to power the Sun during its lifetime?** (Assume that the Sun started with 100% hydrogen and only converts 10% of that into helium.)\n",
    "\n",
    ">The mass available is 10% of the Sun's mass converted into energy ($M_\\odot{\\rm c^2}).  To form a helium nucleus, only 0.7% of the energy is released.\n",
    ">\n",
    ">$$ E_{nuclear} = 0.007 \\times (0.1 \\times M_\\odot{\\rm c^2}) = 0.007 \\times (1.8 \\times 10^{46}\\:{\\rm J}) = 1.3 \\times 10^{44}\\:{\\rm J}.$$\n",
    ">\n",
    ">This gives a **nuclear timescale** of approximately\n",
    ">\n",
    ">$$ t_{nuclear} = \\frac{E_{nuclear}}{L_\\odot} \\sim 10^{10}\\:{\\rm yr} = 10\\:{\\rm Gyr}, $$\n",
    ">\n",
    ">which is more than enough time to account for the ages of rocks on Earth and the Moon."
   ]
  },
  {
   "cell_type": "code",
   "execution_count": 18,
   "metadata": {},
   "outputs": [
    {
     "name": "stdout",
     "output_type": "stream",
     "text": [
      "The amount of nuclear energy available is 1.25e+44 J.\n",
      "The nuclear timescale is 1.04e+10 yr.\n"
     ]
    }
   ],
   "source": [
    "from scipy.constants import c\n",
    "\n",
    "m_sun = 1.989e30 #mass of Sun in kg\n",
    "E_nuc = 0.007*0.1*m_sun*c**2\n",
    "t_nuc = (E_nuc/L_sun)/3600./24./365.25\n",
    "\n",
    "print(\"The amount of nuclear energy available is %1.2e J.\" % E_nuc)\n",
    "print(\"The nuclear timescale is %1.2e yr.\" % t_nuc)"
   ]
  },
  {
   "cell_type": "markdown",
   "metadata": {},
   "source": [
    "### Quantum Mechanical Tunneling"
   ]
  },
  {
   "cell_type": "markdown",
   "metadata": {},
   "source": [
    "### Nuclear Reaction Rates and the Gamow Peak"
   ]
  },
  {
   "cell_type": "markdown",
   "metadata": {},
   "source": [
    "### Electron Screening"
   ]
  },
  {
   "cell_type": "markdown",
   "metadata": {},
   "source": [
    "### Representing Nuclear Reaction Rates Using Power Laws\n",
    "\n",
    "### The Luminosity Gradient Equation"
   ]
  },
  {
   "cell_type": "markdown",
   "metadata": {},
   "source": [
    "### Stellar Nucleosynthesis and Conservation Laws"
   ]
  },
  {
   "cell_type": "markdown",
   "metadata": {},
   "source": [
    "### The Proton-Proton Chain"
   ]
  },
  {
   "cell_type": "markdown",
   "metadata": {},
   "source": [
    "### The CNO Cycle"
   ]
  },
  {
   "cell_type": "markdown",
   "metadata": {},
   "source": [
    "### The Triple Alpha Process of Helium Burning\n",
    "\n",
    "### Carbon and Oxygen Burning"
   ]
  },
  {
   "cell_type": "markdown",
   "metadata": {},
   "source": [
    "### The Binding Energy per Nucleon"
   ]
  },
  {
   "cell_type": "markdown",
   "metadata": {},
   "source": [
    "### **Problems**"
   ]
  },
  {
   "cell_type": "markdown",
   "metadata": {},
   "source": [
    "## Energy Transport and Thermodynamics\n",
    "\n",
    "### Three Energy Transport Mechanisms\n",
    "\n",
    "### The Radiative Temperature Gradient\n",
    "\n",
    "### The Pressure Scale Height"
   ]
  },
  {
   "cell_type": "markdown",
   "metadata": {},
   "source": [
    "### Internal Energy and the First Law of Thermodynamics\n",
    "\n",
    "### Specific Heats\n",
    "\n",
    "### The Adiabatic Gas Law\n",
    "\n",
    "### The Adiabatic Sound Speed\n",
    "\n",
    "### The Adiabatic Temperature Gradient"
   ]
  },
  {
   "cell_type": "markdown",
   "metadata": {},
   "source": [
    "### A Criterion for Stellar Convection"
   ]
  },
  {
   "cell_type": "markdown",
   "metadata": {},
   "source": [
    "### The Mixing-Length Theory of Superadiabatic Convection"
   ]
  },
  {
   "cell_type": "markdown",
   "metadata": {},
   "source": [
    "### **Problems**"
   ]
  },
  {
   "cell_type": "markdown",
   "metadata": {},
   "source": [
    "## Stellar Model Building\n",
    "\n",
    "### A Summary of The Equations of Stellar Structure\n",
    "\n",
    "### Entropy\n",
    "\n",
    "### The Constitutive Relations\n",
    "\n",
    "### Boundary Conditions\n",
    "\n"
   ]
  },
  {
   "cell_type": "markdown",
   "metadata": {},
   "source": [
    "### The Vogt-Russell Theorem"
   ]
  },
  {
   "cell_type": "markdown",
   "metadata": {},
   "source": [
    "### Numerical Modeling of the Stellar Structure Equations"
   ]
  },
  {
   "cell_type": "markdown",
   "metadata": {},
   "source": [
    "### Polytropic Models and the Lane-Emden Equation"
   ]
  },
  {
   "cell_type": "markdown",
   "metadata": {},
   "source": [
    "### **Problems**"
   ]
  },
  {
   "cell_type": "markdown",
   "metadata": {},
   "source": [
    "## The Main Sequence\n",
    "\n",
    "### The Eddington Luminosity Limit"
   ]
  },
  {
   "cell_type": "markdown",
   "metadata": {},
   "source": [
    "### Variations of Main-Sequence Stellar Parameters with Mass"
   ]
  },
  {
   "cell_type": "markdown",
   "metadata": {},
   "source": [
    "### **Problems**"
   ]
  }
 ],
 "metadata": {
  "interpreter": {
   "hash": "cff387fdeb90e4ccced9dcd80621bb508127aaf7364e37afa52690e3819a2639"
  },
  "kernelspec": {
   "display_name": "Python 3.8.8 ('base')",
   "language": "python",
   "name": "python3"
  },
  "language_info": {
   "codemirror_mode": {
    "name": "ipython",
    "version": 3
   },
   "file_extension": ".py",
   "mimetype": "text/x-python",
   "name": "python",
   "nbconvert_exporter": "python",
   "pygments_lexer": "ipython3",
   "version": "3.8.8"
  },
  "orig_nbformat": 4
 },
 "nbformat": 4,
 "nbformat_minor": 2
}
