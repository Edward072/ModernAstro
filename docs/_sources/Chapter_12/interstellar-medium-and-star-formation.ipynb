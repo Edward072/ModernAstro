{
 "cells": [
  {
   "cell_type": "markdown",
   "metadata": {},
   "source": [
    "# The Interstellar Medium and Star Formation\n",
    "\n",
    "## Interstellar dust and gas\n",
    "### The Interstellar Medium\n",
    "The evolution of stars is a cyclic process, where a star is born out of gas and dust that exists between the stars (i.e., **interstellar medium** or ISM).  During a star's lifetime, much of that material may return to the ISM through stellar winds or explosive events.  The next generation of stars can then form from the ashes, which are processed by the nuclear fusion within the deep interiors of stars.  Thus it's important to study the nature of the ISM so that we can better understand stellar evolution.\n",
    "\n",
    "The ISM is an enormous and complex environment that provides a laboratory for testing our basic understanding of astrophysics (i.e., its the testbed to develop sensible initial conditions for stellar models).  The ISM interacts with the stellar environment through shocks and galactic magnetic fields that extend into interstellar space.  As a result, modeling the ISM requires detailed modeling of the magnetohydrodynamics (MHD) equations."
   ]
  },
  {
   "cell_type": "markdown",
   "metadata": {},
   "source": [
    "### Interstellar Extinction\n",
    "On a dark night (far from city lights), some of the dust clouds within the Milky Way Galaxy can be found because they obscure regions of sky that would otherwise be populated with stars.  These dark regions are not devoid of stars, but the intervening dust blocks the background starlight.  Dust that blocks starlight is due to the combined effet of scattering and absorption, which is called **interstellar extinction**.  The apparent magnitude is a measure of how bright a star appears and if it is dimmed by intervening dust, the distance modulus equation must be modified appropriately.  In a given wavelength band centered on $\\lambda$, we have\n",
    "\n",
    "$$ m_\\lambda = M_\\lambda + 5\\log_{10}\\,d-5 + A_\\lambda, \\tag{1}$$\n",
    "\n",
    "which is a modified version of the distance modulus equation with a correction factor $A_\\lambda>0$ that adjusts for the interstellar extinction along the line of sight.  The extinction magnitude $A_\\lambda$ is positive because it always acts to dim objects along the magnitude scale.  If $A_\\lambda$ is large enough, a star can fall behind the limiting magnitude of the background sky for the naked eye or a telescope.  This is the cause for the dark bands running through the Milky Way.\n",
    "\n",
    "The extinction magnitude $A_\\lambda$ is related to optical depth (recall that the gas below the photosphere is also invisible) measured back along the line of sight.  The fractional change in the intensity of light decreases exponentially by,\n",
    "\n",
    "$$ \\frac{I_\\lambda}{I_{\\lambda,o}} = e^{-\\tau_\\lambda}, $$\n",
    "\n",
    "which is normalized by the expected light intensity without interstellar extinction.  The optical depth correlates with the change in magnitude through the fractional change in light intensity (see Chapter 1), or\n",
    "\n",
    "$$ \\begin{split}\n",
    "m_\\lambda - m_{\\lambda,o} &= -2.5 \\log_{10}\\,e^{-\\tau_\\lambda} \\\\\n",
    "& = 2.5\\tau_\\lambda\\:\\log_{10}\\,e \\approx 1.086\\tau_\\lambda.\n",
    "\\end{split} $$\n",
    "\n",
    "The change in apparent magnitude is simply the extinction magnitude $A_\\lambda$, or\n",
    "\n",
    "$$ A_\\lambda = 1.086 \\tau_\\lambda, \\tag{2}$$\n",
    "\n",
    "which restates that *the change in magnitude due to extinction is approximately equal to the optical depth along the line of sight*.  The optical depth through the cloud is \n",
    "\n",
    "$$ \\tau_\\lambda = \\int_0^s n_d(s^\\prime)\\sigma_\\lambda\\,ds^\\prime, \\tag{3} $$\n",
    "\n",
    "which depends on the number density of scattering dust grains $n_d(s^\\prime)$ and the scattering cross section $\\sigma_\\lambda$.  If the scattering cross section is constant along the line of sight, then \n",
    "\n",
    "$$ \\tau_\\lambda = \\sigma_\\lambda \\int_0^sn_d(s^\\prime),ds^\\prime = \\sigma_\\lambda N_d, \\tag{4}$$\n",
    "\n",
    "and the dust grain *column density* $N_d$ represents the number of scattering dust particles in a thin cylinder with a cross section of 1 ${\\rm m^2}$ stretching from the observer to the star.  The magnitude of extinction depends on the amount of interstellar dust that the light passes through."
   ]
  },
  {
   "cell_type": "markdown",
   "metadata": {},
   "source": [
    "### The Mie Theory\n",
    "Assuming that the dust particles are *spherical* with a radius $a$, the geometrical cross-section of the dust particle is $\\sigma_g = \\pi a^2$.  The dimensionless **extinction coefficient** $Q_\\lambda$ is then defined as\n",
    "\n",
    "$$ Q_\\lambda \\equiv \\frac{\\sigma_\\lambda}{\\sigma_g}, $$\n",
    "\n",
    "where the extinction coefficient $Q_\\lambda$ depends on the composition of the dust grains.  When the wavelength of the light is similar to the size of the dust grains, then $Q_\\lambda \\sim a/\\lambda$, implying that\n",
    "\n",
    "$$ \\sigma_\\lambda \\propto \\frac{a^3}{\\lambda} \\qquad (\\lambda \\gtrsim a). \\tag{5}$$\n",
    "\n",
    "The extinction coefficient $Q_\\lambda$ goes to zero when the wavelength $\\lambda$ is large compared to $a$.  Conversely, the extinction coefficient $Q_\\lambda$ approaches a constant (independent of $\\lambda$) when the wavelength $\\lambda$ is very small compared to $a$ or\n",
    "\n",
    "$$ \\sigma_\\lambda \\propto a^2 \\qquad (\\lambda \\ll a). \\tag{6} $$\n",
    "\n",
    "```{note}\n",
    "Gustav Mie made similar assumptions concerning dust particles in 1908 and showed the relationship between the scattering cross section $\\sigma_\\lambda$ and the radius of a dust grain.\n",
    "```\n",
    "\n",
    "These limiting cases can be understood by analogy with the waves on the surface of a lake.  If the size of the surface waves (i.e., wavelength) is much larger than an object in their way, then the waves pass by almost completely unaffected $(\\sigma_\\lambda \\sim 0)$.  However, if the object (e.g., an island) is large compared to the waves, then they are simply blocked.  The only waves that pass by the large object are those that miss it altogether.  The light we detect from a dust cloud is the light that passes between the dust particles.\n",
    "\n",
    "The extinction magnitude $A_\\lambda$ is clearly wavelength-dependent, where longer wavelengths (redder light) are not scattered as strongly as shorter wavelengths (bluer light).  The starlight that passes through is preferentially red, or *reddened*, as the blue light is removed.  This **interstellar reddening** causes stars to appear redder, where we might infer them to be cooler through Wien's law.  Fortunately, we can carefully analyze the star's spectrum (i.e., absorption and emission lines) to detect the change.\n",
    "\n",
    "Strongly scattered blue light can leave the cloud in any direction, where a bright star behind a cloud casts a blue **reflection nebula** for observers that are not along the line of sight (e.g., the Pleiades).  This process is analogous to Rayleigh scattering, which produces a blue sky on Earth.  The difference between Mie scattering and Rayleigh scattering is that the scattering particles are much smaller than the wavelength of visible light in Rayleigh scattering and leads to $\\sigma_\\lambda \\propto \\lambda^{-4}$.\n",
    "\n",
    "- **A star is found to be dimmer than expected at 550 nm by 1.1 magnitudes in the visual (i.e., $A_V = 1.1$).  If $Q_{550}=1.5$ and the radius of the dust grains are 0.2 ${\\rm \\mu m}$, estimate the average density $\\overline{n}$ of the material between the star and Earth.  The star is 0.8 kpc from Earth.**\n",
    "\n",
    ">The extinction magnitude $A_\\lambda$ is related to the optical depth $\\tau_\\lambda$ by a faction of 1.086, where $\\tau_{550} = 1.1/1.086 \\simeq 1$.  Given the radius of the dust grains $(a = 0.2\\,{\\rm \\mu m})$ and the extinction coefficient $Q_{550} = 1.5$ we have,\n",
    ">\n",
    ">$$ \\sigma_{550} = 1.5\\pi (2\\times 10^{-7}\\,{\\rm m})^2 \\simeq 2 \\times 10^{-13}\\,{\\rm m^2}. $$\n",
    ">\n",
    ">The column density of the dust along the line of sight is\n",
    ">\n",
    ">$$ N_d = \\frac{\\tau_{550}}{\\sigma_{550}} \\simeq 5 \\times 10^{12}\\,{\\rm m^{-2}}, $$\n",
    ">\n",
    ">and the column density is the integrated particle density across the distance to the star.  Then we have,\n",
    ">\n",
    "> $$ \\overline{n} = \\frac{N_d}{0.8\\, {\\rm kpc}} = 2 \\times 10^{-7} \\,{\\rm m^{-3}}. $$"
   ]
  },
  {
   "cell_type": "code",
   "execution_count": 1,
   "metadata": {},
   "outputs": [
    {
     "name": "stdout",
     "output_type": "stream",
     "text": [
      "The scattering cross section for the grain is 1.9e-13 m^2.\n",
      "The column density of the dust along the line of sight is 5.4e+12 m^{-3}.\n",
      "The average density is 2.2e-07 m^{-3}.\n"
     ]
    }
   ],
   "source": [
    "import numpy as np\n",
    "\n",
    "pc = 3.0857e16 #1 pc in meters\n",
    "a = 0.2e-6 #radius of the dust grains converted to meters\n",
    "A_lambda = 1.1\n",
    "Q_lambda = 1.5\n",
    "\n",
    "tau_550 = A_lambda/1.086\n",
    "sigma_550 = 1.5*np.pi*a**2\n",
    "print(\"The scattering cross section for the grain is %1.1e m^2.\" % sigma_550)\n",
    "\n",
    "N_d = tau_550/sigma_550\n",
    "print(\"The column density of the dust along the line of sight is %1.1e m^{-3}.\" % N_d)\n",
    "\n",
    "average_n = N_d/(0.8*1000*pc)\n",
    "print(\"The average density is %1.1e m^{-3}.\" % average_n)"
   ]
  },
  {
   "cell_type": "markdown",
   "metadata": {},
   "source": [
    "### Molecular Contributions to Interstellar Extinction Curves\n",
    "\n",
    "Mie theory works well for longer wavelengths (visible-IR), but deviations appear in the UV when we consider the ratio of $A_\\lambda$ between different wavelength regimes, such as $A_V$ centered in the visual.  The ratio $A_\\lambda/A_V$ is often plotted in terms of the reciprocal wavelength $\\lambda^{-1}$.  Although **color excesses** are sometimes plotted instead, such as $(A_\\lambda -A_V)/(A_B-A_V)$ or $E(B-V) \\equiv (B-V)_{\\rm intrinsic} - (B-V)_{\\rm observed}$. \n",
    "\n",
    "Plots of this type demonstrate that the Mie theory agrees well at longer wavelength, while the curves begin to diverge significantly for wavelengths shorter than the blue wavelength band (B).  A \"bump\" occurs in the UV at 217.5 nm (or 4.6 ${\\rm \\mu m^{-1}}$).  At even shorter wavelengths the extinction curve $(A_\\lambda/A_V$ vs. $\\lambda^{-1})$ tends to rise sharply as the wavelength decreases.  The existence of the \"bump\" hints at the composition of the dust.\n",
    "\n",
    "Graphite interacts strongly with light near 217.5 nm, which correlates with the extinction curves.  It is uncertain how carbon can organize into large, well-structured particles in the ISM, but \n",
    "\n",
    "- **a)** the strength of the \"bump\", \n",
    "- **b)** the abundance of carbon, and \n",
    "- **c)** the existence of the 217.5 nm resonance\n",
    "\n",
    "have led most researchers to suggest that interstellar dust has a major  component in the form of graphite.\n",
    "\n",
    "Another possible source of the 217.5 nm feature could be **polycyclic aromatic hydrocarbons** (PAHs).  These molecules have multiple carbon ring structures (like graphite) that could be responsible for a series of molecular bands that are observed in the emission from diffuse dust clouds.  There are *unidentified IR emission bands* between $3.3-12\\,{\\rm \\mu m}$ and appear to arise from vibrations in the C-C and C-H bonds common in PAHs.  The energies associated with molecular bonds are quantized like atomic energy levels.  However, the energy levels tend to group in closely space bands, which produces the characteristic broad features in the continuum.  The vibration, rotation, and bending of molecular bonds are all quantized, which yields complex spectra that may be difficult to identify in large molecules.\n",
    "\n",
    "Interstellar dust is composed of other particles as well, as shown by the dark absorption bands at 9.7 ${\\rm \\mu m}$ and 18 ${\\rm \\mu m}$ in the near-IR.  The Si-O molecular bond and the bending of Si-O-Si bonds in silicates could be the cause of these bands.  The existence of these absorption bands suggests that silicate grains are also present in the dust clouds and the diffuse dust of the ISM.\n",
    "\n",
    "In addition to the absorption from molecular bonds, scattered light from interstellar dust tends to be slightly polarized.  The amount of polarization is typically a few percent and wavelength-dependent, which implies that the dust grains cannot be perfectly spherical.  They must be some alignment of the dust grains along a unique direction, which is inferred from the polarization.  \n",
    "\n",
    "Apparently, the dust in the ISM is composed of graphite and silicate grains that can range in size (fractions of nm to several microns).  It also appears that many of the features of the interstellar extinction curve can be reproduced by combining the contributions from all of the components."
   ]
  },
  {
   "cell_type": "markdown",
   "metadata": {},
   "source": [
    "### Hydrogen as the Dominant Component of the ISM\n",
    "\n",
    "The dominant component of the ISM is hydrogen gas in its various forms: neutral hydrogen (H I), ionized hydrogen (H II), and molecular hydrogen $({\\rm H_2})$.  The hydrogen mass fraction of the ISM is approximately 70%, while the helium mass fraction makes up most of the remainder.  The metal mass fraction typically accounts for only a few percent, where carbon and silicon are major components.  \n",
    "\n",
    "In *diffuse* interstellar hydrogen clouds, neutral hydrogen in the ground state dominates the composition.  As a result, ionized hydrogen (H I) cannot produce emission lines, where it is also difficult to absorb H I in absorption because UV photons are required to lift the electrons out of the ground state.  In certain *unique* circumstances, space-based observatories have detected UV absorption in cold clouds of neutral hydrogen when there are strong UV sources in the background. "
   ]
  },
  {
   "cell_type": "markdown",
   "metadata": {},
   "source": [
    "### 21-cm Radiation of Hydrogen\n",
    "\n",
    "Neutral hydrogen can be detected in the diffuse ISM by using the unique radio wavelength, the **21-cm line**.  This particular absorption in the spectrum is produced by the spin reversal of the electron relative to the proton's spin.  Both electrons and protons possess an inherent spin angular momentum with teh $z$-component of the spin angular momentum have two possible orientations ($m_s = \\pm 1/2)$.  Each particle is charged and thus the intrinsic spins endow them with dipole magnetic fields (i.e., bar magnets).\n",
    "\n",
    "The spins of the proton and electron are aligned (i.e., both spin in the same direction) and have slightly more energy than if they are anti-aligned.  If the electron's spin \"flips\" to an anti-aligned state, then energy must be lost from the atom.  Spin flips that are not due to collision with other atoms produce photons to conserve energy.  A photon can also be absorbed, which excites a hydrogen atom into aligning the spins.  The spin flip occurs at 12.1 cm, which corresponds to a frequency of 1420 MHZ.\n",
    "\n",
    "The emission of a 21 cm photon from an individual hydrogen atom is extremely rare, where several million years can pass before the atom will emit a photon.  Collisions are competing with this process of spontaneous emission that can also result in either excitation or de-excitation.  Collisions occur on timescales of 100s of years.  This is far shorter than the spontaneous emission timescale and statistically some atoms are still able to make the spontaneous transition. \n",
    "\n",
    "The existence of 21 cm radiation was predicted in the early 1940s and first detected in 1951.  It has become an important tool in \n",
    "\n",
    "- mapping the location and density of H I,\n",
    "- measuring the radial velocities through the Doppler effect, and\n",
    "- estimating magnetic fields using the Zeeman effect.\n",
    "\n",
    "The rarity of 21 cm emission (or absorption) from individual atoms means that the central wavelength  can remain optically thin over large interstellar distances.  If we assume that the line profile is approximately Gaussian (like the shape of the Doppler profile), then the optical depth of the line  is given by\n",
    "\n",
    "$$ \\tau_H = 5.2 \\times 10^{-15} \\frac{N_H}{T\\,\\Delta v}, \\tag{7} $$\n",
    "\n",
    "which depends on the column density of neutral hydrogen $N_H$, the temperature $T$ (in K) of the gas, and the full width of the line at half maximum $\\Delta v$ (in ${\\rm km/s}$).\n",
    "\n",
    "As long as the 21 cm hydrogen line is optically thin (i.e., on the linear part of the curve of growth), the optical depth is proportional to the neutral hydrogen column density.  Studies of **diffuse H I clouds** show temperatures of $30-80\\,{\\rm K}$, number densities ranging from $1-8 \\times 10^8\\,{\\rm m^{-3}}$, and masses between $1-100\\,M_\\odot$.  When $A_V<1$, the gas and dust are distributed together throughout the ISM.  This correlation breaks down for $A_V > 1, where the column density of H I no longer increases rapidly with the column density of the dust and other physical processes are involved as the dust becomes optically thick.\n",
    "\n",
    "Optically thick dust clouds shield hydrogen from sources of UV and a consequence is that molecular hydrogen can exist without the threat of dissociation by UV photons.  Dust can also enhance ${\\rm H_2}$ formation rate beyond what would be expected through the collision of hydrogen atoms.  The enhancement occurs because:\n",
    "\n",
    "1. a dust grain can provide a *site* on its surface for the hydrogen atoms to meet, rather than requiring chance encounters in the ISM\n",
    "\n",
    "2. the dust provides a *sink* for the binding energy that must be liberated if a stable molecule is to form, where the liberated energy goes into heating the grain and ejecting the ${\\rm H_2}$ molecule from the formation site.\n",
    "\n",
    "Consequently, **molecular clouds** are surrounded by shells of H I."
   ]
  },
  {
   "cell_type": "markdown",
   "metadata": {},
   "source": [
    "### Molecular Traces of Hydrogen\n",
    "\n",
    "The structure of ${\\rm H_2}$ differs from atomic hydrogen (H I), where the ${\\rm H_2}$ molecule does not emit 21 cm radiation.  This explains why the column density $N_H$ and extinction magnitude $A_V$ are poorly correlated in molecular clouds with high extinction.  The number density of atomic hydrogen decreases significantly as the hydrogen becomes locked up in its molecular form.\n",
    "\n",
    "Molecular hydrogen is very difficult to observe directly because it lacks any emission or absorption lines in the visible or radio at teh cool temperatures typical of the ISM.  In special circumstances ($T>2000\\,{\\rm K}$), it is possible to detect the rotational and vibrational bands associated with the molecular bond.  In most instances it becomes necessary to use other molecules as *tracers* of ${\\rm H_2}$ by assuming that their abundances are proportional to the abundance of ${\\rm H_2}$.  The most commonly investigated tracer is carbon monoxide (CO), where other molecules have also been used (e.g., CH, OH, CS, ${\\rm C_3H_2}$, ${\\rm HCO^+}$, and ${\\rm N_2H^+}$).  It is also possible to use **isotopomers** (i.e., molecules that with less common isotopes), such as carbon monoxide with carbon-13 $({\\rm ^{13}CO})$ or oxygen-18 $({\\rm C^{18}O})$.  Different isotopes in molecules result in different wavelengths due to their moments of inertia.\n",
    "\n",
    "During collisions the tracer molecules become excited (or de-excited), where the spontaneous transitions from excited state result in photon emission within more easily observed wavelength regions that those associated with ${\\rm H_2}$ (e.g., the 2.6 mm transition in CO).  Collision rates depend on both the gas temperature (or thermal kinetic energy) and the number densities of the species, molecular tracers can prove information about the environment within a molecular cloud."
   ]
  },
  {
   "cell_type": "markdown",
   "metadata": {},
   "source": [
    "### The Classification of Interstellar Clouds\n",
    "Discrete classification schemes are destined to fail because the delineation between types is blurry.  However, a broad classification scheme is still useful.\n",
    "\n",
    "- **Diffuse (or translucent) molecular clouds** have primarily atomic hydrogen gas and the interstellar extinction is roughly $1 < A_V < 5$, where molecular hydrogen may be found in regions of higher column density.  Conditions in these clouds are similar to diffuse H I clouds, but with somewhat higher masses; temperatures range from $15-50\\,{\\rm K}$, number densities range from $5-50 \\times 10^8\\,{\\rm m^{-3}}$, and the cloud masses are from around $3-100\\,M_\\odot$.  The clouds extend several parsecs across, where both H I and diffuse molecular clouds tend to be irregularly shaped.\n",
    "\n",
    "- **Giant molecular clouds** (GMCs) are enormous complexes of dust and gas where temperatures are typically around 15 K, number densities range from $1-3 \\times 10^8\\,{\\rm m^{-3}}$, masses are typically $10^5\\,M_\\odot$ (but may reach $10^6\\,M_\\odot$), and typical sizes are on the order of 50 pc across.  The most famous Horsehead Nebula is a portion of the Orion GMC complex.  Thousands of GMCs exist in our Galaxy, mostly in its spiral arms.  The structure of GMCs tend to be clumpy with local regions of significant density.\n",
    "\n",
    "    - **Dark cloud complexes** have interstellar extinction $A_V \\sim 5$, number densities $\\sim 5 \\times 10^8\\,{\\rm m^{-3}}$, diameters around 10 pc, and temperatures around 10 K.\n",
    "\n",
    "   - **Clumps** may be even more dense, with interstellar extinction $A_V \\sim 10$, number densities $\\sim 10^9\\,{\\rm m^{-3}}$, diameters around a couple parsecs, and temperatures around 10 K.\n",
    "\n",
    "   - **Dense cores** occur at smaller scales with $M\\sim 10\\, M_\\odot$, interstellar extinction $A_V > 10$, number density $n\\sim 10^{10}\\,{\\rm m^{-3}}$, temperatures around 10 K, and diameters of 0.1 pc.\n",
    "\n",
    "   - **Hot cores** have characteristic sizes of $0.05-0.1\\,{\\rm pc}$, interstellar extinction $A_V \\sim 50-1000$, number density $n\\sim 10^{13}-10^{15}\\,{\\rm m^{-3}}$, temperatures around $100-300\\,{\\rm K}$, and masses $M\\sim 10-3000\\,M_\\odot$.  Based on observations from Spitzer, hot cores appear to have massive O and B stars embedded within them, suggesting that these are regions of recent star formation.\n",
    "\n",
    "- **Bok globules** are located outside of large molecular complexes and are almost spherical.  The globules are characterized by large visual extinctions $(A_V\\sim 10)$, low temperatures $(T\\sim 10 \\,{\\rm K})$, large number densities $(n>10^{10}\\,{\\rm m^{-3}})$, low masses $(M\\sim1-1000\\,M_\\odot)$, and small sizes $(<1\\,{\\rm pc})$.  Surveys in the IR show that Bok globules can harbor young low-luminosity stars in their centers, implying they are also sites of active star formation.  Bok globules appear to dense cores that have been stripped of their surrounding molecular gas by nearby hot, massive stars.\n",
    "\n",
    "```{note}\n",
    "[Bok globules](https://en.wikipedia.org/wiki/Bok_globule) are named after Bart Bok, who first studied these objects in the 1940s.\n",
    "```"
   ]
  },
  {
   "cell_type": "markdown",
   "metadata": {},
   "source": [
    "### Interstellar Chemistry\n",
    "\n",
    "The ISM is rich in many molecules, where radio observations (as of June 2005) have positive identifications of 125 molecules (not including isotopmers), ranging in complexity from diatomic molecules, triatomic molecules, and fairly long organic strings, e.g., ${\\rm HC_{11}N}$.  Given the complex nature of the molecules present in the ISM, the chemistry of the ISM is also quite complex.\n",
    "\n",
    "The specific processes in operation depend on the *density*, *temperature*, and *composition* of the gas, as well as the *presence* and *composition* of dust grains.  Dust grains can help facilitate the formation of numerous molecules including ${\\rm CH}$, ${\\rm NH}$, ${\\rm OH}$, ${\\rm CH_2}$, ${\\rm CO}$, ${\\rm CO_2}$, and ${\\rm H_2O}$.  In sufficiently dense clouds, the formation of molecules on the surfaces of grains can actually lead to the development of icy mantles on the grains.  Absorption signatures of solid ${\\rm CO}$, ${\\rm CO_2}$, ${\\rm H_2O}$, ${\\rm CH_4}$, ${\\rm CH_3OH}$, ${\\rm NH_3}$, and other ices have been measured with the IR spectra of silicate dust grains.\n",
    "\n",
    "It is also possible for molecules to form in the gas phase.  For example, hydroxyl ${\\rm OH}$ can form through a series of reactions involving atomic and molecular ions, including ionic water ${\\rm H_2O^+}$:\n",
    "\n",
    "$$\\begin{align*}\n",
    "{\\rm H^+} + {\\rm O} &\\rightarrow {\\rm O^+} + {\\rm H} \\\\\n",
    "{\\rm O^+} + {\\rm H_2} &\\rightarrow {\\rm OH^+} + {\\rm H} \\\\\n",
    "{\\rm OH^+} + {\\rm H_2} &\\rightarrow {\\rm H_2O^+} + {\\rm H} \\\\\n",
    "{\\rm H_2O^+} + e^- &\\rightarrow {\\rm OH} + {\\rm H}. \\\\\n",
    "\\end{align*}$$\n",
    "\n",
    "The above series of reactions competes with another reaction involving molecular hydrogen,\n",
    "\n",
    "$$ {\\rm H_2O^+} + {\\rm H_2} \\rightarrow {\\rm H_3O^+} + {\\rm H}, $$\n",
    "\n",
    "leading to the production of either a hydroxyl molecule (75% of the time) or a water molecule via\n",
    "\n",
    "$$ {\\rm H_3O^+} + e^- \\rightarrow \\begin{cases} {\\rm OH} + {\\rm H_2} \\\\ {\\rm H_2O} + {\\rm H}. \\end{cases} $$ "
   ]
  },
  {
   "cell_type": "markdown",
   "metadata": {},
   "source": [
    "### The Heating and Cooling of the ISM\n",
    "Molecules and dust grains play important roles in the *heating* and *cooling* of the ISM.  Diffuse molecular clouds have higher gas temperatures than GMCs and the dense cores of GMCs are even cooler yet.  The hot cores of GMCs have significantly greater temperatures.  *What are the physical causes of these observational trends?*\n",
    "\n",
    "Much of the heating of the ISM comes from **cosmic rays**, or charged particles that travel through space with astonishing amounts of energy.  A single proton can have a kinetic energy ranging from $10^1-10^{14}\\,{\\rm MeV}$.  The highest energy cosmic rays are extremely rare, but energies from$10^3-10^8\\,{\\rm MeV}$ are common.  The sources of cosmic rays include stellar flares and supernova explosions.\n",
    "\n",
    "Heating by cosmic rays comes (primarily) through the ionization of hydrogen atoms and molecules as a result of collisions with cosmic ray protons:\n",
    "\n",
    "$$ \\begin{align*}\n",
    "p^+ + {\\rm H} &\\rightarrow {\\rm H^+} + e^- + p^+ \\\\\n",
    "p^+ + {\\rm H_2} &\\rightarrow {\\rm H_2^+} + e^- + p^+. \\\\\n",
    "\\end{align*} $$\n",
    "\n",
    "When an atom or molecule is ionized, the ejected electron carries some of the original kinetic energy with it.  The ejected electron, interacts with the ISM to increase the average kinetic energy of the ISM via collisions with molecules.  Those molecules then collide with other molecules, thereby distributing the thermal kinetic energy throughout the cloud and raising the temperature of the cloud.\n",
    "\n",
    "Other sources of heating include the ionization of carbon atoms by UV photons, the photoelectric ejection of electrons from dust grains via UV, the absorption of light energy into the lattice of dust grains, and the ionization of hydrogen by stellar X-rays.  Shocks from supernovae or strong stellar winds can also produce some heating of molecular clouds in special cases.  \n",
    "\n",
    "To balance the heating processes, cooling mechanisms must also be in operation.  The primary mechanism for cooling is through the emission of IR photons because the IR photons can escape the molecular cloud more easily (i.e., Mie scattering) than shorter wavelength photons.  IR photons are produced in molecular clouds through collisions between ions, atoms, molecules, and dust grains.  Typically a collision results in excitation, where the energy of the excited state decays back to the ground state through the emission of an IR photon.  For example,\n",
    "\n",
    "$$ \\begin{align*}\n",
    "{\\rm O} + {\\rm H} &\\rightarrow {\\rm O^*} + {\\rm H} \\\\\n",
    "{\\rm O^*} &\\rightarrow {\\rm O} + \\gamma.\n",
    "\\end{align*} $$\n",
    "\n",
    "The superscript $*$ represents an excited state of an atom.  The collisional kinetic energy (i.e., thermal energy) is thus transformed into an IR photon that escapes the cloud.  Collisional excitations of ${\\rm C^+}$ and ${\\rm CO}$ by ${\\rm H}$ and ${\\rm H_2}$, respectively, are also significant contributors to the cooling of molecular clouds.\n",
    "\n",
    "Collisions involving dust grains can also cool molecular clouds. This process is similar to ionic, atomic, and molecular collisions, where the lattice of the dust grain gains the excess thermal energy after the collision.  The grain then emits an IR photon that is able to escape from the cloud."
   ]
  },
  {
   "cell_type": "markdown",
   "metadata": {},
   "source": [
    "### The Sources of Dust Grains\n",
    "Although dust grains make up about 1% of the molecular cloud by mass, they are important constituents that help determine its chemistry and physics.  Observations indicate that dust grains can form: \n",
    "\n",
    "- in the envelopes of very cool stars aided by the enhanced density in those environments relative to molecular clouds.  On the other hand, grains can also be easily destroyed by UV and X-ray photons.\n",
    "\n",
    "- as a product of supernova explosions and stellar winds.\n",
    "\n",
    "None of these sources appear able to provide the abundance of massive grains found in molecular clouds.  It appears that grains probably grow by a process of coagulation within the molecular clouds themselves."
   ]
  },
  {
   "cell_type": "markdown",
   "metadata": {},
   "source": [
    "### **Problems**\n",
    ">1\\. In a certain part of the North American Nebula, the amount of interstellar extinction in the visual wavelength band is 1.1 magnitudes,  the thickness of the nebula is estimated to be 20 pc, and it is located 700 pc away from Earth.  Suppose that a B spectral class main-sequence star is observed in the direction of the nebula and that the absolute visual magnitude of the star is known to be $M_V = -1.1$.  Neglect any other sources of extinction between the observer and the nebula.\n",
    ">>**(a)** Find the apparent visual magnitude of the star if it is lying just *in front of* the nebula.\n",
    ">>\n",
    ">>**(b)** Find the apparent visual magnitude of the star if it is lying just *behind* the nebula.\n",
    ">>\n",
    ">>**(c)**  Without taking the existence of the nebula into consideration (based on its apparent magnitude), how far away does the star in part (b) appear to be?  What would be the percentage error in determining the distance if the interstellar extinction were neglected?\n",
    ">\n",
    ">2\\. An ${\\rm H\\,I}$ cloud produces a 21 cm line with an optical depth at its center of $\\tau_H = 0.5$ (i.e., the line is optically thin). The temperature of the gas is 100 K, the line's FWHM is ${10\\,{\\rm km/s}}$, and the average atomic number density of the cloud is $10^7\\,{\\rm m^{-3}}$.  **Find the thickness of the cloud. Express your answer in pc.**\n",
    ">\n",
    ">3\\. In light of the cooling mechanisms discussed for molecular clouds, explain why dense cores are generally cooler than the surrounding giant molecular clouds, and why GMCs are cooler than diffuse molecular clouds."
   ]
  },
  {
   "cell_type": "markdown",
   "metadata": {},
   "source": [
    "## The Formation of Protostars\n",
    "\n",
    "### The Jeans Criterion"
   ]
  },
  {
   "cell_type": "markdown",
   "metadata": {},
   "source": [
    "### Homologous Collapse"
   ]
  },
  {
   "cell_type": "markdown",
   "metadata": {},
   "source": [
    "### The Fragmentation of Collapsing Clouds"
   ]
  },
  {
   "cell_type": "markdown",
   "metadata": {},
   "source": [
    "## Additional Physical Processes in Protostellar Star Formation"
   ]
  },
  {
   "cell_type": "markdown",
   "metadata": {},
   "source": [
    "### Ambipolar Diffusion"
   ]
  },
  {
   "cell_type": "markdown",
   "metadata": {},
   "source": [
    "### Numerical Simulations of Protostellar Evolution"
   ]
  },
  {
   "cell_type": "markdown",
   "metadata": {},
   "source": [
    "### **Problems**"
   ]
  },
  {
   "cell_type": "markdown",
   "metadata": {},
   "source": [
    "## Pre-Main-Sequence Evolution\n",
    "\n",
    "### The Hayashi Track\n",
    "\n",
    "### Classical Calulations of Pre-Main-Sequence Evolution"
   ]
  },
  {
   "cell_type": "markdown",
   "metadata": {},
   "source": [
    "### The Formation of Brown Dwarfs\n",
    "\n",
    "### Massive Star Formation\n",
    "\n",
    "### Possible Modifications to the Classical Models"
   ]
  },
  {
   "cell_type": "markdown",
   "metadata": {},
   "source": [
    "### The Zero-Age Main Sequence (ZAMS)"
   ]
  },
  {
   "cell_type": "markdown",
   "metadata": {},
   "source": [
    "### The Initial Mass Function (IMF)"
   ]
  },
  {
   "cell_type": "markdown",
   "metadata": {},
   "source": [
    "### H II Regions"
   ]
  },
  {
   "cell_type": "markdown",
   "metadata": {},
   "source": [
    "### The Effects of Massive Stars on Gas Clouds\n",
    "\n",
    "#### OB Associations\n",
    "\n",
    "#### T Tauri Stars\n",
    "\n",
    "#### FU Orionis Stars\n",
    "\n",
    "#### Herbig Ae/Be Stars\n",
    "\n",
    "#### Herbig-Haro Objects\n",
    "\n",
    "### Young Stars with Circumstellar Disks\n",
    "\n",
    "#### Porplyds\n",
    "\n",
    "#### Circumstellar Disk Formation"
   ]
  },
  {
   "cell_type": "markdown",
   "metadata": {},
   "source": [
    "### **Problems**"
   ]
  }
 ],
 "metadata": {
  "interpreter": {
   "hash": "cff387fdeb90e4ccced9dcd80621bb508127aaf7364e37afa52690e3819a2639"
  },
  "kernelspec": {
   "display_name": "Python 3.8.8 ('base')",
   "language": "python",
   "name": "python3"
  },
  "language_info": {
   "codemirror_mode": {
    "name": "ipython",
    "version": 3
   },
   "file_extension": ".py",
   "mimetype": "text/x-python",
   "name": "python",
   "nbconvert_exporter": "python",
   "pygments_lexer": "ipython3",
   "version": "3.8.8"
  },
  "orig_nbformat": 4
 },
 "nbformat": 4,
 "nbformat_minor": 2
}
