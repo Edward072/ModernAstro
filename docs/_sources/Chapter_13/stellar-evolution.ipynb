{
 "cells": [
  {
   "cell_type": "markdown",
   "metadata": {},
   "source": [
    "# Main-Sequence and Post-Main-Sequence Stellar Evolution\n",
    "\n",
    "## Evolution on the Main Sequence\n",
    "### Stellar Evolution Timescales\n",
    "\n",
    "### Low-Mass Main Sequence Evolution"
   ]
  },
  {
   "cell_type": "markdown",
   "metadata": {},
   "source": [
    "### The Sch&omul;nberg-Chandrasekhar Limit\n",
    "\n",
    "### The Degenerate Electron Gas\n",
    "\n",
    "### Main-Sequence Evolution of Massive Stars"
   ]
  },
  {
   "cell_type": "markdown",
   "metadata": {},
   "source": [
    "### A Derivation of the Sch&omul;nberg-Chandrasekhar Limit"
   ]
  },
  {
   "cell_type": "markdown",
   "metadata": {},
   "source": [
    "## Late Stages of Stellar Evolution\n",
    "\n",
    "### Evolution Off the Main Sequence\n",
    "\n",
    "### The Subgiant Branch\n",
    "\n",
    "### The Red Giant Branch\n",
    "\n",
    "### The Red Giant Tip"
   ]
  },
  {
   "cell_type": "markdown",
   "metadata": {},
   "source": [
    "### The Helium Core Flash\n",
    "\n",
    "### The Horizontal Branch\n",
    "\n",
    "### The Early Asymptotic Giant Branch\n",
    "\n",
    "### the Thermal-Pulse Asymptotic Giant Branch"
   ]
  },
  {
   "cell_type": "markdown",
   "metadata": {},
   "source": [
    "### Third Dredge-Up and Carbon Stars\n",
    "\n",
    "### Mass Loss and AGB Evolution\n",
    "\n",
    "### Post-Asymptotic Giant Branch\n",
    "\n",
    "### Planetary Nebulae"
   ]
  },
  {
   "cell_type": "markdown",
   "metadata": {},
   "source": [
    "## Stellar Clusters\n",
    "\n",
    "### Population I, II, and III Stars\n",
    "\n",
    "### Globular Clusters and Galactic (Open) Clusters\n",
    "\n",
    "### Spectroscopic Parallax\n",
    "\n",
    "### Color-Magnitude Diagrams\n",
    "\n",
    "### Isochrones and Cluster Ages\n",
    "\n",
    "### The Hertzsprung Gap"
   ]
  },
  {
   "cell_type": "markdown",
   "metadata": {},
   "source": [
    "### Relatively Few AGB and Post-AGB Stars\n",
    "\n",
    "### Blue Stragglers"
   ]
  }
 ],
 "metadata": {
  "language_info": {
   "name": "python"
  },
  "orig_nbformat": 4
 },
 "nbformat": 4,
 "nbformat_minor": 2
}
