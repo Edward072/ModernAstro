{
 "cells": [
  {
   "cell_type": "markdown",
   "metadata": {},
   "source": [
    "# Main-Sequence and Post-Main-Sequence Stellar Evolution\n",
    "\n",
    "## Evolution on the Main Sequence\n",
    "### Stellar Evolution Timescales\n",
    "To maintain their luminosities, stars must use either gravitational or nuclear energy, where chemical energy cannot play a significant role.  Pre-main-sequence evolution is guided by two timescales: 1) the free-fall timescale and 2) the thermal Kelvin-Helmholtz timescale.  Main sequence and post-main-sequence stellar evolution are governed by the timescale of *nuclear reactions*, which is $\\sim 10^{10}\\,{\\rm yr}$ for the Sun and is much longer than the Kelvin-Helmholtz timescale $(\\sim 10^7\\,{\\rm yr})$.  The difference in timescales in stellar evolution (at different phases) accounts for why approximately $80-90%$ of stars in the Solar neighborhood are main-sequence stars (i.e., we are more likely to find stars during the longest phase of their lifetime).  Both the pre- and post-main-sequence evolutionary timescales occur rapidly compared to the main-sequence evolution.  During the transition between phases of stellar evolution, gravitational energy and the Kelvin-Helmholtz timescale will again become important.\n",
    "\n",
    "### Low-Mass Main Sequence Evolution\n",
    "Although all stars on the main sequence are converting hydrogen into helium, the stellar mass dictates that higher mass stars do so through different processes (leading to shorter lifetimes).  Zero-age main-sequence (ZAMS) stars with mass greater than 1.2 $M_\\odot$ have convective cores to to the highly temperature dependent CNO cycle, while lower mass stars are dominated by the less temperature-dependent pp chain.  As a result, low-mass ZAMS stars $(0.3-1.2\\,M_\\odot)$ possess radiative cores.  Below $0.3\\,M_\\odot$, ZAMS stars have convective cores because their high surface opacities drive surface convection deep into the star's interior.\n",
    "\n",
    "**Consider a typical low-mass main-sequence star like the Sun.**  The Sun's luminosity, radius, and temperature have all increased steadily since it reach the ZAMS (~4.57 Gyr ago).  As the pp chain converts the hydrogen into helium, the mean molecular weight $\\mu$ of the core increases.  *According to the ideal gas law*, the density and/or temperature of the core must also increase to maintain a sufficient gas pressure to support the outer layers of the star.  While the density of the core increases, gravitational potential energy is released as the core is compressed.  *As required by the virial theorem*, half of the energy is radiated away and the remainder goes into increasing the thermal energy (i.e., thermal temperature of the gas).  The volume of the star that is capable (i.e., hot enough) to undergo nuclear reactions increases slightly during the main-sequence phase.  The pp chain nuclear reaction rate is proportional to $\\rho T^4$, where the luminosity, radius, and effective temperature slowly increase over time.\n",
    "\n",
    "```{note}\n",
    "Icko Iben Jr. pioneered the first computations (in 1th mid-1960s) of main-sequence and post-main-sequence evolutionary tracks for a range of stellar masses.  Modern calculations now consider the effects of convective overshooting and mass over the stellar lifetime.  \n",
    "```\n",
    "\n",
    "With the depletion of hydrogen in the core, the generation of energy via the pp chain must stop.  But the core temperature can increase to a point where nuclear fusion continues to generate energy in a thick hydrogen-burning shell around a small helium core.  The luminosity remains close to zero throughout the inner 3% of a star's mass, the temperature gradient $dT/dr\\simeq 0$, and $T$ is nearly constant.  For an isothermal core to support the material above it in hydrostatic equilibrium, the pressure gradient must result from a continuous increase in the density at the center of the star.  At this point, the luminosity being generated in the thick shell actually exceeds the production by the core during the hydrogen burning phase.  Some of the luminosity from the shell goes into a slow expansion of an outer envelope.  The effective temperature begins to decrease slightly.  As the hydrogen-burning shell continues to consume its nuclear fuel, the \"ash\" from nuclear burning causes the isothermal helium core to grow in mass while the star moves farther to the red in the H-R diagram."
   ]
  },
  {
   "cell_type": "markdown",
   "metadata": {},
   "source": [
    "### The Sch&ouml;nberg-Chandrasekhar Limit\n",
    "\n",
    "### The Degenerate Electron Gas\n",
    "\n",
    "### Main-Sequence Evolution of Massive Stars"
   ]
  },
  {
   "cell_type": "markdown",
   "metadata": {},
   "source": [
    "### A Derivation of the Sch&ouml;nberg-Chandrasekhar Limit"
   ]
  },
  {
   "cell_type": "markdown",
   "metadata": {},
   "source": [
    "## Late Stages of Stellar Evolution\n",
    "\n",
    "### Evolution Off the Main Sequence\n",
    "\n",
    "### The Subgiant Branch\n",
    "\n",
    "### The Red Giant Branch\n",
    "\n",
    "### The Red Giant Tip"
   ]
  },
  {
   "cell_type": "markdown",
   "metadata": {},
   "source": [
    "### The Helium Core Flash\n",
    "\n",
    "### The Horizontal Branch\n",
    "\n",
    "### The Early Asymptotic Giant Branch\n",
    "\n",
    "### the Thermal-Pulse Asymptotic Giant Branch"
   ]
  },
  {
   "cell_type": "markdown",
   "metadata": {},
   "source": [
    "### Third Dredge-Up and Carbon Stars\n",
    "\n",
    "### Mass Loss and AGB Evolution\n",
    "\n",
    "### Post-Asymptotic Giant Branch\n",
    "\n",
    "### Planetary Nebulae"
   ]
  },
  {
   "cell_type": "markdown",
   "metadata": {},
   "source": [
    "## Stellar Clusters\n",
    "\n",
    "### Population I, II, and III Stars\n",
    "\n",
    "### Globular Clusters and Galactic (Open) Clusters\n",
    "\n",
    "### Spectroscopic Parallax\n",
    "\n",
    "### Color-Magnitude Diagrams\n",
    "\n",
    "### Isochrones and Cluster Ages\n",
    "\n",
    "### The Hertzsprung Gap"
   ]
  },
  {
   "cell_type": "markdown",
   "metadata": {},
   "source": [
    "### Relatively Few AGB and Post-AGB Stars\n",
    "\n",
    "### Blue Stragglers"
   ]
  }
 ],
 "metadata": {
  "language_info": {
   "name": "python"
  },
  "orig_nbformat": 4
 },
 "nbformat": 4,
 "nbformat_minor": 2
}
