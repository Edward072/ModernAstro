{
 "cells": [
  {
   "cell_type": "markdown",
   "metadata": {},
   "source": [
    "# Main-Sequence and Post-Main-Sequence Stellar Evolution\n",
    "\n",
    "## Evolution on the Main Sequence\n",
    "### Stellar Evolution Timescales\n",
    "To maintain their luminosities, stars must use either gravitational or nuclear energy, where chemical energy cannot play a significant role.  Pre-main-sequence evolution is guided by two timescales: 1) the free-fall timescale and 2) the thermal Kelvin-Helmholtz timescale.  Main sequence and post-main-sequence stellar evolution are governed by the timescale of *nuclear reactions*, which is $\\sim 10^{10}\\,{\\rm yr}$ for the Sun and is much longer than the Kelvin-Helmholtz timescale $(\\sim 10^7\\,{\\rm yr})$.  The difference in timescales in stellar evolution (at different phases) accounts for why approximately $80-90%$ of stars in the Solar neighborhood are main-sequence stars (i.e., we are more likely to find stars during the longest phase of their lifetime).  Both the pre- and post-main-sequence evolutionary timescales occur rapidly compared to the main-sequence evolution.  During the transition between phases of stellar evolution, gravitational energy and the Kelvin-Helmholtz timescale will again become important.\n",
    "\n",
    "### Low-Mass Main Sequence Evolution\n",
    "Although all stars on the main sequence are converting hydrogen into helium, the stellar mass dictates that higher mass stars do so through different processes (leading to shorter lifetimes).  Zero-age main-sequence (ZAMS) stars with mass greater than 1.2 $M_\\odot$ have convective cores to to the highly temperature dependent CNO cycle, while lower mass stars are dominated by the less temperature-dependent pp chain.  As a result, low-mass ZAMS stars $(0.3-1.2\\,M_\\odot)$ possess radiative cores.  Below $0.3\\,M_\\odot$, ZAMS stars have convective cores because their high surface opacities drive surface convection deep into the star's interior.\n",
    "\n",
    "**Consider a typical low-mass main-sequence star like the Sun.**  The Sun's luminosity, radius, and temperature have all increased steadily since it reach the ZAMS (~4.57 Gyr ago).  As the pp chain converts the hydrogen into helium, the mean molecular weight $\\mu$ of the core increases.  *According to the ideal gas law*, the density and/or temperature of the core must also increase to maintain a sufficient gas pressure to support the outer layers of the star.  While the density of the core increases, gravitational potential energy is released as the core is compressed.  *As required by the virial theorem*, half of the energy is radiated away and the remainder goes into increasing the thermal energy (i.e., thermal temperature of the gas).  The volume of the star that is capable (i.e., hot enough) to undergo nuclear reactions increases slightly during the main-sequence phase.  The pp chain nuclear reaction rate is proportional to $\\rho T^4$, where the luminosity, radius, and effective temperature slowly increase over time.\n",
    "\n",
    "```{note}\n",
    "Icko Iben Jr. pioneered the first computations (in the mid-1960s) of main-sequence and post-main-sequence evolutionary tracks for a range of stellar masses.  Modern calculations now consider the effects of convective overshooting and mass over the stellar lifetime.  \n",
    "```\n",
    "\n",
    "With the depletion of hydrogen in the core, the generation of energy via the pp chain must stop.  But the core temperature can increase to a point where nuclear fusion continues to generate energy in a thick hydrogen-burning shell around a small helium core.  The luminosity remains close to zero throughout the inner 3% of a star's mass, the temperature gradient $dT/dr\\simeq 0$, and $T$ is nearly constant.  For an isothermal core to support the material above it in hydrostatic equilibrium, the pressure gradient must result from a continuous increase in the density at the center of the star.  At this point, the luminosity being generated in the thick shell actually exceeds the production by the core during the hydrogen burning phase.  Some of the luminosity from the shell goes into a slow expansion of an outer envelope.  The effective temperature begins to decrease slightly.  As the hydrogen-burning shell continues to consume its nuclear fuel, the \"ash\" from nuclear burning causes the isothermal helium core to grow in mass while the star moves farther to the red in the H-R diagram."
   ]
  },
  {
   "cell_type": "markdown",
   "metadata": {},
   "source": [
    "### The Sch&ouml;nberg-Chandrasekhar Limit\n",
    "\n",
    "The hydrogen shell burning phase of evolution ends when the isothermal core mass is too great and the core pressure can no longer support the material above it.  Sch&ouml;nberg and Chandrasekhar (in 1942) showed the maximum star mass fraction that can exist in an isothermal core and still support the overlying layers is\n",
    "\n",
    "$$ \\left(\\frac{M_{ic}}{M} \\right)_{\\rm SC} \\simeq 0.37 \\left( \\frac{\\mu_{\\rm env}}{\\mu_{ic}}\\right)^2, \\tag{1} $$\n",
    "\n",
    "where the subscripts $ic$ and ${\\rm env}$ represent the isothermal core and overlying envelope, respectively.  The [Sch&ouml;nberg-Chandrasekhar Limit](https://en.wikipedia.org/wiki/Sch%C3%B6nberg%E2%80%93Chandrasekhar_limit) is another consequence of the virial theorem.  The maximum stellar mass fraction depends on the fraction of the mean molecular weights between the core and the envelope.  When the isothermal helium core's mass exceeds this limit, the core collapses on a Kelvin-Helmholtz timescale and the star evolves very rapidly compared to the nuclear timescale of the main sequence.  For stars below about 1.2 $M_\\odot$, this defines the end of the main-sequence phase.\n",
    "\n",
    "- **Assume a star forms with an initial composition ($X=0.68$, $Y=0.30$, and $Z=0.02$) and complete ionization occurs at the core-envelope boundary so that $\\mu_{\\rm env} \\simeq 0.63$.  What is the Sch&ouml;nberg-Chandrasekhar limit once all the hydrogen is converted into helium in the isothermal core, $\\mu_{ic} \\simeq 1.34$?**\n",
    "\n",
    ">Using Eqn. 1, we can estimate the Sch&ouml;nberg-Chandrasekhar limit as\n",
    ">\n",
    "> $$ \\left(\\frac{M_{ic}}{M} \\right)_{\\rm SC} \\simeq 0.08. $$\n",
    ">\n",
    ">The isothermal core will collapse if its mass exceeds 8% of the total stellar mass."
   ]
  },
  {
   "cell_type": "code",
   "execution_count": 4,
   "metadata": {},
   "outputs": [
    {
     "name": "stdout",
     "output_type": "stream",
     "text": [
      "The Schonberg-Chandrasekhar limit is 0.08 or 8 percent of the total stellar mass.\n"
     ]
    }
   ],
   "source": [
    "mu_ic = 1.34\n",
    "mu_env = 0.63\n",
    "\n",
    "mass_SC = 0.37*(mu_env/mu_ic)**2\n",
    "print(\"The Schonberg-Chandrasekhar limit is %1.2f or %d percent of the total stellar mass.\" % (mass_SC,mass_SC*100))"
   ]
  },
  {
   "cell_type": "markdown",
   "metadata": {},
   "source": [
    "### The Degenerate Electron Gas\n",
    "The isothermal core mass can exceed the Sch&ouml;nberg-Chandrasekhar limit if an *additional source of pressure* can supplement the ideal gas pressure.  A **degenerate** gas pressure if the gas density becomes sufficiently high and the electrons are forced to occupy the lowest available energy levels.  Electrons cannot all occupy the same quantum state because they are fermions and obey the Pauli exclusion principle.  The electrons are stacked starting with the ground state into progressively higher energy states.  For *complete degeneracy*, the gas pressure is due to the nonthermal motion of the electrons and becomes independent of the gas temperature.\n",
    "\n",
    "If the electrons are nonrelativistic, the pressure of a completely degenerate electron gas is given by a [polytropic equation of state](https://saturnaxis.github.io/ModernAstro/Chapter_11/interiors-of-stars.html#polytropic-models-and-the-lane-emden-equation):\n",
    "\n",
    "$$ P_e = K \\rho^{5/3}, \\tag{2} $$\n",
    "\n",
    "which has an index $n = 3/2$ and a constant $K$.  For a *partial degeneracy*, some temperature dependence remains.  The isothermal core of a Solar-mass star is partially degenerate, where the isothermal core mass fraction can reach 0.13 before it begins to collapse.  Less massive stars exhibit even higher levels of degeneracy and many not exceed the Sch&ouml;nberg-Chandrasekhar limit at all before the next stage of burning starts.\n",
    "\n",
    "### Main-Sequence Evolution of Massive Stars\n",
    "\n",
    "The evolution of more massive stars on the main sequence is similar to lower mass stars, but with a convective core (an important difference).  The convection zone continually mixes the material keeping the core composition nearly homogenous.  The convection timescale (as determined by the [mixing length and convective velocity](https://saturnaxis.github.io/ModernAstro/Chapter_11/interiors-of-stars.html#the-mixing-length-theory-of-superadiabatic-convection)) is much shorter than the nuclear timescale.  For a $5\\,M_\\odot$ star, the central convection zone decreases in mass during (core) hydrogen burning and leaves behind a slight compositional gradient.  As a star evolves the convection zone, the core retreats more rapidly with increasing stellar mass and can disappear entirely before the hydrogen is exhausted for $M \\gtrsim 10\\,M_\\odot$.\n",
    "\n",
    "When the hydrogen mass fraction reaches about $X=0.05$ (in the core of a $5\\, M_\\odot$ star), the entire stars begins to contract.  The release of some gravitational potential energy increases the luminosity slightly, where th effective temperature must increase.  For stellar masses greater than $1.2\\,M_\\odot$ the contraction defines the end of the main sequence."
   ]
  },
  {
   "cell_type": "markdown",
   "metadata": {},
   "source": [
    "### A Derivation of the Sch&ouml;nberg-Chandrasekhar Limit"
   ]
  },
  {
   "cell_type": "markdown",
   "metadata": {},
   "source": [
    "## Late Stages of Stellar Evolution\n",
    "\n",
    "### Evolution Off the Main Sequence\n",
    "The end of the main-sequence phase occurs when hydrogen burning ceases in the stellar core.  In the case of a Solar-mass (*low mass*) star, the core begins to contract while a thick hydrogen burning shell continues to consume the available fuel.  Under core contraction, the temperature rises and the shell actually produces more energy than the core did on the main sequence, which causes the luminosity to increase, the envelope to expand slightly, and the effective temperature to rise.\n",
    "\n",
    "For a $5\\,M_\\odot$ star, the entire star participates in an overall contraction on a Kelvin-Helmholtz timescale rather than just the hydrogen-burning shell.  This contraction phase releases gravitational potential energy with results similar to the low mass star case (i.e., slight increase in luminosity, decrease in the stellar radius, and the effective temperature).  Eventually, the temperature outside the helium core increases sufficiently to cause a thick shell of hydrogen-burning. The overlying envelope is forced to expand slightly due to the ignition of the shell, where it absorbs some of the energy released by the shell.  Since energy is absorbed, the luminosity decreases momentarily (compared to the evolution timescale) and the effective temperature drops.\n",
    "\n",
    "### The Subgiant Branch\n",
    "For both low- and intermediate-mass stars, the helium core steadily increases in mass and becomes nearly isothermal as the hydrogen burning shell evolves.  When the Sch&ouml;nberg-Chandrasekhar limit is reached, the core begins to contract rapidly, which causes the evolution to proceed on the much faster Kelvin-Helmholtz timescale.  The gravitational energy released by the contraction again causes the stellar envelope to expand and the effective temperature cools resulting in a *redward* evolution on the H-R diagram.  The redward evolution is known as the **subgiant branch** (SGB) of the H-R diagram.\n",
    "\n",
    "As the core contracts, a *nonzero* temperature gradient is re-established due to the release of the gravitational potential energy.  The temperature and density of the hydrogen-burning shell increases.  Although the shell begins to narrow (i.e., thin) significantly, the energy generation rate of the shell increases rapidly.  Once again the stellar envelope expands and some of the energy produced by the shell is absorbed before reaching the surface.  For the $5\\,M_\\odot$ star, the expanding envelope absorbs enough energy for a time to cause the luminosity to decrease slightly before recovering.\n",
    "\n",
    "### The Red Giant Branch\n",
    "The photospheric opacity increases due to the additional contribution of the ${\\rm H^-}$ ion (see [Sect. 5.2.4](https://saturnaxis.github.io/ModernAstro/Chapter_9/stellar-atmospheres.html#general-sources-of-opacity)) with the expansion of the stellar envelope and the decrease in effective temperature.  As a result, the convection zone develops near the surface for both low- and intermediate-mass stars.  The base of the convection zone extends deep into the stellar interior.  The star begins to rise rapidly upward along the **red giant branch** (RGB) of the H-R diagram due to the nearly adiabatic temperature gradient associated with convection and the efficiency of the energy transport.  This path is similar (but in the opposite direction) to the path of a pre-main-sequence star moving along the Hayashi track.\n",
    "\n",
    "As a star climbs the RGB, its convection zone deepens until the base reaches into regions where nuclear processes have modified the chemical composition.  Lithium burns via collisions with protons (because of its rather large nuclear reaction cross section) at relatively cool temperatures that are greater than $\\sim2.7 \\times 10^6\\,{\\rm K}$.  As a result, lithium becomes nearly depleted over most of the stellar interior (e.g., the inner 98% of the mass for a $5\\,{\\rm M_\\odot}$ star).  At the same time, nuclear processing increases the mass fraction of helium-3 $({\\rm ^3_2He})$ over the middle third of the star and altered the abundance ratios of various species in the CNO cycle.  \n",
    "\n",
    "When the surface convection zone enters the chemically modified region, mixing occurs between the regions, which produces observable changes in the photosphere composition.  For instance, the amount of surface lithium will decrease and the amount of helium-3 increases.  Convection also transports carbon-12 inward and nitrogen-14 outward, which decreases the observable ratio of their mass fractions $X_{12}/X_{14}$.  The transport of materials from the deep stellar interior is known as the **first dredge-up** phase.  *Nature has provided us with an opportunity to directly observe the products of nuclear reactions deep within stellar interiors.* These observable changes in surface composition provide an important test of the predictions of stellar evolution theory.\n",
    "\n",
    "### The Red Giant Tip\n",
    "Ath the tip of the RGB, the central temperature and density ($1.3 \\times 10^8\\,{\\rm K}$ and $7.7 \\times 10^6\\,{\\rm kg/m^3}$ for a $5\\,M_\\odot$) have finally become high enough that quantum-mechanical tunneling becomes effective through the coulomb barrier acting between helium-4 nuclei, which allows the triple alpha process to begin.  Note that some of the carbon-12 is processed into oxygen-16 as well.  The core expands due to the onset of a new (and strongly temperature-dependent) energy source.  The hydrogen-burning shell remains the dominant source of the stars's luminosity, but the expansion of the core pushes the hydrogen-burning shell *outward*, which cools it and causes the output energy rate to decrease.  The result is an abrupt decrease in the stellar luminosity.  At the same time, the envelope contracts and the effective temperature begins to increase again. "
   ]
  },
  {
   "cell_type": "markdown",
   "metadata": {},
   "source": [
    "### The Helium Core Flash\n",
    "For stars less than $1.8\\,M_\\odot$, the core becomes strongly electron-degenerate as the helium core continues to collapse during evolution up to the tip of the RGB.  Significant neutrino losses from the stellar core (prior to reaching the tip of the RGB) result in a negative temperature gradient near the center (i.e., a temperature inversion develops), where the core is actually refrigerated because energy is carried away by the escaping neutrinos.  When the temperature and density become high enough to initiate the triple alpha process ($\\sim 10^8\\,{\\rm K}$ and $10^7\\,{\\rm kg/m^3}$, respectively), the energy release is almost explosive.  The ignition of helium burning occurs initially in a shell, but the entire core becomes involved and the temperature inversion is lifted.  *The luminosity generated by the helium-burning core reaches $10^{11}\\,L_\\odot$, which is comparable to the luminosity of an entire galaxy!*  \n",
    "\n",
    "However, the energy release lasts for only a few seconds and most of the energy never even reaches the surface.  Instead, the energy is absorbed by the overlying layers and possibly causes some stellar mass loss.  The short-lived energy release is called the **helium *core* flash**.  The origin of the energy release lies in the *very weak temperature dependence* of the electron degeneracy pressure and the *strong temperature dependence* of the triple alpha process.  The energy must first \"lift\" the degeneracy and then, the energy can go into the thermal (kinetic) energy required to expand the core.  Expansion of the core decreases the density, lowers the temperature, and slows the reaction rate.\n",
    "\n",
    "### The Horizontal Branch\n",
    "For low- and intermediate mass stars, the increasing compression of the hydrogen-burning shell eventually causes the energy output of the shell and overall energy output of the star to rise again.  The deep convection zone in the envelope rises toward the surface and a convective core develops at the same time.  The appearance of a convective core is dut to the high temperature sensitivity of the triple alpha process.  This (generally) horizontal evolution blueward on the H-R diagram is called the **horizontal branch** (HB) loop.  The blueward portion of the HB is the helium-burning analog to the hydrogen-burning main sequence, but with a much shorter timescale.\n",
    "\n",
    "At the end of the blueward evolution (i.e., reaching the most blueward point), the core's mean molecular weight increases and the core begins to contract, which is accompanied by the expansion and cooling of the star's envelope.  The star then evolves into the redward portion of the HB loop, where the core helium is quickly exhausted after being converted into carbon and oxygen.  Further along the redward evolution, the inert ${\\rm CO}$ core contracts much like the rapid evolution across the SGB following the extinction of core hydrogen burning.\n",
    "\n",
    "Many stars develop instabilities in their outer envelopes during their passage along the HB, which leads to periodic pulsations that are readily observable in the measured luminosity, temperature, radius, and surface velocity.  The oscillations depend sensitively on the internal structure of the star, where stellar pulsations provide an invaluable test of stellar structure theory.\n",
    "\n",
    "An increase in the core temperature due ot its contraction is accompanied by a thick helium-burning shell outside the ${\\rm CO}$ core.  AS the core continues to contract, the helium-burning shell narrows and strengthens, which forces teh material above the shell to expand and cool.  This results in a temporary turn-off of the hydrogen-burning shell.  Neutrino production increases along with the contraction of the helium-exhausted core, which causes the core to cool.  The carbon-oxygen core is stabilized by the electron degeneracy pressure that is a consequence of the increasing central density and decreasing temperature.\n",
    "\n",
    "### The Early Asymptotic Giant Branch\n",
    "\n",
    "### the Thermal-Pulse Asymptotic Giant Branch"
   ]
  },
  {
   "cell_type": "markdown",
   "metadata": {},
   "source": [
    "### Third Dredge-Up and Carbon Stars\n",
    "\n",
    "### Mass Loss and AGB Evolution\n",
    "\n",
    "### Post-Asymptotic Giant Branch\n",
    "\n",
    "### Planetary Nebulae"
   ]
  },
  {
   "cell_type": "markdown",
   "metadata": {},
   "source": [
    "## Stellar Clusters\n",
    "\n",
    "### Population I, II, and III Stars\n",
    "\n",
    "### Globular Clusters and Galactic (Open) Clusters\n",
    "\n",
    "### Spectroscopic Parallax\n",
    "\n",
    "### Color-Magnitude Diagrams\n",
    "\n",
    "### Isochrones and Cluster Ages\n",
    "\n",
    "### The Hertzsprung Gap"
   ]
  },
  {
   "cell_type": "markdown",
   "metadata": {},
   "source": [
    "### Relatively Few AGB and Post-AGB Stars\n",
    "\n",
    "### Blue Stragglers"
   ]
  }
 ],
 "metadata": {
  "interpreter": {
   "hash": "cff387fdeb90e4ccced9dcd80621bb508127aaf7364e37afa52690e3819a2639"
  },
  "kernelspec": {
   "display_name": "Python 3.8.8 ('base')",
   "language": "python",
   "name": "python3"
  },
  "language_info": {
   "codemirror_mode": {
    "name": "ipython",
    "version": 3
   },
   "file_extension": ".py",
   "mimetype": "text/x-python",
   "name": "python",
   "nbconvert_exporter": "python",
   "pygments_lexer": "ipython3",
   "version": "3.8.8"
  },
  "orig_nbformat": 4
 },
 "nbformat": 4,
 "nbformat_minor": 2
}
