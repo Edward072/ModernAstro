{
 "cells": [
  {
   "cell_type": "markdown",
   "metadata": {},
   "source": [
    "# The Fate of Massive Stars\n",
    "\n",
    "## Post-Main-Sequence Evolution of Massive Stars\n",
    "Since at least 1600, astronomers have observed [$\\eta$ Carinae](https://en.wikipedia.org/wiki/Eta_Carinae), where its apparent magnitude was reported to be either 2 or 4.  In the early 1800s, it may have become significantly more active.  In 1837, $\\eta$ Car suddenly brightened, fluctuating in magnitude between $0-1$ and made it the second brightest object in the sky (only Sirius was brighter).  This brightening event is remarkable because the star is approximately 2300 pc from Earth, where Sirius is only 2.64 pc away.\n",
    "\n",
    "After 1856, $\\eta$ Car began to fade and dropped in magnitude to 8 by 1870.  Since 1895, $\\eta$ Car has been relatively quiet and it has brightened slightly to a magnitude 6 over the past ~150 years.  In a similar fashion, P Cygni was too faint to see with the naked eye before 1600, but suddenly brightened to a magnitude 3.  Following this event, P Cyg faded for a time and reappeared in 1655 becoming nearly as bright as it was in 1600.  Since 1700, P Cyg has been a magnitude 5 star, although it may have brighten slightly over the past several centuries.\n",
    "\n",
    "### Luminous Blue Variables\n",
    "A small number of other stars in our own galaxy (some farther away) behave like $\\eta$ Car and P Cyg.  For example S Doradus (located in the Large Magellanic Cloud) is the best known extragalactic example.  Similar stars were discovered by Edwin Hubble and Allan Sandage, where this class of star are referred to as **S Doradus variables**, **Hubble-Sandage variables**, and **luminous blue variables** (LBVs).  \n",
    "\n",
    "An extreme example of an LBV is $\\eta$ Car, where it is known as the \"[homunculus](https://en.wikipedia.org/wiki/Eta_Carinae#Homunculus)\" for its bipolar structure and equatorial disk.  From Doppler measurements, the lobes of $\\eta$ Car expand outward at $650\\ {\\rm km/s}$ and a range of velocities are recorded along any particular line-of-sight.  The expanding lobes are hollow, while the material in the shells contain molecules of ${\\rm H_2}$, ${\\rm CH}$, and ${\\rm OH}$.  It appears that the homunculus is significantly depleted in ${\\rm C}$ and ${\\rm O}$, while enriched in ${\\rm He}$ and ${\\rm N}$.  This suggests that the ejected material has been processed by the CNO cycle.  The present mass loss rate of $\\eta$ Car is $\\sim 10^{-3}\\ M_\\odot/{\\rm yr}$, but it has probably ejected $1-3\\ M_\\odot$ during the 20 years following the Great Eruption of 1837.\n",
    "\n",
    "During the Great Eruption, $\\eta$ Car's luminosity could have been $4\\times$ brighter than its present quiescent luminosity ($\\sim 5\\times10^6\\ {\\rm L_\\odot}$).  The central star's effective temperature is roughly 30,000 K. As of 2007, the apparent magnitude in the visual was $m_V \\sim 6$, but now (2018) it has brightened to $m_V \\sim 4.3$.  Most of $\\eta$ Car's luminosity is initially emitted in the UV, which explains its high effective temperature.  Much of the UV is scattered, absorbed, and re-emitted by dust grains into the IR.\n",
    "\n",
    "As a class, LBV's tend to have high effective temperatures (15,000-30,000 K), with luminosities greater than $10^6\\ {\\rm L_\\odot}$.  As a result, LBVs are in the upper left-hand portion of the H-R diagram.  LBVs are clearly evolved, post-main-sequence stars given the composition of their atmospheres and ejecta.  LBVs also cluster in an instability region of the H-R diagram, which suggests that their behavior is transient.\n",
    "\n",
    "A variety of mechanisms were proposed to explain the variability and dramatic mass loss of LBVs.  the upper end of the main sequence is very near the [Eddington luminosity limit](https://saturnaxis.github.io/ModernAstro/Chapter_11/interiors-of-stars.html#the-eddington-luminosity-limit) where the force due to the radiation pressure may equal of exceed the gravitational force on the outer surface layers of a star.  The derived expression for the Eddington luminosity limit is\n",
    "\n",
    "$$ L_{{\\rm ED}} = \\frac{4\\pi Gc}{\\kappa}M, $$\n",
    "\n",
    "which depends on the opacity $\\kappa$ and stellar mass $M$.  The \"classical\" Eddington limit assumes that the opacity is solely due to the scattering of free electrons, which is [constant](https://saturnaxis.github.io/ModernAstro/Chapter_9/stellar-atmospheres.html#general-sources-of-opacity) $\\sigma_T$ for a completely ionized gas. A \"modified\" Eddington limit was proposed by [Humphreys & Davidson (1994)](https://ui.adsabs.harvard.edu/abs/1994PASP..106.1025H/abstract), where some temperature-dependent factor of opacity modifies the overall opacity as the star evolves to the right in the H-R diagram.  As the temperature decreases and the *opacity increases*, the Eddington luminosity would drop below the actual luminosity of the star.  This implies that the radiation pressure dominates over gravity, which drives mass loss from the envelope.\n",
    "\n",
    "A second suggestion is that atmospheric pulsation instabilities may develop, like Cepheids, RR Lyrae, long-period variable stars.  Also intriguing is the apparent high rotation velocity of some LBVs.  Rapid rotation would result in decreasing the \"effective\" gravity at the equator due to centrifugal effects and allow for gases to be driven away from the surface at the equator.  The disk around $\\eta$ Car may have formed from a high spin during the lesser eruption between 1887-1895.\n",
    "\n",
    "LBVs could also be members of binary star systems as similar behaviors can be induced by the binary companion.  Interestingly, $\\eta$ Car exhibits a 5.54 yr periodicity in the equivalent widths (of some) of its spectral lines, which hints at the presence of a binary companion.  Although it is unclear how a binary companion can cause all of the effects observed.  It may turn out that more than one of the discussed mechanisms could influence the behavior of the LBVs or the principal mechanism has yet to be identified."
   ]
  },
  {
   "cell_type": "markdown",
   "metadata": {},
   "source": [
    "### Wolf-Rayet Stars\n",
    "Closely related to LBVs are the [Wolf-Rayet](https://en.wikipedia.org/wiki/Wolf%E2%80%93Rayet_star) (WR) stars, which were first discovered by [Charles Wolf](https://en.wikipedia.org/wiki/Charles_Wolf_(astronomer)) and [Georges Rayet](https://en.wikipedia.org/wiki/Georges_Rayet) while working at the Paris Observatory in 1867.  Using a visual-wavelength spectrometer to conduct a survey of stars in Cygnus, they observed three stars (within one degree of each other) that exhibited strong, very broad emission lines rather than the typical absorption lines observed in other stars.  Today 220+ WR stars have been identified in the Milky Way, although the total number of WRs is estimated to be 1000-2000 on the basis of sampling statistics.\n",
    "\n",
    "Along with strong emission lines, WR stars are very hot, with effective temperatures of $25,000-100,000\\ {\\rm K}$.  WRs are also losing mass ($>10^{-5}\\ M_\\odot/{\\rm yr}$) with wind speeds from $800-3000\\ {\\rm km/s}$. There is strong evidence that many (perhaps all) WR stars are rapid rotators with equatorial speeds of $\\sim 300\\ {\\rm km/s}$.  LBVs are all very massive stars ($85\\ M_\\odot$), but WRs can have progenitor masses as low as $20\\ M_\\odot$.  Also, WRs do not demonstrate the dramatic variability that is characteristic of LBVs.\n",
    "\n",
    "As mentioned previously, the unusual spectra really sets WR stars apart from other stars.  The spectra also reveal a spectra that we today recognize as three classes: WN, WC, and WO.\n",
    "\n",
    "- WNs are dominated by emission lines of helium and nitrogen, although emission from carbon, oxygen, and hydrogen is detectable in some cases.\n",
    "- WCs exhibit emission lines of helium and carbon, with a distinct absence of nitrogen and hydrogen lines.\n",
    "- WOs are much rarer than either WNs or WCs.  They have spectra containing prominent oxygen lines, with some contribution from highly ionized species.\n",
    "\n",
    "WN and WC stars are further subclassified based on the degree of ionization in their atmospheres.  They are also classified as \"early\" (E) or \"late\" (L).  For example, for the WN stars:\n",
    "\n",
    "- *WN2* stars show spectral lines of ${\\rm He\\ II}$, ${\\rm N\\ IV}$, and ${\\rm O\\ VI}$.\n",
    "- *WN9* stars contain spectra of low-ionization species, such as ${\\rm He\\ I}$ and ${\\rm N\\ III}$. \n",
    "- *WNE* stars are Wolf-Rayet stars of ionization classes WN2-WN5.\n",
    "- *WNL* stars are ionization classes WN6-WN11.\n",
    "\n",
    "and for the WC stars:\n",
    "\n",
    "- *WC4* stars have higher ionization levels (${\\rm He\\ II,\\ O\\, IV,\\ C\\ VI}$)\n",
    "- *WC9* stars exhibit lower ionization levels, such as ${\\rm He\\ I}$ and ${\\rm C\\ II}$\n",
    "- *WCE*s range from WC4-WC6\n",
    "- *WCL*s range from WC7-WC9\n",
    "\n",
    "A trend in composition from WN $\\rightarrow$ WC $\\rightarrow$ WO was eventually recognized as a direct consequence of the stellar mass loss.  WNs have lost virtually all of their hydrogen-dominated envelopes, which reveals the material synthesized by nuclear reactions in the core.  Core convection brings material to the surface that has been processed by the CNO cycle.  Additional mass loss results in the ejection of the CNO processed material, which exposes the helium-burning material generated by the triple alpha process.  If the star survives long enough, mass loss will eventually strip away all but the oxygen component of the triple-alpha ash.\n",
    "\n",
    "In addition to LBVs and WRs, the upper portion of the H-R diagram also contains **blue supergiants** (BSG), **red supergiants**, and **Of** stars (O supergiants with pronounced emission lines)."
   ]
  },
  {
   "cell_type": "markdown",
   "metadata": {},
   "source": [
    "### A General Evolutionary Scheme for Massive Stars\n",
    "A general evolution path for massive stars has been outline, where the scheme was originally suggested by [Peter Conti](https://ui.adsabs.harvard.edu/abs/1975MSRSL...9..193C/abstract) and subsequently modified.  In each case the star ends its life in a **supernova** (SN) explosion.  Note that the masses listed below oar only approximate ([Massey (2003)](https://ui.adsabs.harvard.edu/abs/2003ARA%26A..41...15M/abstract)).\n",
    "\n",
    "$$\\begin{align*}\n",
    "M > 85\\ M_\\odot &: {\\rm O} \\rightarrow {\\rm Of} \\rightarrow {\\rm LBV} \\rightarrow {\\rm WN} \\rightarrow {\\rm WC} \\rightarrow {\\rm SN} \\\\\n",
    "40\\ M_\\odot < M < 85\\ M_\\odot &: {\\rm O} \\rightarrow {\\rm Of} \\rightarrow {\\rm WN} \\rightarrow {\\rm WC} \\rightarrow {\\rm SN} \\\\\n",
    "25\\ M_\\odot < M < 40\\ M_\\odot &: {\\rm O} \\rightarrow {\\rm RSG} \\rightarrow {\\rm WN} \\rightarrow {\\rm WC} \\rightarrow {\\rm SN} \\\\\n",
    "20\\ M_\\odot < M < 25\\ M_\\odot &: {\\rm O} \\rightarrow {\\rm RSG} \\rightarrow {\\rm WN} \\rightarrow {\\rm SN} \\\\\n",
    "10\\ M_\\odot < M < 20\\ M_\\odot &: {\\rm O} \\rightarrow {\\rm RSG} \\rightarrow {\\rm BSG} \\rightarrow {\\rm SN} \\\\\n",
    "\\end{align*} $$\n",
    "\n",
    "This qualitative evolutionary scheme is supported by detailed numerical evolutionary models of massive star formation.  Evolutionary tracks for stars of solar composition are calculated for the range from $9-120\\ M_\\odot$.  The models can be modified if the include the effects of the equatorial rotation, which have appreciable effects on driving internal mixing and enhancing mass loss as part of the stellar evolution. \n",
    "\n",
    "### The Humphreys-Davidson Luminosity Limit\n",
    "The massive-star evolutionary tracks indicate that the most massive stars never evolve to the red supergiant (RSG) portion of the H-R diagram.  This is consistent with observations.  Humphreys and Davidson first pointed out the there is an upper-luminosity cut-off in the H-R diagram that includes a diagonal component running from highest luminosities and effective temperatures to lower values in both parameters.  When full redward evolutionary tracks develop for stars below $\\sim 40\\ M_\\odot$, the **Humphreys-Davidson luminosity limit** continues at constant luminosity.\n",
    "\n",
    "Very massive stars are extremely rare (only one $100\\ M_\\odot$ star exists for every one million solar mass stars), but they play a major role in the dynamics and chemical evolution of the ISM.  The tremendous amount of kinetic energy deposited in the ISM through the stellar winds of massive stars has an impact on the kinematics of the ISM.  When very massive stars form, they have the ability to quench (stop) star formation in neighboring regions.  The UV light from massive stars can also ionize gas clouds around them.  The highly enriched gases of massive stellar winds increase the metal content of the ISM, resulting in the formation of increasingly metal-rich stars."
   ]
  },
  {
   "cell_type": "markdown",
   "metadata": {},
   "source": [
    "### **Problems**\n",
    ">1\\. During the Great Eruption of $\\eta$ Car, the apparent visual magnitude reached a characteristic value of $m_V \\sim 0$. Assume that the interstellar extinction to $\\eta$ Car is 1.7 magnitudes and that the bolometric correction is essentially zero.\n",
    ">\n",
    ">>**(a)** Estimate the luminosity of $\\eta$ Car during the Great Eruption.  \n",
    ">>\n",
    ">>**(b)** Determine the total amount of photon energy liberated during the twenty years of the Great Eruption.  \n",
    ">>\n",
    ">>**(c)** If $3\\ M_\\odot$ of material was ejected at a speed of $650\\ {\\rm km/s}$, how much energy went into the kinetic energy of the ejecta?\n",
    ">\n",
    ">2\\. The angular extent of one of the lobes of $\\eta$ Car is approximately $8.5^{\\prime\\prime}$. Assuming a constant expansion of the lobes of $650\\ {\\rm km/s}$, estimate how long it has been since the Great Eruption that produced the lobes. Is this likely to be an overestimate or an underestimate? Justify your answer."
   ]
  },
  {
   "cell_type": "markdown",
   "metadata": {},
   "source": [
    "## The Classification of Supernovae\n",
    "In 1006, an extremely bright star suddenly appeared in the constellation [Lupus](https://en.wikipedia.org/wiki/Lupus_(constellation)), which reached an estimated visual magnitude of $m_V = -9$ and it was reportedly bright enough to read by at night (compared to a full Moon, $m=-12.5$, which is $\\sim 25\\times$ brighter).  The event was recorded by astrologers across Europe, China, Japan, Egypt, and Iraq.  Based on their writings, the bright star appeared bout April 30, 1006 and faded from view roughly one year later.  Today, this event is called **Supernova 1006** (SN 1006).\n",
    "\n",
    "```{note}\n",
    "A very small number of supernovae have been [recorded from historical writings](https://en.wikipedia.org/wiki/History_of_supernova_observation) more than 2000 years ago.  When a supernova date or year is given, it is most likely referring to A.D. or CE for the year.\n",
    "```\n",
    "\n",
    "Other similar events have been recorded through human history, although they are rare.  Only 48 years after the 1006 event, a \"guest star\" appeared in the constellation Taurus.  Yang Wei-T'e, a court astrologer during China's Sung dynasty, recorded the event and noted that *after more than a year it gradually became invisible.*  The star was also noted by the Japanese, Koreans, and Arabs (appearing in an Arabic medical textbook).  The Europeans may have witnessed the event as well, but the evidence is unclear.  Like the previous event, the amazing star was visible during daylight (like the Moon is at times).  Modern astronomers have identified a rapidly expanding cloud, which is the reported location of the ancient \"guest star\" and is known as the **Crab supernova remnant**.\n",
    "\n",
    "Another star suddenly appeared in the heavens about 500 years later that was witnessed by Tycho Brahe in 1572.  The strange occurrence was clearly in contrast to the Western belief that the heavens were unchanging.  Johannes Kepler also witnessed a supernova explosion in 1604, where these two events are now known as **Tycho's supernova** and **Kepler's supernova**.\n",
    "\n",
    "Kepler's supernova was the last observed supernova to occur in the Milky Way.  On February 24, 1987 at 23 UT, Ian Shelton detected **SN 1987A** just southwest of a massive molecular cloud region in the Large Magellanic Cloud (LMC) known as 30 Doradus; the observation was made with a 10-inch astrograph (Newtonian reflector) at Las Campanas Observatory in Chile.  The LMC is a dwarf galaxy and only 50 kpc from Earth.  It was quickly realized that the progenitor of the supernova was a blue supergiant (BSG) star.  Nicholas Sanduleak had cataloged the star [Sk -69 202](https://en.wikipedia.org/wiki/Sanduleak_-69_202) while investigating hot stars in the Magellanic Clouds.\n",
    "\n",
    "### Classes of Supernovae\n",
    "Today, astronomers routinely observe supernovae in other galaxies, where the \"A\" in SN 1987A represents the first supernova reported that year.  However, supernovae are exceedingly rare events, which typically occur about *once very 100 years in any one galaxy*.  There are many galaxies to study and over time, it has been realized that there are several distinct classes of supernovae with different classes of underlying progenitors and mechanisms.\n",
    "\n",
    "- **Type I** supernovae were identified as those without any hydrogen lines in their spectra.  Given that hydrogen is the most abundant element, this was an indication of something unusual.  These supernovae are further subdivided according to their spectra.\n",
    "    - **Type Ia** show a strong ${\\rm Si\\ II}$ line at 615 nm.\n",
    "    - **Type Ib** or **Ic** are classified by the respective presence or absence of strong helium lines.\n",
    "- **Type II** supernovae contain strong hydrogen lines, in contrast to the Type I supernovae.\n",
    "\n",
    "The lack of hydrogen lines in Type I supernovae indicates that the progenitor stars were stripped of their hydrogen envelopes.  The differences in the spectral signatures between each Type I (a, b, or c) indicate that different physical mechanisms are at work.  Type Ia are found in all types of galaxies, including ellipticals that show very little evidence of recent star formation (e.g., ${\\rm H\\ II}$ regions).  Short-lived, massive stars are probably involved with Types Ib and Ic (to expose or get rid of the excess helium), but not with Type Ia.\n",
    "\n",
    "The typical peak brightness of a Type Ia is $M_B = -18.4$, while the light curves of Types Ib and Ic are fainter by 1.5-2 magnitudes (in blue light).  All Type I supernovae show similar rates of decline of their brightness after the maximum with a decline of $0.065 \\pm 0.007$ magnitude per day at 20 days.  After about 50 days the dimming slows and becomes constant, where a Type Ia declines 50% faster $(0.015\\ {\\rm mag/day})$ than the other Type Is $(0.010\\ {\\rm mag/day})$.  It is believed that SN 1006, Tycho (SN 1572), and Kepler (Sn 1604) were all Type I.\n",
    "\n",
    "Observationally, Type II supernovae are characterized by a rapid rise in luminosity and reach a maximum brightness that is typically 1.5 magnitudes dimmer than a Type Ia.  The peak light output is followed by a steady decrease, which drops 6-8 magnitudes in a year.  Their spectra also exhibit lines associate with hydrogen and heavier elements.  P Cygni profiles are common in many lines, which indicates rapid expansion.  The Crab supernova (SN 1054) and SN 1987A were Type II."
   ]
  },
  {
   "cell_type": "markdown",
   "metadata": {},
   "source": [
    "## Core-Collapse Supernovae\n",
    "\n",
    "### Core-Collapse Supernova Mechanism"
   ]
  },
  {
   "cell_type": "markdown",
   "metadata": {},
   "source": [
    "### Stellar Remnants of a Core-Collapse Supernova\n",
    "\n",
    "### The Light Curves and the Radioactive Decay of the Ejecta"
   ]
  },
  {
   "cell_type": "markdown",
   "metadata": {},
   "source": [
    "### The Subluminous Nature of SN 1987A\n",
    "\n",
    "### Supernova Remnants\n",
    "\n",
    "### The Detection of Neutrinos from SN 1987A\n",
    "\n",
    "### The Search for a Compact Remnant of SN 1987A"
   ]
  },
  {
   "cell_type": "markdown",
   "metadata": {},
   "source": [
    "### Chemical Abundance Ratios in the Universe\n",
    "\n",
    "### s-Process and r-Process Nucleosynthesis"
   ]
  }
 ],
 "metadata": {
  "language_info": {
   "name": "python"
  },
  "orig_nbformat": 4
 },
 "nbformat": 4,
 "nbformat_minor": 2
}
