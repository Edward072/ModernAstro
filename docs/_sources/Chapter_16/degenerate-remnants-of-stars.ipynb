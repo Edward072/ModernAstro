{
 "cells": [
  {
   "cell_type": "markdown",
   "metadata": {},
   "source": [
    "# The Degenerate Remnants of Stars\n",
    "\n",
    "## The Discovery of Sirius B\n",
    "In 1838, [Friedrich Wilhelm Bessel](https://en.wikipedia.org/wiki/Friedrich_Bessel) used the technique of stellar parallax to find the distance to the star 61 Cygni.  The next candidate Bessel tried was [Sirus](https://en.wikipedia.org/wiki/Sirius), the brightest star in the sky.  It's parallax angle is $p = 0.379^{\\prime\\prime}$, which corresponds to a distance of only 2.64 pc, or 8.61 ly. Sirius' brilliance is due (in part) to its proximy to Earth.  Bessel tracked Sirius' path across the sky and found that it deviated slightly from a straight line.  Using 10 years of precise observation, Bessel concluded (in 1844) that Sirius was actually a binary star system.  He deduced that the binary orbital period was 50 years, where the modern value is $50.1284 \\pm 0.0043$ years ([Bond et al 2017](https://iopscience.iop.org/article/10.3847/1538-4357/aa6af8)) and the position of the secondary star.\n",
    "\n",
    "Bessel's telecopses were incapable of finding the \"Pup\" (i.e., the unseen companion of the luminous \"Dog Star\") due to the glare of Sirius.  After Bessel's death in 1846, the search for the Pup waned.  In 1862, [Alvan Graham Clark](https://en.wikipedia.org/wiki/Alvan_Graham_Clark) tested his father's new 18-inch refractor (3 inches longer than any previous instrument) on Sirius, and he discovered the Pup at its predicted position.  The dominant Sirius A was measured to be nearly $1000\\times$ brighter than the Pup (now called Sirius B).  The orbits of the stars about their center of mass revealed that Sirius A and Sirius B are about $2.3\\ M_\\odot$ and $1.0\\ M_\\odot$, respectively.  The modern values are $2.063 \\pm 0.023\\ M_\\odot$ and $1.018 \\pm 0.011\\ M_\\odot$ ([Bond et al 2017](https://iopscience.iop.org/article/10.3847/1538-4357/aa6af8)).\n",
    "\n",
    "Clark's discovery of Sirius B was made when the stars were most widely separated (by just $10^{\\prime\\prime}$) at apastron.  The great difference in their luminosities: $L_A = 25.4\\ L_\\odot$ and $L_B=0.056\\ L_\\odot$ makes observations difficult when the stars are closer together on the sky.  The next apastron comes 50 years later, where spectroscopists developed the tools to measure each star's surface temperature.  From the Pup's faint appearance, astronomers expected it to be cool and red, but they discovered that it is a hot, blue-white star that emits much of its energy in the UV.  Modern observations measure the surface temperature of Sirius B (the Pup) at $25,000 \\pm 200\\ {\\rm K}$, which is much hotter than Sirius A at $9940\\ {\\rm K}$.\n",
    "\n",
    "- **Given the modern measurements, what are the size and density of Sirius B?**\n",
    "\n",
    ">The size of Sirius B can be estimated using the Stefan-Boltzman law,\n",
    ">\n",
    ">$$ \\frac{L}{L_\\odot} = \\left(\\frac{R}{R_\\odot}\\right)^2 \\left(\\frac{T}{T_\\odot}\\right)^4, $$\n",
    ">\n",
    ">where the Sun's surface temperature is $5777\\ {\\rm K}$.  Rearranging the above equation in terms of the stellar radius $R$, we get\n",
    ">\n",
    ">$$ \\frac{R}{R_\\odot} = \\sqrt{\\frac{L}{L_\\odot}} \\left(\\frac{T}{T_\\odot}\\right)^{-2}. $$\n",
    ">\n",
    ">The size of Sirius B is 0.0126 $R_\\odot$ or 1.38 $R_\\oplus$, while the density is $7.11 \\times 10^8\\ {\\rm kg/m^3}$.  Sirius B is a Solar mass star compressed into a roughly Earth-sized volume and the acceleration due to gravity is about $1.8 \\times 10^6\\ {\\rm m/s^2}$."
   ]
  },
  {
   "cell_type": "code",
   "execution_count": 7,
   "metadata": {},
   "outputs": [
    {
     "name": "stdout",
     "output_type": "stream",
     "text": [
      "The radius of Sirius B is 0.0126 R_Sun, 1.38 R_Earth, or 8.79e+06 m.\n",
      "The density of Sirius B is 7.11e+08 kg/m^3\n",
      "The acceleration due to gravity at the surface of Sirius B is 1.75e+06 m/s^2.\n"
     ]
    }
   ],
   "source": [
    "import numpy as np\n",
    "from scipy.constants import G\n",
    "\n",
    "L_SiriusB = 0.056 #luminosity in solar units\n",
    "T_SiriusB = 25000 #surface temperature of Sirius B in K\n",
    "T_sun = 5777 #surface temperature of the Sun in K\n",
    "R_sun = 6.957e8 #radius of the Sun in m\n",
    "R_Earth = 6371e3 #radius of the Earth in m\n",
    "\n",
    "R_SiriusB = np.sqrt(L_SiriusB)*(T_sun/T_SiriusB)**2\n",
    "\n",
    "print(\"The radius of Sirius B is %1.4f R_Sun, %1.2f R_Earth, or %1.2e m.\" % (R_SiriusB,R_SiriusB*R_sun/R_Earth,R_SiriusB*R_sun))\n",
    "\n",
    "M_sun = 1.989e30 #mass of the Sun in kg\n",
    "M_SiriusB = 1.018 #mass of Sirius B in solar units\n",
    "\n",
    "rho_SiriusB = (M_SiriusB*M_sun)/(4./3.*np.pi*(R_SiriusB*R_sun)**3)\n",
    "print(\"The density of Sirius B is %1.2e kg/m^3\" % rho_SiriusB)\n",
    "\n",
    "g_SiriusB = G*M_SiriusB*M_sun/(R_SiriusB*R_sun)**2\n",
    "print(\"The acceleration due to gravity at the surface of Sirius B is %1.2e m/s^2.\" % g_SiriusB)"
   ]
  },
  {
   "cell_type": "markdown",
   "metadata": {},
   "source": [
    "On Earth, the pull of gravity on a teaspoon of white dwarf material would be approximately $34,300\\ {\\rm N}$. This fierce gravity veals itself in the spectrum of Sirius B, where it produces an immense pressure near the surface that results in very broad hydrogen absorption lines.  Apart from these lines, its spectrum is a featureless continuum.\n",
    "\n",
    "Astronomers initially dismissed the results, calling them \"absurd\".  However, the calculations are so simple and straightforward that this attitude changed.  In 1922, Eddington said, \"*Strange objects, which persist in showing a type of spectrum entirely out of keeping with their luminosity, may ultimately teach us more than a host which radiate according to rule.*\"  Like all sciences, astronomy advances most rapidly when confronted with exceptions to its theories."
   ]
  },
  {
   "cell_type": "markdown",
   "metadata": {},
   "source": [
    "## White Dwarfs\n",
    "Obviously Sirius B is not a *normal* star, where it is in a class of stars that have approximately the mass of the Sun and the size of Earth called **white dwarfs**.  As many as 1/4 of the stars in the Solar neighborhood may be white dwarfs.  The average characteristics of these faint stars have been difficult to determine because a complete sample has only been obtained within 10 pc of the Sun.\n",
    "\n",
    "### Classes of White Dwarf Stars\n",
    "\n",
    "### Central Conditions in White Dwarfs\n",
    "\n",
    "### Spectra and Surface Composition\n",
    "\n",
    "### Pulsating White Dwarfs"
   ]
  },
  {
   "cell_type": "markdown",
   "metadata": {},
   "source": [
    "## The Physics of Degenerate Matter\n",
    "\n",
    "### The Pauli Exclusion Principle and Electron Degeneracy\n",
    "\n",
    "### The Fermi Energy\n",
    "\n",
    "### The condition for Degeneracy"
   ]
  },
  {
   "cell_type": "markdown",
   "metadata": {},
   "source": [
    "### Electron Degeneracy Pressure"
   ]
  },
  {
   "cell_type": "markdown",
   "metadata": {},
   "source": [
    "## The Chandrasekhar Limit\n",
    "\n",
    "### The Mass-Volume Relation\n",
    "\n",
    "### Dynamical Instability\n",
    "\n",
    "### Estimating the Chandrasekhar Limit"
   ]
  },
  {
   "cell_type": "markdown",
   "metadata": {},
   "source": [
    "## The Cooling of White Dwarfs\n",
    "\n",
    "### Energy Transport\n",
    "\n",
    "### The Cooling Timescale\n",
    "\n",
    "### The Change in Luminosity with Time\n",
    "\n",
    "### Crystallization\n",
    "\n",
    "### Comparing Theory with Observations"
   ]
  },
  {
   "cell_type": "markdown",
   "metadata": {},
   "source": [
    "## Neutron Stars\n",
    "\n",
    "### Neutron Degeneracy\n",
    "\n",
    "### The Density of a Neutron Star\n",
    "\n",
    "### The Equation of State\n",
    "\n",
    "### Neutron Star Models\n",
    "\n",
    "### The Chandrasekhar Limit for Neutron Stars\n",
    "\n",
    "### Rapid Rotation and Conservation of Angular Momentum\n",
    "\n",
    "### \"Freezing In\" Magnetic Field Lines\n",
    "\n",
    "### Neutron Star Temperatures"
   ]
  },
  {
   "cell_type": "markdown",
   "metadata": {},
   "source": [
    "## Pulsars\n",
    "\n",
    "### General Characteristics\n",
    "\n",
    "### Possible Pulsar Models\n",
    "\n",
    "### Pulsars as Rapidly Rotating Neutron Stars\n",
    "\n",
    "### Geminga\n",
    "\n",
    "### Evidence for a Core-Collapse Supernova Origin\n",
    "\n",
    "### Synchrotron and Curvature Radiation\n",
    "\n",
    "### The Energy Source for the Crab's Synchrotron Radiation\n",
    "\n",
    "### The Structure of the Pulses\n",
    "\n",
    "### The Basic Pulsar Model\n",
    "\n",
    "### Correlation Between Period Derivatives and Pulsar Classes\n",
    "\n",
    "### Toward a Model of Pulsar Emission\n",
    "\n",
    "### Magnetars and Soft Gamma Repeaters"
   ]
  }
 ],
 "metadata": {
  "interpreter": {
   "hash": "cff387fdeb90e4ccced9dcd80621bb508127aaf7364e37afa52690e3819a2639"
  },
  "kernelspec": {
   "display_name": "Python 3.8.8 ('base')",
   "language": "python",
   "name": "python3"
  },
  "language_info": {
   "codemirror_mode": {
    "name": "ipython",
    "version": 3
   },
   "file_extension": ".py",
   "mimetype": "text/x-python",
   "name": "python",
   "nbconvert_exporter": "python",
   "pygments_lexer": "ipython3",
   "version": "3.8.8"
  },
  "orig_nbformat": 4
 },
 "nbformat": 4,
 "nbformat_minor": 2
}
