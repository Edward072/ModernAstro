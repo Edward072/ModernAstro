{
 "cells": [
  {
   "cell_type": "markdown",
   "metadata": {},
   "source": [
    "# The Degenerate Remnants of Stars\n",
    "\n",
    "## The Discovery of Sirius B\n",
    "In 1838, [Friedrich Wilhelm Bessel](https://en.wikipedia.org/wiki/Friedrich_Bessel) used the technique of stellar parallax to find the distance to the star 61 Cygni.  The next candidate Bessel tried was [Sirus](https://en.wikipedia.org/wiki/Sirius), the brightest star in the sky.  It's parallax angle is $p = 0.379^{\\prime\\prime}$, which corresponds to a distance of only 2.64 pc, or 8.61 ly. Sirius' brilliance is due (in part) to its proximy to Earth.  Bessel tracked Sirius' path across the sky and found that it deviated slightly from a straight line.  Using 10 years of precise observation, Bessel concluded (in 1844) that Sirius was actually a binary star system.  He deduced that the binary orbital period was 50 years, where the modern value is $50.1284 \\pm 0.0043$ years ([Bond et al 2017](https://iopscience.iop.org/article/10.3847/1538-4357/aa6af8)) and the position of the secondary star.\n",
    "\n",
    "Bessel's telecopses were incapable of finding the \"Pup\" (i.e., the unseen companion of the luminous \"Dog Star\") due to the glare of Sirius.  After Bessel's death in 1846, the search for the Pup waned.  In 1862, [Alvan Graham Clark](https://en.wikipedia.org/wiki/Alvan_Graham_Clark) tested his father's new 18-inch refractor (3 inches longer than any previous instrument) on Sirius, and he discovered the Pup at its predicted position.  The dominant Sirius A was measured to be nearly $1000\\times$ brighter than the Pup (now called Sirius B).  The orbits of the stars about their center of mass revealed that Sirius A and Sirius B are about $2.3\\ M_\\odot$ and $1.0\\ M_\\odot$, respectively.  The modern values are $2.063 \\pm 0.023\\ M_\\odot$ and $1.018 \\pm 0.011\\ M_\\odot$ ([Bond et al 2017](https://iopscience.iop.org/article/10.3847/1538-4357/aa6af8)).\n",
    "\n",
    "Clark's discovery of Sirius B was made when the stars were most widely separated (by just $10^{\\prime\\prime}$) at apastron.  The great difference in their luminosities: $L_A = 25.4\\ L_\\odot$ and $L_B=0.056\\ L_\\odot$ makes observations difficult when the stars are closer together on the sky.  The next apastron comes 50 years later, where spectroscopists developed the tools to measure each star's surface temperature.  From the Pup's faint appearance, astronomers expected it to be cool and red, but they discovered that it is a hot, blue-white star that emits much of its energy in the UV.  Modern observations measure the surface temperature of Sirius B (the Pup) at $25,000 \\pm 200\\ {\\rm K}$, which is much hotter than Sirius A at $9940\\ {\\rm K}$.\n",
    "\n",
    "- **Given the modern measurements, what are the size and density of Sirius B?**\n",
    "\n",
    ">The size of Sirius B can be estimated using the Stefan-Boltzman law,\n",
    ">\n",
    ">$$ \\frac{L}{L_\\odot} = \\left(\\frac{R}{R_\\odot}\\right)^2 \\left(\\frac{T}{T_\\odot}\\right)^4, $$\n",
    ">\n",
    ">where the Sun's surface temperature is $5777\\ {\\rm K}$.  Rearranging the above equation in terms of the stellar radius $R$, we get\n",
    ">\n",
    ">$$ \\frac{R}{R_\\odot} = \\sqrt{\\frac{L}{L_\\odot}} \\left(\\frac{T}{T_\\odot}\\right)^{-2}. $$\n",
    ">\n",
    ">The size of Sirius B is 0.0126 $R_\\odot$ or 1.38 $R_\\oplus$, while the density is $7.11 \\times 10^8\\ {\\rm kg/m^3}$.  Sirius B is a Solar mass star compressed into a roughly Earth-sized volume and the acceleration due to gravity is about $1.8 \\times 10^6\\ {\\rm m/s^2}$."
   ]
  },
  {
   "cell_type": "code",
   "execution_count": 7,
   "metadata": {},
   "outputs": [
    {
     "name": "stdout",
     "output_type": "stream",
     "text": [
      "The radius of Sirius B is 0.0126 R_Sun, 1.38 R_Earth, or 8.79e+06 m.\n",
      "The density of Sirius B is 7.11e+08 kg/m^3\n",
      "The acceleration due to gravity at the surface of Sirius B is 1.75e+06 m/s^2.\n"
     ]
    }
   ],
   "source": [
    "import numpy as np\n",
    "from scipy.constants import G\n",
    "\n",
    "L_SiriusB = 0.056 #luminosity in solar units\n",
    "T_SiriusB = 25000 #surface temperature of Sirius B in K\n",
    "T_sun = 5777 #surface temperature of the Sun in K\n",
    "R_sun = 6.957e8 #radius of the Sun in m\n",
    "R_Earth = 6371e3 #radius of the Earth in m\n",
    "\n",
    "R_SiriusB = np.sqrt(L_SiriusB)*(T_sun/T_SiriusB)**2\n",
    "\n",
    "print(\"The radius of Sirius B is %1.4f R_Sun, %1.2f R_Earth, or %1.2e m.\" % (R_SiriusB,R_SiriusB*R_sun/R_Earth,R_SiriusB*R_sun))\n",
    "\n",
    "M_sun = 1.989e30 #mass of the Sun in kg\n",
    "M_SiriusB = 1.018 #mass of Sirius B in solar units\n",
    "\n",
    "rho_SiriusB = (M_SiriusB*M_sun)/(4./3.*np.pi*(R_SiriusB*R_sun)**3)\n",
    "print(\"The density of Sirius B is %1.2e kg/m^3\" % rho_SiriusB)\n",
    "\n",
    "g_SiriusB = G*M_SiriusB*M_sun/(R_SiriusB*R_sun)**2\n",
    "print(\"The acceleration due to gravity at the surface of Sirius B is %1.2e m/s^2.\" % g_SiriusB)"
   ]
  },
  {
   "cell_type": "markdown",
   "metadata": {},
   "source": [
    "On Earth, the pull of gravity on a teaspoon of white dwarf material would be approximately $34,300\\ {\\rm N}$. This fierce gravity veals itself in the spectrum of Sirius B, where it produces an immense pressure near the surface that results in very broad hydrogen absorption lines.  Apart from these lines, its spectrum is a featureless continuum.\n",
    "\n",
    "Astronomers initially dismissed the results, calling them \"absurd\".  However, the calculations are so simple and straightforward that this attitude changed.  In 1922, Eddington said, \"*Strange objects, which persist in showing a type of spectrum entirely out of keeping with their luminosity, may ultimately teach us more than a host which radiate according to rule.*\"  Like all sciences, astronomy advances most rapidly when confronted with exceptions to its theories."
   ]
  },
  {
   "cell_type": "markdown",
   "metadata": {},
   "source": [
    "## White Dwarfs\n",
    "Obviously Sirius B is not a *normal* star, where it is in a class of stars that have approximately the mass of the Sun and the size of Earth called **white dwarfs**.  As many as 1/4 of the stars in the Solar neighborhood may be white dwarfs.  The average characteristics of these faint stars have been difficult to determine because a complete sample has only been obtained within 10 pc of the Sun.\n",
    "\n",
    "### Classes of White Dwarf Stars\n",
    "\n",
    "White dwarfs occupy a narrow sliver of the H-R diagram that is roughly parallel to (and below) the main sequence.  Although white dwarfs are typically whiter than normal stars, the name itself is a misnomer since they come in all colors, with surface temperatures ranging from $5000-80,000\\ {\\rm K}$.  Their spectral type D has several subdivisions, \n",
    "\n",
    "-  the largest group (about 2/3 of the total number, including Sirius B) is called **DA white dwarfs** and display only pressure-broadened hydrogen absorption lines in their spectra. \n",
    "- Hydrogen lines are absent from the **DB white dwarfs** (8% of the total number), which show only helium absorption lines.\n",
    "- No lines are shown at all in the **DC white dwarfs** (14% of the total number), only a continuum devoid of features.\n",
    "- The remaining 11% include the **DQ white dwarfs** that exhibit carbon features in their spectra and **DZ white white dwarfs** that have evidence of metal lines.\n",
    "\n",
    "### Central Conditions in White Dwarfs\n",
    "White dwarfs are very massive for their size, where we can not estimate the central pressure and temperature using our derived values.  Assuming that Sirius B represents a typical white dwarf (at least 2/3 of them) and recalling the estimate for the central pressure from [hydrostatic equilibrium](https://saturnaxis.github.io/ModernAstro/Chapter_11/interiors-of-stars.html#the-derivation-of-the-hydrostatic-equilibrium-equation), we have\n",
    "\n",
    "$$ P_c = \\int_{P_c}^0 dP = \\int_0^{R_{wd}} G\\left(\\frac{4}{3}\\pi r^3 \\rho \\right)\\rho rdr = \\frac{2}{3}\\pi G \\rho_{wd}^2 R_{wd}^2,  \\tag{1}$$\n",
    "\n",
    "which is roughly $5.5 \\times 10^{21}\\ {\\rm N/m^2}$ or 200,000 times greater than the pressure in the Sun $(P_{c,\\odot} = 2.477 \\times 10^{16}\\ {\\rm N/m^2})$."
   ]
  },
  {
   "cell_type": "code",
   "execution_count": 22,
   "metadata": {},
   "outputs": [
    {
     "name": "stdout",
     "output_type": "stream",
     "text": [
      "The central density of Sirius B is 7.11e+08 kg/m^3.\n",
      "The central pressure in Sirius B is 5.47e+21 N/m^2.\n",
      "The central pressure in Sirius B is 2e+05 times greater than the Sun.\n"
     ]
    }
   ],
   "source": [
    "import numpy as np\n",
    "from scipy.constants import G\n",
    "\n",
    "M_sun = 1.989e30 #mass of the Sun in kg\n",
    "T_sun = 5777 #surface temperature of the Sun in K\n",
    "R_sun = 6.957e8 #radius of the Sun in m\n",
    "\n",
    "M_SiriusB = 1.018*M_sun #mass of Sirius B in kg\n",
    "L_SiriusB = 0.056 #luminosity in solar units\n",
    "T_SiriusB = 25000 #surface temperature of Sirius B in K\n",
    "\n",
    "R_SiriusB = np.sqrt(L_SiriusB)*(T_sun/T_SiriusB)**2*R_sun #radius of Sirius B in m\n",
    "\n",
    "rho_SiriusB = M_SiriusB/(4./3.*np.pi*R_SiriusB**3)\n",
    "\n",
    "P_c = (2./3.)*G*np.pi*rho_SiriusB**2*R_SiriusB**2\n",
    "print(\"The central pressure in Sirius B is %1.2e N/m^2.\" % P_c)\n",
    "\n",
    "P_sun = 2.477e+16 #central pressure in Sun in N/m^2\n",
    "print(\"The central pressure in Sirius B is %1.0e times greater than the Sun.\" % (P_c/P_sun))"
   ]
  },
  {
   "cell_type": "markdown",
   "metadata": {},
   "source": [
    "A crude estimate of the central temperature can be obtained for the [radiative temperature gradient](https://saturnaxis.github.io/ModernAstro/Chapter_11/interiors-of-stars.html#the-radiative-temperature-gradient) as\n",
    "\n",
    "$$ \\frac{dT}{dr} = \\frac{T_{wd}-T_c}{R_{wd}-0} = - \\frac{3}{4ac}\\frac{\\overline{\\kappa}\\rho}{T_c^3}\\frac{L_{wd}}{4\\pi R_{wd}^2},  $$\n",
    "\n",
    "assuming that the surface temperature $T_{wd} \\ll T_c$.  We can also assume that $\\overline{\\kappa} = 0.02\\ {\\rm m^2/kg}$ (from the [Rosseland mean](https://saturnaxis.github.io/ModernAstro/Chapter_9/stellar-atmospheres.html#the-rosseland-mean-opacity) opacity for electron scattering with $X=0$), which gives\n",
    "\n",
    "$$ T_c \\approx \\left[\\frac{3\\overline{\\kappa}\\rho}{4ac} \\frac{L_{wd}}{4\\pi R_{wd}} \\right]^{1/4} \\approx 5.5 \\times 10^7\\ {\\rm K}.$$\n"
   ]
  },
  {
   "cell_type": "code",
   "execution_count": 18,
   "metadata": {},
   "outputs": [
    {
     "name": "stdout",
     "output_type": "stream",
     "text": [
      "The central temperature in Sirius B is 5.50e+07 K.\n"
     ]
    }
   ],
   "source": [
    "import numpy as np\n",
    "from scipy.constants import G,sigma,c\n",
    "\n",
    "M_sun = 1.989e30 #mass of the Sun in kg\n",
    "T_sun = 5777 #surface temperature of the Sun in K\n",
    "R_sun = 6.957e8 #radius of the Sun in m\n",
    "L_sun = 3.827e26 #luminosity of the Sun in W\n",
    "\n",
    "M_SiriusB = 1.018*M_sun #mass of Sirius B in kg\n",
    "L_SiriusB = 0.056*L_sun #luminosity in solar units\n",
    "T_SiriusB = 25000 #surface temperature of Sirius B in K\n",
    "\n",
    "R_SiriusB = np.sqrt(L_SiriusB/L_sun)*(T_sun/T_SiriusB)**2*R_sun #radius of Sirius B in m\n",
    "rho_SiriusB = M_SiriusB/(4./3.*np.pi*R_SiriusB**3)\n",
    "kappa_es = 0.02\n",
    "a_rad = 4.*sigma/c\n",
    "\n",
    "T_c = ((3*kappa_es*rho_SiriusB/(4*a_rad*c))*(L_SiriusB/(4.*np.pi*R_SiriusB)))**0.25\n",
    "\n",
    "print(\"The central temperature in Sirius B is %1.2e K.\" % T_c)"
   ]
  },
  {
   "cell_type": "markdown",
   "metadata": {},
   "source": [
    "These estimated values for a white dwarf show that hydrogen must be absent from the subsurface layers because they are high enough to start fusion and the white dwarf luminosities would be several orders of magnitude larger than observed.  As a result, the interiors of white dwarfs must contain particles that are incapable of fusion at these densities and temperatures (e.g., constituents of the PP I chain).\n",
    "\n",
    "White dwarfs are born from the cores of low- and intermediate-mass stars (i.e., those with a ZAMS mass $\\lesssim 8-9\\ M_\\odot$) near the end of their lives on the AGB of the H-R diagram.  Any star with a helium core mass $\\gtrsim 0.5\\ M_\\odot$ will undergo fusion and thus, most white dwarfs consist primarily of completely ionized carbon and oxygen nuclei (i.e., the left over ${\\rm CO}$ core).  As an AGB star ages, it expels its surface layers as planetary nebula, which exposes the core as a white dwarf.  The distribution of DA white dwarf masses is sharply peaked at $0.56\\ M_\\odot$, with some 80% lying between $0.42-0.70\\ M_\\odot$.  The much larger main-sequence masses must be lost on the AGB through thermal pulses and a superwind.\n",
    "\n",
    "### Spectra and Surface Composition\n",
    "The exceptionally strong pull of a white dwarf's gravity is responsible for the characteristic spectrum of DA white dwarfs.  In this process, heavier nuclei are pulled below the surface while the lighter hydrogen rises to the top and results in a thin outer layer of hydrogen covering a helium layer on top of the ${\\rm CO}$ core.  This vertical stratification takes only $\\sim100$ years in the hot stellar atmosphere.\n",
    "\n",
    "The origin of the non-DA (e.g., DB and DC) white dwarfs is not yet clear.  Efficient mass-loss may occur on the AGB associated with the thermal pulse or superwind phases, which strip the white dwarf of nearly all of its hydrogen.  Alternatively, a single white dwarf may be transformed between the DA and non-DA spectral types through convective mixing.  For example, the helium convection zone's penetration into a thin hydrogen layer could change a DA into a DB white dwarf by diluting the hydrogen with additional helium. \n",
    "\n",
    "### Pulsating White Dwarfs\n",
    "\n",
    "White dwarfs with surface temperatures of $T_e \\approx 12,000\\ {\\rm K}$ lie within the instability strip of the H-R diagram and pulsate with periods between $100-1000\\ {\\rm s}$.  In 1968, Arlo Landolt discovered a class of variable white dwarf stars, which are known as **ZZ Ceti** variables or **DAV** stars.  The pulsation periods correspond to the nonradial *g*-modes that resonate within the white dwarf's surface layers of hydrogen and helium.  These *g*-modes involve almost perfectly horizontal displacement and thus, the radii of these compact pulsators hardly change.  Their brightness variations ($\\sim 0.1\\ {\\rm mag}$) are due to temperature variations on the stellar surface.\n",
    "\n",
    "Successful numerical calculations of pulsating white dwarf models were carried out by [Don Winget (and others)](https://ui.adsabs.harvard.edu/abs/2008ARA%26A..46..157W/abstract), where they demonstrated that the *hydrogen* partial ionization zone is responsible for driving oscillations in the ZZ Ceti stars.  These computations also confirmed the elemental stratification of white dwarf envelopes.  These numerical models predict that hotter DB white dwarfs should also exhibit *g*-mode oscillations driven by the *helium* partial ionization zone.  Within a year's time from the initial prediction, it was confirmed when the first **DBV** star was discovered.  Some stars are described by their transition to the white dwarf stage as: DOV and PNNVs stars that have an effective temperature $T_e \\approx 10^5\\ {\\rm K}$.  The DO spectral type marks the initial stage of the white dwarf and the PNNV stands for planetary nebula nuclei."
   ]
  },
  {
   "cell_type": "markdown",
   "metadata": {},
   "source": [
    "## The Physics of Degenerate Matter\n",
    "\n",
    "### The Pauli Exclusion Principle and Electron Degeneracy\n",
    "Any system consists of quantum states that are identified by a set of quantum numbers.  A box of gas particles is filled with standing de Broglie waves that are described by three quantum numbers specifying a particle's momentum in each of three directions.  If the gas particles are fermions (e.g., electrons or neutrons), then the Pauli exclusion principle allows at most one fermion in each quantum state because no two fermions can have the same set of quantum numbers.\n",
    "\n",
    "At standard temperature and pressure ($20\\ {\\rm ^\\circ C}$ and 101,325 ${\\rm N/m^2}$), only one of every $10^7$ quantum states is occupied by a gas particle, and the limitations imposed by the Pauli exclusion principle become insignificant.  Ordinary gas has a *thermal* pressure that is related to it temperature by the ideal gas law (i.e., $PV = NkT$).  As energy ($PV$) is removed from the gas and its temperature falls, an increasingly large fraction of the particles are forced into *lower* energy states.  If the particles are fermions, only one particle is allowed in each state and thus, all the particles cannot crowd into the ground state.\n",
    "\n",
    "As the temperature of the gas is lowered, the fermions will fill up the lowest available unoccupied state first and successively occupy the excited states with the lowest energy.  Even in as the temperature approaches absolute zero ($T\\rightarrow 0\\ {\\rm K}$), the motion of the fermions in excited states produces a gas pressure.  At absolute zero, *all** the lower energy states and *none* of the higher energy states are occupied.  In this case, the fermion gas is completely **degenerate**.\n",
    "\n",
    "### The Fermi Energy\n",
    "\n",
    "The maximum energy of any electron in a completely degenerate gas (at absolute zero) is known as the **Fermi energy** $\\varepsilon_F$.  To determine this limiting energy, **consider a 3D box of length L on each side.** Treating the electrons as standing waves in the box, their wavelengths in each dimension are,\n",
    "\n",
    "$$ \\lambda_x = \\frac{2L}{N_x}, \\qquad \\lambda_y = \\frac{2L}{N_y}, \\qquad \\lambda_z = \\frac{2L}{N_z}, $$\n",
    "\n",
    "where there are integer quantum numbers ($N_x$, $N_y$, and $N_z$) associated with each dimension.  Recalling that the de Broglie wavelength is related to the components of momentum by,\n",
    "\n",
    "$$ p_x = \\frac{hN_x}{2L}, \\qquad p_y = \\frac{hN_y}{2L}, \\qquad p_z = \\frac{hN_z}{2L}. $$\n",
    "\n",
    "The total kinetic energy of a particle is the sum of the squares of each component of the momentum, or\n",
    "\n",
    "$$ \\varepsilon = \\frac{p^2}{2m} = \\frac{1}{2m}\\left(p_x^2 + p_y^2 + p_z^2 \\right). $$\n",
    "\n",
    "In terms of all the fundamental constants, the energy is\n",
    "\n",
    "$$ \\varepsilon = \\frac{h^2}{8mL^2}\\left(N_x^2 + N_y^2 + N_z^2 \\right) = \\frac{h^2N^2}{8mL^2}. \\tag{2}$$\n",
    "\n",
    "The total number of electrons in the gas corresponds to the total number of unique quantum numbers $(N_x,\\ N_y,\\ \\text{and}\\ N_z)$ times two.  \n",
    "\n",
    "```{note}\n",
    "The factor two arises due to the electrons being spin $1/2$ particles, so $m_s \\pm 1/2$ implies that two electron can have the same combination of $N_x,\\ N_y,\\ \\text{and}\\ N_z$, while still maintaining a unique set of *four* quantum numbers.\n",
    "```\n",
    "\n",
    "Each integer in a coordinate *N*-space corresponds to the quantum state of two electrons.  With a large enough sample of electrons, the electrons will fill out up to a radius $N$ but only for the positive octant of *N*-space (i.e., $N_x>0$, $N_y>0$, and $N_z>0$).  this means that the total number of electrons will be \n",
    "\n",
    "$$ N_e = 2 \\times \\left(\\text{volume of a positive octant of a sphere of radius N}\\right) = 2\\left(\\frac{1}{8}\\right)\\left( \\frac{4}{3}\\pi N^3\\right). $$\n",
    "\n",
    "Solving for $N$ and substituting into Eq. 2, we find that the Fermi energy is given by\n",
    "\n",
    "$$ \\varepsilon_F = \\frac{\\hbar^2}{2m_e} \\left( 3\\pi^2 n\\right)^{2/3}, \\tag{3} $$\n",
    "\n",
    "which depends on the mass of the electron $m_e$ and the number of electrons per unit volume $(n \\equiv N_e/L^3)$.  The average energy per electron at absolute zero is $\\frac{3}{5}\\varepsilon_F$.  The above derivation applies to any fermion, not just electrons.\n",
    "\n",
    "### The Condition for Degeneracy\n",
    "Some of the states with an energy less than $\\varepsilon_F$ will become vacant as fermions use their thermal energy to occupy more energetic states.  Although the degeneracy will not be precisely complete when $T>0\\ {\\rm K}$, the assumption of complete degeneracy is a good approximation at the densities encountered in the interior of a white dwarf.  All but the most energetic particles will have an energy less than the Fermi energy\n",
    "\n",
    "To understand the dependency of degeneracy on both temperature and density, we express the Fermi energy in terms of the density of the electron gas.  For full ionization, the number of electrons per unit volume is\n",
    "\n",
    "$$ n_e = \\left(\\frac{\\text{# of electrons}}{\\text{nucleon}}\\right) \\left(\\frac{\\text{# of nucleons}}{\\text{volume}} \\right) = \\left( \\frac{Z}{A}\\right) \\frac{\\rho}{m_H}, \\tag{4} $$\n",
    "\n",
    "which depends on the number of protons $Z$, nucleons $A$, and the mass of the hydrogen atom $m_H$.  The Fermi energy is proportional to the $2/3$ power of the density,\n",
    "\n",
    "$$ \\varepsilon_F = \\frac{\\hbar^2}{2m_e} \\left[ 3\\pi^2 \\left( \\frac{Z}{A}\\right) \\frac{\\rho}{m_H}\\right]^{2/3}. \\tag{5} $$\n",
    "\n",
    "Compare the Fermi energy with the average thermal energy of an electron ($\\frac{3}{2}kT$).  In rough terms, if $\\frac{3}{2}kT < \\varepsilon_F$, then an average electron wil be unable to make a transition to an unoccupied state, and the electron will be degenerate.  For a degenerate gas,\n",
    "\n",
    "$$ \\frac{3}{2}kT < \\frac{\\hbar^2}{2m_e} \\left[ 3\\pi^2 \\left( \\frac{Z}{A}\\right) \\frac{\\rho}{m_H}\\right]^{2/3}, $$\n",
    "\n",
    "or\n",
    "\n",
    "$$\\frac{T}{\\rho^{2/3}} < \\frac{\\hbar^2}{3m_e k}\\left[ \\frac{3\\pi^2}{m_H}\\left(\\frac{Z}{A}\\right) \\right]^{2/3}. $$\n",
    "\n",
    "For $Z/A = 0.5$, the right-hand side is $\\mathcal{D} \\equiv 1261\\ {\\rm K\\ m^2/kg^{2/3}}$, so that the condition for degeneracy can be written as\n",
    "\n",
    "$$ \\frac{T}{\\rho^{2/3}} < \\mathcal{D}. \\tag{6}$$\n",
    "\n",
    "The smaller the value of $T/\\rho^{2/3}$, the more degenerate the gas.\n",
    "\n",
    "- **How important is electron degeneracy at the centers of the Sun and Sirius B?**\n",
    "\n",
    "> At the center of the standard solar model, $T_c = 1.57 \\times 10^7\\ {\\rm K}$ and $\\rho_c = 1.527 \\times 10^5\\ {\\rm kg/m^3}$.  Then\n",
    ">\n",
    "> $$ \\frac{T_c}{\\rho^{2/3}} = 5500\\ {\\rm K\\ m^2/kg^{2/3}} > \\mathcal{D}. $$\n",
    ">\n",
    ">In the Sun, electron degeneracy is quite weak and plays a very minor role supplying only $\\sim 0.1\\%$ of the central pressure.  However, as the Sun continues to evolve, electron degeneracy will become increasingly important.\n",
    ">\n",
    ">For Sirius B, the values of the density and central temperature estimated above lead to \n",
    ">\n",
    "> $$ \\frac{T_c}{\\rho^{2/3}} = 69\\ {\\rm K\\ m^2/kg^{2/3}} \\ll \\mathcal{D}, $$\n",
    ">\n",
    ">which validates the assumption of complete degeneracy for Sirius B"
   ]
  },
  {
   "cell_type": "code",
   "execution_count": 49,
   "metadata": {},
   "outputs": [
    {
     "name": "stdout",
     "output_type": "stream",
     "text": [
      "The condition for degeneracy is 5495 K m^2/kg^{2/3} for the Sun.\n",
      "The condition for degeneracy is 69 K m^2/kg^{2/3} for Sirius B.\n"
     ]
    }
   ],
   "source": [
    "import numpy as np\n",
    "from scipy.constants import G,sigma,c\n",
    "\n",
    "rho_sun_c = 1.527e5 #central density of the Sun in kg/m^3\n",
    "T_sun_c = 1.57e7 #central temperature fo the Sun in K\n",
    "degen_sun = T_sun_c/rho_sun_c**(2/3)\n",
    "\n",
    "rho_SiriusB_c = 7.11e8 #central density of Sirius B in kg/m^3\n",
    "T_SiriusB_c = 5.50e7 # central temperature for Sirius B in K \n",
    "degen_SiriusB = T_SiriusB_c/rho_SiriusB_c**(2/3)\n",
    "\n",
    "print(\"The condition for degeneracy is %d K m^2/kg^{2/3} for the Sun.\" % degen_sun)\n",
    "print(\"The condition for degeneracy is %d K m^2/kg^{2/3} for Sirius B.\" % degen_SiriusB)"
   ]
  },
  {
   "cell_type": "markdown",
   "metadata": {},
   "source": [
    "### Electron Degeneracy Pressure\n",
    "We can estimate the electron degeneracy pressure by combining two key ideas of quantum mechanics:\n",
    "\n",
    "1. The Pauli exclusion principle, which allows at most one electron in each quantum state, and\n",
    "2. Heisenberg's uncertainty principle in the form of, $\\Delta x\\ \\Delta p_x \\approx \\hbar$, which requires that an electron confined to small volume of space have a correspondingly high uncertainty in its momentum.\n",
    "\n",
    "When we make the *unrealistic assumption* that all of the electrons have the same momentum $p$, the pressure integral becomes\n",
    "\n",
    "$$ P \\approx \\frac{1}{3}n_e\\ p\\ v, \\tag{7}$$\n",
    "\n",
    "which depends on the total electron number density $n_e$ and average speed $v$ of the electrons.\n",
    "\n",
    "In a completely degenerate electron gas and for a uniform number density of $n_e$, the separation between neighboring electrons is about $n_e^{-1/3}$.  However, the electron must maintain their identities as different particles to satisfy the Pauli exclusion principle (i.e., the uncertainty in their positions cannot be larger than their physical separation).  Identifying $\\Delta x \\approx n_e^{-1/3}$ for the limiting case of complete degeneracy, we can use Heisenberg's uncertainty relation to estimate the momentum of an electron.  In on coordinate direction,\n",
    "\n",
    "$$ p_x \\approx \\Delta p_x \\approx \\frac{\\hbar}{\\Delta x} \\approx \\hbar n_e^{1/3}. \\tag{8} $$\n",
    "\n",
    "In a 3D gas each of the directions is equally likely, which implies that\n",
    "\n",
    "$$ p_x^2 = p_y^2 = p_z^2, $$\n",
    "\n",
    "and is just a statement of the equipartition of energy among all the coordinate directions.  Therefore,\n",
    "\n",
    "$$ p^2 = p_x^2 = p_y^2 = p_z^2 = 3 p_x^2, $$\n",
    "\n",
    "or\n",
    "\n",
    "$$ p = \\sqrt{3}p_x. $$\n",
    "\n",
    "Using Eqn. 4 for the electron number density with full ionization gives\n",
    "\n",
    "$$ p \\approx \\sqrt{3}\\hbar \\left[\\left(\\frac{Z}{A}\\right)\\frac{\\rho}{m_H}\\right]^{1/3}. $$\n",
    "\n",
    "For *nonrelativistic* electrons, the speed is \n",
    "\n",
    "$$ v = \\frac{p}{m_e} \\approx \\frac{\\sqrt{3}\\hbar}{m_e}\\left[\\left(\\frac{Z}{A}\\right)\\frac{\\rho}{m_H}\\right]^{1/3}. \\tag{9} $$\n",
    "\n",
    "Inserting Eqns. 4 and 8 into Eqn. 9 for for the electron degeneracy pressure results in\n",
    "\n",
    "$$ P \\approx \\frac{\\hbar^2}{m_e}\\left[\\left(\\frac{Z}{A}\\right)\\frac{\\rho}{m_H}\\right]^{5/3}. \\tag{10} $$\n",
    "\n",
    "This is roughly a factor of tow smaller than the exact expression for the pressure due to a completely degenerate, nonrelativistic electron gas $P$,\n",
    "\n",
    "$$ P = \\frac{\\left(3\\pi^2\\right)^{2/3}}{5} \\frac{\\hbar^2}{m_e}\\left[\\left(\\frac{Z}{A}\\right)\\frac{\\rho}{m_H}\\right]^{5/3}. \\tag{11} $$\n",
    "\n",
    "Using $Z/A = 0.5$ for a carbon-oxygen white dwarf, Eqn. 11 shows that the electron degeneracy pressure available to support Sirius B is about $1.9 \\times 10^{22}\\ {\\rm N/m^2}$, which is within a factor of two from the central pressure estimated in Eqn. 1. *Electron degeneracy pressure is responsible for maintaining the hydrostatic equilibrium in a white dwarf*.\n",
    "\n",
    "```{note}\n",
    "You may have noticed that Eqn. 11 is the polytropic equation of state, $P=K\\rho^{5/3}$ with the polytropic index $n = 3/2$.  This implies that the Lane-Emden equation can be used to study these objects. \n",
    "```"
   ]
  },
  {
   "cell_type": "markdown",
   "metadata": {},
   "source": [
    "## The Chandrasekhar Limit\n",
    "\n",
    "### The Mass-Volume Relation\n",
    "The relation between the radius $R_{wd}$ and mass $M_{wd}$ of a white dwarf can be found by setting the estimate of the central pressure (Eqn. 1) equal to the electron degeneracy pressure (Eqn. 11):\n",
    "\n",
    "$$ \\frac{2}{3} \\pi G\\rho^2 R_{wd}^2 = \\frac{\\left(3\\pi^2\\right)^{2/3}}{5} \\frac{\\hbar^2}{m_e}\\left[\\left(\\frac{Z}{A}\\right)\\frac{\\rho}{m_H}\\right]^{5/3}. $$\n",
    "\n",
    "Assuming a constant density for the white dwarfs leads to an estimate of the radius,\n",
    "\n",
    "$$ R_{wd} \\approx \\frac{\\left(18\\pi \\right)^{2/3}}{10} \\frac{\\hbar^2}{GM_{wd}^{1/3}m_e} \\left[\\left(\\frac{Z}{A}\\right)\\frac{\\rho}{m_H}\\right]^{5/3}. \\tag{12} $$\n",
    "\n",
    "For a Solar-mass carbon-oxygen white dwarf, $R_{wd} \\approx 2.9 \\times 10^6\\ {\\rm m}$, which is too small by roughly a factor of 2 but an acceptable estimate.  A surprising implication is that $M_{wd}R_{wd}^3 = \\text{constant}$, or \n",
    "\n",
    "$$ M_{wd}V_{wd} = \\text{constant}. \\tag{14} $$\n",
    "\n",
    "The volume of a white dwarf is inversely proportional to its mass, where *more massive white dwarfs are actually smaller*.  This **mass-volume relation** is a result of the electron degeneracy pressure supporting the star.  The electrons must be more closely confined to generate the larger degeneracy pressure required to support a more massive star (i.e., $\\rho \\propto M_{wd}^2$).\n",
    "\n",
    "According to the mass-volume relation, a white dwarf would eventually shrink down to zero volume in the limit of continually adding mass.  However, if the density exceeds about $10^9\\ {\\rm kg/m^3}$, then there is a departure from this relation.  Using Eqn. 9 to estimate the speed of electrons in Sirius B results in\n",
    "\n",
    "$$ v = \\frac{\\hbar}{m_e}\\left[\\left(\\frac{Z}{A}\\right)\\frac{\\rho}{m_H}\\right]^{1/3} = 6.91 \\times 10^7\\ {\\rm m/s}, $$\n",
    "\n",
    "which is $0.23c$.  "
   ]
  },
  {
   "cell_type": "code",
   "execution_count": 66,
   "metadata": {},
   "outputs": [
    {
     "name": "stdout",
     "output_type": "stream",
     "text": [
      "The average speed of electrons in Sirius B is 6.91e+07 m/s or 0.230 c.\n"
     ]
    }
   ],
   "source": [
    "from scipy.constants import hbar, m_e,c\n",
    "\n",
    "Z = 1.\n",
    "A = 2.\n",
    "m_H = 1.6735575e-27 #mass of hydrogen in kg\n",
    "rho_SiriusB = 7.11e8 #central density of Sirius B in kg/m^3\n",
    "\n",
    "\n",
    "v_e =(hbar/m_e)*((Z/A)*(rho_SiriusB/m_H))**(1./3.)\n",
    "print(\"The average speed of electrons in Sirius B is %1.2e m/s or %1.3f c.\" % (v_e,v_e/c))"
   ]
  },
  {
   "cell_type": "markdown",
   "metadata": {},
   "source": [
    "If the mass-volume relation were correct, white dwarfs a bit more massive than Sirius B would be so mall and dense that their electrons would be superluminal (i.e., faster than the speed of light).  This points to the dangers of ignoring relativity in our expressions for the electron speed and pressure.  Because the electrons are moving more slowly than the nonrelativistic Eqn. 10 would indicate, there is less electron pressure available to support the star.  Thus, a massive white dwarf is smaller than predicted by the mass-volume relation.  *There is a limit to the amount of matter than can be supported by electron degeneracy pressure*.\n",
    "\n",
    "### Dynamical Instability\n",
    "To appreciate the effect of relativity on the stability of a white dwarf, recall that Eqn. 11 is a polytropic equation ($P = K\\rho^{5/3}$).  The ratio of the specific heats $\\gamma = 5/3$ in the nonrelativistic limit.  This means that the white dwarf is dynamically stable.  If it suffers a small perturbation, then it will return to its equilibrium structure instead of collapsing.  In the extreme relativistic limit, the electron speed $v=c$ must be used to find the degeneracy pressure, which results in\n",
    "\n",
    "$$ \\frac{\\left(3\\pi^2\\right)^{1/3}}{4} \\hbar c\\left[\\left(\\frac{Z}{A}\\right)\\frac{\\rho}{m_H}\\right]^{4/3}. $$\n",
    "\n",
    "In this limit, $\\gamma = 4/3$ corresponds to dynamical instability and introduces a polytropic equation with an index $n=3$.  The smallest departure from equilibrium will cause the white dwarf to collapse as the electron degeneracy pressure fails.  Approaching this limiting case leads to the collapse of the degenerate core in an aging supergiant and results in a core-collapse supernova.\n",
    "\n",
    "### Estimating the Chandrasekhar Limit"
   ]
  },
  {
   "cell_type": "markdown",
   "metadata": {},
   "source": [
    "## The Cooling of White Dwarfs\n",
    "\n",
    "### Energy Transport\n",
    "\n",
    "### The Cooling Timescale\n",
    "\n",
    "### The Change in Luminosity with Time\n",
    "\n",
    "### Crystallization\n",
    "\n",
    "### Comparing Theory with Observations"
   ]
  },
  {
   "cell_type": "markdown",
   "metadata": {},
   "source": [
    "## Neutron Stars\n",
    "\n",
    "### Neutron Degeneracy\n",
    "\n",
    "### The Density of a Neutron Star\n",
    "\n",
    "### The Equation of State\n",
    "\n",
    "### Neutron Star Models\n",
    "\n",
    "### The Chandrasekhar Limit for Neutron Stars\n",
    "\n",
    "### Rapid Rotation and Conservation of Angular Momentum\n",
    "\n",
    "### \"Freezing In\" Magnetic Field Lines\n",
    "\n",
    "### Neutron Star Temperatures"
   ]
  },
  {
   "cell_type": "markdown",
   "metadata": {},
   "source": [
    "## Pulsars\n",
    "\n",
    "### General Characteristics\n",
    "\n",
    "### Possible Pulsar Models\n",
    "\n",
    "### Pulsars as Rapidly Rotating Neutron Stars\n",
    "\n",
    "### Geminga\n",
    "\n",
    "### Evidence for a Core-Collapse Supernova Origin\n",
    "\n",
    "### Synchrotron and Curvature Radiation\n",
    "\n",
    "### The Energy Source for the Crab's Synchrotron Radiation\n",
    "\n",
    "### The Structure of the Pulses\n",
    "\n",
    "### The Basic Pulsar Model\n",
    "\n",
    "### Correlation Between Period Derivatives and Pulsar Classes\n",
    "\n",
    "### Toward a Model of Pulsar Emission\n",
    "\n",
    "### Magnetars and Soft Gamma Repeaters"
   ]
  }
 ],
 "metadata": {
  "interpreter": {
   "hash": "cff387fdeb90e4ccced9dcd80621bb508127aaf7364e37afa52690e3819a2639"
  },
  "kernelspec": {
   "display_name": "Python 3.8.8 ('base')",
   "language": "python",
   "name": "python3"
  },
  "language_info": {
   "codemirror_mode": {
    "name": "ipython",
    "version": 3
   },
   "file_extension": ".py",
   "mimetype": "text/x-python",
   "name": "python",
   "nbconvert_exporter": "python",
   "pygments_lexer": "ipython3",
   "version": "3.8.8"
  },
  "orig_nbformat": 4
 },
 "nbformat": 4,
 "nbformat_minor": 2
}
