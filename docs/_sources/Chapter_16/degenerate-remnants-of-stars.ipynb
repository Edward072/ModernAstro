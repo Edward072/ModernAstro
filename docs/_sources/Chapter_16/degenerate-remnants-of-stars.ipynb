{
 "cells": [
  {
   "cell_type": "markdown",
   "metadata": {},
   "source": [
    "# The Degenerate Remnants of Stars\n",
    "\n",
    "## The Discovery of Sirius B"
   ]
  },
  {
   "cell_type": "markdown",
   "metadata": {},
   "source": [
    "## White Dwarfs\n",
    "\n",
    "### Classes of White Dwarf Stars\n",
    "\n",
    "### Central Conditions in White Dwarfs\n",
    "\n",
    "### Spectra and Surface Composition\n",
    "\n",
    "### Pulsating White Dwarfs"
   ]
  },
  {
   "cell_type": "markdown",
   "metadata": {},
   "source": [
    "## The Physics of Degenerate Matter\n",
    "\n",
    "### The Pauli Exclusion Principle and Electron Degeneracy\n",
    "\n",
    "### The Fermi Energy\n",
    "\n",
    "### The condition for Degeneracy"
   ]
  },
  {
   "cell_type": "markdown",
   "metadata": {},
   "source": [
    "### Electron Degeneracy Pressure"
   ]
  },
  {
   "cell_type": "markdown",
   "metadata": {},
   "source": [
    "## The Chandrasekhar Limit\n",
    "\n",
    "### The Mass-Volume Relation\n",
    "\n",
    "### Dynamical Instability\n",
    "\n",
    "### Estimating the Chandrasekhar Limit"
   ]
  },
  {
   "cell_type": "markdown",
   "metadata": {},
   "source": [
    "## The Cooling of White Dwarfs\n",
    "\n",
    "### Energy Transport\n",
    "\n",
    "### The Cooling Timescale\n",
    "\n",
    "### The Change in Luminosity with Time\n",
    "\n",
    "### Crystallization\n",
    "\n",
    "### Comparing Theory with Observations"
   ]
  },
  {
   "cell_type": "markdown",
   "metadata": {},
   "source": [
    "## Neutron Stars\n",
    "\n",
    "### Neutron Degeneracy\n",
    "\n",
    "### The Density of a Neutron Star\n",
    "\n",
    "### The Equation of State\n",
    "\n",
    "### Neutron Star Models\n",
    "\n",
    "### The Chandrasekhar Limit for Neutron Stars\n",
    "\n",
    "### Rapid Rotation and Conservation of Angular Momentum\n",
    "\n",
    "### \"Freezing In\" Magnetic Field Lines\n",
    "\n",
    "### Neutron Star Temperatures"
   ]
  },
  {
   "cell_type": "markdown",
   "metadata": {},
   "source": [
    "## Pulsars\n",
    "\n",
    "### General Characteristics\n",
    "\n",
    "### Possible Pulsar Models\n",
    "\n",
    "### Pulsars as Rapidly Rotating Neutron Stars\n",
    "\n",
    "### Geminga\n",
    "\n",
    "### Evidence for a Core-Collapse Supernova Origin\n",
    "\n",
    "### Synchrotron and Curvature Radiation\n",
    "\n",
    "### The Energy Source for the Crab's Synchrotron Radiation\n",
    "\n",
    "### The Structure of the Pulses\n",
    "\n",
    "### The Basic Pulsar Model\n",
    "\n",
    "### Correlation Between Period Derivatives and Pulsar Classes\n",
    "\n",
    "### Toward a Model of Pulsar Emission\n",
    "\n",
    "### Magnetars and Soft Gamma Repeaters"
   ]
  }
 ],
 "metadata": {
  "language_info": {
   "name": "python"
  },
  "orig_nbformat": 4
 },
 "nbformat": 4,
 "nbformat_minor": 2
}
