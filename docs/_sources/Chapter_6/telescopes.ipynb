{
 "cells": [
  {
   "cell_type": "markdown",
   "metadata": {},
   "source": [
    "# Telescopes"
   ]
  },
  {
   "cell_type": "markdown",
   "metadata": {},
   "source": [
    "## Basic Optics\n",
    "The development of optics greatly enhanced our window into the universe starting with Galileo's innovative use of the telescope.  Today we \"see\" with many different sets of eyes to get a fuller picture of the cosmos, discover faint objects otherwise unseen, and resolve distant objects in greater detail.  \n",
    "\n",
    "### Refraction and Reflection\n",
    "The first \"telescope\" was developed by Hans Lippershey in 1608 and a year later [Galileo Galilei](https://en.wikipedia.org/wiki/Galileo_Galilei) built his own version with about $3\\times$ magnification and later improved upon the design to obtain a version with $30\\times$ magnification.  These **refracting** telescopes consisted of lenses through which the light would pass and form an image.  In 1671, [Isaac Newton](https://en.wikipedia.org/wiki/Isaac_Newton) showed that any refracting telescope would suffer from the dispersion of light into colors and he developed the **reflecting** telescope that used a mirror instead of a lens to bypass the problem.\n",
    "\n",
    "Both types of telescopes use a lens to produce an image, which makes a natural starting point.  [Snell's law of refraction](https://en.wikipedia.org/wiki/Snell%27s_law) describes how the path of a light ray changes as it travels through a lens. When a wave travels across a boundary between two media, its path is bent (*refracts*) at the interface.  The amount that the ray bends is material dependent and characterized by a wavelength-dependent index of refraction $n_\\lambda = c/v_\\lambda$, where $v_\\lambda$ represents the speed of light within the medium.  Alternatively, the index of refraction indicates how much the speed of light decreases within the medium ($v_\\lambda = c/n_\\lambda$) compared to vacuum.  Note that the frequency $\\nu$ of the wave remains unchanged and the refracted wavelength must change.\n",
    "\n",
    "The incoming ray possesses an angle of incidence $\\theta_i$ and the refracted ray is bent by $\\theta_r$, where both angles are measured relative to the normal to the interface.  Then Snell's law is given by\n",
    "\n",
    "$$\n",
    "n_1 \\sin \\theta_i = n_2 \\sin \\theta_r. \\tag{1}\n",
    "$$\n",
    "- **Green light ($\\lambda_{\\rm air} = 540$ nm) is incident from air to glass ($n=1.51$).**\n",
    "    - **What is the wavelength of light in the glass?**\n",
    "    - **If $\\theta_i = 37^\\circ$, what is the angle of refraction?**"
   ]
  },
  {
   "cell_type": "code",
   "execution_count": 1,
   "metadata": {},
   "outputs": [
    {
     "name": "stdout",
     "output_type": "stream",
     "text": [
      "The wavelength in glass is 357 nm.\n",
      "The angle of refraction is 23.5 deg.\n"
     ]
    }
   ],
   "source": [
    "import numpy as np\n",
    "def refract_lambda(l,n1,n2):\n",
    "    #l = lambda; wavelength in medium 1\n",
    "    #n1 = index of refraction of medium 1\n",
    "    #n2 = index of refraction of medium 2\n",
    "    return l*(n1/n2)\n",
    "\n",
    "def snell_law(th1,n1,n2):\n",
    "    #th1 = angle in medium 1 (relative to normal) in radians\n",
    "    #n1 = index of refraction of medium 1\n",
    "    #n2 = index of refraction of medium 2\n",
    "    return np.arcsin((n1/n2)*np.sin(th1))\n",
    "\n",
    "lambda_air = 540\n",
    "n_air = 1.00029\n",
    "n_glass = 1.51\n",
    "theta_i = np.radians(37)\n",
    "print(\"The wavelength in glass is %3d nm.\" % (refract_lambda(lambda_air,n_air,n_glass)))\n",
    "print(\"The angle of refraction is %2.1f deg.\" % np.degrees(snell_law(theta_i,n_air,n_glass)))"
   ]
  },
  {
   "cell_type": "markdown",
   "metadata": {},
   "source": [
    "\n",
    "Lens are shaped from glass so that the light rays can converge or diverge due to Snell's law.  The light rays are traced where the lens is set perpendicular to the horizontal (or **optical axis**) to produce an axis of symmetry.  *Converging* lenses force the light rays to come to a point on the optical axis (opposite from the incoming rays).  This unique point is called the **focal point** of the lens and the distance to that point from the center of the lens is called the **focal length** $f$.  By changing the curvature of the lens, the light rays can instead diverge from the optical axis to make a *diverging* lens.  As a result, the focal point lies on the *same* side as the incoming rays.  For a converging lens , the focal length is defined as positive, where the focal length is negative for a diverging lens.\n",
    "\n",
    "The focal length $f_\\lambda$ of a thin lens can be calculated from the index of refraction $n_\\lambda$ and the radii of curvature of each surface ($R_1$ and $R_2$) assuming the surfaces are spheroidal.  The sign convention for the radii is positive (convex) and negative (concave).  The focal length is given by the **lensmaker's formula**,\n",
    "\n",
    "$$ \n",
    "f_\\lambda = \\frac{1}{n_\\lambda - 1}\\left( \\frac{R_1 R_2}{R_1 + R_2}\\right). \\tag {2}\n",
    "$$\n",
    "\n"
   ]
  },
  {
   "cell_type": "markdown",
   "metadata": {},
   "source": [
    "\n",
    "For mirrors, the focal length $f$ is wavelength-independent since the light rays do not penetrate the surface and angle of reflection is equal to the angle of incidence ($\\theta_i = \\theta_r$).  A spheroidal mirror has a focal length at half the radius of curvature ($f=R/2$) and can be positive/negative depending on the geometry.  Converging mirrors are generally used as the primary mirror in modern telescopes, although diverging or flat mirrors may be used for more complicated optical systems."
   ]
  },
  {
   "cell_type": "markdown",
   "metadata": {},
   "source": [
    "### The Focal Plane\n",
    "To record an image, the detector must be placed in the **focal plane** of the telescope, which is defined as the plane passing through the focal point and oriented perpendicular to the optical axis of the system.  The image separation of two point sources on teh focal plane is relate to the focal length.  At the position of the focal plane, the rays from the on-axis source will converge at the focal point while the rays fro the other source will *approximately* meet a distance $y$ from the focal point.  Using the geometry of a triangle with a long side $f$ and angle $\\theta$ (incoming light rays from the source relative to the optical axis), the short side $y$ can be determined by\n",
    "\n",
    "$$\n",
    "y = f \\tan \\theta.\n",
    "$$\n",
    "\n",
    "The field of view for the telescope is typically small so that the angle $\\theta$ is also small.  For a sufficiently small $\\theta$, the small-angle approximation ($\\tan\\theta \\approx \\theta$) can be used to give\n",
    "\n",
    "$$\n",
    "y = f\\theta. \\tag{3}\n",
    "$$\n",
    "\n",
    "This leads to the [plate scale](https://en.wikipedia.org/wiki/Plate_scale) ($d\\theta/dy = p = 1/f$), which connects the angular separation of the objects on the sky with the linear separation of their images at the focal plane.  The plate scale is typically given in arcseconds/mm due to the history of using of photographic plates. The plate scale of JWST's fine guidance sensor is about 0.065 $^{\\prime\\prime}$ per pixel."
   ]
  },
  {
   "cell_type": "markdown",
   "metadata": {},
   "source": [
    "### Resolution and the Rayleigh Criterion\n",
    "To resolve two closely spaced objects, its not simply a matter of choosing a sufficiently long focal length.  There is a fundamental limit to our ability to *resolve* the objects due to the diffraction produced by the advancing wavefronts from each object.  This phenomenon is related to the single slit diffraction pattern produced by a slit of width $D$.  Any ray passing through the opening (or **aperture**) and arriving at a specific point can be though of as being associated with another ray passing through the aperture a distance of $D/2$ away and arriving at the same point.  If the two rays are a half-wavelength ($\\lambda/2$) out of phase, then destructive interference will occur.  This leads to the relation\n",
    "\n",
    "$$\n",
    "D \\sin \\theta = m \\lambda, \\tag{4}\n",
    "$$\n",
    "\n",
    "where $m = 1,2,3,\\ldots$ for dark fringes.  If a circular aperture is used (i.e., a telescope) the symmetry produces a series of concentric rings instead of the iconic diffraction pattern.  The mathematics of this pattern was solved by George Airy in 1835 and is known as the **Airy disk**.  If we relax Eqn 4 so that $m$ is no longer an integer, then it can be used to find the maxima as well.\n",
    "\n",
    "Two sources that are sufficiently close together will have diffraction rings that overlap and it becomes impossible to resolve.  The two images are said to unresolved when the central maximum of one pattern falls inside the location of the first minimum of the other, where this condition is the **Rayleigh criterion**.  Assuming that angular separation $\\theta_{\\rm min}$ is quite small and invoking the small-angle approximation, the Rayleigh criterion is given by\n",
    "\n",
    "$$\n",
    "\\theta_{\\rm min} = 1.22 \\frac{\\lambda}{D} \\tag{5}\n",
    "$$\n",
    "\n",
    "for a circular aperture, where $\\lambda$ is the wavelength of light and $D$ is the diameter of the telescope's primary mirror.  Ground-based telescopes rarely approach the theoretical limit without assistance through adaptive optics due to the turbulence of the atmosphere or \"seeing\".  Local conditions affect the degree of twinkling observed, where observatories high above sea level (\"above the weather\") provide the best observing conditions.\n",
    "\n",
    "- **A single slit of width D = 0.1 mm is illuminated by light through a visual Johnson filter and diffraction bands are observed on a screen 0.5 m from the slit.  How far is the third dark band from the central bright band?**\n",
    "\n",
    "- **What is the diffraction limit (in arcseconds) for JWST's fine guidance sensor ([FGS](https://webb.nasa.gov/content/observatory/instruments/fgs.html)) at 5 $\\mu m$?**"
   ]
  },
  {
   "cell_type": "code",
   "execution_count": 10,
   "metadata": {},
   "outputs": [
    {
     "name": "stdout",
     "output_type": "stream",
     "text": [
      "The diffraction angle of the third dark band is 0.9 deg.\n",
      "The distance from the central bright band is 0.008 m.\n",
      "The diffraction limit for JWST's FGS at 5 um is 0.19 arcsec.\n"
     ]
    }
   ],
   "source": [
    "def single_slit_th(D,l,m):\n",
    "    #D = slit width\n",
    "    #l = lambda; wavelength of light; must match units with D\n",
    "    #m = order of dark fringes\n",
    "    return np.arcsin(m*l/D) #return theta in radians\n",
    "\n",
    "def diff_limit(D,l):\n",
    "    #D = aperture size\n",
    "    #l = lambda; wavelength of light\n",
    "    return (1.22*l/D)*(180/np.pi)*3600 #return theta_min in arcseconds\n",
    "D = 0.1*1e-3 #converted to m\n",
    "V_johnson = 550*1e-9 #converted peak visual wavelength to m\n",
    "th_diff = single_slit_th(D,V_johnson,3)\n",
    "print(\"The diffraction angle of the third dark band is %2.1f deg.\" % np.degrees(th_diff))\n",
    "print(\"The distance from the central bright band is %1.3f m.\" % (0.5*np.tan(th_diff)))\n",
    "\n",
    "D_JWST = 6.5 #diameter of primary mirror\n",
    "l_FGS = 5*1e-6 #converted to m\n",
    "\n",
    "print(\"The diffraction limit for JWST's FGS at 5 um is %2.2f arcsec.\" % diff_limit(D_JWST,l_FGS))"
   ]
  },
  {
   "cell_type": "markdown",
   "metadata": {},
   "source": [
    "### Aberrations\n",
    "Image distortions or aberrations affect both lens and mirror systems.  Refracting telescopes suffer from [chromatic aberration](https://en.wikipedia.org/wiki/Chromatic_aberration), which is a distortion due to the wavelength-dependent focus of a lens.  The lensmaker's formula (Eqn 2) depends on the radii of curvature and the index of refraction $n$, but $n$ also depends on the wavelength $\\lambda$.  This translates into a wavelength-dependent focal length, where the focal point for red light is different than for blue light.\n",
    "\n",
    "There can be aberrations that result from the shape of the reflecting or refracting surface.  Imperfections in the grinding/polishing of lens/mirrors mean not all areas will focus a parallel set of light rays to a single point.  This type of distortion is called [spherical aberration](https://en.wikipedia.org/wiki/Spherical_aberration) and can be overcome with a corrective lens.  The [Hubble Space Telescope](https://en.wikipedia.org/wiki/Hubble_Space_Telescope) (HST) initially had imaging problems due to spherical aberration when a mistake was made while grinding the primary and left the center of the mirror too shallow by about 2 $\\mu m$.  A repair mission in 1993, installed a special corrective optics package on the telescope.\n",
    "\n",
    "A **coma** produces elongated images of a point sources that lie off the optical axis. An **astigmatism** is a defect where different parts of a lens or mirror converge an image a slightly different locations on the focal plane.  Correcting for astigmatism can create other problems, such as the **curvature of field** that is due to the focusing of images on a curve rather than on a flat surface."
   ]
  },
  {
   "cell_type": "markdown",
   "metadata": {},
   "source": [
    "### Brightness of an Image\n",
    "It might be assumed that the brightness of an extended (resolved) image depends on the area of the aperture.  This is the case for photography, where the camera has an adjustable aperture (iris) that controls how much light enters the camera to reach the detector on the focal plane.  For most astronomical applications, the aperture is fully open because the object is effectively infinitely far away (i.e., distance $r \\gg $ focal length $f$).  Then, it can be shown that the **intensity** of the radiation is the same for both the object and image; independent of the area of the aperture.  The exception is for bright objects (e.g., the Moon), where an adjustable iris helps prevent over-exposing the image (i.e., saturation).\n",
    "\n",
    "The light-gathering power of telescopes is the **illumination** $J$ or the number of photons per second that are focused onto a unit area of a resolved image.  When comparing telescopes, the amount of light collected is proportional to the area of the aperture or the illumination $J \\propto \\pi D^2/4$, where $D$ is the diameter of the telescope's aperture.  Through the plate scale (Eqn 3) we have the linear size of the image proportional to the focal length of the lens and the image area is proportional to $f^2$.  The illumination is proportional to the ratio of the aperture diameter $D$ to the focal length $f$ (i.e., $J\\propto D^2/f^2).  The inverse of the ratio is ofter referred to as the **focal ratio** (or f-ratio),\n",
    "\n",
    "$$ F = \\frac{f}{D}. \\tag{6} $$\n",
    "\n",
    "The illumination indicates the amount of time required to collect the photons needed to form a bright image.  A larger focal ratio corresponds to a slower telescope, which means that a longer exposure is necessary to reach an equivalent illumination.\n",
    "\n",
    "- **The twin telescopes of the Keck Observatory at Mauna Kea have primary mirrors 10 m in diameter with focal lengths of 17.5 m.  What is the focal ratios of each telescope?**"
   ]
  },
  {
   "cell_type": "code",
   "execution_count": 12,
   "metadata": {},
   "outputs": [
    {
     "name": "stdout",
     "output_type": "stream",
     "text": [
      "The focal ratio of each telescope is f/1.75.\n"
     ]
    }
   ],
   "source": [
    "def F_ratio(f,D):\n",
    "    #f = focal length of the telescope\n",
    "    #D = diameter of the telescope aperture; must match units with f\n",
    "    return f/D \n",
    "\n",
    "print(\"The focal ratio of each telescope is f/%1.2f.\" % F_ratio(17.5,10))"
   ]
  },
  {
   "cell_type": "markdown",
   "metadata": {},
   "source": [
    "### **Problems**\n",
    ">1\\. The diffraction pattern for a single slit is given by\n",
    "\n",
    "> $$ I(\\theta) = I_o\\left[\\frac{\\sin(\\beta/2)}{\\beta/2}\\right]^2 $$ \n",
    "\n",
    ">where $\\beta = 2\\pi D\\sin(\\theta)/\\lambda$.\n",
    "\n",
    ">>**(a)** Plot $I/I_o$ vs $m$ over the range {-3,3}.\n",
    "\n",
    ">>**(b)** If the slit has an aperture of 1.0 $\\mu m$, what angle $\\theta$ (in deg.) corresponds to the first minimum if the wavelength of light is 500 nm?\n",
    "\n",
    ">2\\. Using the Rayleigh criterion, estimate the angular resolution limit of the human eye at 440 nm. Assume the pupil diameter is 5 mm.\n"
   ]
  },
  {
   "cell_type": "markdown",
   "metadata": {},
   "source": [
    "## Optical Telescopes"
   ]
  },
  {
   "cell_type": "markdown",
   "metadata": {},
   "source": [
    "## Radio Telescopes"
   ]
  },
  {
   "cell_type": "markdown",
   "metadata": {},
   "source": [
    "## IR, UV, X-ray, and Gamma-ray Astronomy"
   ]
  },
  {
   "cell_type": "markdown",
   "metadata": {},
   "source": [
    "## All Sky Surveys and Virtual Observatories"
   ]
  }
 ],
 "metadata": {
  "interpreter": {
   "hash": "cd2e115bae0bd8507f53973663b16a6c8b1a6736f2a0b1c5bcd962a446a2698e"
  },
  "kernelspec": {
   "display_name": "Python 3.8.8 64-bit ('base': conda)",
   "language": "python",
   "name": "python3"
  },
  "language_info": {
   "codemirror_mode": {
    "name": "ipython",
    "version": 3
   },
   "file_extension": ".py",
   "mimetype": "text/x-python",
   "name": "python",
   "nbconvert_exporter": "python",
   "pygments_lexer": "ipython3",
   "version": "3.8.8"
  },
  "orig_nbformat": 4
 },
 "nbformat": 4,
 "nbformat_minor": 2
}
