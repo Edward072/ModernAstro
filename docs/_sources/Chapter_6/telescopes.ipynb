{
 "cells": [
  {
   "cell_type": "markdown",
   "metadata": {},
   "source": [
    "# Telescopes"
   ]
  },
  {
   "cell_type": "markdown",
   "metadata": {},
   "source": [
    "## Basic Optics\n",
    "The development of optics greatly enhanced our window into the universe starting with Galileo's innovative use of the telescope.  Today we \"see\" with many different sets of eyes to get a fuller picture of the cosmos, discover faint objects otherwise unseen, and resolve distant objects in greater detail.  \n",
    "\n",
    "### Refraction and Reflection\n",
    "The first \"telescope\" was developed by Hans Lippershey in 1608 and a year later [Galileo Galilei](https://en.wikipedia.org/wiki/Galileo_Galilei) built his own version with about $3\\times$ magnification and later improved upon the design to obtain a version with $30\\times$ magnification.  These **refracting** telescopes consisted of lenses through which the light would pass and form an image.  In 1671, [Isaac Newton](https://en.wikipedia.org/wiki/Isaac_Newton) showed that any refracting telescope would suffer from the dispersion of light into colors and he developed the **reflecting** telescope that used a mirror instead of a lens to bypass the problem.\n",
    "\n",
    "Both types of telescopes use a lens to produce an image, which makes a natural starting point.  [Snell's law of refraction](https://en.wikipedia.org/wiki/Snell%27s_law) describes how the path of a light ray changes as it travels through a lens. When a wave travels across a boundary between two media, its path is bent (*refracts*) at the interface.  The amount that the ray bends is material dependent and characterized by a wavelength-dependent index of refraction $n_\\lambda = c/v_\\lambda$, where $v_\\lambda$ represents the speed of light with the medium.  \n",
    "\n",
    "The incoming ray possesses an angle of incidence $\\theta_i$ and the refracted ray is bent by $\\theta_r$, where both angles are measured relative to the normal to the interface.  Then Snell's law is given by\n",
    "\n",
    "$$\n",
    "n_1 \\sin \\theta_i = n_2 \\sin \\theta_r. \\tag{1}\n",
    "$$\n",
    "\n",
    "Lens are shaped from glass so that the light rays can converge or diverge due to Snell's law.  The light rays are traced where the lens is set perpendicular to the horizontal (or **optical axis**) to produce an axis of symmetry.  *Converging* lenses force the light rays to come to a point on the optical axis (opposite from the incoming rays).  This unique point is called the **focal point** of the lens and the distance to that point from the center of the lens is called the **focal length** $f$.  By changing the curvature of the lens, the light rays can instead diverge from the optical axis to make a *diverging* lens.  As a result, the focal point lies on the *same* side as the incoming rays.  For a converging lens , the focal length is defined as positive, where the focal length is negative for a diverging lens.\n",
    "\n",
    "The focal length $f_\\lambda$ of a thin lens can be calculated from the index of refraction $n_\\lambda$ and the radii of curvature of each surface ($R_1$ and $R_2$) assuming the surfaces are spheroidal.  The sign convention for the radii is positive (convex) and negative (concave).  The focal length is given by the **lensmaker's formula**,\n",
    "\n",
    "$$ \n",
    "f_\\lambda = \\frac{1}{n_\\lambda - 1}\\left( \\frac{R_1 R_2}{R_1 + R_2}\\right). \\tag {2}\n",
    "$$\n",
    "\n",
    "For mirrors, the focal length $f$ is wavelength-independent since the light rays do not penetrate the surface and angle of reflection is equal to the angle of incidence ($\\theta_i = \\theta_r$).  A spheroidal mirror has a focal length at half the radius of curvature ($f=R/2$) and can be positive/negative depending on the geometry.  Converging mirrors are generally used as the primary mirror in modern telescopes, although diverging or flat mirrors may be used for more complicated optical systems."
   ]
  },
  {
   "cell_type": "markdown",
   "metadata": {},
   "source": [
    "### The Focal Plane\n",
    "To record an image, the detector must be placed in the **focal plane** of the telescope, which is defined as the plane passing through the focal point and oriented perpendicular to the optical axis of the system.  The image separation of two point sources on teh focal plane is relate to the focal length.  At the position of the focal plane, the rays from the on-axis source will converge at the focal point while the rays fro the other source will *approximately* meet a distance $y$ from the focal point.  Using the geometry of a triangle with a long side $f$ and angle $\\theta$ (incoming light rays from the source relative to the optical axis), the short side $y$ can be determined by\n",
    "\n",
    "$$\n",
    "y = f \\tan \\theta.\n",
    "$$\n",
    "\n",
    "The field of view for the telescope is typically small so that the angle $\\theta$ is also small.  For a sufficiently small $\\theta$, the small-angle approximation ($\\tan\\theta \\approx \\theta$) can be used to give\n",
    "\n",
    "$$\n",
    "y = f\\theta. \\tag{3}\n",
    "$$\n",
    "\n",
    "This leads to the [plate scale](https://en.wikipedia.org/wiki/Plate_scale) ($d\\theta/dy = p = 1/f$), which connects the angular separation of the objects on the sky with the linear separation of their images at the focal plane.  The plate scale is typically given in arcseconds/mm due to the history of using of photographic plates. The plate scale of JWST's fine guidance sensor is about 0.065 $^{\\prime\\prime}$ per pixel."
   ]
  },
  {
   "cell_type": "markdown",
   "metadata": {},
   "source": [
    "### Resolution and the Rayleigh Criterion\n",
    "To resolve two closely spaced objects, its not simply a matter of choosing a sufficiently long focal length.  There is a fundamental limit to our ability to *resolve* the objects due to the diffraction produced by the advancing wavefronts from each object.  This phenomenon is related to the single slit diffraction pattern produced by a slit of width $D$.  Any ray passing through the opening (or **aperture**) and arriving at a specific point can be though of as being associated with another ray passing through the aperture a distance of $D/2$ away and arriving at the same point.  If the two rays are a half-wavelength ($\\lambda/2$) out of phase, then destructive interference will occur.  This leads to the relation\n",
    "\n",
    "$$\n",
    "D \\sin \\theta = m \\lambda, \\tag{4}\n",
    "$$\n",
    "\n",
    "where $m = 1,2,3,\\ldots$ for dark fringes.  If a circular aperture is used (i.e., a telescope) the symmetry produces a series of concentric rings instead of the iconic diffraction pattern.  The mathematics of this pattern was solved by George Airy in 1835 and is known as the **Airy disk**.  If we relax Eqn 4 so that $m$ is no longer an integer, then it can be used to find the maxima as well.\n",
    "\n",
    "Two sources that are sufficiently close together will have diffraction rings that overlap and it becomes impossible to resolve.  The two images are said to unresolved when the central maximum of one pattern falls inside the location of the first minimum of the other, where this condition is the **Rayleigh criterion**.  Assuming that angular separation $\\theta_{\\rm min}$ is quite small and invoking the small-angle approximation, the Rayleigh criterion is given by\n",
    "\n",
    "$$\n",
    "\\theta_{\\rm min} = 1.22 \\frac{\\lambda}{D} \\tag{5}\n",
    "$$\n",
    "\n",
    "for a circular aperture, where $\\lambda$ is the wavelength of light and $D$ is the diameter of the telescope's primary mirror."
   ]
  },
  {
   "cell_type": "markdown",
   "metadata": {},
   "source": [
    "### Seeing"
   ]
  },
  {
   "cell_type": "markdown",
   "metadata": {},
   "source": [
    "### Aberrations"
   ]
  },
  {
   "cell_type": "markdown",
   "metadata": {},
   "source": [
    "### Brightness of an Image"
   ]
  },
  {
   "cell_type": "markdown",
   "metadata": {},
   "source": [
    "### **Problems**"
   ]
  },
  {
   "cell_type": "markdown",
   "metadata": {},
   "source": [
    "## Optical Telescopes"
   ]
  },
  {
   "cell_type": "markdown",
   "metadata": {},
   "source": [
    "## Radio Telescopes"
   ]
  },
  {
   "cell_type": "markdown",
   "metadata": {},
   "source": [
    "## IR, UV, X-ray, and Gamma-ray Astronomy"
   ]
  },
  {
   "cell_type": "markdown",
   "metadata": {},
   "source": [
    "## All Sky Surveys and Virtual Observatories"
   ]
  }
 ],
 "metadata": {
  "language_info": {
   "name": "python"
  },
  "orig_nbformat": 4
 },
 "nbformat": 4,
 "nbformat_minor": 2
}
