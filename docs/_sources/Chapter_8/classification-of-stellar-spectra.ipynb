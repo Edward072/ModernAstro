{
 "cells": [
  {
   "cell_type": "markdown",
   "metadata": {},
   "source": [
    "# The Classification of Stellar Spectra\n",
    "The science of astronomy progressed from a purely observational science of classification (prior to the 1800s) to a science interested in the fundamental inner workings of the stars (after the 1800s).  As early as 1817, stars were known to be chemically different through their spectra.\n",
    "\n",
    "## The Formation of Spectral Lines\n",
    "\n",
    "### The Spectral Types of Stars\n",
    "The initial spectral taxonomy used capital letters (from A...Z) that denoted the strength (or broadness) of the hydrogen absorption lines in a star and was developed by Edward Pickering and Williamina Fleming (Pickering's assistant) in the 1890s at Harvard.  Pickering had many assistants working with him at the time, where several of them developed different classification schemes.  Antonia Maury's scheme used the width of the spectral lines, which would have rearranged the Pickering's B stars to come before the A stars.  Building on Maury's work, Annie Jump Cannon rearranged the sequence of spectra so that O stars came before B and A stars, added subdivisions (e.g., A0-A9), and consolidated many of the classes.  As a result, the Harvard classification scheme became a *temperature* sequence with seven [spectral types](https://en.wikipedia.org/wiki/Stellar_classification#Harvard_spectral_classification) (OBAFGKM) with O stars being the hottest.  Due to the reordering of letters, astronomy students developed mnemonics to remember the string of spectral types.  The traditional mnemonic and some other memorable versions are:\n",
    "\n",
    "- **O**h **B**e **A** **F**ine **G**irl/uy, **K**iss **M**e.\n",
    "- **O**ld, **B**ald, **A**nd **F**at **G**enerals **K**eep **M**istresses.\n",
    "- **O**h **B**oy, **A**n **F** **G**rade **K**ills **M**e.\n",
    "- **O**nly **B**oring, **A**stronomers **F**ind **G**ratitude **K**nowing **M**nemonics.\n",
    "\n",
    "Can you do better?\n",
    "\n",
    "Stars near the beginning of a given spectral type are referred to as **early-type** stars (e.g., A0), where those closer to the end are called **late-type** (e.g., A9).  Cannon classified around 200,000 spectra, where the results were collected into the [Henry Draper Catalogue](https://en.wikipedia.org/wiki/Henry_Draper_Catalogue).  The catalog bears the name of Henry Draper because he was one of the first to photograph and classify a star based on its spectral lines (e.g., Vega), and Pickering supervised photographic spectroscopy at Harvard College Observatory after Draper's death.  Draper's widow funded Pickering's research under the Henry Draper Memorial.  today many stars are referred to by their HD numbers (e.g., Betelguese is HD 39801).\n",
    "\n",
    "Although we now know that Cannon's classification scheme is based on surface temperatures, the physical basis of the Harvard spectral classification remained obscure to those who developed it.  Vega (A0) displays very strong hydrogen absorption lines compared to the Sun (G2), but the Sun has stronger calcium absorption lines.  This apparent dichotomy led to the following questions:\n",
    "\n",
    "- Is this a result of a *compositional* difference between the stars?\n",
    "\n",
    "or \n",
    "\n",
    "- Are the different *surface temperatures* responsible for the relative strengths of the absorption lines?\n",
    "\n",
    "The theoretical understanding of the quantum atom unlocked the secrets to stellar spectra.  Absorption lines are created when an atom absorbs a photon with *exactly* the energy required for an electron to make an upward transition between energy levels.  Emission lines are formed by the inverse process.  The distinction between spectra of stars with different temperatures are due to the electrons occupying different atomic orbitals in the *atmospheres* of these stars.  The details of spectral lines are complicated by the potential ionization stage of the the atoms.  *Note: an atom's ionization stage is denoted by a Roman numeral (e.g., Ca II is singly ionized calcium).*\n",
    "\n",
    "<div align=\"center\">\n",
    "\n",
    "**Table 1**: Harvard spectral classification.\n",
    "| Spectral <br>Type | Color| Effective<br>Temperature | Characteristics|\n",
    "|:---:|:---:|:---:|:---|\n",
    "|O| Blue-white | $\\geq$ 30,000 K| Strong He II absorption/emission<br>He I absorption becoming stronger |\n",
    "|B| Blue-white | 10,000-30,000 K| He I absorption strongest at B2<br>H I absorption becoming stronger |\n",
    "|A| White | 7500-10,000 K| Balmer absorption lines strongest at A0<br>Ca II absorption becoming stronger |\n",
    "|F| Yellow-white | 6000-7500 K| Ca II lines strengthen as Balmer lines weaken<br>Neutral metal absorption (Fe I, Cr I) |\n",
    "|G| Yellow | 5200-6000 K| Solar-type spectra<br>Ca II, Fe I, and other neutral metals strengthen |\n",
    "|K| Orange | 3700-5200 K| Strong Ca II H & K lines<br>Spectra dominated by metals |\n",
    "|M| Red | 2400-3700 K | Spectra dominated by molecular absorption (oxides)<br>Neutral metals remain strong |\n",
    "|L| Dark red | 1300-2400 K | Stronger in IR than in visible<br>Strong molecular absorption in metal hydrides (FeH), <br>water, carbon monoxide, and alkali metals <br>Molecular absorption in oxides weakening |\n",
    "|T| Infrared | $\\leq$ 1300 K | Strong methane (CH_4) bands<br>Weakening carbon monoxide (CO) bands |\n",
    "\n",
    "</div>\n",
    "\n",
    "In Cannon's classification scheme, the Balmer lines (hydrogen absorption) reach their maximum intensity when the effective surface temperature of the star reaches 10,000 K.  The visible neutral Helium (He I) lines occur at 22,000 K (B2 stars) and singly ionized calcium (Ca II) are most intense at 5250 K (K0 stars).  In astronomy, spectral lines of Ca II H and K are quoted, which are 396.8 nm and 393.3 nm, respectively.  Also, astronomers use the term **metal** to refer to a chemical element heavier than helium because hydrogen and helium are the most abundant elements in the universe. Table 1 includes the traditional Harvard classification scheme and the spectral types of very cool stars (L-Type) and [brown dwarfs](https://en.wikipedia.org/wiki/Stellar_classification#Class_T:_methane_dwarfs) (T-Type).  Brown dwarfs are objects with too lite mass for nuclear fusion (of hydrogen) to occur in their interiors and are not considered stars.  Figure 1 illustrates how the spectra appear for a range of spectral classes (falsely colored).  Figure 2 demonstrates the resultant spectra after analysis and digitization.\n",
    "\n",
    "<div align =\"center\">\n",
    "\n",
    "![Spectra](https://upload.wikimedia.org/wikipedia/commons/0/0b/Dwarf_star_spectra_%28luminosity_class_V%29_from_Pickles_1998.png)<br>\n",
    "**Figure 1**: Montage of false color spectra for main-sequence stars. (image credit: [Wikipedia](https://en.wikipedia.org/wiki/Stellar_classification))\n",
    "\n",
    "</div>\n",
    "\n",
    "<div align =\"center\">\n",
    "\n",
    "![digitized spectra](https://www.astronomy.ohio-state.edu/pogge.1/Ast162/Unit1/SpTypes/dwarfs.gif)<br>\n",
    "<div style='width: 450px'>\n",
    "\n",
    "**Figure 2**: A stack of all of the spectral images showing how the spectral features change systematically from types O5 through M5. ([Jacoby, Hunter, & Christian (1984)](https://ui.adsabs.harvard.edu/abs/1984ApJS...56..257J/abstract); adapted by [Richard Pogge](https://www.astronomy.ohio-state.edu/pogge.1/Ast162/Unit1/SpTypes/index.html))\n",
    "</div>\n",
    "\n",
    "</div>"
   ]
  },
  {
   "cell_type": "markdown",
   "metadata": {},
   "source": [
    "\n",
    "### The Maxwell-Boltzmann Velocity Distribution\n",
    "Electronic transitions explained the *existence* of absorption or emission spectral lines, but there must be some underlying physical foundation for the relative strength of spectral lines.  If the probability of transition was equal (independent of the orbital), then the absorption line strength of the Balmer lines should be equal.  This is clearly not the case as demonstrated by Figs. 1 and 2.  Then, two basic questions arise:\n",
    "\n",
    "1. In what orbitals are electrons most likely to be found?\n",
    "\n",
    "2. What are the relative numbers of atoms in various stages of ionization?\n",
    "\n",
    "Answering the first question will provide insight into which spectral lines we expect to be stronger than the other spectral lines.  While the second question will probe the relative strengths of the spectral lines.  The answers to both question are found in **statistical mechanics**, which is a branch of physics that studies the statistical properties of many body systems.  For example, a gas contains a huge number of particles and it would be impossible to calculate the detailed behavior of *all* the particles.  Information about how the behavior of the system can be determined using well-defined properties, such as its internal energy (temperature), pressure, and density.  \n",
    "\n",
    "For a gas in thermal equilibrium (i.e., the gas in not rapidly changing in temperature), the **Maxwell-Boltzmann velocity distribution function** describes the number density of gas particles $n$ within a given range of speed $v$.  The number of gas particles per unit volume having speeds between $v$ and $v+dv$ is given by \n",
    "\n",
    "$$ n_v dv = n \\left(\\frac{m}{2\\pi kT}\\right)^{3/2} e^{-mv^2/(2kT)}4\\pi v^2 dv, \\tag{1} $$\n",
    "\n",
    "which depends on the total number density $n$, the particle's mass $m$, the Boltzmann constant $k$, and the temperature of the gas $T$ (in K).\n",
    "\n",
    "- **What is the most probable speed for hydrogen atoms in an A0 spectral-type star?**"
   ]
  },
  {
   "cell_type": "code",
   "execution_count": 33,
   "metadata": {},
   "outputs": [
    {
     "name": "stdout",
     "output_type": "stream",
     "text": [
      "The most probable speed for hydrogen atoms in an A0 star is 1.29e+04 m/s.\n"
     ]
    },
    {
     "data": {
      "image/png": "[encoded data removed]",
      "text/plain": [
       "<Figure size 360x360 with 1 Axes>"
      ]
     },
     "metadata": {
      "needs_background": "light"
     },
     "output_type": "display_data"
    }
   ],
   "source": [
    "import numpy as np\n",
    "import matplotlib.pyplot as plt \n",
    "\n",
    "def Maxwell_Boltzmann(v,dv):\n",
    "    #v = velocity\n",
    "    #dv = velocity interval\n",
    "    factor = m_H/(2*k*T_eq)\n",
    "    MB = (factor/np.pi)**1.5*np.exp(-factor*v**2)*(4*np.pi*v**2)\n",
    "    return MB\n",
    "\n",
    "T_eq = 10000 #K; surface temperature of an A0 star\n",
    "k = 1.380649e-23 #J/K; Boltzmann constant\n",
    "m_H = 1.67e-27 #kg; mass of hydrogen \n",
    "\n",
    "v_rng = np.arange(0,4e4,2) #velocity range in m/s\n",
    "nv_n = np.zeros(len(v_rng))\n",
    "for i in range(0,len(v_rng)-1):\n",
    "    nv_n[i] = Maxwell_Boltzmann(v_rng[i],2)\n",
    "\n",
    "v_mp = v_rng[np.argmax(nv_n)]\n",
    "fs = 'x-large'\n",
    "fig = plt.figure(figsize=(5,5))\n",
    "ax = fig.add_subplot(111)\n",
    "\n",
    "ax.plot(v_rng/1e4,nv_n/1e-5,'k-',lw=3)\n",
    "ax.axvline(v_mp/1e4,0,np.max(nv_n)/7e-5,linestyle='--',color='r',lw=2)\n",
    "\n",
    "ax.set_ylim(0,7)\n",
    "ax.set_xlim(0,4)\n",
    "\n",
    "ax.set_ylabel(\"$n_v/n$ ($10^{-5}$ s/m)\",fontsize=fs)\n",
    "ax.set_xlabel(\"Speed ($10^4$ m/s)\",fontsize=fs)\n",
    "\n",
    "\n",
    "print(\"The most probable speed for hydrogen atoms in an A0 star is %1.2e m/s.\" % v_mp)"
   ]
  },
  {
   "cell_type": "markdown",
   "metadata": {},
   "source": [
    "The exponent of the Maxwell-Boltzmann distribution function is the ratio of a gas particle's kinetic energy ($\\frac{1}{2}mv^2$) to the characteristic thermal energy ($kT$).  Particles above the thermal energy tend to either can escape so the overall distribution remains the same.  This is analogous as to why the temperature of a pot of boiling water doesn't keep increasing.  The distribution peaks when the particle energies are equal at a **most probable speed** of  \n",
    "\n",
    "$$ v_{mp} = \\sqrt{\\frac{2kT}{m}}. \\tag{2}$$\n",
    "\n",
    "- **How does this compare to our previous example?**\n",
    "\n",
    "$$ v_{mp} = \\sqrt{\\frac{2(1.38\\times 10^{-23})(10^4)}{1.67 \\times 10^{-27}}} = 1.29 \\times 10^4\\;{\\rm m/s} $$\n",
    "\n",
    "The high-speed exponential \"tail\" of the distribution function results in a somewhat higher **root-mean-square speed** of\n",
    "\n",
    "$$ v_{rms} = \\sqrt{\\frac{3kT}{m}}. \\tag{3} $$ \n",
    "\n",
    "The area under the curve of the Maxwell-Boltzmann distribution *fraction* of gas particles within a range of speeds or,\n",
    "\n",
    "$$ \\begin{align} N/N_{total} &= \\frac{1}{n}\\int_{v_1}^{v_2} n_v dv \\\\\n",
    " &= \\left(\\frac{m}{2\\pi kT}\\right)^{3/2} \\int_{v_1}^{v_2} e^{-mv^2/(2kT)} 4\\pi v^2 dv. \\end{align} \\tag{4}$$\n",
    "\n",
    " Equation 4 has a closed-form solution when $v_1 = 0$ and $v_2\\rightarrow \\infty$, it must be evaluated numerically in other cases.\n",
    "\n",
    "- **What is the root-mean-square speed of the hydrogen atoms in an A0 star?**\n",
    "- **What is the fraction of gas particles with speeds between 20-25 km/s?**"
   ]
  },
  {
   "cell_type": "code",
   "execution_count": 62,
   "metadata": {},
   "outputs": [
    {
     "name": "stdout",
     "output_type": "stream",
     "text": [
      "The v_rms for the hydrogen atoms is 1.57e+04 m/s.\n",
      "The fraction of gas particles between 20-25 km/s is 0.128 or 12.8%.\n"
     ]
    },
    {
     "data": {
      "image/png": "[encoded data removed]",
      "text/plain": [
       "<Figure size 360x360 with 1 Axes>"
      ]
     },
     "metadata": {
      "needs_background": "light"
     },
     "output_type": "display_data"
    }
   ],
   "source": [
    "v_rms = np.sqrt((3*k*T_eq)/m_H) #using Eqn 3\n",
    "vrms_idx = np.where(np.abs(v_rms-v_rng)<1)[0]\n",
    "vrng_idx = np.where(np.logical_and(v_rng>=2e4,v_rng<=2.5e4))[0]\n",
    "\n",
    "def Simpsons_rule(a,b,N,func):\n",
    "    #width of each interval\n",
    "    h = (b-a)/float(N-1)\n",
    "    tot_sum = 0\n",
    "\n",
    "    for i in range(1,N):\n",
    "        x_left = a + (i-1)*h\n",
    "        x_right = a + i*h\n",
    "        x_mid = x_left + h/2\n",
    "        tot_sum += (h/6.)*(func(x_left,h)+4*func(x_mid,h)+func(x_right,h))\n",
    "    return tot_sum\n",
    "\n",
    "frac_rng = Simpsons_rule(2e4,2.5e4,10,Maxwell_Boltzmann)\n",
    "\n",
    "fs = 'x-large'\n",
    "fig = plt.figure(figsize=(5,5))\n",
    "ax = fig.add_subplot(111)\n",
    "\n",
    "ax.plot(v_rng/1e4,nv_n/1e-5,'k-',lw=3)\n",
    "ax.axvline(v_mp/1e4,0,np.max(nv_n)/7e-5,linestyle='--',color='r',lw=2)\n",
    "ax.axvline(v_rms_2/1e4,0,nv_n[vrms_idx]/7e-5,linestyle='--',color='b',lw=2)\n",
    "\n",
    "ax.fill_between(v_rng[vrng_idx]/1e4,0,nv_n[vrng_idx]/1e-5,color='gray')\n",
    "\n",
    "ax.set_ylim(0,7)\n",
    "ax.set_xlim(0,4)\n",
    "\n",
    "ax.set_ylabel(\"$n_v/n$ ($10^{-5}$ s/m)\",fontsize=fs)\n",
    "ax.set_xlabel(\"Speed ($10^4$ m/s)\",fontsize=fs)\n",
    "\n",
    "print(\"The v_rms for the hydrogen atoms is %1.2e m/s.\" % v_rms_2)\n",
    "print(\"The fraction of gas particles between 20-25 km/s is %1.3f or %2.1f%%.\" % (frac_rng,frac_rng*100))"
   ]
  },
  {
   "cell_type": "markdown",
   "metadata": {},
   "source": [
    "\n",
    "\n",
    "### The Boltzmann Equation\n",
    "\n",
    "### The Saha Equation\n",
    "\n",
    "### Combining The Boltzmann and Saha Equations\n",
    "\n"
   ]
  },
  {
   "cell_type": "markdown",
   "metadata": {},
   "source": [
    "## The Hertzsprung-Russell Diagram\n",
    "\n",
    "### An Enormous Range in Stellar Radii\n",
    "\n",
    "### Morgan-Keenan Luminosity Classes\n",
    "\n"
   ]
  }
 ],
 "metadata": {
  "interpreter": {
   "hash": "cd2e115bae0bd8507f53973663b16a6c8b1a6736f2a0b1c5bcd962a446a2698e"
  },
  "kernelspec": {
   "display_name": "Python 3.8.8 64-bit ('base': conda)",
   "language": "python",
   "name": "python3"
  },
  "language_info": {
   "codemirror_mode": {
    "name": "ipython",
    "version": 3
   },
   "file_extension": ".py",
   "mimetype": "text/x-python",
   "name": "python",
   "nbconvert_exporter": "python",
   "pygments_lexer": "ipython3",
   "version": "3.8.8"
  },
  "orig_nbformat": 4
 },
 "nbformat": 4,
 "nbformat_minor": 2
}
