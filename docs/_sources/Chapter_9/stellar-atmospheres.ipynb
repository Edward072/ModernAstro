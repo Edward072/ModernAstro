{
 "cells": [
  {
   "cell_type": "markdown",
   "metadata": {},
   "source": [
    "# Stellar Atmospheres\n",
    "\n",
    "## The Description of the Radiation Field\n",
    "Astronomers receive light only from the outermost layer of the star's atmosphere that overly an opaque interior.  The *temperature*, *density*, and *composition* of this layer determine the features of the star's spectrum, where we must describe how light travels through the gas to interpret the observed spectral lines properly.\n",
    "\n",
    "### The Specific and Mean Intensities\n",
    "Recall the [Planck function](https://saturnaxis.github.io/ModernAstro/Chapter_3/continuous-spectrum-of-light.html#the-planck-function-and-astrophysics) was based upon the wavelength-dependent flux of blackbody radiation $B_\\lambda(T)$ from an element of surface area $dA$.  A similar procedure can be used to define the intensity of a cone of light.  The light is measured in spherical coordinates by the angle $\\theta$, which is the direction perpendicular to the surface $dA$ so that $dA\\cos\\theta$ is an area projected onto a plane perpendicular to the propagation direction of the light.  The light energy is wavelength dependent ($E = hc/\\lambda$) and thus can be defined as\n",
    "\n",
    "$$ E_\\lambda \\equiv \\frac{\\partial E}{\\partial \\lambda}, $$\n",
    "\n",
    "where $E_\\lambda d\\lambda$ is the energy carried by the rays in the light cone in a time interval $dt$.  The **specific intensity** of the rays is defined as\n",
    "\n",
    "$$ I_\\lambda \\equiv \\frac{\\partial I}{\\partial \\lambda} \\equiv \\frac{E_\\lambda d\\lambda}{d\\lambda dt dA \\cos\\theta d\\Omega}, \\tag{1} $$\n",
    "\n",
    "which carries the units of energy per time per Area per steradian *sr* ([solid angle)](https://en.wikipedia.org/wiki/Steradian)) or more simply, energy per everything.\n",
    "\n",
    "```{note}\n",
    "There is a $d\\lambda$ factor in the numerator and denominator, which is a placeholder for the alternate definition of specific intensity in terms of frequency $I_\\nu$.  Recall from the [Planck function](https://saturnaxis.github.io/ModernAstro/Chapter_3/continuous-spectrum-of-light.html#the-planck-function-and-astrophysics) using $d\\nu = -\\frac{c}{\\lambda^2}d\\lambda$ as a conversion factor.\n",
    "```\n",
    "\n",
    "The specific intensity is usually referred to simply as the *intensity* and in spherical coordinates,\n",
    "\n",
    "$$ E_\\lambda d\\lambda = I_\\lambda d\\lambda dt dA \\cos\\theta d\\Omega = I_\\lambda d\\lambda dt dA \\cos\\theta \\sin\\theta d\\theta d\\phi, \\tag{2} $$\n",
    "\n",
    "with the substitution for the solid angle $d\\Omega = \\sin\\theta d\\theta d\\phi$.  The Planck function $B_\\lambda$ is an example of the specific intensity for the special case of blackbody radiation.  In general, the light energy is not required to vary with wavelength (e.g., monochromatic sources or lasers).\n",
    "\n",
    "The energy of a single light ray *does not spread out (or diverge)*, however the specific intensity $I_\\lambda$ is typically used to describe a bundle of light rays and thus varies with direction.  The **mean intensity** of the radiation is determined by integrating over all directions and normalizing the result by $4\\pi {\\rm sr}$ (i.e., the solid angle enclosed by a sphere) to obtain $\\langle I_\\lambda \\rangle$, the average value of $I_\\lambda$.  In spherical coordinates, this average value is\n",
    "\n",
    "$$ \\langle I_\\lambda \\rangle \\equiv \\frac{1}{4\\pi} \\int_{\\phi = 0}^{2\\pi} \\int_{\\theta=0}^{\\pi} I_\\lambda \\sin\\theta d\\theta d\\phi. \\tag{3} $$\n",
    "\n",
    "For an isotropic radiation field (i.e., one with the same intensity in all directions), the mean intensity is the intensity and since blackbody radiation is isotropic, then $\\langle I_\\lambda \\rangle = B_\\lambda$.\n",
    "\n",
    "### The Specific Energy Density\n",
    "Consider a small cylinder (open at both ends) with perfectly reflecting walls inside, where light enters the base of the cylinder and bounces until it exits through the top of the cylinder.  The radiation that enters the cylinder at an angle $\\theta$ travels through the cylinder in a time $dt = dL/(c\\cos\\theta)$ and the energy inside (within a wavelength range $\\lambda$ and $\\lambda + d\\lambda$) is\n",
    "\n",
    "$$ E_\\lambda d\\lambda = I_\\lambda d\\lambda dt dA \\cos\\theta d\\Omega = I_\\lambda d\\lambda dA d\\Omega \\frac{dL}{c}, $$\n",
    "\n",
    "using Eqn. 2 and the substitution of $dt$.  The quantity $dA dL$ is the volume of the cylinder, where the **specific energy density** ($u_\\lambda d\\lambda$) is found by normalizing the energy $E_\\lambda d\\lambda$ by the volume of the cylinder, integrating over all the solid angles, and using Eqn. 3:\n",
    "\n",
    "$$ u_\\lambda d\\lambda = \\frac{1}{c} \\int_{\\phi = 0}^{2\\pi} \\int_{\\theta=0}^{\\pi} I_\\lambda d\\lambda \\sin\\theta d\\theta d\\phi = \\frac{4\\pi}{c} \\langle I_\\lambda \\rangle d\\lambda. \\tag{4}$$\n",
    "\n",
    "For blackbody radiation,\n",
    "\n",
    "$$ u_\\lambda d\\lambda = \\frac{4\\pi}{c}B_\\lambda d\\lambda = \\frac{8\\pi hc \\lambda^{-5}}{e^{hc/(\\lambda kT)}-1} d\\lambda. \\tag{5}$$\n",
    "\n",
    "The total energy density $u$ is found by integrating over *all* wavelengths,\n",
    "\n",
    "$$ u = \\int_0^\\infty u_\\lambda d\\lambda $$\n",
    "\n",
    "and for blackbody radiation (using Eqn. 5), then total energy density is\n",
    "\n",
    "$$ u = \\frac{4\\pi}{c} \\int_0^\\infty \\frac{8\\pi hc \\lambda^{-5}}{e^{hc/(\\lambda kT)}-1} d\\lambda = \\frac{4\\sigma T^4}{c}, \\tag{6} $$\n",
    "\n",
    "where $4\\sigma/c = 7.565767 \\times 10^{-16}\\;{\\rm J/m^3/K^4}$ and is known as the *radiation constant*.\n",
    "\n",
    "### The Specific Radiative Flux\n",
    "\n",
    "\n",
    "### Radiation Pressure\n",
    "\n",
    "\n",
    "### **Problems**\n",
    ">1\\. Find an expression for $n_\\lambda d\\lambda$ (the number density of blackbody photons) with a wavelength between $\\lambda$ and $\\lambda + d\\lambda$.\n",
    ">\n",
    ">2\\. Using your expression from Problem 1, find the total number of photons inside a kitchen oven assuming a volume of 0.5 ${\\rm m^3}$ and set at 477 K.\n"
   ]
  },
  {
   "cell_type": "markdown",
   "metadata": {},
   "source": [
    "## Stellar Opacity"
   ]
  },
  {
   "cell_type": "markdown",
   "metadata": {},
   "source": [
    "## Radiative Transfer"
   ]
  },
  {
   "cell_type": "markdown",
   "metadata": {},
   "source": [
    "## The Transfer Equation"
   ]
  },
  {
   "cell_type": "markdown",
   "metadata": {},
   "source": [
    "## The Profiles of Spectral Lines"
   ]
  }
 ],
 "metadata": {
  "language_info": {
   "name": "python"
  },
  "orig_nbformat": 4
 },
 "nbformat": 4,
 "nbformat_minor": 2
}
