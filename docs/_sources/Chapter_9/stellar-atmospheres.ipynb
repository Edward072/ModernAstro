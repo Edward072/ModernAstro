{
 "cells": [
  {
   "cell_type": "markdown",
   "metadata": {},
   "source": [
    "# Stellar Atmospheres \n",
    "\n",
    "## The Description of the Radiation Field\n",
    "Astronomers receive light only from the outermost layer of the star's atmosphere that overly an opaque interior.  The *temperature*, *density*, and *composition* of this layer determine the features of the star's spectrum, where we must describe how light travels through the gas to interpret the observed spectral lines properly.\n",
    "\n",
    "### The Specific and Mean Intensities\n",
    "Recall the [Planck function](https://saturnaxis.github.io/ModernAstro/Chapter_3/continuous-spectrum-of-light.html#the-planck-function-and-astrophysics) was based upon the wavelength-dependent flux of blackbody radiation $B_\\lambda(T)$ from an element of surface area $dA$.  A similar procedure can be used to define the intensity of a cone of light.  The light is measured in spherical coordinates by the angle $\\theta$, which is the direction perpendicular to the surface $dA$ so that $dA\\cos\\theta$ is an area projected onto a plane perpendicular to the propagation direction of the light.  The light energy is wavelength dependent ($E = hc/\\lambda$) and thus can be defined as\n",
    "\n",
    "$$ E_\\lambda \\equiv \\frac{\\partial E}{\\partial \\lambda}, $$\n",
    "\n",
    "where $E_\\lambda d\\lambda$ is the energy carried by the rays in the light cone in a time interval $dt$.  The **specific intensity** of the rays is defined as\n",
    "\n",
    "$$ I_\\lambda \\equiv \\frac{\\partial I}{\\partial \\lambda} \\equiv \\frac{E_\\lambda d\\lambda}{d\\lambda\\:dt\\:dA \\cos\\theta\\:d\\Omega}, \\tag{1} $$\n",
    "\n",
    "which carries the units of energy per time per Area per steradian *sr* ([solid angle)](https://en.wikipedia.org/wiki/Steradian) or more simply, energy per everything.\n",
    "\n",
    "```{note}\n",
    "There is a $d\\lambda$ factor in the numerator and denominator, which is a placeholder for the alternate definition of specific intensity in terms of frequency $I_\\nu$.  Recall from the [Planck function](https://saturnaxis.github.io/ModernAstro/Chapter_3/continuous-spectrum-of-light.html#the-planck-function-and-astrophysics) using $d\\nu = -\\frac{c}{\\lambda^2}d\\lambda$ as a conversion factor.\n",
    "```\n",
    "\n",
    "The specific intensity is usually referred to simply as the *intensity* and in spherical coordinates,\n",
    "\n",
    "$$ E_\\lambda d\\lambda = I_\\lambda d\\lambda\\:dt\\:dA \\cos\\theta\\:d\\Omega = I_\\lambda d\\lambda\\:dt\\:dA \\cos\\theta \\sin\\theta d\\theta\\:d\\phi, \\tag{2} $$\n",
    "\n",
    "with the substitution for the solid angle $d\\Omega = \\sin\\theta d\\theta \\:d\\phi$.  The Planck function $B_\\lambda$ is an example of the specific intensity for the special case of blackbody radiation.  In general, the light energy is not required to vary with wavelength (e.g., monochromatic sources or lasers).\n",
    "\n",
    "The energy of a single light ray *does not spread out (or diverge)*, however the specific intensity $I_\\lambda$ is typically used to describe a bundle of light rays and thus varies with direction.  The **mean intensity** of the radiation is determined by integrating over all directions and normalizing the result by $4\\pi\\:{\\rm sr}$ (i.e., the solid angle enclosed by a sphere) to obtain $\\langle I_\\lambda \\rangle$, the average value of $I_\\lambda$.  In spherical coordinates, this average value is\n",
    "\n",
    "$$ \\langle I_\\lambda \\rangle \\equiv \\frac{1}{4\\pi} \\int_{\\phi = 0}^{2\\pi} \\int_{\\theta=0}^{\\pi} I_\\lambda \\sin\\theta d\\theta\\:d\\phi. \\tag{3} $$\n",
    "\n",
    "For an isotropic radiation field (i.e., one with the same intensity in all directions), the mean intensity is the intensity and since blackbody radiation is isotropic, then $\\langle I_\\lambda \\rangle = B_\\lambda$.\n",
    "\n",
    "### The Specific Energy Density\n",
    "Consider a small cylinder (open at both ends) with perfectly reflecting walls inside, where light enters the base of the cylinder and bounces until it exits through the top of the cylinder.  The radiation that enters the cylinder at an angle $\\theta$ travels through the cylinder in a time $dt = dL/(c\\cos\\theta)$ and the energy inside (within a wavelength range $\\lambda$ and $\\lambda + d\\lambda$) is\n",
    "\n",
    "$$ E_\\lambda d\\lambda = I_\\lambda d\\lambda\\:dt\\:dA \\cos\\theta\\:d\\Omega = I_\\lambda d\\lambda\\:dA\\:d\\Omega\\:\\frac{dL}{c}, $$\n",
    "\n",
    "using Eqn. 2 and the substitution of $dt$.  The quantity $dA dL$ is the volume of the cylinder, where the **specific energy density** ($u_\\lambda d\\lambda$) is found by normalizing the energy $E_\\lambda d\\lambda$ by the volume of the cylinder, integrating over all the solid angles, and using Eqn. 3:\n",
    "\n",
    "$$ u_\\lambda d\\lambda = \\frac{1}{c} \\int_{\\phi = 0}^{2\\pi} \\int_{\\theta=0}^{\\pi} I_\\lambda d\\lambda\\:\\sin\\theta d\\theta\\:d\\phi = \\frac{4\\pi}{c} \\langle I_\\lambda \\rangle d\\lambda. \\tag{4}$$\n",
    "\n",
    "For blackbody radiation,\n",
    "\n",
    "$$ u_\\lambda d\\lambda = \\frac{4\\pi}{c}B_\\lambda d\\lambda = \\frac{8\\pi hc \\lambda^{-5}}{e^{hc/(\\lambda kT)}-1} d\\lambda. \\tag{5}$$\n",
    "\n",
    "The total energy density $u$ is found by [integrating over *all* wavelengths](http://people.tamu.edu/~kevinkrisciunas/planck.pdf),\n",
    "\n",
    "$$ u = \\int_0^\\infty u_\\lambda d\\lambda $$\n",
    "\n",
    "and for blackbody radiation (using Eqn. 5), then total energy density is\n",
    "\n",
    "$$ u = \\frac{4\\pi}{c} \\int_0^\\infty \\frac{8\\pi hc \\lambda^{-5}}{e^{hc/(\\lambda kT)}-1} d\\lambda = \\frac{4\\sigma T^4}{c}, \\tag{6} $$\n",
    "\n",
    "where $4\\sigma/c = 7.565767 \\times 10^{-16}\\;{\\rm J/m^3/K^4}$ and is known as the *radiation constant*."
   ]
  },
  {
   "cell_type": "markdown",
   "metadata": {},
   "source": [
    "### The Specific Radiative Flux\n",
    "Astronomers are often interested in the *net* energy that passes through a *unit area* in the direction of the z-axis.  This is given by the **specific radiative flux** $F_\\lambda$ as\n",
    "\n",
    "$$ F_\\lambda d\\lambda = \\int I_\\lambda d\\lambda\\:\\cos\\theta\\:d\\Omega = \\int_{\\phi = 0}^{2\\pi} \\int_{\\theta = 0}^\\pi I_\\lambda d\\lambda\\:\\cos\\theta\\sin\\theta d\\theta\\:d\\phi. \\tag{7} $$\n",
    "\n",
    "The specific radiative flux considers only the *z*-component (i.e., $\\cos\\theta$) of a light ray, where oppositely directed rays cancel.  Both the radiative flux and the specific intensity (Eqn. 2) describe the light received from a celestial source.  When a source is resolved by the telescope as defined by Rayleigh's criterion ($\\theta > \\theta_{\\rm min}$), the *specific intensity* is measured.  For example, the measured value of the specific intensity (at 501 nm) at the center of the Sun's disk is $I_{501} = 4.03 \\times 10^{13}\\;{\\rm W/m^{3}/sr}$.  \n",
    "\n",
    "For an unresolved source, the *radiative flux* is measured because the energy received from the entire source will disperse through the diffraction pattern (i.e., Airy disk and rings).  Because the light arriving at the detector leaves the source at all angles, the detector is effectively integrating the specific intensity over all directions.  As the distance to the source increases, the amount of energy falling within the Airy disk decreases as $1/r^2$, as expected.\n",
    "\n",
    "### Radiation Pressure\n",
    "Einstein's special theory of relativity describes photons as massless particles that nonetheless carry a momentum $p$ that is related to its energy $E$.  Thus, the photon can exert a **radiation pressure**.  Consider the gas pressure exerted by molecules bouncing off a wall, where the radiation pressure of photons can be described through a similar process. At a given time, a photon can strike a perfectly reflecting surface of area $dA$ and be reflected into a solid angle ${\\rm d}\\Omega$  (at the same angles $\\theta$ and ${\\rm d}\\Omega$ due to the law of reflection).  The change in $p_z$ of photons within a range of wavelengths from the reflection is\n",
    "\n",
    "$$ dp_{z,\\lambda} d\\lambda = p_\\lambda \\bigg\\rvert_{z_o}^{z_f} d\\lambda = \\frac{2E_\\lambda\\cos\\theta}{c} d\\lambda = \\frac{2}{c} I_\\lambda d\\lambda\\:dt\\:dA\\cos^2\\theta\\:d\\Omega, $$\n",
    "\n",
    "using $E_\\lambda$ from Eqn. 2.  Recall that $F = dp/dt$ and $P = F/A$ so that the radiation pressure $P_{\\rm rad,\\lambda}d\\lambda$ can be written as\n",
    "\n",
    "$$ P_{\\rm rad,\\lambda} d\\lambda = \\frac{2}{c} \\int_{\\phi = 0}^{2\\pi} \\int_{\\theta = 0}^{\\pi/2} I_\\lambda d\\lambda\\:\\cos^2\\theta\\sin\\theta d\\theta\\:d\\phi. \\quad {\\rm (reflection)} $$\n",
    "\n",
    "Instead of a reflecting wall, replace it with a mathematical surface $dA$ where the incident photons will now keep on going through and be streaming from the other side.  For an *isotropic radiation field*, the leading factor of 2 is removed because there is no longer a change in momentum upon reflection.  The radiation pressure becomes\n",
    "\n",
    "$$ P_{\\rm rad,\\lambda} d\\lambda = \\frac{1}{c} \\int_{\\phi = 0}^{2\\pi} \\int_{\\theta = 0}^\\pi I_\\lambda d\\lambda\\:\\cos^2\\theta\\sin\\theta d\\theta\\:d\\phi = \\frac{4\\pi}{3c}I_\\lambda d\\lambda, \\quad {\\rm (transmission)} \\tag{8} $$\n",
    "\n",
    "where the volume over all solid angles is simply a unit sphere ($4\\pi/3$).  However, for a non-isotropic radiation field the equation for the radiation pressure is still valid, but the pressure depends on the orientation of the mathematical surface $dA$.\n",
    "\n",
    "In general, the total radiation pressure at all wavelengths is found by\n",
    "\n",
    "$$ P_{\\rm rad} = \\int_0^\\infty P_{\\rm rad,\\lambda} d\\lambda, $$\n",
    "\n",
    "where the substitution $B_\\lambda = I_\\lambda$ in Eqn. 8 can be made blackbody radiation to get\n",
    "\n",
    "$$ P_{\\rm rad} = \\int_0^\\infty B_\\lambda(T)d\\lambda = \\frac{4\\sigma T^4}{3c} = \\frac{1}{3}u.  \\tag{9} $$\n",
    "\n",
    "The **blackbody radiation pressure** is one-third of the energy density, where an ideal monatomic gas is two-thirds of its energy density.\n",
    "\n",
    "### **Problems**\n",
    ">1\\. Find an expression for $n_\\lambda\\:d\\lambda$ (the number density of blackbody photons) with a wavelength between $\\lambda$ and $\\lambda + d\\lambda$.\n",
    ">\n",
    ">2\\. Using your expression from Problem 1, find the total number of photons inside a kitchen oven assuming a volume of 0.5 ${\\rm m^3}$ and set at 477 K.\n"
   ]
  },
  {
   "cell_type": "markdown",
   "metadata": {},
   "source": [
    "## Stellar Opacity\n",
    "The classification of stellar spectra is complicated by the fact that stars are not actually blackbodies.  The temperature of a star's photosphere can be estimated by the Stefan-Boltzmann law and the spectrum shape using the Planck function.  However, the Sun's spectrum deviates substantially from the idealized shape because solar absorption lines remove light at certain wavelengths.  A dense series of metallic absorption lines in the Solar spectrum is especially effective and called **line blanketing**.\n",
    "\n",
    "### Temperature and Local Thermodynamic Equilibrium\n",
    "There are many different measures of temperature within a star, which are defined according to a particular physical process.\n",
    "\n",
    "- The temperature obtained from the Stefan-Boltzmann law (**effective temperature**) is *uniquely defined for a particular layer* of the stellar atmosphere.\n",
    "- The **excitation temperature** is defined by the Boltzmann equation, which measures the ratio of atoms between two quantum states.\n",
    "- The **ionization temperature** is defined by the Saha equation, which measures the ratio of atoms that are ionized (missing electrons).\n",
    "- The **kinetic temperature** is contained in the Maxwell-Boltzmann distribution, which describes the velocity distribution of gas particles.\n",
    "- The **color temperature** is obtained by fitting the Planck function to the shape of a star's continuous spectrum.\n",
    "\n",
    "The effective temperature is the only measure that depends strictly on the location within the star, while the remaining temperatures vary according to the conditions of the gas that can be described by the simple case of a gas confined within an \"ideal\" box (i.e., ideal gas law).  Due to the boundary condition of the box, the energy of the gas particles and blackbody radiation will come into equilibrium and can be described by a single well-defined temperature.  As a result, there is no net flow of energy through the box, or between the matter and radiation.  The number of photons absorbed per unit time is equal to the number of photons emitted, which is called [thermodynamic equilibrium](https://en.wikipedia.org/wiki/Thermodynamic_equilibrium).\n",
    "\n",
    "Such a case cannot be true everywhere in a star (i.e., stars shine so some photons escape) and a star cannot be in perfect thermodynamic equilibrium.  A net outward flow of energy occurs through the star and the temperature varies with the stellar radius.  The ideal box approximation can be used: *if the distance over which the temperature changes significantly is large compared with the distances traveled by the particles and photons between collisions* (i.e., the ideal box is small enough).  The distances traveled by particles are called their *mean free paths*.  When the above condition is met, the particles and photons cannot escape the local environment and the temperature of the box is nearly constant (i.e., **local thermodynamic equilibrium** *LTE*).\n",
    "\n",
    "The photosphere is the surface layer of the Sun's atmosphere where the photons can escape into space.  The temperature in one region varies from 5580 K to 5790 K over a distance of 25.0 km.  The *temperature scale height* $H_T$ is the characteristic distance over which the temperature varies: $H_T \\equiv T_{\\rm avg}/|dT/dr|$.\n",
    "\n",
    "- **What is the temperature scale height $H_T$ of the Sun's photosphere?**"
   ]
  },
  {
   "cell_type": "code",
   "execution_count": 23,
   "metadata": {},
   "outputs": [
    {
     "name": "stdout",
     "output_type": "stream",
     "text": [
      "The scale height of the Sun's photosphere is 677 km.\n"
     ]
    }
   ],
   "source": [
    "def scale_height(T1,T2,r):\n",
    "    #T1 = low temperature\n",
    "    #T2 = high temperature\n",
    "    #r = distance traveled\n",
    "    T_avg = np.mean([T1,T2]) #average temperature\n",
    "    dT = np.abs(np.diff([T1,T2])) #temperature range dT\n",
    "    return T_avg/(dT/r)\n",
    "\n",
    "T1_Sun = 5580 #K\n",
    "T2_Sun = 5790 #K \n",
    "r_Sun = 25.0 #km\n",
    "H_T = scale_height(T1_Sun,T2_Sun,r_Sun)\n",
    "print(\"The scale height of the Sun's photosphere is %3d km.\" % np.round(H_T,0))"
   ]
  },
  {
   "cell_type": "markdown",
   "metadata": {},
   "source": [
    "**Is the Sun's photosphere in LTE?** To answer this question, we need to find the mean free path of the particles and photons.  The density of the Sun's photosphere is about $\\rho = 2.1 \\times 10^{-4}\\:{\\rm kg/m^3}$ and consists primarily of neutral hydrogen atoms in the ground state (see the [previous chapter](https://saturnaxis.github.io/ModernAstro/Chapter_8/classification-of-stellar-spectra.html#application-to-the-sun)).  The number density of hydrogen atoms (i.e., number of H atoms per cubic meter) is roughly\n",
    "\n",
    "$$ n = \\frac{\\rho}{m_H} = 1.27 \\times 10^{23}\\:{\\rm m^{-3}} $$\n",
    "\n",
    "with the mass of hydrogen $m_H = 1.67 \\times 10^{-27}\\:{\\rm kg}$. The collision probability for two atoms is higher if their centers pass within twice the atomic radius (i.e., Bohr radius) or $2a_o$. This region of higher collision probability defines an area or **cross section** $\\sigma \\equiv \\pi(2a_o)^2$.  \n",
    "\n",
    "Consider a single atom of radius $2a_o$ and cross-sectional area of $4\\pi a_o^2$ moving with a speed $v$ over a time $t$.  The atom has moved a distance $vt$ and sweeps out a cylindrical volume $V=\\sigma vt$.  Within the volume, there are $n\\sigma vt$ point atoms with which the moving atom has collided.  The **mean free path** $\\ell$ between collisions is\n",
    "\n",
    "$$ \\ell = \\frac{\\rm distance\\:traveled}{\\rm number\\:of\\:atoms} = \\frac{vt}{n\\sigma vt} = \\frac{1}{n\\sigma}. \\tag{10} $$"
   ]
  },
  {
   "cell_type": "markdown",
   "metadata": {},
   "source": [
    "### The Definition of Opacity\n",
    "\n",
    "### Optical Depth\n",
    "\n",
    "### General Sources of Opacity\n",
    "\n",
    "### Continuum Opacity and the ${\\rm H^-}$ Ion\n",
    "\n",
    "### The Rosseland Mean Opacity"
   ]
  },
  {
   "cell_type": "markdown",
   "metadata": {},
   "source": [
    "## Radiative Transfer\n",
    "\n",
    "### Photon Emission Processes\n",
    "\n",
    "### The Random Walk\n",
    "\n",
    "### Limb Darkening\n",
    "\n",
    "### The Radiation Pressure Gradient"
   ]
  },
  {
   "cell_type": "markdown",
   "metadata": {},
   "source": [
    "## The Transfer Equation\n",
    "\n",
    "### The Emission Coefficient\n",
    "\n",
    "### The Source Function and the Transfer Equation\n",
    "\n",
    "### The Special Case of Blackbody Radiation\n",
    "\n",
    "### The Assumption of a Plane-Parallel Atmosphere\n",
    "\n",
    "### The Eddington Approximation\n",
    "\n",
    "### Limb Darkening Revisited"
   ]
  },
  {
   "cell_type": "markdown",
   "metadata": {},
   "source": [
    "## The Profiles of Spectral Lines\n",
    "\n",
    "### Equivalent Widths\n",
    "\n",
    "### Processes That Broaden Spectral Lines\n",
    "\n",
    "### The Voigt Profile\n",
    "\n",
    "### The Curve of Growth\n",
    "\n",
    "### Computer Modeling of Stellar Atmospheres"
   ]
  },
  {
   "cell_type": "markdown",
   "metadata": {},
   "source": [
    "## Supplemental Links\n",
    "- [Powerpoint slides](http://www.ifa.hawaii.edu/users/kud/teaching_12/3_Radiative_transfer.pdf) from Rolf Kudritzki at the University of Hawaii's Institute for Astronomy (IfA).\n",
    "- [Integrating the Planck function](http://people.tamu.edu/~kevinkrisciunas/planck.pdf) from Kevin Krisciunas at Texas A&M University.\n",
    "- Contour integral for [Planck function](https://math.stackexchange.com/questions/99843/contour-integral-for-x3-ex-1)."
   ]
  }
 ],
 "metadata": {
  "interpreter": {
   "hash": "cd2e115bae0bd8507f53973663b16a6c8b1a6736f2a0b1c5bcd962a446a2698e"
  },
  "kernelspec": {
   "display_name": "Python 3.8.8 64-bit ('base': conda)",
   "language": "python",
   "name": "python3"
  },
  "language_info": {
   "codemirror_mode": {
    "name": "ipython",
    "version": 3
   },
   "file_extension": ".py",
   "mimetype": "text/x-python",
   "name": "python",
   "nbconvert_exporter": "python",
   "pygments_lexer": "ipython3",
   "version": "3.8.8"
  },
  "orig_nbformat": 4
 },
 "nbformat": 4,
 "nbformat_minor": 2
}
