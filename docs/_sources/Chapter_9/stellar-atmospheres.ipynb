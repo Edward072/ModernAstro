{
 "cells": [
  {
   "cell_type": "markdown",
   "metadata": {},
   "source": [
    "# Stellar Atmospheres \n",
    "\n",
    "## The Description of the Radiation Field\n",
    "Astronomers receive light only from the outermost layer of the star's atmosphere that overly an opaque interior.  The *temperature*, *density*, and *composition* of this layer determine the features of the star's spectrum, where we must describe how light travels through the gas to interpret the observed spectral lines properly.\n",
    "\n",
    "### The Specific and Mean Intensities\n",
    "Recall the [Planck function](https://saturnaxis.github.io/ModernAstro/Chapter_3/continuous-spectrum-of-light.html#the-planck-function-and-astrophysics) was based upon the wavelength-dependent flux of blackbody radiation $B_\\lambda(T)$ from an element of surface area $dA$.  A similar procedure can be used to define the intensity of a cone of light.  The light is measured in spherical coordinates by the angle $\\theta$, which is the direction perpendicular to the surface $dA$ so that $dA\\cos\\theta$ is an area projected onto a plane perpendicular to the propagation direction of the light.  The light energy is wavelength dependent ($E = hc/\\lambda$) and thus can be defined as\n",
    "\n",
    "$$ E_\\lambda \\equiv \\frac{\\partial E}{\\partial \\lambda}, $$\n",
    "\n",
    "where $E_\\lambda d\\lambda$ is the energy carried by the rays in the light cone in a time interval $dt$.  The **specific intensity** of the rays is defined as\n",
    "\n",
    "$$ I_\\lambda \\equiv \\frac{\\partial I}{\\partial \\lambda} \\equiv \\frac{E_\\lambda d\\lambda}{d\\lambda\\:dt\\:dA \\cos\\theta\\:d\\Omega}, \\tag{1} $$\n",
    "\n",
    "which carries the units of energy per time per Area per steradian *sr* ([solid angle)](https://en.wikipedia.org/wiki/Steradian) or more simply, energy per everything.\n",
    "\n",
    "```{note}\n",
    "There is a $d\\lambda$ factor in the numerator and denominator, which is a placeholder for the alternate definition of specific intensity in terms of frequency $I_\\nu$.  Recall from the [Planck function](https://saturnaxis.github.io/ModernAstro/Chapter_3/continuous-spectrum-of-light.html#the-planck-function-and-astrophysics) using $d\\nu = -\\frac{c}{\\lambda^2}d\\lambda$ as a conversion factor.\n",
    "```\n",
    "\n",
    "The specific intensity is usually referred to simply as the *intensity* and in spherical coordinates,\n",
    "\n",
    "$$ E_\\lambda d\\lambda = I_\\lambda d\\lambda\\:dt\\:dA \\cos\\theta\\:d\\Omega = I_\\lambda d\\lambda\\:dt\\:dA \\cos\\theta \\sin\\theta d\\theta\\:d\\phi, \\tag{2} $$\n",
    "\n",
    "with the substitution for the solid angle $d\\Omega = \\sin\\theta d\\theta \\:d\\phi$.  The Planck function $B_\\lambda$ is an example of the specific intensity for the special case of blackbody radiation.  In general, the light energy is not required to vary with wavelength (e.g., monochromatic sources or lasers).\n",
    "\n",
    "The energy of a single light ray *does not spread out (or diverge)*, however the specific intensity $I_\\lambda$ is typically used to describe a bundle of light rays and thus varies with direction.  The **mean intensity** of the radiation is determined by integrating over all directions and normalizing the result by $4\\pi\\:{\\rm sr}$ (i.e., the solid angle enclosed by a sphere) to obtain $\\langle I_\\lambda \\rangle$, the average value of $I_\\lambda$.  In spherical coordinates, this average value is\n",
    "\n",
    "$$ \\langle I_\\lambda \\rangle \\equiv \\frac{1}{4\\pi} \\int_{\\phi = 0}^{2\\pi} \\int_{\\theta=0}^{\\pi} I_\\lambda \\sin\\theta d\\theta\\:d\\phi. \\tag{3} $$\n",
    "\n",
    "For an isotropic radiation field (i.e., one with the same intensity in all directions), the mean intensity is the intensity and since blackbody radiation is isotropic, then $\\langle I_\\lambda \\rangle = B_\\lambda$.\n",
    "\n",
    "### The Specific Energy Density\n",
    "Consider a small cylinder (open at both ends) with perfectly reflecting walls inside, where light enters the base of the cylinder and bounces until it exits through the top of the cylinder.  The radiation that enters the cylinder at an angle $\\theta$ travels through the cylinder in a time $dt = dL/(c\\cos\\theta)$ and the energy inside (within a wavelength range $\\lambda$ and $\\lambda + d\\lambda$) is\n",
    "\n",
    "$$ E_\\lambda d\\lambda = I_\\lambda d\\lambda\\:dt\\:dA \\cos\\theta\\:d\\Omega = I_\\lambda d\\lambda\\:dA\\:d\\Omega\\:\\frac{dL}{c}, $$\n",
    "\n",
    "using Eqn. 2 and the substitution of $dt$.  The quantity $dA dL$ is the volume of the cylinder, where the **specific energy density** ($u_\\lambda d\\lambda$) is found by normalizing the energy $E_\\lambda d\\lambda$ by the volume of the cylinder, integrating over all the solid angles, and using Eqn. 3:\n",
    "\n",
    "$$ u_\\lambda d\\lambda = \\frac{1}{c} \\int_{\\phi = 0}^{2\\pi} \\int_{\\theta=0}^{\\pi} I_\\lambda d\\lambda\\:\\sin\\theta d\\theta\\:d\\phi = \\frac{4\\pi}{c} \\langle I_\\lambda \\rangle d\\lambda. \\tag{4}$$\n",
    "\n",
    "For blackbody radiation,\n",
    "\n",
    "$$ u_\\lambda d\\lambda = \\frac{4\\pi}{c}B_\\lambda d\\lambda = \\frac{8\\pi hc \\lambda^{-5}}{e^{hc/(\\lambda kT)}-1} d\\lambda. \\tag{5}$$\n",
    "\n",
    "The total energy density $u$ is found by [integrating over *all* wavelengths](http://people.tamu.edu/~kevinkrisciunas/planck.pdf),\n",
    "\n",
    "$$ u = \\int_0^\\infty u_\\lambda d\\lambda $$\n",
    "\n",
    "and for blackbody radiation (using Eqn. 5), then total energy density is\n",
    "\n",
    "$$ u = \\frac{4\\pi}{c} \\int_0^\\infty \\frac{8\\pi hc \\lambda^{-5}}{e^{hc/(\\lambda kT)}-1} d\\lambda = \\frac{4\\sigma T^4}{c}, \\tag{6} $$\n",
    "\n",
    "where $4\\sigma/c = 7.565767 \\times 10^{-16}\\;{\\rm J/m^3/K^4}$ and is known as the *radiation constant*."
   ]
  },
  {
   "cell_type": "markdown",
   "metadata": {},
   "source": [
    "### The Specific Radiative Flux\n",
    "Astronomers are often interested in the *net* energy that passes through a *unit area* in the direction of the z-axis.  This is given by the **specific radiative flux** $F_\\lambda$ as\n",
    "\n",
    "$$ F_\\lambda d\\lambda = \\int I_\\lambda d\\lambda\\:\\cos\\theta\\:d\\Omega = \\int_{\\phi = 0}^{2\\pi} \\int_{\\theta = 0}^\\pi I_\\lambda d\\lambda\\:\\cos\\theta\\sin\\theta d\\theta\\:d\\phi. \\tag{7} $$\n",
    "\n",
    "The specific radiative flux considers only the *z*-component (i.e., $\\cos\\theta$) of a light ray, where oppositely directed rays cancel.  Both the radiative flux and the specific intensity (Eqn. 2) describe the light received from a celestial source.  When a source is resolved by the telescope as defined by Rayleigh's criterion ($\\theta > \\theta_{\\rm min}$), the *specific intensity* is measured.  For example, the measured value of the specific intensity (at 501 nm) at the center of the Sun's disk is $I_{501} = 4.03 \\times 10^{13}\\;{\\rm W/m^{3}/sr}$.  \n",
    "\n",
    "For an unresolved source, the *radiative flux* is measured because the energy received from the entire source will disperse through the diffraction pattern (i.e., Airy disk and rings).  Because the light arriving at the detector leaves the source at all angles, the detector is effectively integrating the specific intensity over all directions.  As the distance to the source increases, the amount of energy falling within the Airy disk decreases as $1/r^2$, as expected.\n",
    "\n",
    "### Radiation Pressure\n",
    "Einstein's special theory of relativity describes photons as massless particles that nonetheless carry a momentum $p$ that is related to its energy $E$.  Thus, the photon can exert a **radiation pressure**.  Consider the gas pressure exerted by molecules bouncing off a wall, where the radiation pressure of photons can be described through a similar process. At a given time, a photon can strike a perfectly reflecting surface of area $dA$ and be reflected into a solid angle ${\\rm d}\\Omega$  (at the same angles $\\theta$ and ${\\rm d}\\Omega$ due to the law of reflection).  The change in $p_z$ of photons within a range of wavelengths from the reflection is\n",
    "\n",
    "$$ dp_{z,\\lambda} d\\lambda = p_\\lambda \\bigg\\rvert_{z_o}^{z_f} d\\lambda = \\frac{2E_\\lambda\\cos\\theta}{c} d\\lambda = \\frac{2}{c} I_\\lambda d\\lambda\\:dt\\:dA\\cos^2\\theta\\:d\\Omega, $$\n",
    "\n",
    "using $E_\\lambda$ from Eqn. 2.  Recall that $F = dp/dt$ and $P = F/A$ so that the radiation pressure $P_{\\rm rad,\\lambda}d\\lambda$ can be written as\n",
    "\n",
    "$$ P_{\\rm rad,\\lambda} d\\lambda = \\frac{2}{c} \\int_{\\phi = 0}^{2\\pi} \\int_{\\theta = 0}^{\\pi/2} I_\\lambda d\\lambda\\:\\cos^2\\theta\\sin\\theta d\\theta\\:d\\phi. \\quad {\\rm (reflection)} $$\n",
    "\n",
    "Instead of a reflecting wall, replace it with a mathematical surface $dA$ where the incident photons will now keep on going through and be streaming from the other side.  For an *isotropic radiation field*, the leading factor of 2 is removed because there is no longer a change in momentum upon reflection.  The radiation pressure becomes\n",
    "\n",
    "$$ P_{\\rm rad,\\lambda} d\\lambda = \\frac{1}{c} \\int_{\\phi = 0}^{2\\pi} \\int_{\\theta = 0}^\\pi I_\\lambda d\\lambda\\:\\cos^2\\theta\\sin\\theta d\\theta\\:d\\phi = \\frac{4\\pi}{3c}I_\\lambda d\\lambda, \\quad {\\rm (transmission)} \\tag{8} $$\n",
    "\n",
    "where the volume over all solid angles is simply a unit sphere ($4\\pi/3$).  However, for a non-isotropic radiation field the equation for the radiation pressure is still valid, but the pressure depends on the orientation of the mathematical surface $dA$.\n",
    "\n",
    "In general, the total radiation pressure at all wavelengths is found by\n",
    "\n",
    "$$ P_{\\rm rad} = \\int_0^\\infty P_{\\rm rad,\\lambda} d\\lambda, $$\n",
    "\n",
    "where the substitution $B_\\lambda = I_\\lambda$ in Eqn. 8 can be made blackbody radiation to get\n",
    "\n",
    "$$ P_{\\rm rad} = \\int_0^\\infty B_\\lambda(T)d\\lambda = \\frac{4\\sigma T^4}{3c} = \\frac{1}{3}u.  \\tag{9} $$\n",
    "\n",
    "The **blackbody radiation pressure** is one-third of the energy density, where an ideal monatomic gas is two-thirds of its energy density.\n",
    "\n",
    "### **Problems**\n",
    ">1\\. Find an expression for $n_\\lambda d\\lambda$ (the number density of blackbody photons) with a wavelength between $\\lambda$ and $\\lambda + d\\lambda$.\n",
    ">\n",
    ">2\\. Using your expression from Problem 1, find the total number of photons inside a kitchen oven assuming a volume of 0.5 ${\\rm m^3}$ and set at 477 K.\n"
   ]
  },
  {
   "cell_type": "markdown",
   "metadata": {},
   "source": [
    "## Stellar Opacity\n",
    "\n",
    "### Temperature and Local Thermodynamic Equilibrium\n",
    "\n",
    "### The Definition of Opacity\n",
    "\n",
    "### Optical Depth\n",
    "\n",
    "### General Sources of Opacity\n",
    "\n",
    "### Continuum Opacity and the ${\\rm H^-} Ion\n",
    "\n",
    "### The Rosseland Mean Opacity"
   ]
  },
  {
   "cell_type": "markdown",
   "metadata": {},
   "source": [
    "## Radiative Transfer\n",
    "\n",
    "### Photon Emission Processes\n",
    "\n",
    "### The Random Walk\n",
    "\n",
    "### Limb Darkening\n",
    "\n",
    "### The Radiation Pressure Gradient"
   ]
  },
  {
   "cell_type": "markdown",
   "metadata": {},
   "source": [
    "## The Transfer Equation\n",
    "\n",
    "### The Emission Coefficient\n",
    "\n",
    "### The Source Function and the Transfer Equation\n",
    "\n",
    "### The Special Case of Blackbody Radiation\n",
    "\n",
    "### The Assumption of a Plane-Parallel Atmosphere\n",
    "\n",
    "### The Eddington Approximation\n",
    "\n",
    "### Limb Darkening Revisited"
   ]
  },
  {
   "cell_type": "markdown",
   "metadata": {},
   "source": [
    "## The Profiles of Spectral Lines\n",
    "\n",
    "### Equivalent Widths\n",
    "\n",
    "### Processes That Broaden Spectral Lines\n",
    "\n",
    "### The Voigt Profile\n",
    "\n",
    "### The Curve of Growth\n",
    "\n",
    "### Computer Modeling of Stellar Atmospheres"
   ]
  },
  {
   "cell_type": "markdown",
   "metadata": {},
   "source": [
    "## Supplemental Links\n",
    "- [Powerpoint slides](http://www.ifa.hawaii.edu/users/kud/teaching_12/3_Radiative_transfer.pdf) from Rolf Kudritzki at the University of Hawaii's Institute for Astronomy (IfA).\n",
    "- [Integrating the Planck function](http://people.tamu.edu/~kevinkrisciunas/planck.pdf) from Kevin Krisciunas at Texas A&M University.\n",
    "- Contour integral for [Planck function](https://math.stackexchange.com/questions/99843/contour-integral-for-x3-ex-1)."
   ]
  }
 ],
 "metadata": {
  "interpreter": {
   "hash": "cd2e115bae0bd8507f53973663b16a6c8b1a6736f2a0b1c5bcd962a446a2698e"
  },
  "kernelspec": {
   "display_name": "Python 3.8.8 64-bit ('base': conda)",
   "language": "python",
   "name": "python3"
  },
  "language_info": {
   "codemirror_mode": {
    "name": "ipython",
    "version": 3
   },
   "file_extension": ".py",
   "mimetype": "text/x-python",
   "name": "python",
   "nbconvert_exporter": "python",
   "pygments_lexer": "ipython3",
   "version": "3.8.8"
  },
  "orig_nbformat": 4
 },
 "nbformat": 4,
 "nbformat_minor": 2
}
