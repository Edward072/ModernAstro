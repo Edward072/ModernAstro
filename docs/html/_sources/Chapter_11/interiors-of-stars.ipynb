{
 "cells": [
  {
   "cell_type": "markdown",
   "metadata": {},
   "source": [
    "# The Interiors of Stars\n",
    "\n",
    "Under Construction"
   ]
  }
 ],
 "metadata": {
  "language_info": {
   "name": "python"
  },
  "orig_nbformat": 4
 },
 "nbformat": 4,
 "nbformat_minor": 2
}
